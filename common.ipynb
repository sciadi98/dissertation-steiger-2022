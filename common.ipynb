{
 "cells": [
  {
   "cell_type": "code",
   "execution_count": 71,
   "id": "8b2162fb-87b6-41e1-9317-9d687b9c160c",
   "metadata": {},
   "outputs": [
    {
     "name": "stdout",
     "output_type": "stream",
     "text": [
      "Requirement already satisfied: numpy in c:\\users\\natha\\appdata\\local\\programs\\python\\python310\\lib\\site-packages (1.22.4)\n",
      "Requirement already satisfied: matplotlib in c:\\users\\natha\\appdata\\local\\programs\\python\\python310\\lib\\site-packages (3.5.2)\n",
      "Requirement already satisfied: pandas in c:\\users\\natha\\appdata\\local\\programs\\python\\python310\\lib\\site-packages (1.4.2)\n",
      "Requirement already satisfied: openpyxl in c:\\users\\natha\\appdata\\local\\programs\\python\\python310\\lib\\site-packages (3.0.10)\n",
      "Requirement already satisfied: sklearn in c:\\users\\natha\\appdata\\local\\programs\\python\\python310\\lib\\site-packages (0.0)\n",
      "Requirement already satisfied: pillow>=6.2.0 in c:\\users\\natha\\appdata\\local\\programs\\python\\python310\\lib\\site-packages (from matplotlib) (9.1.1)\n",
      "Requirement already satisfied: pyparsing>=2.2.1 in c:\\users\\natha\\appdata\\local\\programs\\python\\python310\\lib\\site-packages (from matplotlib) (3.0.9)\n",
      "Requirement already satisfied: fonttools>=4.22.0 in c:\\users\\natha\\appdata\\local\\programs\\python\\python310\\lib\\site-packages (from matplotlib) (4.33.3)\n",
      "Requirement already satisfied: packaging>=20.0 in c:\\users\\natha\\appdata\\local\\programs\\python\\python310\\lib\\site-packages (from matplotlib) (21.3)\n",
      "Requirement already satisfied: kiwisolver>=1.0.1 in c:\\users\\natha\\appdata\\local\\programs\\python\\python310\\lib\\site-packages (from matplotlib) (1.4.3)\n",
      "Requirement already satisfied: cycler>=0.10 in c:\\users\\natha\\appdata\\local\\programs\\python\\python310\\lib\\site-packages (from matplotlib) (0.11.0)\n",
      "Requirement already satisfied: python-dateutil>=2.7 in c:\\users\\natha\\appdata\\local\\programs\\python\\python310\\lib\\site-packages (from matplotlib) (2.8.2)\n",
      "Requirement already satisfied: pytz>=2020.1 in c:\\users\\natha\\appdata\\local\\programs\\python\\python310\\lib\\site-packages (from pandas) (2022.1)\n",
      "Requirement already satisfied: et-xmlfile in c:\\users\\natha\\appdata\\local\\programs\\python\\python310\\lib\\site-packages (from openpyxl) (1.1.0)\n",
      "Requirement already satisfied: scikit-learn in c:\\users\\natha\\appdata\\local\\programs\\python\\python310\\lib\\site-packages (from sklearn) (1.1.1)\n",
      "Requirement already satisfied: six>=1.5 in c:\\users\\natha\\appdata\\local\\programs\\python\\python310\\lib\\site-packages (from python-dateutil>=2.7->matplotlib) (1.16.0)\n",
      "Requirement already satisfied: joblib>=1.0.0 in c:\\users\\natha\\appdata\\local\\programs\\python\\python310\\lib\\site-packages (from scikit-learn->sklearn) (1.1.0)\n",
      "Requirement already satisfied: scipy>=1.3.2 in c:\\users\\natha\\appdata\\local\\programs\\python\\python310\\lib\\site-packages (from scikit-learn->sklearn) (1.8.1)\n",
      "Requirement already satisfied: threadpoolctl>=2.0.0 in c:\\users\\natha\\appdata\\local\\programs\\python\\python310\\lib\\site-packages (from scikit-learn->sklearn) (3.1.0)\n",
      "\n",
      "[notice] A new release of pip available: 22.1.2 -> 22.2\n",
      "[notice] To update, run: C:\\Users\\natha\\AppData\\Local\\Programs\\Python\\Python310\\python.exe -m pip install --upgrade pip\n"
     ]
    }
   ],
   "source": [
    "# Install dependencies\n",
    "import sys\n",
    "!{sys.executable} -m pip install numpy matplotlib pandas openpyxl sklearn seaborn matplotlib"
   ]
  },
  {
   "cell_type": "code",
   "execution_count": 72,
   "id": "08a44b0a-736b-4f01-9b98-f0519aa27c8d",
   "metadata": {},
   "outputs": [],
   "source": [
    "# Imports and global options\n",
    "import pandas as pd\n",
    "import numpy as np\n",
    "from sklearn.linear_model import LogisticRegression\n",
    "from sklearn.model_selection import train_test_split\n",
    "import itertools\n",
    "import seaborn as sns\n",
    "import matplotlib.pyplot as plt\n",
    "import itertools\n",
    "import multiprocessing\n",
    "from functools import partial"
   ]
  },
  {
   "cell_type": "code",
   "execution_count": 73,
   "id": "af73e3eb-3c1c-413a-8e83-03253b46b96c",
   "metadata": {},
   "outputs": [],
   "source": [
    "# prepare dataset\n",
    "def prepare_dataset(dataset_file, input_cols, result_col=None):\n",
    "    # Load data\n",
    "    df = pd.read_excel(dataset_file)\n",
    "    \n",
    "    # Filter bad data, replace categories with dummies\n",
    "    x_df = df[input_cols].apply(lambda x: x.str.strip())\n",
    "    x = pd.get_dummies(x_df, drop_first=True)\n",
    "    \n",
    "    if result_col:\n",
    "        y_df = df[result_col].str.strip()\n",
    "        y = pd.get_dummies(y_df, drop_first=True).iloc[:, 0]\n",
    "        \n",
    "        return x, y\n",
    "    else:\n",
    "        return x"
   ]
  },
  {
   "cell_type": "code",
   "execution_count": 74,
   "id": "a791342c-2708-4e9a-b307-65cc5609a9b6",
   "metadata": {},
   "outputs": [],
   "source": [
    "# Data and dummies displayed in a table\n",
    "def display_input_data(dataset_file, input_cols):\n",
    "    x = prepare_dataset(dataset_file, input_cols)\n",
    "    display(x)"
   ]
  },
  {
   "cell_type": "code",
   "execution_count": null,
   "id": "20ff6a4f-2ab8-4d7f-bddb-082a93769038",
   "metadata": {},
   "outputs": [],
   "source": [
    "def check_input_data_indices(train_dataset_file, test_dataset_file, input_cols):\n",
    "    x_train = prepare_dataset(train_dataset_file, input_cols)\n",
    "    x_test = prepare_dataset(test_dataset_file, input_cols)\n",
    "    \n",
    "    if not x_train.columns.equals(x_test.columns):\n",
    "        raise Exception('Datasets are incompatible!');\n",
    "    print('Datasets are compatible')"
   ]
  },
  {
   "cell_type": "code",
   "execution_count": 75,
   "id": "40bc8e3f-0c25-4905-948e-53fb77de813f",
   "metadata": {},
   "outputs": [],
   "source": [
    "def train_model(train_dataset_file, input_cols, result_col):\n",
    "    x, y = prepare_dataset(train_dataset_file, input_cols, result_col)\n",
    "    \n",
    "    # Instantiate the model\n",
    "    model = LogisticRegression(solver='liblinear', random_state=0)\n",
    "\n",
    "    # Train (=fit) the model\n",
    "    model.fit(x, y)\n",
    "    \n",
    "    return model\n"
   ]
  },
  {
   "cell_type": "code",
   "execution_count": 76,
   "id": "7949e3c9-e448-40b8-ac23-3042ade004fb",
   "metadata": {},
   "outputs": [],
   "source": [
    "def evaluate_model(model, test_dataset_file, input_cols, result_col):\n",
    "    x, y = prepare_dataset(test_dataset_file, input_cols, result_col)\n",
    "    \n",
    "    return model.score(x, y)"
   ]
  },
  {
   "cell_type": "code",
   "execution_count": 2,
   "id": "cbe8f782-55cd-48c9-a4a3-dd5722221265",
   "metadata": {},
   "outputs": [],
   "source": [
    "def display_correlation_matrix(dataset_file, input_cols):\n",
    "    x = prepare_dataset(dataset_file, input_cols)\n",
    "\n",
    "    plt.figure(figsize=(15,10))\n",
    "    sns.heatmap(x.corr(method='pearson'), annot=True)"
   ]
  },
  {
   "cell_type": "code",
   "execution_count": null,
   "id": "a2bc6f56-7a31-46ae-8458-2eebf64d8e11",
   "metadata": {},
   "outputs": [],
   "source": [
    "def _evaluate_for_input_combination(train_dataset_file, test_dataset_file, input_combination, result_col):\n",
    "    #print(input_cols_comb)\n",
    "    model = train_model(\n",
    "        train_dataset_file,\n",
    "        list(input_combination),\n",
    "        result_col\n",
    "    )\n",
    "    score = evaluate_model(\n",
    "        model,\n",
    "        test_dataset_file,\n",
    "        list(input_combination),\n",
    "        result_col\n",
    "    )\n",
    "    #print(score)\n",
    "    return score\n",
    "\n",
    "def run_input_optimizer(train_dataset_file, test_dataset_file, input_cols, result_col):\n",
    "    # Contains all combinations by input length (3D list)\n",
    "    input_combinations = []\n",
    "    for l in range(2, len(input_cols) + 1):\n",
    "        input_combinations.append(list(itertools.combinations(input_cols, l)))\n",
    "\n",
    "    scores = []\n",
    "    flat_input_combinations = []\n",
    "    \n",
    "    for input_combinations_of_len in input_combinations:\n",
    "        print('Testing combinations of length ' + str(len(input_combinations_of_len[0])))\n",
    "        \n",
    "        for input_combination in input_combinations_of_len:\n",
    "            score = _evaluate_for_input_combination(train_dataset_file, test_dataset_file, input_combination, result_col)\n",
    "            scores.append(score)\n",
    "            flat_input_combinations.append(input_combination)\n",
    "\n",
    "    # Pick and print results\n",
    "    max_score = max(scores)\n",
    "    max_score_idx = scores.index(max_score)\n",
    "    max_score_cols = flat_input_combinations[max_score_idx]\n",
    "\n",
    "    min_score = min(scores)\n",
    "    min_score_idx = scores.index(min_score)\n",
    "    min_score_cols = flat_input_combinations[min_score_idx]\n",
    "\n",
    "    print('Max score: ' + str(max_score))\n",
    "    print('Best columns combination: ' + str(max_score_cols))\n",
    "    print('Min score: ' + str(min_score))\n",
    "    print('Worse columns combination: ' + str(min_score_cols))"
   ]
  }
 ],
 "metadata": {
  "kernelspec": {
   "display_name": "Python 3 (ipykernel)",
   "language": "python",
   "name": "python3"
  },
  "language_info": {
   "codemirror_mode": {
    "name": "ipython",
    "version": 3
   },
   "file_extension": ".py",
   "mimetype": "text/x-python",
   "name": "python",
   "nbconvert_exporter": "python",
   "pygments_lexer": "ipython3",
   "version": "3.10.5"
  }
 },
 "nbformat": 4,
 "nbformat_minor": 5
}
