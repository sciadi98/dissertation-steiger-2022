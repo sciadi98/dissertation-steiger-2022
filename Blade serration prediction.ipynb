{
 "cells": [
  {
   "cell_type": "code",
   "execution_count": 1,
   "id": "e9cf64db-6bc2-44b0-b84c-31bb3dedbf3d",
   "metadata": {
    "ExecuteTime": {
     "end_time": "2023-08-01T16:02:56.487685686Z",
     "start_time": "2023-08-01T16:02:54.627995086Z"
    }
   },
   "outputs": [
    {
     "name": "stdout",
     "output_type": "stream",
     "text": [
      "Requirement already satisfied: numpy in ./venv/lib/python3.11/site-packages (1.25.1)\n",
      "Requirement already satisfied: matplotlib in ./venv/lib/python3.11/site-packages (3.7.2)\n",
      "Requirement already satisfied: pandas in ./venv/lib/python3.11/site-packages (2.0.3)\n",
      "Requirement already satisfied: openpyxl in ./venv/lib/python3.11/site-packages (3.1.2)\n",
      "Requirement already satisfied: scikit-learn in ./venv/lib/python3.11/site-packages (1.3.0)\n",
      "Requirement already satisfied: seaborn in ./venv/lib/python3.11/site-packages (0.12.2)\n",
      "Requirement already satisfied: contourpy>=1.0.1 in ./venv/lib/python3.11/site-packages (from matplotlib) (1.1.0)\n",
      "Requirement already satisfied: cycler>=0.10 in ./venv/lib/python3.11/site-packages (from matplotlib) (0.11.0)\n",
      "Requirement already satisfied: fonttools>=4.22.0 in ./venv/lib/python3.11/site-packages (from matplotlib) (4.41.1)\n",
      "Requirement already satisfied: kiwisolver>=1.0.1 in ./venv/lib/python3.11/site-packages (from matplotlib) (1.4.4)\n",
      "Requirement already satisfied: packaging>=20.0 in ./venv/lib/python3.11/site-packages (from matplotlib) (23.1)\n",
      "Requirement already satisfied: pillow>=6.2.0 in ./venv/lib/python3.11/site-packages (from matplotlib) (10.0.0)\n",
      "Requirement already satisfied: pyparsing<3.1,>=2.3.1 in ./venv/lib/python3.11/site-packages (from matplotlib) (3.0.9)\n",
      "Requirement already satisfied: python-dateutil>=2.7 in ./venv/lib/python3.11/site-packages (from matplotlib) (2.8.2)\n",
      "Requirement already satisfied: pytz>=2020.1 in ./venv/lib/python3.11/site-packages (from pandas) (2023.3)\n",
      "Requirement already satisfied: tzdata>=2022.1 in ./venv/lib/python3.11/site-packages (from pandas) (2023.3)\n",
      "Requirement already satisfied: et-xmlfile in ./venv/lib/python3.11/site-packages (from openpyxl) (1.1.0)\n",
      "Requirement already satisfied: scipy>=1.5.0 in ./venv/lib/python3.11/site-packages (from scikit-learn) (1.11.1)\n",
      "Requirement already satisfied: joblib>=1.1.1 in ./venv/lib/python3.11/site-packages (from scikit-learn) (1.3.1)\n",
      "Requirement already satisfied: threadpoolctl>=2.0.0 in ./venv/lib/python3.11/site-packages (from scikit-learn) (3.2.0)\n",
      "Requirement already satisfied: six>=1.5 in ./venv/lib/python3.11/site-packages (from python-dateutil>=2.7->matplotlib) (1.16.0)\n"
     ]
    }
   ],
   "source": [
    "%run common.ipynb"
   ]
  },
  {
   "cell_type": "code",
   "execution_count": 2,
   "id": "0fc99c69-c18d-41b8-aef9-366172b4e713",
   "metadata": {
    "ExecuteTime": {
     "end_time": "2023-08-01T16:02:56.494245286Z",
     "start_time": "2023-08-01T16:02:56.493188656Z"
    }
   },
   "outputs": [],
   "source": [
    "# Parameters\n",
    "# Chose the variables to crate the model\n",
    "input_cols = ['shape', 'profile_entrance', 'profile_exit', 'rising_entrance', 'rising_exit', 'shards', 'feathering', 'entrance_mounding', 'center_mounding', 'exit_mounding', 'mounding']\n",
    "result_col = 'result'\n",
    "train_dataset_file = 'DATA/Train/serration_prediction_train.xlsx'\n",
    "test_dataset_file = 'DATA/Validation/serration_prediction_validation.xlsx'"
   ]
  },
  {
   "cell_type": "code",
   "execution_count": 3,
   "id": "33f3b584-bcdf-4cfe-9c0d-74c9c845b763",
   "metadata": {
    "ExecuteTime": {
     "end_time": "2023-08-01T16:02:56.636520706Z",
     "start_time": "2023-08-01T16:02:56.493850114Z"
    }
   },
   "outputs": [
    {
     "data": {
      "text/html": [
       "<div>\n",
       "<style scoped>\n",
       "    .dataframe tbody tr th:only-of-type {\n",
       "        vertical-align: middle;\n",
       "    }\n",
       "\n",
       "    .dataframe tbody tr th {\n",
       "        vertical-align: top;\n",
       "    }\n",
       "\n",
       "    .dataframe thead th {\n",
       "        text-align: right;\n",
       "    }\n",
       "</style>\n",
       "<table border=\"1\" class=\"dataframe\">\n",
       "  <thead>\n",
       "    <tr style=\"text-align: right;\">\n",
       "      <th></th>\n",
       "      <th>shape_E</th>\n",
       "      <th>shape_indeterminate</th>\n",
       "      <th>profile_entrance_V</th>\n",
       "      <th>profile_exit_V</th>\n",
       "      <th>rising_entrance_bilateral</th>\n",
       "      <th>rising_entrance_single</th>\n",
       "      <th>rising_exit_bilateral</th>\n",
       "      <th>rising_exit_single</th>\n",
       "      <th>shards_present</th>\n",
       "      <th>feathering_present</th>\n",
       "      <th>entrance_mounding_bilateral</th>\n",
       "      <th>entrance_mounding_single</th>\n",
       "      <th>center_mounding_bilateral</th>\n",
       "      <th>center_mounding_single</th>\n",
       "      <th>exit_mounding_bilateral</th>\n",
       "      <th>exit_mounding_single</th>\n",
       "      <th>mounding_marked</th>\n",
       "      <th>mounding_not marked</th>\n",
       "    </tr>\n",
       "  </thead>\n",
       "  <tbody>\n",
       "    <tr>\n",
       "      <th>0</th>\n",
       "      <td>False</td>\n",
       "      <td>True</td>\n",
       "      <td>True</td>\n",
       "      <td>True</td>\n",
       "      <td>False</td>\n",
       "      <td>True</td>\n",
       "      <td>False</td>\n",
       "      <td>True</td>\n",
       "      <td>False</td>\n",
       "      <td>False</td>\n",
       "      <td>False</td>\n",
       "      <td>True</td>\n",
       "      <td>False</td>\n",
       "      <td>False</td>\n",
       "      <td>False</td>\n",
       "      <td>True</td>\n",
       "      <td>False</td>\n",
       "      <td>True</td>\n",
       "    </tr>\n",
       "    <tr>\n",
       "      <th>1</th>\n",
       "      <td>False</td>\n",
       "      <td>True</td>\n",
       "      <td>False</td>\n",
       "      <td>True</td>\n",
       "      <td>False</td>\n",
       "      <td>True</td>\n",
       "      <td>True</td>\n",
       "      <td>False</td>\n",
       "      <td>False</td>\n",
       "      <td>False</td>\n",
       "      <td>False</td>\n",
       "      <td>True</td>\n",
       "      <td>False</td>\n",
       "      <td>False</td>\n",
       "      <td>False</td>\n",
       "      <td>True</td>\n",
       "      <td>False</td>\n",
       "      <td>True</td>\n",
       "    </tr>\n",
       "    <tr>\n",
       "      <th>2</th>\n",
       "      <td>False</td>\n",
       "      <td>True</td>\n",
       "      <td>False</td>\n",
       "      <td>True</td>\n",
       "      <td>False</td>\n",
       "      <td>True</td>\n",
       "      <td>True</td>\n",
       "      <td>False</td>\n",
       "      <td>False</td>\n",
       "      <td>False</td>\n",
       "      <td>False</td>\n",
       "      <td>True</td>\n",
       "      <td>False</td>\n",
       "      <td>False</td>\n",
       "      <td>True</td>\n",
       "      <td>False</td>\n",
       "      <td>False</td>\n",
       "      <td>True</td>\n",
       "    </tr>\n",
       "    <tr>\n",
       "      <th>3</th>\n",
       "      <td>False</td>\n",
       "      <td>True</td>\n",
       "      <td>False</td>\n",
       "      <td>True</td>\n",
       "      <td>False</td>\n",
       "      <td>True</td>\n",
       "      <td>True</td>\n",
       "      <td>False</td>\n",
       "      <td>False</td>\n",
       "      <td>False</td>\n",
       "      <td>False</td>\n",
       "      <td>True</td>\n",
       "      <td>False</td>\n",
       "      <td>False</td>\n",
       "      <td>True</td>\n",
       "      <td>False</td>\n",
       "      <td>False</td>\n",
       "      <td>True</td>\n",
       "    </tr>\n",
       "    <tr>\n",
       "      <th>4</th>\n",
       "      <td>False</td>\n",
       "      <td>True</td>\n",
       "      <td>False</td>\n",
       "      <td>True</td>\n",
       "      <td>False</td>\n",
       "      <td>True</td>\n",
       "      <td>True</td>\n",
       "      <td>False</td>\n",
       "      <td>False</td>\n",
       "      <td>False</td>\n",
       "      <td>False</td>\n",
       "      <td>True</td>\n",
       "      <td>False</td>\n",
       "      <td>False</td>\n",
       "      <td>True</td>\n",
       "      <td>False</td>\n",
       "      <td>False</td>\n",
       "      <td>True</td>\n",
       "    </tr>\n",
       "    <tr>\n",
       "      <th>...</th>\n",
       "      <td>...</td>\n",
       "      <td>...</td>\n",
       "      <td>...</td>\n",
       "      <td>...</td>\n",
       "      <td>...</td>\n",
       "      <td>...</td>\n",
       "      <td>...</td>\n",
       "      <td>...</td>\n",
       "      <td>...</td>\n",
       "      <td>...</td>\n",
       "      <td>...</td>\n",
       "      <td>...</td>\n",
       "      <td>...</td>\n",
       "      <td>...</td>\n",
       "      <td>...</td>\n",
       "      <td>...</td>\n",
       "      <td>...</td>\n",
       "      <td>...</td>\n",
       "    </tr>\n",
       "    <tr>\n",
       "      <th>275</th>\n",
       "      <td>True</td>\n",
       "      <td>False</td>\n",
       "      <td>True</td>\n",
       "      <td>True</td>\n",
       "      <td>False</td>\n",
       "      <td>True</td>\n",
       "      <td>False</td>\n",
       "      <td>True</td>\n",
       "      <td>False</td>\n",
       "      <td>False</td>\n",
       "      <td>False</td>\n",
       "      <td>True</td>\n",
       "      <td>False</td>\n",
       "      <td>False</td>\n",
       "      <td>False</td>\n",
       "      <td>True</td>\n",
       "      <td>True</td>\n",
       "      <td>False</td>\n",
       "    </tr>\n",
       "    <tr>\n",
       "      <th>276</th>\n",
       "      <td>True</td>\n",
       "      <td>False</td>\n",
       "      <td>True</td>\n",
       "      <td>False</td>\n",
       "      <td>True</td>\n",
       "      <td>False</td>\n",
       "      <td>True</td>\n",
       "      <td>False</td>\n",
       "      <td>False</td>\n",
       "      <td>False</td>\n",
       "      <td>False</td>\n",
       "      <td>False</td>\n",
       "      <td>False</td>\n",
       "      <td>False</td>\n",
       "      <td>False</td>\n",
       "      <td>False</td>\n",
       "      <td>False</td>\n",
       "      <td>False</td>\n",
       "    </tr>\n",
       "    <tr>\n",
       "      <th>277</th>\n",
       "      <td>True</td>\n",
       "      <td>False</td>\n",
       "      <td>True</td>\n",
       "      <td>True</td>\n",
       "      <td>False</td>\n",
       "      <td>False</td>\n",
       "      <td>False</td>\n",
       "      <td>True</td>\n",
       "      <td>False</td>\n",
       "      <td>False</td>\n",
       "      <td>False</td>\n",
       "      <td>False</td>\n",
       "      <td>False</td>\n",
       "      <td>False</td>\n",
       "      <td>False</td>\n",
       "      <td>False</td>\n",
       "      <td>False</td>\n",
       "      <td>False</td>\n",
       "    </tr>\n",
       "    <tr>\n",
       "      <th>278</th>\n",
       "      <td>True</td>\n",
       "      <td>False</td>\n",
       "      <td>True</td>\n",
       "      <td>True</td>\n",
       "      <td>False</td>\n",
       "      <td>False</td>\n",
       "      <td>False</td>\n",
       "      <td>False</td>\n",
       "      <td>False</td>\n",
       "      <td>True</td>\n",
       "      <td>False</td>\n",
       "      <td>False</td>\n",
       "      <td>False</td>\n",
       "      <td>False</td>\n",
       "      <td>False</td>\n",
       "      <td>False</td>\n",
       "      <td>False</td>\n",
       "      <td>False</td>\n",
       "    </tr>\n",
       "    <tr>\n",
       "      <th>279</th>\n",
       "      <td>True</td>\n",
       "      <td>False</td>\n",
       "      <td>True</td>\n",
       "      <td>True</td>\n",
       "      <td>False</td>\n",
       "      <td>False</td>\n",
       "      <td>False</td>\n",
       "      <td>True</td>\n",
       "      <td>False</td>\n",
       "      <td>True</td>\n",
       "      <td>False</td>\n",
       "      <td>False</td>\n",
       "      <td>False</td>\n",
       "      <td>False</td>\n",
       "      <td>False</td>\n",
       "      <td>True</td>\n",
       "      <td>True</td>\n",
       "      <td>False</td>\n",
       "    </tr>\n",
       "  </tbody>\n",
       "</table>\n",
       "<p>280 rows × 18 columns</p>\n",
       "</div>"
      ],
      "text/plain": [
       "     shape_E  shape_indeterminate  profile_entrance_V  profile_exit_V  \\\n",
       "0      False                 True                True            True   \n",
       "1      False                 True               False            True   \n",
       "2      False                 True               False            True   \n",
       "3      False                 True               False            True   \n",
       "4      False                 True               False            True   \n",
       "..       ...                  ...                 ...             ...   \n",
       "275     True                False                True            True   \n",
       "276     True                False                True           False   \n",
       "277     True                False                True            True   \n",
       "278     True                False                True            True   \n",
       "279     True                False                True            True   \n",
       "\n",
       "     rising_entrance_bilateral  rising_entrance_single  rising_exit_bilateral  \\\n",
       "0                        False                    True                  False   \n",
       "1                        False                    True                   True   \n",
       "2                        False                    True                   True   \n",
       "3                        False                    True                   True   \n",
       "4                        False                    True                   True   \n",
       "..                         ...                     ...                    ...   \n",
       "275                      False                    True                  False   \n",
       "276                       True                   False                   True   \n",
       "277                      False                   False                  False   \n",
       "278                      False                   False                  False   \n",
       "279                      False                   False                  False   \n",
       "\n",
       "     rising_exit_single  shards_present  feathering_present  \\\n",
       "0                  True           False               False   \n",
       "1                 False           False               False   \n",
       "2                 False           False               False   \n",
       "3                 False           False               False   \n",
       "4                 False           False               False   \n",
       "..                  ...             ...                 ...   \n",
       "275                True           False               False   \n",
       "276               False           False               False   \n",
       "277                True           False               False   \n",
       "278               False           False                True   \n",
       "279                True           False                True   \n",
       "\n",
       "     entrance_mounding_bilateral  entrance_mounding_single  \\\n",
       "0                          False                      True   \n",
       "1                          False                      True   \n",
       "2                          False                      True   \n",
       "3                          False                      True   \n",
       "4                          False                      True   \n",
       "..                           ...                       ...   \n",
       "275                        False                      True   \n",
       "276                        False                     False   \n",
       "277                        False                     False   \n",
       "278                        False                     False   \n",
       "279                        False                     False   \n",
       "\n",
       "     center_mounding_bilateral  center_mounding_single  \\\n",
       "0                        False                   False   \n",
       "1                        False                   False   \n",
       "2                        False                   False   \n",
       "3                        False                   False   \n",
       "4                        False                   False   \n",
       "..                         ...                     ...   \n",
       "275                      False                   False   \n",
       "276                      False                   False   \n",
       "277                      False                   False   \n",
       "278                      False                   False   \n",
       "279                      False                   False   \n",
       "\n",
       "     exit_mounding_bilateral  exit_mounding_single  mounding_marked  \\\n",
       "0                      False                  True            False   \n",
       "1                      False                  True            False   \n",
       "2                       True                 False            False   \n",
       "3                       True                 False            False   \n",
       "4                       True                 False            False   \n",
       "..                       ...                   ...              ...   \n",
       "275                    False                  True             True   \n",
       "276                    False                 False            False   \n",
       "277                    False                 False            False   \n",
       "278                    False                 False            False   \n",
       "279                    False                  True             True   \n",
       "\n",
       "     mounding_not marked  \n",
       "0                   True  \n",
       "1                   True  \n",
       "2                   True  \n",
       "3                   True  \n",
       "4                   True  \n",
       "..                   ...  \n",
       "275                False  \n",
       "276                False  \n",
       "277                False  \n",
       "278                False  \n",
       "279                False  \n",
       "\n",
       "[280 rows x 18 columns]"
      ]
     },
     "metadata": {},
     "output_type": "display_data"
    }
   ],
   "source": [
    "# The data are displayed on a table\n",
    "display_input_data(\n",
    "    train_dataset_file,\n",
    "    input_cols\n",
    ")"
   ]
  },
  {
   "cell_type": "code",
   "execution_count": 4,
   "id": "13820e44-c7e3-4fe4-baa4-b4bc23be19f4",
   "metadata": {
    "ExecuteTime": {
     "end_time": "2023-08-01T16:02:56.758256117Z",
     "start_time": "2023-08-01T16:02:56.633646989Z"
    }
   },
   "outputs": [
    {
     "name": "stdout",
     "output_type": "stream",
     "text": [
      "Datasets are compatible\n"
     ]
    }
   ],
   "source": [
    "# The two datasets are tested for compatibility \n",
    "check_input_data_indices(train_dataset_file, test_dataset_file, input_cols)"
   ]
  },
  {
   "cell_type": "code",
   "execution_count": 5,
   "id": "4a658275-a77d-4c6c-a859-71445288056c",
   "metadata": {
    "ExecuteTime": {
     "end_time": "2023-08-01T16:02:56.823716711Z",
     "start_time": "2023-08-01T16:02:56.754719458Z"
    }
   },
   "outputs": [
    {
     "name": "stdout",
     "output_type": "stream",
     "text": [
      "b0 = [2.94177671]\n",
      "b1...n = [[-1.21639648 -1.28412923 -0.23924146 -2.3325252  -1.73212203 -1.63566348\n",
      "  -1.3639484  -0.16607839  1.6963423   1.68430953 -0.56727603 -0.18639544\n",
      "  -0.30974718 -0.53760101 -0.37406523  1.41657166  0.46015146  0.21973993]]\n"
     ]
    }
   ],
   "source": [
    "# Logistic regression model\n",
    "model = train_model(\n",
    "    train_dataset_file,\n",
    "    input_cols,\n",
    "    result_col\n",
    ")\n",
    "# model\n",
    "print('b0 = ' + str(model.intercept_))\n",
    "print('b1...n = ' + str(model.coef_))"
   ]
  },
  {
   "cell_type": "code",
   "execution_count": 6,
   "id": "a225679c-03c5-4e1c-ac11-7abb5eeac0c1",
   "metadata": {
    "ExecuteTime": {
     "end_time": "2023-08-01T16:02:56.871276607Z",
     "start_time": "2023-08-01T16:02:56.836829889Z"
    }
   },
   "outputs": [
    {
     "data": {
      "text/plain": [
       "0.9"
      ]
     },
     "execution_count": 6,
     "metadata": {},
     "output_type": "execute_result"
    }
   ],
   "source": [
    "# Test for overfitting\n",
    "# Evaluation of the training\n",
    "x_train, y_train = prepare_dataset(train_dataset_file, input_cols, result_col)\n",
    "model.score(x_train, y_train)"
   ]
  },
  {
   "cell_type": "code",
   "execution_count": 7,
   "id": "c8bc569d-8613-431f-8b2c-ef84089c3cfe",
   "metadata": {
    "ExecuteTime": {
     "end_time": "2023-08-01T16:02:56.879702899Z",
     "start_time": "2023-08-01T16:02:56.837345360Z"
    }
   },
   "outputs": [
    {
     "data": {
      "text/plain": [
       "0.7164179104477612"
      ]
     },
     "execution_count": 7,
     "metadata": {},
     "output_type": "execute_result"
    }
   ],
   "source": [
    "# 11 variables were used \n",
    "evaluate_model(\n",
    "    model,\n",
    "    test_dataset_file,\n",
    "    input_cols,\n",
    "    result_col\n",
    ")"
   ]
  },
  {
   "cell_type": "code",
   "execution_count": 8,
   "id": "e0acb21f-fee7-4629-9c93-2cc868e0c007",
   "metadata": {
    "ExecuteTime": {
     "end_time": "2023-08-01T16:03:07.565265979Z",
     "start_time": "2023-08-01T16:02:56.877571483Z"
    }
   },
   "outputs": [
    {
     "name": "stdout",
     "output_type": "stream",
     "text": [
      "Testing combinations of length 2\n",
      "Testing combinations of length 3\n"
     ]
    },
    {
     "ename": "KeyboardInterrupt",
     "evalue": "",
     "output_type": "error",
     "traceback": [
      "\u001B[0;31m---------------------------------------------------------------------------\u001B[0m",
      "\u001B[0;31mKeyboardInterrupt\u001B[0m                         Traceback (most recent call last)",
      "Cell \u001B[0;32mIn[8], line 3\u001B[0m\n\u001B[1;32m      1\u001B[0m \u001B[38;5;66;03m# Model optimisation, search for the optimal parameter combination\u001B[39;00m\n\u001B[1;32m      2\u001B[0m \u001B[38;5;66;03m# Printing score best and worst model\u001B[39;00m\n\u001B[0;32m----> 3\u001B[0m \u001B[43mrun_input_optimizer\u001B[49m\u001B[43m(\u001B[49m\u001B[43mtrain_dataset_file\u001B[49m\u001B[43m,\u001B[49m\u001B[43m \u001B[49m\u001B[43mtest_dataset_file\u001B[49m\u001B[43m,\u001B[49m\u001B[43m \u001B[49m\u001B[43minput_cols\u001B[49m\u001B[43m,\u001B[49m\u001B[43m \u001B[49m\u001B[43mresult_col\u001B[49m\u001B[43m)\u001B[49m\n",
      "File \u001B[0;32m/tmp/ipykernel_12572/3723672322.py:32\u001B[0m, in \u001B[0;36mrun_input_optimizer\u001B[0;34m(train_dataset_file, test_dataset_file, input_cols, result_col)\u001B[0m\n\u001B[1;32m     29\u001B[0m \u001B[38;5;28mprint\u001B[39m(\u001B[38;5;124m'\u001B[39m\u001B[38;5;124mTesting combinations of length \u001B[39m\u001B[38;5;124m'\u001B[39m \u001B[38;5;241m+\u001B[39m \u001B[38;5;28mstr\u001B[39m(\u001B[38;5;28mlen\u001B[39m(input_combinations_of_len[\u001B[38;5;241m0\u001B[39m])))\n\u001B[1;32m     31\u001B[0m \u001B[38;5;28;01mfor\u001B[39;00m input_combination \u001B[38;5;129;01min\u001B[39;00m input_combinations_of_len:\n\u001B[0;32m---> 32\u001B[0m     score \u001B[38;5;241m=\u001B[39m \u001B[43m_evaluate_for_input_combination\u001B[49m\u001B[43m(\u001B[49m\u001B[43mtrain_dataset_file\u001B[49m\u001B[43m,\u001B[49m\u001B[43m \u001B[49m\u001B[43mtest_dataset_file\u001B[49m\u001B[43m,\u001B[49m\u001B[43m \u001B[49m\u001B[43minput_combination\u001B[49m\u001B[43m,\u001B[49m\u001B[43m \u001B[49m\u001B[43mresult_col\u001B[49m\u001B[43m)\u001B[49m\n\u001B[1;32m     33\u001B[0m     scores\u001B[38;5;241m.\u001B[39mappend(score)\n\u001B[1;32m     34\u001B[0m     flat_input_combinations\u001B[38;5;241m.\u001B[39mappend(input_combination)\n",
      "File \u001B[0;32m/tmp/ipykernel_12572/3723672322.py:3\u001B[0m, in \u001B[0;36m_evaluate_for_input_combination\u001B[0;34m(train_dataset_file, test_dataset_file, input_combination, result_col)\u001B[0m\n\u001B[1;32m      1\u001B[0m \u001B[38;5;28;01mdef\u001B[39;00m \u001B[38;5;21m_evaluate_for_input_combination\u001B[39m(train_dataset_file, test_dataset_file, input_combination, result_col):\n\u001B[1;32m      2\u001B[0m     \u001B[38;5;66;03m#print(input_cols_comb)\u001B[39;00m\n\u001B[0;32m----> 3\u001B[0m     model \u001B[38;5;241m=\u001B[39m \u001B[43mtrain_model\u001B[49m\u001B[43m(\u001B[49m\n\u001B[1;32m      4\u001B[0m \u001B[43m        \u001B[49m\u001B[43mtrain_dataset_file\u001B[49m\u001B[43m,\u001B[49m\n\u001B[1;32m      5\u001B[0m \u001B[43m        \u001B[49m\u001B[38;5;28;43mlist\u001B[39;49m\u001B[43m(\u001B[49m\u001B[43minput_combination\u001B[49m\u001B[43m)\u001B[49m\u001B[43m,\u001B[49m\n\u001B[1;32m      6\u001B[0m \u001B[43m        \u001B[49m\u001B[43mresult_col\u001B[49m\n\u001B[1;32m      7\u001B[0m \u001B[43m    \u001B[49m\u001B[43m)\u001B[49m\n\u001B[1;32m      8\u001B[0m     score \u001B[38;5;241m=\u001B[39m evaluate_model(\n\u001B[1;32m      9\u001B[0m         model,\n\u001B[1;32m     10\u001B[0m         test_dataset_file,\n\u001B[1;32m     11\u001B[0m         \u001B[38;5;28mlist\u001B[39m(input_combination),\n\u001B[1;32m     12\u001B[0m         result_col\n\u001B[1;32m     13\u001B[0m     )\n\u001B[1;32m     14\u001B[0m     \u001B[38;5;66;03m#print(score)\u001B[39;00m\n",
      "File \u001B[0;32m/tmp/ipykernel_12572/2860991448.py:3\u001B[0m, in \u001B[0;36mtrain_model\u001B[0;34m(train_dataset_file, input_cols, result_col)\u001B[0m\n\u001B[1;32m      1\u001B[0m \u001B[38;5;28;01mdef\u001B[39;00m \u001B[38;5;21mtrain_model\u001B[39m(train_dataset_file, input_cols, result_col):\n\u001B[1;32m      2\u001B[0m \u001B[38;5;250m    \u001B[39m\u001B[38;5;124;03m\"\"\"Create a logistic regression model on the provided dataset (including an expected result column) and fits/trains it on the result column.\"\"\"\u001B[39;00m\n\u001B[0;32m----> 3\u001B[0m     x, y \u001B[38;5;241m=\u001B[39m \u001B[43mprepare_dataset\u001B[49m\u001B[43m(\u001B[49m\u001B[43mtrain_dataset_file\u001B[49m\u001B[43m,\u001B[49m\u001B[43m \u001B[49m\u001B[43minput_cols\u001B[49m\u001B[43m,\u001B[49m\u001B[43m \u001B[49m\u001B[43mresult_col\u001B[49m\u001B[43m)\u001B[49m\n\u001B[1;32m      5\u001B[0m     \u001B[38;5;66;03m# Instantiate the model\u001B[39;00m\n\u001B[1;32m      6\u001B[0m     model \u001B[38;5;241m=\u001B[39m LogisticRegression(solver\u001B[38;5;241m=\u001B[39m\u001B[38;5;124m'\u001B[39m\u001B[38;5;124mliblinear\u001B[39m\u001B[38;5;124m'\u001B[39m, random_state\u001B[38;5;241m=\u001B[39m\u001B[38;5;241m0\u001B[39m)\n",
      "File \u001B[0;32m/tmp/ipykernel_12572/2482240889.py:4\u001B[0m, in \u001B[0;36mprepare_dataset\u001B[0;34m(dataset_file, input_cols, result_col)\u001B[0m\n\u001B[1;32m      2\u001B[0m \u001B[38;5;250m\u001B[39m\u001B[38;5;124;03m\"\"\"Load a dataset and select the provided columns (w/ optional result column).\"\"\"\u001B[39;00m\n\u001B[1;32m      3\u001B[0m \u001B[38;5;66;03m# Load data\u001B[39;00m\n\u001B[0;32m----> 4\u001B[0m df \u001B[38;5;241m=\u001B[39m \u001B[43mpd\u001B[49m\u001B[38;5;241;43m.\u001B[39;49m\u001B[43mread_excel\u001B[49m\u001B[43m(\u001B[49m\u001B[43mdataset_file\u001B[49m\u001B[43m)\u001B[49m\n\u001B[1;32m      6\u001B[0m \u001B[38;5;66;03m# Filter bad data, replace categories with dummies\u001B[39;00m\n\u001B[1;32m      7\u001B[0m x_df \u001B[38;5;241m=\u001B[39m df[input_cols]\u001B[38;5;241m.\u001B[39mapply(\u001B[38;5;28;01mlambda\u001B[39;00m x: x\u001B[38;5;241m.\u001B[39mstr\u001B[38;5;241m.\u001B[39mstrip())\n",
      "File \u001B[0;32m~/PycharmProjects/dissertation-steiger-2022/venv/lib/python3.11/site-packages/pandas/io/excel/_base.py:486\u001B[0m, in \u001B[0;36mread_excel\u001B[0;34m(io, sheet_name, header, names, index_col, usecols, dtype, engine, converters, true_values, false_values, skiprows, nrows, na_values, keep_default_na, na_filter, verbose, parse_dates, date_parser, date_format, thousands, decimal, comment, skipfooter, storage_options, dtype_backend)\u001B[0m\n\u001B[1;32m    480\u001B[0m     \u001B[38;5;28;01mraise\u001B[39;00m \u001B[38;5;167;01mValueError\u001B[39;00m(\n\u001B[1;32m    481\u001B[0m         \u001B[38;5;124m\"\u001B[39m\u001B[38;5;124mEngine should not be specified when passing \u001B[39m\u001B[38;5;124m\"\u001B[39m\n\u001B[1;32m    482\u001B[0m         \u001B[38;5;124m\"\u001B[39m\u001B[38;5;124man ExcelFile - ExcelFile already has the engine set\u001B[39m\u001B[38;5;124m\"\u001B[39m\n\u001B[1;32m    483\u001B[0m     )\n\u001B[1;32m    485\u001B[0m \u001B[38;5;28;01mtry\u001B[39;00m:\n\u001B[0;32m--> 486\u001B[0m     data \u001B[38;5;241m=\u001B[39m \u001B[43mio\u001B[49m\u001B[38;5;241;43m.\u001B[39;49m\u001B[43mparse\u001B[49m\u001B[43m(\u001B[49m\n\u001B[1;32m    487\u001B[0m \u001B[43m        \u001B[49m\u001B[43msheet_name\u001B[49m\u001B[38;5;241;43m=\u001B[39;49m\u001B[43msheet_name\u001B[49m\u001B[43m,\u001B[49m\n\u001B[1;32m    488\u001B[0m \u001B[43m        \u001B[49m\u001B[43mheader\u001B[49m\u001B[38;5;241;43m=\u001B[39;49m\u001B[43mheader\u001B[49m\u001B[43m,\u001B[49m\n\u001B[1;32m    489\u001B[0m \u001B[43m        \u001B[49m\u001B[43mnames\u001B[49m\u001B[38;5;241;43m=\u001B[39;49m\u001B[43mnames\u001B[49m\u001B[43m,\u001B[49m\n\u001B[1;32m    490\u001B[0m \u001B[43m        \u001B[49m\u001B[43mindex_col\u001B[49m\u001B[38;5;241;43m=\u001B[39;49m\u001B[43mindex_col\u001B[49m\u001B[43m,\u001B[49m\n\u001B[1;32m    491\u001B[0m \u001B[43m        \u001B[49m\u001B[43musecols\u001B[49m\u001B[38;5;241;43m=\u001B[39;49m\u001B[43musecols\u001B[49m\u001B[43m,\u001B[49m\n\u001B[1;32m    492\u001B[0m \u001B[43m        \u001B[49m\u001B[43mdtype\u001B[49m\u001B[38;5;241;43m=\u001B[39;49m\u001B[43mdtype\u001B[49m\u001B[43m,\u001B[49m\n\u001B[1;32m    493\u001B[0m \u001B[43m        \u001B[49m\u001B[43mconverters\u001B[49m\u001B[38;5;241;43m=\u001B[39;49m\u001B[43mconverters\u001B[49m\u001B[43m,\u001B[49m\n\u001B[1;32m    494\u001B[0m \u001B[43m        \u001B[49m\u001B[43mtrue_values\u001B[49m\u001B[38;5;241;43m=\u001B[39;49m\u001B[43mtrue_values\u001B[49m\u001B[43m,\u001B[49m\n\u001B[1;32m    495\u001B[0m \u001B[43m        \u001B[49m\u001B[43mfalse_values\u001B[49m\u001B[38;5;241;43m=\u001B[39;49m\u001B[43mfalse_values\u001B[49m\u001B[43m,\u001B[49m\n\u001B[1;32m    496\u001B[0m \u001B[43m        \u001B[49m\u001B[43mskiprows\u001B[49m\u001B[38;5;241;43m=\u001B[39;49m\u001B[43mskiprows\u001B[49m\u001B[43m,\u001B[49m\n\u001B[1;32m    497\u001B[0m \u001B[43m        \u001B[49m\u001B[43mnrows\u001B[49m\u001B[38;5;241;43m=\u001B[39;49m\u001B[43mnrows\u001B[49m\u001B[43m,\u001B[49m\n\u001B[1;32m    498\u001B[0m \u001B[43m        \u001B[49m\u001B[43mna_values\u001B[49m\u001B[38;5;241;43m=\u001B[39;49m\u001B[43mna_values\u001B[49m\u001B[43m,\u001B[49m\n\u001B[1;32m    499\u001B[0m \u001B[43m        \u001B[49m\u001B[43mkeep_default_na\u001B[49m\u001B[38;5;241;43m=\u001B[39;49m\u001B[43mkeep_default_na\u001B[49m\u001B[43m,\u001B[49m\n\u001B[1;32m    500\u001B[0m \u001B[43m        \u001B[49m\u001B[43mna_filter\u001B[49m\u001B[38;5;241;43m=\u001B[39;49m\u001B[43mna_filter\u001B[49m\u001B[43m,\u001B[49m\n\u001B[1;32m    501\u001B[0m \u001B[43m        \u001B[49m\u001B[43mverbose\u001B[49m\u001B[38;5;241;43m=\u001B[39;49m\u001B[43mverbose\u001B[49m\u001B[43m,\u001B[49m\n\u001B[1;32m    502\u001B[0m \u001B[43m        \u001B[49m\u001B[43mparse_dates\u001B[49m\u001B[38;5;241;43m=\u001B[39;49m\u001B[43mparse_dates\u001B[49m\u001B[43m,\u001B[49m\n\u001B[1;32m    503\u001B[0m \u001B[43m        \u001B[49m\u001B[43mdate_parser\u001B[49m\u001B[38;5;241;43m=\u001B[39;49m\u001B[43mdate_parser\u001B[49m\u001B[43m,\u001B[49m\n\u001B[1;32m    504\u001B[0m \u001B[43m        \u001B[49m\u001B[43mdate_format\u001B[49m\u001B[38;5;241;43m=\u001B[39;49m\u001B[43mdate_format\u001B[49m\u001B[43m,\u001B[49m\n\u001B[1;32m    505\u001B[0m \u001B[43m        \u001B[49m\u001B[43mthousands\u001B[49m\u001B[38;5;241;43m=\u001B[39;49m\u001B[43mthousands\u001B[49m\u001B[43m,\u001B[49m\n\u001B[1;32m    506\u001B[0m \u001B[43m        \u001B[49m\u001B[43mdecimal\u001B[49m\u001B[38;5;241;43m=\u001B[39;49m\u001B[43mdecimal\u001B[49m\u001B[43m,\u001B[49m\n\u001B[1;32m    507\u001B[0m \u001B[43m        \u001B[49m\u001B[43mcomment\u001B[49m\u001B[38;5;241;43m=\u001B[39;49m\u001B[43mcomment\u001B[49m\u001B[43m,\u001B[49m\n\u001B[1;32m    508\u001B[0m \u001B[43m        \u001B[49m\u001B[43mskipfooter\u001B[49m\u001B[38;5;241;43m=\u001B[39;49m\u001B[43mskipfooter\u001B[49m\u001B[43m,\u001B[49m\n\u001B[1;32m    509\u001B[0m \u001B[43m        \u001B[49m\u001B[43mdtype_backend\u001B[49m\u001B[38;5;241;43m=\u001B[39;49m\u001B[43mdtype_backend\u001B[49m\u001B[43m,\u001B[49m\n\u001B[1;32m    510\u001B[0m \u001B[43m    \u001B[49m\u001B[43m)\u001B[49m\n\u001B[1;32m    511\u001B[0m \u001B[38;5;28;01mfinally\u001B[39;00m:\n\u001B[1;32m    512\u001B[0m     \u001B[38;5;66;03m# make sure to close opened file handles\u001B[39;00m\n\u001B[1;32m    513\u001B[0m     \u001B[38;5;28;01mif\u001B[39;00m should_close:\n",
      "File \u001B[0;32m~/PycharmProjects/dissertation-steiger-2022/venv/lib/python3.11/site-packages/pandas/io/excel/_base.py:1551\u001B[0m, in \u001B[0;36mExcelFile.parse\u001B[0;34m(self, sheet_name, header, names, index_col, usecols, converters, true_values, false_values, skiprows, nrows, na_values, parse_dates, date_parser, date_format, thousands, comment, skipfooter, dtype_backend, **kwds)\u001B[0m\n\u001B[1;32m   1518\u001B[0m \u001B[38;5;28;01mdef\u001B[39;00m \u001B[38;5;21mparse\u001B[39m(\n\u001B[1;32m   1519\u001B[0m     \u001B[38;5;28mself\u001B[39m,\n\u001B[1;32m   1520\u001B[0m     sheet_name: \u001B[38;5;28mstr\u001B[39m \u001B[38;5;241m|\u001B[39m \u001B[38;5;28mint\u001B[39m \u001B[38;5;241m|\u001B[39m \u001B[38;5;28mlist\u001B[39m[\u001B[38;5;28mint\u001B[39m] \u001B[38;5;241m|\u001B[39m \u001B[38;5;28mlist\u001B[39m[\u001B[38;5;28mstr\u001B[39m] \u001B[38;5;241m|\u001B[39m \u001B[38;5;28;01mNone\u001B[39;00m \u001B[38;5;241m=\u001B[39m \u001B[38;5;241m0\u001B[39m,\n\u001B[0;32m   (...)\u001B[0m\n\u001B[1;32m   1538\u001B[0m     \u001B[38;5;241m*\u001B[39m\u001B[38;5;241m*\u001B[39mkwds,\n\u001B[1;32m   1539\u001B[0m ) \u001B[38;5;241m-\u001B[39m\u001B[38;5;241m>\u001B[39m DataFrame \u001B[38;5;241m|\u001B[39m \u001B[38;5;28mdict\u001B[39m[\u001B[38;5;28mstr\u001B[39m, DataFrame] \u001B[38;5;241m|\u001B[39m \u001B[38;5;28mdict\u001B[39m[\u001B[38;5;28mint\u001B[39m, DataFrame]:\n\u001B[1;32m   1540\u001B[0m \u001B[38;5;250m    \u001B[39m\u001B[38;5;124;03m\"\"\"\u001B[39;00m\n\u001B[1;32m   1541\u001B[0m \u001B[38;5;124;03m    Parse specified sheet(s) into a DataFrame.\u001B[39;00m\n\u001B[1;32m   1542\u001B[0m \n\u001B[0;32m   (...)\u001B[0m\n\u001B[1;32m   1549\u001B[0m \u001B[38;5;124;03m        DataFrame from the passed in Excel file.\u001B[39;00m\n\u001B[1;32m   1550\u001B[0m \u001B[38;5;124;03m    \"\"\"\u001B[39;00m\n\u001B[0;32m-> 1551\u001B[0m     \u001B[38;5;28;01mreturn\u001B[39;00m \u001B[38;5;28;43mself\u001B[39;49m\u001B[38;5;241;43m.\u001B[39;49m\u001B[43m_reader\u001B[49m\u001B[38;5;241;43m.\u001B[39;49m\u001B[43mparse\u001B[49m\u001B[43m(\u001B[49m\n\u001B[1;32m   1552\u001B[0m \u001B[43m        \u001B[49m\u001B[43msheet_name\u001B[49m\u001B[38;5;241;43m=\u001B[39;49m\u001B[43msheet_name\u001B[49m\u001B[43m,\u001B[49m\n\u001B[1;32m   1553\u001B[0m \u001B[43m        \u001B[49m\u001B[43mheader\u001B[49m\u001B[38;5;241;43m=\u001B[39;49m\u001B[43mheader\u001B[49m\u001B[43m,\u001B[49m\n\u001B[1;32m   1554\u001B[0m \u001B[43m        \u001B[49m\u001B[43mnames\u001B[49m\u001B[38;5;241;43m=\u001B[39;49m\u001B[43mnames\u001B[49m\u001B[43m,\u001B[49m\n\u001B[1;32m   1555\u001B[0m \u001B[43m        \u001B[49m\u001B[43mindex_col\u001B[49m\u001B[38;5;241;43m=\u001B[39;49m\u001B[43mindex_col\u001B[49m\u001B[43m,\u001B[49m\n\u001B[1;32m   1556\u001B[0m \u001B[43m        \u001B[49m\u001B[43musecols\u001B[49m\u001B[38;5;241;43m=\u001B[39;49m\u001B[43musecols\u001B[49m\u001B[43m,\u001B[49m\n\u001B[1;32m   1557\u001B[0m \u001B[43m        \u001B[49m\u001B[43mconverters\u001B[49m\u001B[38;5;241;43m=\u001B[39;49m\u001B[43mconverters\u001B[49m\u001B[43m,\u001B[49m\n\u001B[1;32m   1558\u001B[0m \u001B[43m        \u001B[49m\u001B[43mtrue_values\u001B[49m\u001B[38;5;241;43m=\u001B[39;49m\u001B[43mtrue_values\u001B[49m\u001B[43m,\u001B[49m\n\u001B[1;32m   1559\u001B[0m \u001B[43m        \u001B[49m\u001B[43mfalse_values\u001B[49m\u001B[38;5;241;43m=\u001B[39;49m\u001B[43mfalse_values\u001B[49m\u001B[43m,\u001B[49m\n\u001B[1;32m   1560\u001B[0m \u001B[43m        \u001B[49m\u001B[43mskiprows\u001B[49m\u001B[38;5;241;43m=\u001B[39;49m\u001B[43mskiprows\u001B[49m\u001B[43m,\u001B[49m\n\u001B[1;32m   1561\u001B[0m \u001B[43m        \u001B[49m\u001B[43mnrows\u001B[49m\u001B[38;5;241;43m=\u001B[39;49m\u001B[43mnrows\u001B[49m\u001B[43m,\u001B[49m\n\u001B[1;32m   1562\u001B[0m \u001B[43m        \u001B[49m\u001B[43mna_values\u001B[49m\u001B[38;5;241;43m=\u001B[39;49m\u001B[43mna_values\u001B[49m\u001B[43m,\u001B[49m\n\u001B[1;32m   1563\u001B[0m \u001B[43m        \u001B[49m\u001B[43mparse_dates\u001B[49m\u001B[38;5;241;43m=\u001B[39;49m\u001B[43mparse_dates\u001B[49m\u001B[43m,\u001B[49m\n\u001B[1;32m   1564\u001B[0m \u001B[43m        \u001B[49m\u001B[43mdate_parser\u001B[49m\u001B[38;5;241;43m=\u001B[39;49m\u001B[43mdate_parser\u001B[49m\u001B[43m,\u001B[49m\n\u001B[1;32m   1565\u001B[0m \u001B[43m        \u001B[49m\u001B[43mdate_format\u001B[49m\u001B[38;5;241;43m=\u001B[39;49m\u001B[43mdate_format\u001B[49m\u001B[43m,\u001B[49m\n\u001B[1;32m   1566\u001B[0m \u001B[43m        \u001B[49m\u001B[43mthousands\u001B[49m\u001B[38;5;241;43m=\u001B[39;49m\u001B[43mthousands\u001B[49m\u001B[43m,\u001B[49m\n\u001B[1;32m   1567\u001B[0m \u001B[43m        \u001B[49m\u001B[43mcomment\u001B[49m\u001B[38;5;241;43m=\u001B[39;49m\u001B[43mcomment\u001B[49m\u001B[43m,\u001B[49m\n\u001B[1;32m   1568\u001B[0m \u001B[43m        \u001B[49m\u001B[43mskipfooter\u001B[49m\u001B[38;5;241;43m=\u001B[39;49m\u001B[43mskipfooter\u001B[49m\u001B[43m,\u001B[49m\n\u001B[1;32m   1569\u001B[0m \u001B[43m        \u001B[49m\u001B[43mdtype_backend\u001B[49m\u001B[38;5;241;43m=\u001B[39;49m\u001B[43mdtype_backend\u001B[49m\u001B[43m,\u001B[49m\n\u001B[1;32m   1570\u001B[0m \u001B[43m        \u001B[49m\u001B[38;5;241;43m*\u001B[39;49m\u001B[38;5;241;43m*\u001B[39;49m\u001B[43mkwds\u001B[49m\u001B[43m,\u001B[49m\n\u001B[1;32m   1571\u001B[0m \u001B[43m    \u001B[49m\u001B[43m)\u001B[49m\n",
      "File \u001B[0;32m~/PycharmProjects/dissertation-steiger-2022/venv/lib/python3.11/site-packages/pandas/io/excel/_base.py:751\u001B[0m, in \u001B[0;36mBaseExcelReader.parse\u001B[0;34m(self, sheet_name, header, names, index_col, usecols, dtype, true_values, false_values, skiprows, nrows, na_values, verbose, parse_dates, date_parser, date_format, thousands, decimal, comment, skipfooter, dtype_backend, **kwds)\u001B[0m\n\u001B[1;32m    748\u001B[0m     sheet \u001B[38;5;241m=\u001B[39m \u001B[38;5;28mself\u001B[39m\u001B[38;5;241m.\u001B[39mget_sheet_by_index(asheetname)\n\u001B[1;32m    750\u001B[0m file_rows_needed \u001B[38;5;241m=\u001B[39m \u001B[38;5;28mself\u001B[39m\u001B[38;5;241m.\u001B[39m_calc_rows(header, index_col, skiprows, nrows)\n\u001B[0;32m--> 751\u001B[0m data \u001B[38;5;241m=\u001B[39m \u001B[38;5;28;43mself\u001B[39;49m\u001B[38;5;241;43m.\u001B[39;49m\u001B[43mget_sheet_data\u001B[49m\u001B[43m(\u001B[49m\u001B[43msheet\u001B[49m\u001B[43m,\u001B[49m\u001B[43m \u001B[49m\u001B[43mfile_rows_needed\u001B[49m\u001B[43m)\u001B[49m\n\u001B[1;32m    752\u001B[0m \u001B[38;5;28;01mif\u001B[39;00m \u001B[38;5;28mhasattr\u001B[39m(sheet, \u001B[38;5;124m\"\u001B[39m\u001B[38;5;124mclose\u001B[39m\u001B[38;5;124m\"\u001B[39m):\n\u001B[1;32m    753\u001B[0m     \u001B[38;5;66;03m# pyxlsb opens two TemporaryFiles\u001B[39;00m\n\u001B[1;32m    754\u001B[0m     sheet\u001B[38;5;241m.\u001B[39mclose()\n",
      "File \u001B[0;32m~/PycharmProjects/dissertation-steiger-2022/venv/lib/python3.11/site-packages/pandas/io/excel/_openpyxl.py:602\u001B[0m, in \u001B[0;36mOpenpyxlReader.get_sheet_data\u001B[0;34m(self, sheet, file_rows_needed)\u001B[0m\n\u001B[1;32m    600\u001B[0m data: \u001B[38;5;28mlist\u001B[39m[\u001B[38;5;28mlist\u001B[39m[Scalar]] \u001B[38;5;241m=\u001B[39m []\n\u001B[1;32m    601\u001B[0m last_row_with_data \u001B[38;5;241m=\u001B[39m \u001B[38;5;241m-\u001B[39m\u001B[38;5;241m1\u001B[39m\n\u001B[0;32m--> 602\u001B[0m \u001B[38;5;28;01mfor\u001B[39;00m row_number, row \u001B[38;5;129;01min\u001B[39;00m \u001B[38;5;28menumerate\u001B[39m(sheet\u001B[38;5;241m.\u001B[39mrows):\n\u001B[1;32m    603\u001B[0m     converted_row \u001B[38;5;241m=\u001B[39m [\u001B[38;5;28mself\u001B[39m\u001B[38;5;241m.\u001B[39m_convert_cell(cell) \u001B[38;5;28;01mfor\u001B[39;00m cell \u001B[38;5;129;01min\u001B[39;00m row]\n\u001B[1;32m    604\u001B[0m     \u001B[38;5;28;01mwhile\u001B[39;00m converted_row \u001B[38;5;129;01mand\u001B[39;00m converted_row[\u001B[38;5;241m-\u001B[39m\u001B[38;5;241m1\u001B[39m] \u001B[38;5;241m==\u001B[39m \u001B[38;5;124m\"\u001B[39m\u001B[38;5;124m\"\u001B[39m:\n\u001B[1;32m    605\u001B[0m         \u001B[38;5;66;03m# trim trailing empty elements\u001B[39;00m\n",
      "File \u001B[0;32m~/PycharmProjects/dissertation-steiger-2022/venv/lib/python3.11/site-packages/openpyxl/worksheet/_read_only.py:81\u001B[0m, in \u001B[0;36mReadOnlyWorksheet._cells_by_row\u001B[0;34m(self, min_col, min_row, max_col, max_row, values_only)\u001B[0m\n\u001B[1;32m     77\u001B[0m src \u001B[38;5;241m=\u001B[39m \u001B[38;5;28mself\u001B[39m\u001B[38;5;241m.\u001B[39m_get_source()\n\u001B[1;32m     78\u001B[0m parser \u001B[38;5;241m=\u001B[39m WorkSheetParser(src, \u001B[38;5;28mself\u001B[39m\u001B[38;5;241m.\u001B[39m_shared_strings,\n\u001B[1;32m     79\u001B[0m                          data_only\u001B[38;5;241m=\u001B[39m\u001B[38;5;28mself\u001B[39m\u001B[38;5;241m.\u001B[39mparent\u001B[38;5;241m.\u001B[39mdata_only, epoch\u001B[38;5;241m=\u001B[39m\u001B[38;5;28mself\u001B[39m\u001B[38;5;241m.\u001B[39mparent\u001B[38;5;241m.\u001B[39mepoch,\n\u001B[1;32m     80\u001B[0m                          date_formats\u001B[38;5;241m=\u001B[39m\u001B[38;5;28mself\u001B[39m\u001B[38;5;241m.\u001B[39mparent\u001B[38;5;241m.\u001B[39m_date_formats)\n\u001B[0;32m---> 81\u001B[0m \u001B[38;5;28;01mfor\u001B[39;00m idx, row \u001B[38;5;129;01min\u001B[39;00m parser\u001B[38;5;241m.\u001B[39mparse():\n\u001B[1;32m     82\u001B[0m     \u001B[38;5;28;01mif\u001B[39;00m max_row \u001B[38;5;129;01mis\u001B[39;00m \u001B[38;5;129;01mnot\u001B[39;00m \u001B[38;5;28;01mNone\u001B[39;00m \u001B[38;5;129;01mand\u001B[39;00m idx \u001B[38;5;241m>\u001B[39m max_row:\n\u001B[1;32m     83\u001B[0m         \u001B[38;5;28;01mbreak\u001B[39;00m\n",
      "File \u001B[0;32m~/PycharmProjects/dissertation-steiger-2022/venv/lib/python3.11/site-packages/openpyxl/worksheet/_reader.py:156\u001B[0m, in \u001B[0;36mWorkSheetParser.parse\u001B[0;34m(self)\u001B[0m\n\u001B[1;32m    137\u001B[0m properties \u001B[38;5;241m=\u001B[39m {\n\u001B[1;32m    138\u001B[0m     PRINT_TAG: (\u001B[38;5;124m'\u001B[39m\u001B[38;5;124mprint_options\u001B[39m\u001B[38;5;124m'\u001B[39m, PrintOptions),\n\u001B[1;32m    139\u001B[0m     MARGINS_TAG: (\u001B[38;5;124m'\u001B[39m\u001B[38;5;124mpage_margins\u001B[39m\u001B[38;5;124m'\u001B[39m, PageMargins),\n\u001B[0;32m   (...)\u001B[0m\n\u001B[1;32m    151\u001B[0m \n\u001B[1;32m    152\u001B[0m }\n\u001B[1;32m    154\u001B[0m it \u001B[38;5;241m=\u001B[39m iterparse(\u001B[38;5;28mself\u001B[39m\u001B[38;5;241m.\u001B[39msource) \u001B[38;5;66;03m# add a finaliser to close the source when this becomes possible\u001B[39;00m\n\u001B[0;32m--> 156\u001B[0m \u001B[38;5;28;01mfor\u001B[39;00m _, element \u001B[38;5;129;01min\u001B[39;00m it:\n\u001B[1;32m    157\u001B[0m     tag_name \u001B[38;5;241m=\u001B[39m element\u001B[38;5;241m.\u001B[39mtag\n\u001B[1;32m    158\u001B[0m     \u001B[38;5;28;01mif\u001B[39;00m tag_name \u001B[38;5;129;01min\u001B[39;00m dispatcher:\n",
      "File \u001B[0;32m/usr/lib/python3.11/xml/etree/ElementTree.py:1254\u001B[0m, in \u001B[0;36miterparse.<locals>.iterator\u001B[0;34m(source)\u001B[0m\n\u001B[1;32m   1252\u001B[0m     \u001B[38;5;28;01mif\u001B[39;00m \u001B[38;5;129;01mnot\u001B[39;00m data:\n\u001B[1;32m   1253\u001B[0m         \u001B[38;5;28;01mbreak\u001B[39;00m\n\u001B[0;32m-> 1254\u001B[0m     \u001B[43mpullparser\u001B[49m\u001B[38;5;241;43m.\u001B[39;49m\u001B[43mfeed\u001B[49m\u001B[43m(\u001B[49m\u001B[43mdata\u001B[49m\u001B[43m)\u001B[49m\n\u001B[1;32m   1255\u001B[0m root \u001B[38;5;241m=\u001B[39m pullparser\u001B[38;5;241m.\u001B[39m_close_and_return_root()\n\u001B[1;32m   1256\u001B[0m \u001B[38;5;28;01myield from\u001B[39;00m pullparser\u001B[38;5;241m.\u001B[39mread_events()\n",
      "File \u001B[0;32m/usr/lib/python3.11/xml/etree/ElementTree.py:1292\u001B[0m, in \u001B[0;36mXMLPullParser.feed\u001B[0;34m(self, data)\u001B[0m\n\u001B[1;32m   1290\u001B[0m \u001B[38;5;28;01mif\u001B[39;00m data:\n\u001B[1;32m   1291\u001B[0m     \u001B[38;5;28;01mtry\u001B[39;00m:\n\u001B[0;32m-> 1292\u001B[0m         \u001B[38;5;28;43mself\u001B[39;49m\u001B[38;5;241;43m.\u001B[39;49m\u001B[43m_parser\u001B[49m\u001B[38;5;241;43m.\u001B[39;49m\u001B[43mfeed\u001B[49m\u001B[43m(\u001B[49m\u001B[43mdata\u001B[49m\u001B[43m)\u001B[49m\n\u001B[1;32m   1293\u001B[0m     \u001B[38;5;28;01mexcept\u001B[39;00m \u001B[38;5;167;01mSyntaxError\u001B[39;00m \u001B[38;5;28;01mas\u001B[39;00m exc:\n\u001B[1;32m   1294\u001B[0m         \u001B[38;5;28mself\u001B[39m\u001B[38;5;241m.\u001B[39m_events_queue\u001B[38;5;241m.\u001B[39mappend(exc)\n",
      "File \u001B[0;32m/usr/lib/python3.11/xml/etree/ElementTree.py:1709\u001B[0m, in \u001B[0;36mXMLParser.feed\u001B[0;34m(self, data)\u001B[0m\n\u001B[1;32m   1707\u001B[0m \u001B[38;5;250m\u001B[39m\u001B[38;5;124;03m\"\"\"Feed encoded data to parser.\"\"\"\u001B[39;00m\n\u001B[1;32m   1708\u001B[0m \u001B[38;5;28;01mtry\u001B[39;00m:\n\u001B[0;32m-> 1709\u001B[0m     \u001B[38;5;28;43mself\u001B[39;49m\u001B[38;5;241;43m.\u001B[39;49m\u001B[43mparser\u001B[49m\u001B[38;5;241;43m.\u001B[39;49m\u001B[43mParse\u001B[49m\u001B[43m(\u001B[49m\u001B[43mdata\u001B[49m\u001B[43m,\u001B[49m\u001B[43m \u001B[49m\u001B[38;5;28;43;01mFalse\u001B[39;49;00m\u001B[43m)\u001B[49m\n\u001B[1;32m   1710\u001B[0m \u001B[38;5;28;01mexcept\u001B[39;00m \u001B[38;5;28mself\u001B[39m\u001B[38;5;241m.\u001B[39m_error \u001B[38;5;28;01mas\u001B[39;00m v:\n\u001B[1;32m   1711\u001B[0m     \u001B[38;5;28mself\u001B[39m\u001B[38;5;241m.\u001B[39m_raiseerror(v)\n",
      "File \u001B[0;32m/usr/src/debug/python/Python-3.11.3/Modules/pyexpat.c:416\u001B[0m, in \u001B[0;36mStartElement\u001B[0;34m()\u001B[0m\n",
      "File \u001B[0;32m/usr/lib/python3.11/xml/etree/ElementTree.py:1642\u001B[0m, in \u001B[0;36mXMLParser._start\u001B[0;34m(self, tag, attr_list)\u001B[0m\n\u001B[1;32m   1637\u001B[0m \u001B[38;5;28;01mdef\u001B[39;00m \u001B[38;5;21m_start\u001B[39m(\u001B[38;5;28mself\u001B[39m, tag, attr_list):\n\u001B[1;32m   1638\u001B[0m     \u001B[38;5;66;03m# Handler for expat's StartElementHandler. Since ordered_attributes\u001B[39;00m\n\u001B[1;32m   1639\u001B[0m     \u001B[38;5;66;03m# is set, the attributes are reported as a list of alternating\u001B[39;00m\n\u001B[1;32m   1640\u001B[0m     \u001B[38;5;66;03m# attribute name,value.\u001B[39;00m\n\u001B[1;32m   1641\u001B[0m     fixname \u001B[38;5;241m=\u001B[39m \u001B[38;5;28mself\u001B[39m\u001B[38;5;241m.\u001B[39m_fixname\n\u001B[0;32m-> 1642\u001B[0m     tag \u001B[38;5;241m=\u001B[39m \u001B[43mfixname\u001B[49m\u001B[43m(\u001B[49m\u001B[43mtag\u001B[49m\u001B[43m)\u001B[49m\n\u001B[1;32m   1643\u001B[0m     attrib \u001B[38;5;241m=\u001B[39m {}\n\u001B[1;32m   1644\u001B[0m     \u001B[38;5;28;01mif\u001B[39;00m attr_list:\n",
      "File \u001B[0;32m/usr/lib/python3.11/xml/etree/ElementTree.py:1620\u001B[0m, in \u001B[0;36mXMLParser._fixname\u001B[0;34m(self, key)\u001B[0m\n\u001B[1;32m   1617\u001B[0m     err\u001B[38;5;241m.\u001B[39mposition \u001B[38;5;241m=\u001B[39m value\u001B[38;5;241m.\u001B[39mlineno, value\u001B[38;5;241m.\u001B[39moffset\n\u001B[1;32m   1618\u001B[0m     \u001B[38;5;28;01mraise\u001B[39;00m err\n\u001B[0;32m-> 1620\u001B[0m \u001B[38;5;28;01mdef\u001B[39;00m \u001B[38;5;21m_fixname\u001B[39m(\u001B[38;5;28mself\u001B[39m, key):\n\u001B[1;32m   1621\u001B[0m     \u001B[38;5;66;03m# expand qname, and convert name string to ascii, if possible\u001B[39;00m\n\u001B[1;32m   1622\u001B[0m     \u001B[38;5;28;01mtry\u001B[39;00m:\n\u001B[1;32m   1623\u001B[0m         name \u001B[38;5;241m=\u001B[39m \u001B[38;5;28mself\u001B[39m\u001B[38;5;241m.\u001B[39m_names[key]\n",
      "\u001B[0;31mKeyboardInterrupt\u001B[0m: "
     ]
    }
   ],
   "source": [
    "# Model optimisation, search for the optimal parameter combination\n",
    "# Printing score best and worst model\n",
    "run_input_optimizer(train_dataset_file, test_dataset_file, input_cols, result_col)"
   ]
  },
  {
   "cell_type": "code",
   "execution_count": 9,
   "id": "42680ca9fcc834a",
   "metadata": {
    "ExecuteTime": {
     "end_time": "2023-08-01T16:23:41.191915704Z",
     "start_time": "2023-08-01T16:23:41.150491067Z"
    },
    "collapsed": false
   },
   "outputs": [
    {
     "data": {
      "application/vnd.jupyter.widget-view+json": {
       "model_id": "ad43f0821b6144adbb98398f29ab664f",
       "version_major": 2,
       "version_minor": 0
      },
      "text/plain": [
       "HTMLMath(value='$$p = {\\\\frac{1}{1 + e ^ {-(2.94-1.22x_{1}-1.28x_{2}-0.24x_{3}-2.33x_{4}-1.73x_{5}-1.64x_{6}-1…"
      ]
     },
     "execution_count": 9,
     "metadata": {},
     "output_type": "execute_result"
    }
   ],
   "source": [
    "import ipywidgets as widgets\n",
    "\n",
    "# tex = \"$$p = {\\frac{1}{1 + e ^ {-(\\beta_0 + \\beta_1X_i + \\beta_2X_2 + \\beta_3X_3 + \\beta_4X_4 + \\beta_5X_5)}}}$$\"\n",
    "# tex = \"$$p = {\\frac{1}{1 + e ^ {-(3 + 2X_1 + \\beta_2X_2 + \\beta_3X_3 + \\beta_4X_4 + \\beta_5X_5)}}}$$\"\n",
    "tex = r\"$$p = {\\frac{1}{1 + e ^ {-(\"\n",
    "\n",
    "# Add intercept\n",
    "tex += str(np.round(model.intercept_[0], decimals=2))\n",
    " \n",
    "# Add coefficients\n",
    "for i, b in enumerate(model.coef_[0]):\n",
    "    if b < 0:\n",
    "        sign = '-'\n",
    "    elif b > 0:\n",
    "        sign = '+'\n",
    "    else:\n",
    "        continue\n",
    "    tex += f\"{sign}{str(np.abs(np.round(b, decimals=2)))}x_{{{str(i+1)}}}\"\n",
    "\n",
    "tex += \")}}}$$\"\n",
    "\n",
    "widgets.HTMLMath(\n",
    "    value=tex,\n",
    "    placeholder='Logistic regression',\n",
    ")"
   ]
  },
  {
   "cell_type": "code",
   "execution_count": null,
   "id": "6b559a833b2a33d9",
   "metadata": {
    "ExecuteTime": {
     "start_time": "2023-08-01T16:03:07.567187353Z"
    },
    "collapsed": false
   },
   "outputs": [],
   "source": []
  }
 ],
 "metadata": {
  "kernelspec": {
   "display_name": "Python 3 (ipykernel)",
   "language": "python",
   "name": "python3"
  },
  "language_info": {
   "codemirror_mode": {
    "name": "ipython",
    "version": 3
   },
   "file_extension": ".py",
   "mimetype": "text/x-python",
   "name": "python",
   "nbconvert_exporter": "python",
   "pygments_lexer": "ipython3",
   "version": "3.11.3"
  }
 },
 "nbformat": 4,
 "nbformat_minor": 5
}
