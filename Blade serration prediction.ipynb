{
 "cells": [
  {
   "cell_type": "code",
   "execution_count": 1,
   "id": "e9cf64db-6bc2-44b0-b84c-31bb3dedbf3d",
   "metadata": {
    "ExecuteTime": {
     "end_time": "2023-08-01T16:02:56.487685686Z",
     "start_time": "2023-08-01T16:02:54.627995086Z"
    }
   },
   "outputs": [
    {
     "name": "stdout",
     "output_type": "stream",
     "text": [
      "Requirement already satisfied: numpy in ./venv/lib/python3.11/site-packages (1.25.1)\n",
      "Requirement already satisfied: matplotlib in ./venv/lib/python3.11/site-packages (3.7.2)\n",
      "Requirement already satisfied: pandas in ./venv/lib/python3.11/site-packages (2.0.3)\n",
      "Requirement already satisfied: openpyxl in ./venv/lib/python3.11/site-packages (3.1.2)\n",
      "Requirement already satisfied: scikit-learn in ./venv/lib/python3.11/site-packages (1.3.0)\n",
      "Requirement already satisfied: seaborn in ./venv/lib/python3.11/site-packages (0.12.2)\n",
      "Requirement already satisfied: contourpy>=1.0.1 in ./venv/lib/python3.11/site-packages (from matplotlib) (1.1.0)\n",
      "Requirement already satisfied: cycler>=0.10 in ./venv/lib/python3.11/site-packages (from matplotlib) (0.11.0)\n",
      "Requirement already satisfied: fonttools>=4.22.0 in ./venv/lib/python3.11/site-packages (from matplotlib) (4.41.1)\n",
      "Requirement already satisfied: kiwisolver>=1.0.1 in ./venv/lib/python3.11/site-packages (from matplotlib) (1.4.4)\n",
      "Requirement already satisfied: packaging>=20.0 in ./venv/lib/python3.11/site-packages (from matplotlib) (23.1)\n",
      "Requirement already satisfied: pillow>=6.2.0 in ./venv/lib/python3.11/site-packages (from matplotlib) (10.0.0)\n",
      "Requirement already satisfied: pyparsing<3.1,>=2.3.1 in ./venv/lib/python3.11/site-packages (from matplotlib) (3.0.9)\n",
      "Requirement already satisfied: python-dateutil>=2.7 in ./venv/lib/python3.11/site-packages (from matplotlib) (2.8.2)\n",
      "Requirement already satisfied: pytz>=2020.1 in ./venv/lib/python3.11/site-packages (from pandas) (2023.3)\n",
      "Requirement already satisfied: tzdata>=2022.1 in ./venv/lib/python3.11/site-packages (from pandas) (2023.3)\n",
      "Requirement already satisfied: et-xmlfile in ./venv/lib/python3.11/site-packages (from openpyxl) (1.1.0)\n",
      "Requirement already satisfied: scipy>=1.5.0 in ./venv/lib/python3.11/site-packages (from scikit-learn) (1.11.1)\n",
      "Requirement already satisfied: joblib>=1.1.1 in ./venv/lib/python3.11/site-packages (from scikit-learn) (1.3.1)\n",
      "Requirement already satisfied: threadpoolctl>=2.0.0 in ./venv/lib/python3.11/site-packages (from scikit-learn) (3.2.0)\n",
      "Requirement already satisfied: six>=1.5 in ./venv/lib/python3.11/site-packages (from python-dateutil>=2.7->matplotlib) (1.16.0)\n"
     ]
    }
   ],
   "source": [
    "%run common.ipynb"
   ]
  },
  {
   "cell_type": "code",
   "execution_count": 2,
   "id": "0fc99c69-c18d-41b8-aef9-366172b4e713",
   "metadata": {
    "ExecuteTime": {
     "end_time": "2023-08-01T16:02:56.494245286Z",
     "start_time": "2023-08-01T16:02:56.493188656Z"
    }
   },
   "outputs": [],
   "source": [
    "# Parameters\n",
    "# Chose the variables to crate the model\n",
    "input_cols = ['shape', 'profile_entrance', 'profile_exit', 'rising_entrance', 'rising_exit', 'shards', 'feathering', 'entrance_mounding', 'center_mounding', 'exit_mounding', 'mounding']\n",
    "result_col = 'result'\n",
    "train_dataset_file = 'DATA/Train/serration_prediction_train.xlsx'\n",
    "test_dataset_file = 'DATA/Validation/serration_prediction_validation.xlsx'"
   ]
  },
  {
   "cell_type": "code",
   "execution_count": 3,
   "id": "33f3b584-bcdf-4cfe-9c0d-74c9c845b763",
   "metadata": {
    "ExecuteTime": {
     "end_time": "2023-08-01T16:02:56.636520706Z",
     "start_time": "2023-08-01T16:02:56.493850114Z"
    }
   },
   "outputs": [
    {
     "data": {
      "text/html": [
       "<div>\n",
       "<style scoped>\n",
       "    .dataframe tbody tr th:only-of-type {\n",
       "        vertical-align: middle;\n",
       "    }\n",
       "\n",
       "    .dataframe tbody tr th {\n",
       "        vertical-align: top;\n",
       "    }\n",
       "\n",
       "    .dataframe thead th {\n",
       "        text-align: right;\n",
       "    }\n",
       "</style>\n",
       "<table border=\"1\" class=\"dataframe\">\n",
       "  <thead>\n",
       "    <tr style=\"text-align: right;\">\n",
       "      <th></th>\n",
       "      <th>shape_E</th>\n",
       "      <th>shape_indeterminate</th>\n",
       "      <th>profile_entrance_V</th>\n",
       "      <th>profile_exit_V</th>\n",
       "      <th>rising_entrance_bilateral</th>\n",
       "      <th>rising_entrance_single</th>\n",
       "      <th>rising_exit_bilateral</th>\n",
       "      <th>rising_exit_single</th>\n",
       "      <th>shards_present</th>\n",
       "      <th>feathering_present</th>\n",
       "      <th>entrance_mounding_bilateral</th>\n",
       "      <th>entrance_mounding_single</th>\n",
       "      <th>center_mounding_bilateral</th>\n",
       "      <th>center_mounding_single</th>\n",
       "      <th>exit_mounding_bilateral</th>\n",
       "      <th>exit_mounding_single</th>\n",
       "      <th>mounding_marked</th>\n",
       "      <th>mounding_not marked</th>\n",
       "    </tr>\n",
       "  </thead>\n",
       "  <tbody>\n",
       "    <tr>\n",
       "      <th>0</th>\n",
       "      <td>False</td>\n",
       "      <td>True</td>\n",
       "      <td>True</td>\n",
       "      <td>True</td>\n",
       "      <td>False</td>\n",
       "      <td>True</td>\n",
       "      <td>False</td>\n",
       "      <td>True</td>\n",
       "      <td>False</td>\n",
       "      <td>False</td>\n",
       "      <td>False</td>\n",
       "      <td>True</td>\n",
       "      <td>False</td>\n",
       "      <td>False</td>\n",
       "      <td>False</td>\n",
       "      <td>True</td>\n",
       "      <td>False</td>\n",
       "      <td>True</td>\n",
       "    </tr>\n",
       "    <tr>\n",
       "      <th>1</th>\n",
       "      <td>False</td>\n",
       "      <td>True</td>\n",
       "      <td>False</td>\n",
       "      <td>True</td>\n",
       "      <td>False</td>\n",
       "      <td>True</td>\n",
       "      <td>True</td>\n",
       "      <td>False</td>\n",
       "      <td>False</td>\n",
       "      <td>False</td>\n",
       "      <td>False</td>\n",
       "      <td>True</td>\n",
       "      <td>False</td>\n",
       "      <td>False</td>\n",
       "      <td>False</td>\n",
       "      <td>True</td>\n",
       "      <td>False</td>\n",
       "      <td>True</td>\n",
       "    </tr>\n",
       "    <tr>\n",
       "      <th>2</th>\n",
       "      <td>False</td>\n",
       "      <td>True</td>\n",
       "      <td>False</td>\n",
       "      <td>True</td>\n",
       "      <td>False</td>\n",
       "      <td>True</td>\n",
       "      <td>True</td>\n",
       "      <td>False</td>\n",
       "      <td>False</td>\n",
       "      <td>False</td>\n",
       "      <td>False</td>\n",
       "      <td>True</td>\n",
       "      <td>False</td>\n",
       "      <td>False</td>\n",
       "      <td>True</td>\n",
       "      <td>False</td>\n",
       "      <td>False</td>\n",
       "      <td>True</td>\n",
       "    </tr>\n",
       "    <tr>\n",
       "      <th>3</th>\n",
       "      <td>False</td>\n",
       "      <td>True</td>\n",
       "      <td>False</td>\n",
       "      <td>True</td>\n",
       "      <td>False</td>\n",
       "      <td>True</td>\n",
       "      <td>True</td>\n",
       "      <td>False</td>\n",
       "      <td>False</td>\n",
       "      <td>False</td>\n",
       "      <td>False</td>\n",
       "      <td>True</td>\n",
       "      <td>False</td>\n",
       "      <td>False</td>\n",
       "      <td>True</td>\n",
       "      <td>False</td>\n",
       "      <td>False</td>\n",
       "      <td>True</td>\n",
       "    </tr>\n",
       "    <tr>\n",
       "      <th>4</th>\n",
       "      <td>False</td>\n",
       "      <td>True</td>\n",
       "      <td>False</td>\n",
       "      <td>True</td>\n",
       "      <td>False</td>\n",
       "      <td>True</td>\n",
       "      <td>True</td>\n",
       "      <td>False</td>\n",
       "      <td>False</td>\n",
       "      <td>False</td>\n",
       "      <td>False</td>\n",
       "      <td>True</td>\n",
       "      <td>False</td>\n",
       "      <td>False</td>\n",
       "      <td>True</td>\n",
       "      <td>False</td>\n",
       "      <td>False</td>\n",
       "      <td>True</td>\n",
       "    </tr>\n",
       "    <tr>\n",
       "      <th>...</th>\n",
       "      <td>...</td>\n",
       "      <td>...</td>\n",
       "      <td>...</td>\n",
       "      <td>...</td>\n",
       "      <td>...</td>\n",
       "      <td>...</td>\n",
       "      <td>...</td>\n",
       "      <td>...</td>\n",
       "      <td>...</td>\n",
       "      <td>...</td>\n",
       "      <td>...</td>\n",
       "      <td>...</td>\n",
       "      <td>...</td>\n",
       "      <td>...</td>\n",
       "      <td>...</td>\n",
       "      <td>...</td>\n",
       "      <td>...</td>\n",
       "      <td>...</td>\n",
       "    </tr>\n",
       "    <tr>\n",
       "      <th>275</th>\n",
       "      <td>True</td>\n",
       "      <td>False</td>\n",
       "      <td>True</td>\n",
       "      <td>True</td>\n",
       "      <td>False</td>\n",
       "      <td>True</td>\n",
       "      <td>False</td>\n",
       "      <td>True</td>\n",
       "      <td>False</td>\n",
       "      <td>False</td>\n",
       "      <td>False</td>\n",
       "      <td>True</td>\n",
       "      <td>False</td>\n",
       "      <td>False</td>\n",
       "      <td>False</td>\n",
       "      <td>True</td>\n",
       "      <td>True</td>\n",
       "      <td>False</td>\n",
       "    </tr>\n",
       "    <tr>\n",
       "      <th>276</th>\n",
       "      <td>True</td>\n",
       "      <td>False</td>\n",
       "      <td>True</td>\n",
       "      <td>False</td>\n",
       "      <td>True</td>\n",
       "      <td>False</td>\n",
       "      <td>True</td>\n",
       "      <td>False</td>\n",
       "      <td>False</td>\n",
       "      <td>False</td>\n",
       "      <td>False</td>\n",
       "      <td>False</td>\n",
       "      <td>False</td>\n",
       "      <td>False</td>\n",
       "      <td>False</td>\n",
       "      <td>False</td>\n",
       "      <td>False</td>\n",
       "      <td>False</td>\n",
       "    </tr>\n",
       "    <tr>\n",
       "      <th>277</th>\n",
       "      <td>True</td>\n",
       "      <td>False</td>\n",
       "      <td>True</td>\n",
       "      <td>True</td>\n",
       "      <td>False</td>\n",
       "      <td>False</td>\n",
       "      <td>False</td>\n",
       "      <td>True</td>\n",
       "      <td>False</td>\n",
       "      <td>False</td>\n",
       "      <td>False</td>\n",
       "      <td>False</td>\n",
       "      <td>False</td>\n",
       "      <td>False</td>\n",
       "      <td>False</td>\n",
       "      <td>False</td>\n",
       "      <td>False</td>\n",
       "      <td>False</td>\n",
       "    </tr>\n",
       "    <tr>\n",
       "      <th>278</th>\n",
       "      <td>True</td>\n",
       "      <td>False</td>\n",
       "      <td>True</td>\n",
       "      <td>True</td>\n",
       "      <td>False</td>\n",
       "      <td>False</td>\n",
       "      <td>False</td>\n",
       "      <td>False</td>\n",
       "      <td>False</td>\n",
       "      <td>True</td>\n",
       "      <td>False</td>\n",
       "      <td>False</td>\n",
       "      <td>False</td>\n",
       "      <td>False</td>\n",
       "      <td>False</td>\n",
       "      <td>False</td>\n",
       "      <td>False</td>\n",
       "      <td>False</td>\n",
       "    </tr>\n",
       "    <tr>\n",
       "      <th>279</th>\n",
       "      <td>True</td>\n",
       "      <td>False</td>\n",
       "      <td>True</td>\n",
       "      <td>True</td>\n",
       "      <td>False</td>\n",
       "      <td>False</td>\n",
       "      <td>False</td>\n",
       "      <td>True</td>\n",
       "      <td>False</td>\n",
       "      <td>True</td>\n",
       "      <td>False</td>\n",
       "      <td>False</td>\n",
       "      <td>False</td>\n",
       "      <td>False</td>\n",
       "      <td>False</td>\n",
       "      <td>True</td>\n",
       "      <td>True</td>\n",
       "      <td>False</td>\n",
       "    </tr>\n",
       "  </tbody>\n",
       "</table>\n",
       "<p>280 rows × 18 columns</p>\n",
       "</div>"
      ],
      "text/plain": [
       "     shape_E  shape_indeterminate  profile_entrance_V  profile_exit_V  \\\n",
       "0      False                 True                True            True   \n",
       "1      False                 True               False            True   \n",
       "2      False                 True               False            True   \n",
       "3      False                 True               False            True   \n",
       "4      False                 True               False            True   \n",
       "..       ...                  ...                 ...             ...   \n",
       "275     True                False                True            True   \n",
       "276     True                False                True           False   \n",
       "277     True                False                True            True   \n",
       "278     True                False                True            True   \n",
       "279     True                False                True            True   \n",
       "\n",
       "     rising_entrance_bilateral  rising_entrance_single  rising_exit_bilateral  \\\n",
       "0                        False                    True                  False   \n",
       "1                        False                    True                   True   \n",
       "2                        False                    True                   True   \n",
       "3                        False                    True                   True   \n",
       "4                        False                    True                   True   \n",
       "..                         ...                     ...                    ...   \n",
       "275                      False                    True                  False   \n",
       "276                       True                   False                   True   \n",
       "277                      False                   False                  False   \n",
       "278                      False                   False                  False   \n",
       "279                      False                   False                  False   \n",
       "\n",
       "     rising_exit_single  shards_present  feathering_present  \\\n",
       "0                  True           False               False   \n",
       "1                 False           False               False   \n",
       "2                 False           False               False   \n",
       "3                 False           False               False   \n",
       "4                 False           False               False   \n",
       "..                  ...             ...                 ...   \n",
       "275                True           False               False   \n",
       "276               False           False               False   \n",
       "277                True           False               False   \n",
       "278               False           False                True   \n",
       "279                True           False                True   \n",
       "\n",
       "     entrance_mounding_bilateral  entrance_mounding_single  \\\n",
       "0                          False                      True   \n",
       "1                          False                      True   \n",
       "2                          False                      True   \n",
       "3                          False                      True   \n",
       "4                          False                      True   \n",
       "..                           ...                       ...   \n",
       "275                        False                      True   \n",
       "276                        False                     False   \n",
       "277                        False                     False   \n",
       "278                        False                     False   \n",
       "279                        False                     False   \n",
       "\n",
       "     center_mounding_bilateral  center_mounding_single  \\\n",
       "0                        False                   False   \n",
       "1                        False                   False   \n",
       "2                        False                   False   \n",
       "3                        False                   False   \n",
       "4                        False                   False   \n",
       "..                         ...                     ...   \n",
       "275                      False                   False   \n",
       "276                      False                   False   \n",
       "277                      False                   False   \n",
       "278                      False                   False   \n",
       "279                      False                   False   \n",
       "\n",
       "     exit_mounding_bilateral  exit_mounding_single  mounding_marked  \\\n",
       "0                      False                  True            False   \n",
       "1                      False                  True            False   \n",
       "2                       True                 False            False   \n",
       "3                       True                 False            False   \n",
       "4                       True                 False            False   \n",
       "..                       ...                   ...              ...   \n",
       "275                    False                  True             True   \n",
       "276                    False                 False            False   \n",
       "277                    False                 False            False   \n",
       "278                    False                 False            False   \n",
       "279                    False                  True             True   \n",
       "\n",
       "     mounding_not marked  \n",
       "0                   True  \n",
       "1                   True  \n",
       "2                   True  \n",
       "3                   True  \n",
       "4                   True  \n",
       "..                   ...  \n",
       "275                False  \n",
       "276                False  \n",
       "277                False  \n",
       "278                False  \n",
       "279                False  \n",
       "\n",
       "[280 rows x 18 columns]"
      ]
     },
     "metadata": {},
     "output_type": "display_data"
    }
   ],
   "source": [
    "# The data are displayed on a table\n",
    "display_input_data(\n",
    "    train_dataset_file,\n",
    "    input_cols\n",
    ")"
   ]
  },
  {
   "cell_type": "code",
   "execution_count": 4,
   "id": "13820e44-c7e3-4fe4-baa4-b4bc23be19f4",
   "metadata": {
    "ExecuteTime": {
     "end_time": "2023-08-01T16:02:56.758256117Z",
     "start_time": "2023-08-01T16:02:56.633646989Z"
    }
   },
   "outputs": [
    {
     "name": "stdout",
     "output_type": "stream",
     "text": [
      "Datasets are compatible\n"
     ]
    }
   ],
   "source": [
    "# The two datasets are tested for compatibility \n",
    "check_input_data_indices(train_dataset_file, test_dataset_file, input_cols)"
   ]
  },
  {
   "cell_type": "code",
   "execution_count": 5,
   "id": "4a658275-a77d-4c6c-a859-71445288056c",
   "metadata": {
    "ExecuteTime": {
     "end_time": "2023-08-01T16:02:56.823716711Z",
     "start_time": "2023-08-01T16:02:56.754719458Z"
    }
   },
   "outputs": [
    {
     "name": "stdout",
     "output_type": "stream",
     "text": [
      "b0 = [2.94177671]\n",
      "b1...n = [[-1.21639648 -1.28412923 -0.23924146 -2.3325252  -1.73212203 -1.63566348\n",
      "  -1.3639484  -0.16607839  1.6963423   1.68430953 -0.56727603 -0.18639544\n",
      "  -0.30974718 -0.53760101 -0.37406523  1.41657166  0.46015146  0.21973993]]\n"
     ]
    }
   ],
   "source": [
    "# Logistic regression model\n",
    "model = train_model(\n",
    "    train_dataset_file,\n",
    "    input_cols,\n",
    "    result_col\n",
    ")\n",
    "# model\n",
    "print('b0 = ' + str(model.intercept_))\n",
    "print('b1...n = ' + str(model.coef_))"
   ]
  },
  {
   "cell_type": "code",
   "execution_count": 6,
   "id": "a225679c-03c5-4e1c-ac11-7abb5eeac0c1",
   "metadata": {
    "ExecuteTime": {
     "end_time": "2023-08-01T16:02:56.871276607Z",
     "start_time": "2023-08-01T16:02:56.836829889Z"
    }
   },
   "outputs": [
    {
     "data": {
      "text/plain": [
       "0.9"
      ]
     },
     "execution_count": 6,
     "metadata": {},
     "output_type": "execute_result"
    }
   ],
   "source": [
    "# Test for overfitting\n",
    "# Evaluation of the training\n",
    "x_train, y_train = prepare_dataset(train_dataset_file, input_cols, result_col)\n",
    "model.score(x_train, y_train)"
   ]
  },
  {
   "cell_type": "code",
   "execution_count": 7,
   "id": "c8bc569d-8613-431f-8b2c-ef84089c3cfe",
   "metadata": {
    "ExecuteTime": {
     "end_time": "2023-08-01T16:02:56.879702899Z",
     "start_time": "2023-08-01T16:02:56.837345360Z"
    }
   },
   "outputs": [
    {
     "data": {
      "text/plain": [
       "0.7164179104477612"
      ]
     },
     "execution_count": 7,
     "metadata": {},
     "output_type": "execute_result"
    }
   ],
   "source": [
    "# 11 variables were used \n",
    "evaluate_model(\n",
    "    model,\n",
    "    test_dataset_file,\n",
    "    input_cols,\n",
    "    result_col\n",
    ")"
   ]
  },
  {
   "cell_type": "code",
   "execution_count": 8,
   "id": "28c3d6f8-f610-42d4-aeb3-fb1937ab05c0",
   "metadata": {},
   "outputs": [
    {
     "ename": "KeyError",
     "evalue": "'label'",
     "output_type": "error",
     "traceback": [
      "\u001b[0;31m---------------------------------------------------------------------------\u001b[0m",
      "\u001b[0;31mKeyError\u001b[0m                                  Traceback (most recent call last)",
      "Cell \u001b[0;32mIn[8], line 6\u001b[0m\n\u001b[1;32m      1\u001b[0m \u001b[38;5;66;03m#evaluate by category/label\u001b[39;00m\n\u001b[1;32m      2\u001b[0m \n\u001b[1;32m      3\u001b[0m \u001b[38;5;66;03m# Load data\u001b[39;00m\n\u001b[1;32m      5\u001b[0m df \u001b[38;5;241m=\u001b[39m pd\u001b[38;5;241m.\u001b[39mread_excel(\u001b[38;5;124m\"\u001b[39m\u001b[38;5;124mDATA/Validation/serration_prediction_validation.xlsx\u001b[39m\u001b[38;5;124m\"\u001b[39m)\n\u001b[0;32m----> 6\u001b[0m label_df \u001b[38;5;241m=\u001b[39m \u001b[43mdf\u001b[49m\u001b[38;5;241;43m.\u001b[39;49m\u001b[43mgroupby\u001b[49m\u001b[43m(\u001b[49m\u001b[43mby\u001b[49m\u001b[43m \u001b[49m\u001b[38;5;241;43m=\u001b[39;49m\u001b[43m \u001b[49m\u001b[38;5;124;43m\"\u001b[39;49m\u001b[38;5;124;43mlabel\u001b[39;49m\u001b[38;5;124;43m\"\u001b[39;49m\u001b[43m)\u001b[49m\n\u001b[1;32m      8\u001b[0m \u001b[38;5;66;03m#next step: sort by the number\u001b[39;00m\n\u001b[1;32m      9\u001b[0m \u001b[38;5;66;03m# use documentation\u001b[39;00m\n\u001b[1;32m     10\u001b[0m \u001b[38;5;66;03m# DataFrameGroupBy.get_group(name[, obj])\u001b[39;00m\n\u001b[1;32m     11\u001b[0m \n\u001b[1;32m     12\u001b[0m \u001b[38;5;66;03m# Filter bad data, replace categories with dummies\u001b[39;00m\n\u001b[1;32m     14\u001b[0m x_df \u001b[38;5;241m=\u001b[39m df[input_cols]\u001b[38;5;241m.\u001b[39mapply(\u001b[38;5;28;01mlambda\u001b[39;00m x: x\u001b[38;5;241m.\u001b[39mstr\u001b[38;5;241m.\u001b[39mstrip())\n",
      "File \u001b[0;32m~/PycharmProjects/dissertation-steiger-2022/venv/lib/python3.11/site-packages/pandas/core/frame.py:8252\u001b[0m, in \u001b[0;36mDataFrame.groupby\u001b[0;34m(self, by, axis, level, as_index, sort, group_keys, observed, dropna)\u001b[0m\n\u001b[1;32m   8249\u001b[0m     \u001b[38;5;28;01mraise\u001b[39;00m \u001b[38;5;167;01mTypeError\u001b[39;00m(\u001b[38;5;124m\"\u001b[39m\u001b[38;5;124mYou have to supply one of \u001b[39m\u001b[38;5;124m'\u001b[39m\u001b[38;5;124mby\u001b[39m\u001b[38;5;124m'\u001b[39m\u001b[38;5;124m and \u001b[39m\u001b[38;5;124m'\u001b[39m\u001b[38;5;124mlevel\u001b[39m\u001b[38;5;124m'\u001b[39m\u001b[38;5;124m\"\u001b[39m)\n\u001b[1;32m   8250\u001b[0m axis \u001b[38;5;241m=\u001b[39m \u001b[38;5;28mself\u001b[39m\u001b[38;5;241m.\u001b[39m_get_axis_number(axis)\n\u001b[0;32m-> 8252\u001b[0m \u001b[38;5;28;01mreturn\u001b[39;00m \u001b[43mDataFrameGroupBy\u001b[49m\u001b[43m(\u001b[49m\n\u001b[1;32m   8253\u001b[0m \u001b[43m    \u001b[49m\u001b[43mobj\u001b[49m\u001b[38;5;241;43m=\u001b[39;49m\u001b[38;5;28;43mself\u001b[39;49m\u001b[43m,\u001b[49m\n\u001b[1;32m   8254\u001b[0m \u001b[43m    \u001b[49m\u001b[43mkeys\u001b[49m\u001b[38;5;241;43m=\u001b[39;49m\u001b[43mby\u001b[49m\u001b[43m,\u001b[49m\n\u001b[1;32m   8255\u001b[0m \u001b[43m    \u001b[49m\u001b[43maxis\u001b[49m\u001b[38;5;241;43m=\u001b[39;49m\u001b[43maxis\u001b[49m\u001b[43m,\u001b[49m\n\u001b[1;32m   8256\u001b[0m \u001b[43m    \u001b[49m\u001b[43mlevel\u001b[49m\u001b[38;5;241;43m=\u001b[39;49m\u001b[43mlevel\u001b[49m\u001b[43m,\u001b[49m\n\u001b[1;32m   8257\u001b[0m \u001b[43m    \u001b[49m\u001b[43mas_index\u001b[49m\u001b[38;5;241;43m=\u001b[39;49m\u001b[43mas_index\u001b[49m\u001b[43m,\u001b[49m\n\u001b[1;32m   8258\u001b[0m \u001b[43m    \u001b[49m\u001b[43msort\u001b[49m\u001b[38;5;241;43m=\u001b[39;49m\u001b[43msort\u001b[49m\u001b[43m,\u001b[49m\n\u001b[1;32m   8259\u001b[0m \u001b[43m    \u001b[49m\u001b[43mgroup_keys\u001b[49m\u001b[38;5;241;43m=\u001b[39;49m\u001b[43mgroup_keys\u001b[49m\u001b[43m,\u001b[49m\n\u001b[1;32m   8260\u001b[0m \u001b[43m    \u001b[49m\u001b[43mobserved\u001b[49m\u001b[38;5;241;43m=\u001b[39;49m\u001b[43mobserved\u001b[49m\u001b[43m,\u001b[49m\n\u001b[1;32m   8261\u001b[0m \u001b[43m    \u001b[49m\u001b[43mdropna\u001b[49m\u001b[38;5;241;43m=\u001b[39;49m\u001b[43mdropna\u001b[49m\u001b[43m,\u001b[49m\n\u001b[1;32m   8262\u001b[0m \u001b[43m\u001b[49m\u001b[43m)\u001b[49m\n",
      "File \u001b[0;32m~/PycharmProjects/dissertation-steiger-2022/venv/lib/python3.11/site-packages/pandas/core/groupby/groupby.py:931\u001b[0m, in \u001b[0;36mGroupBy.__init__\u001b[0;34m(self, obj, keys, axis, level, grouper, exclusions, selection, as_index, sort, group_keys, observed, dropna)\u001b[0m\n\u001b[1;32m    928\u001b[0m \u001b[38;5;28mself\u001b[39m\u001b[38;5;241m.\u001b[39mdropna \u001b[38;5;241m=\u001b[39m dropna\n\u001b[1;32m    930\u001b[0m \u001b[38;5;28;01mif\u001b[39;00m grouper \u001b[38;5;129;01mis\u001b[39;00m \u001b[38;5;28;01mNone\u001b[39;00m:\n\u001b[0;32m--> 931\u001b[0m     grouper, exclusions, obj \u001b[38;5;241m=\u001b[39m \u001b[43mget_grouper\u001b[49m\u001b[43m(\u001b[49m\n\u001b[1;32m    932\u001b[0m \u001b[43m        \u001b[49m\u001b[43mobj\u001b[49m\u001b[43m,\u001b[49m\n\u001b[1;32m    933\u001b[0m \u001b[43m        \u001b[49m\u001b[43mkeys\u001b[49m\u001b[43m,\u001b[49m\n\u001b[1;32m    934\u001b[0m \u001b[43m        \u001b[49m\u001b[43maxis\u001b[49m\u001b[38;5;241;43m=\u001b[39;49m\u001b[43maxis\u001b[49m\u001b[43m,\u001b[49m\n\u001b[1;32m    935\u001b[0m \u001b[43m        \u001b[49m\u001b[43mlevel\u001b[49m\u001b[38;5;241;43m=\u001b[39;49m\u001b[43mlevel\u001b[49m\u001b[43m,\u001b[49m\n\u001b[1;32m    936\u001b[0m \u001b[43m        \u001b[49m\u001b[43msort\u001b[49m\u001b[38;5;241;43m=\u001b[39;49m\u001b[43msort\u001b[49m\u001b[43m,\u001b[49m\n\u001b[1;32m    937\u001b[0m \u001b[43m        \u001b[49m\u001b[43mobserved\u001b[49m\u001b[38;5;241;43m=\u001b[39;49m\u001b[43mobserved\u001b[49m\u001b[43m,\u001b[49m\n\u001b[1;32m    938\u001b[0m \u001b[43m        \u001b[49m\u001b[43mdropna\u001b[49m\u001b[38;5;241;43m=\u001b[39;49m\u001b[38;5;28;43mself\u001b[39;49m\u001b[38;5;241;43m.\u001b[39;49m\u001b[43mdropna\u001b[49m\u001b[43m,\u001b[49m\n\u001b[1;32m    939\u001b[0m \u001b[43m    \u001b[49m\u001b[43m)\u001b[49m\n\u001b[1;32m    941\u001b[0m \u001b[38;5;28mself\u001b[39m\u001b[38;5;241m.\u001b[39mobj \u001b[38;5;241m=\u001b[39m obj\n\u001b[1;32m    942\u001b[0m \u001b[38;5;28mself\u001b[39m\u001b[38;5;241m.\u001b[39maxis \u001b[38;5;241m=\u001b[39m obj\u001b[38;5;241m.\u001b[39m_get_axis_number(axis)\n",
      "File \u001b[0;32m~/PycharmProjects/dissertation-steiger-2022/venv/lib/python3.11/site-packages/pandas/core/groupby/grouper.py:985\u001b[0m, in \u001b[0;36mget_grouper\u001b[0;34m(obj, key, axis, level, sort, observed, validate, dropna)\u001b[0m\n\u001b[1;32m    983\u001b[0m         in_axis, level, gpr \u001b[38;5;241m=\u001b[39m \u001b[38;5;28;01mFalse\u001b[39;00m, gpr, \u001b[38;5;28;01mNone\u001b[39;00m\n\u001b[1;32m    984\u001b[0m     \u001b[38;5;28;01melse\u001b[39;00m:\n\u001b[0;32m--> 985\u001b[0m         \u001b[38;5;28;01mraise\u001b[39;00m \u001b[38;5;167;01mKeyError\u001b[39;00m(gpr)\n\u001b[1;32m    986\u001b[0m \u001b[38;5;28;01melif\u001b[39;00m \u001b[38;5;28misinstance\u001b[39m(gpr, Grouper) \u001b[38;5;129;01mand\u001b[39;00m gpr\u001b[38;5;241m.\u001b[39mkey \u001b[38;5;129;01mis\u001b[39;00m \u001b[38;5;129;01mnot\u001b[39;00m \u001b[38;5;28;01mNone\u001b[39;00m:\n\u001b[1;32m    987\u001b[0m     \u001b[38;5;66;03m# Add key to exclusions\u001b[39;00m\n\u001b[1;32m    988\u001b[0m     exclusions\u001b[38;5;241m.\u001b[39madd(gpr\u001b[38;5;241m.\u001b[39mkey)\n",
      "\u001b[0;31mKeyError\u001b[0m: 'label'"
     ]
    }
   ],
   "source": [
    "#evaluate by category/label\n",
    "\n",
    "# Load data\n",
    "\n",
    "df = pd.read_excel(\"DATA/Validation/serration_prediction_validation.xlsx\")\n",
    "label_df = df.groupby(by = \"label\")\n",
    "\n",
    "#next step: sort by the number\n",
    "# use documentation\n",
    "# DataFrameGroupBy.get_group(name[, obj])\n",
    "\n",
    "# Filter bad data, replace categories with dummies\n",
    "\n",
    "x_df = df[input_cols].apply(lambda x: x.str.strip())\n",
    "x = pd.get_dummies(x_df, drop_first=True)\n",
    "\n",
    "\n",
    "y_df = df[result_col].str.strip()\n",
    "y = pd.get_dummies(y_df, drop_first=True).iloc[:, 0]\n",
    "\n",
    "label_df.groups"
   ]
  },
  {
   "cell_type": "code",
   "execution_count": null,
   "id": "e0acb21f-fee7-4629-9c93-2cc868e0c007",
   "metadata": {
    "ExecuteTime": {
     "end_time": "2023-08-01T16:03:07.565265979Z",
     "start_time": "2023-08-01T16:02:56.877571483Z"
    }
   },
   "outputs": [],
   "source": [
    "# Model optimisation, search for the optimal parameter combination\n",
    "# Printing score best and worst model\n",
    "run_input_optimizer(train_dataset_file, test_dataset_file, input_cols, result_col)"
   ]
  },
  {
   "cell_type": "code",
   "execution_count": 10,
   "id": "42680ca9fcc834a",
   "metadata": {
    "ExecuteTime": {
     "end_time": "2023-08-01T16:23:41.191915704Z",
     "start_time": "2023-08-01T16:23:41.150491067Z"
    },
    "collapsed": false,
    "jupyter": {
     "outputs_hidden": false
    }
   },
   "outputs": [
    {
     "data": {
      "application/vnd.jupyter.widget-view+json": {
       "model_id": "c83908bc8d5d4dabb969cd0e6653befe",
       "version_major": 2,
       "version_minor": 0
      },
      "text/plain": [
       "HTMLMath(value='$$p = {\\\\frac{1}{1 + e ^ {-(2.94-1.22x_{1}-1.28x_{2}-0.24x_{3}-2.33x_{4}-1.73x_{5}-1.64x_{6}-1…"
      ]
     },
     "execution_count": 10,
     "metadata": {},
     "output_type": "execute_result"
    }
   ],
   "source": [
    "import ipywidgets as widgets\n",
    "\n",
    "\n",
    "# tex = \"$$p = {\\frac{1}{1 + e ^ {-(\\beta_0 + \\beta_1X_i + \\beta_2X_2 + \\beta_3X_3 + \\beta_4X_4 + \\beta_5X_5)}}}$$\"\n",
    "# tex = \"$$p = {\\frac{1}{1 + e ^ {-(3 + 2X_1 + \\beta_2X_2 + \\beta_3X_3 + \\beta_4X_4 + \\beta_5X_5)}}}$$\"\n",
    "tex = r\"$$p = {\\frac{1}{1 + e ^ {-(\"\n",
    "\n",
    "# Add intercept\n",
    "tex += str(np.round(model.intercept_[0], decimals=2))\n",
    "\n",
    " \n",
    "# Add coefficients\n",
    "for i, b in enumerate(model.coef_[0]):\n",
    "    if b < 0:\n",
    "        sign = '-'\n",
    "    elif b > 0:\n",
    "        sign = '+'\n",
    "    else:\n",
    "        continue\n",
    "    tex += f\"{sign}{str(np.abs(np.round(b, decimals=2)))}x_{{{str(i+1)}}}\"\n",
    "\n",
    "tex += \")}}}$$\"\n",
    "\n",
    "widgets.HTMLMath(\n",
    "    value=tex,\n",
    "    placeholder='Logistic regression',\n",
    ")"
   ]
  },
  {
   "cell_type": "code",
   "execution_count": null,
   "id": "6b559a833b2a33d9",
   "metadata": {
    "ExecuteTime": {
     "start_time": "2023-08-01T16:03:07.567187353Z"
    },
    "collapsed": false,
    "jupyter": {
     "outputs_hidden": false
    }
   },
   "outputs": [],
   "source": []
  },
  {
   "cell_type": "code",
   "execution_count": null,
   "id": "81748afe-a2d2-42ec-b821-13f2b823793a",
   "metadata": {},
   "outputs": [],
   "source": []
  }
 ],
 "metadata": {
  "kernelspec": {
   "display_name": "dissertation-steiger-2022",
   "language": "python",
   "name": "dissertation-steiger-2022"
  },
  "language_info": {
   "codemirror_mode": {
    "name": "ipython",
    "version": 3
   },
   "file_extension": ".py",
   "mimetype": "text/x-python",
   "name": "python",
   "nbconvert_exporter": "python",
   "pygments_lexer": "ipython3",
   "version": "3.11.3"
  }
 },
 "nbformat": 4,
 "nbformat_minor": 5
}
