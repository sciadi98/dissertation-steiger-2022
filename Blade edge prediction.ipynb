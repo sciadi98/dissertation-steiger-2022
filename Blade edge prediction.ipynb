{
 "cells": [
  {
   "cell_type": "code",
   "execution_count": 1,
   "id": "e9cf64db-6bc2-44b0-b84c-31bb3dedbf3d",
   "metadata": {
    "ExecuteTime": {
     "end_time": "2023-10-14T13:10:29.076386756Z",
     "start_time": "2023-10-14T13:10:28.195983048Z"
    }
   },
   "outputs": [],
   "source": [
    "# Imports\n",
    "from common import display_input_data, check_input_data_indices, train_model, prepare_dataset, evaluate_model, \\\n",
    "    run_input_optimizer\n",
    "import pandas as pd\n",
    "import ipywidgets as widgets\n",
    "import numpy as np\n",
    "import pickle\n"
   ]
  },
  {
   "cell_type": "code",
   "execution_count": 2,
   "id": "0fc99c69-c18d-41b8-aef9-366172b4e713",
   "metadata": {
    "ExecuteTime": {
     "end_time": "2023-10-14T13:10:29.079474199Z",
     "start_time": "2023-10-14T13:10:29.051297533Z"
    }
   },
   "outputs": [],
   "source": [
    "# Parameters\n",
    "# Chose variables to create the model\n",
    "input_cols = ['shape', 'profile_entrance', 'profile_exit', 'rising_entrance', 'rising_exit', 'shards', 'feathering', 'entrance_mounding', 'center_mounding', 'exit_mounding']\n",
    "result_col = 'result'\n",
    "# Load the train and the validation datasets for blade class prediction\n",
    "train_dataset_file = 'DATA/Train/blade_prediction_train.xlsx'\n",
    "test_dataset_file = 'DATA/Validation/blade_prediction_validation.xlsx'"
   ]
  },
  {
   "cell_type": "code",
   "execution_count": 3,
   "id": "33f3b584-bcdf-4cfe-9c0d-74c9c845b763",
   "metadata": {
    "ExecuteTime": {
     "end_time": "2023-10-14T13:10:30.037649923Z",
     "start_time": "2023-10-14T13:10:29.063392578Z"
    }
   },
   "outputs": [
    {
     "data": {
      "text/plain": "     shape_E  shape_indeterminate  profile_entrance_V  profile_exit_V  \\\n0      False                 True                True            True   \n1      False                 True               False            True   \n2      False                 True               False            True   \n3      False                 True               False            True   \n4      False                 True               False            True   \n..       ...                  ...                 ...             ...   \n275     True                False                True            True   \n276     True                False                True           False   \n277     True                False                True            True   \n278     True                False                True            True   \n279     True                False                True            True   \n\n     rising_entrance_bilateral  rising_entrance_single  rising_exit_bilateral  \\\n0                        False                    True                  False   \n1                        False                    True                   True   \n2                        False                    True                   True   \n3                        False                    True                   True   \n4                        False                    True                   True   \n..                         ...                     ...                    ...   \n275                      False                    True                  False   \n276                       True                   False                   True   \n277                      False                   False                  False   \n278                      False                   False                  False   \n279                      False                   False                  False   \n\n     rising_exit_single  shards_present  feathering_present  \\\n0                  True           False               False   \n1                 False           False               False   \n2                 False           False               False   \n3                 False           False               False   \n4                 False           False               False   \n..                  ...             ...                 ...   \n275                True           False               False   \n276               False           False               False   \n277                True           False               False   \n278               False           False                True   \n279                True           False                True   \n\n     entrance_mounding_bilateral  entrance_mounding_single  \\\n0                          False                      True   \n1                          False                      True   \n2                          False                      True   \n3                          False                      True   \n4                          False                      True   \n..                           ...                       ...   \n275                        False                      True   \n276                        False                     False   \n277                        False                     False   \n278                        False                     False   \n279                        False                     False   \n\n     center_mounding_bilateral  center_mounding_single  \\\n0                        False                   False   \n1                        False                   False   \n2                        False                   False   \n3                        False                   False   \n4                        False                   False   \n..                         ...                     ...   \n275                      False                   False   \n276                      False                   False   \n277                      False                   False   \n278                      False                   False   \n279                      False                   False   \n\n     exit_mounding_bilateral  exit_mounding_single  \n0                      False                  True  \n1                      False                  True  \n2                       True                 False  \n3                       True                 False  \n4                       True                 False  \n..                       ...                   ...  \n275                    False                  True  \n276                    False                 False  \n277                    False                 False  \n278                    False                 False  \n279                    False                  True  \n\n[280 rows x 16 columns]",
      "text/html": "<div>\n<style scoped>\n    .dataframe tbody tr th:only-of-type {\n        vertical-align: middle;\n    }\n\n    .dataframe tbody tr th {\n        vertical-align: top;\n    }\n\n    .dataframe thead th {\n        text-align: right;\n    }\n</style>\n<table border=\"1\" class=\"dataframe\">\n  <thead>\n    <tr style=\"text-align: right;\">\n      <th></th>\n      <th>shape_E</th>\n      <th>shape_indeterminate</th>\n      <th>profile_entrance_V</th>\n      <th>profile_exit_V</th>\n      <th>rising_entrance_bilateral</th>\n      <th>rising_entrance_single</th>\n      <th>rising_exit_bilateral</th>\n      <th>rising_exit_single</th>\n      <th>shards_present</th>\n      <th>feathering_present</th>\n      <th>entrance_mounding_bilateral</th>\n      <th>entrance_mounding_single</th>\n      <th>center_mounding_bilateral</th>\n      <th>center_mounding_single</th>\n      <th>exit_mounding_bilateral</th>\n      <th>exit_mounding_single</th>\n    </tr>\n  </thead>\n  <tbody>\n    <tr>\n      <th>0</th>\n      <td>False</td>\n      <td>True</td>\n      <td>True</td>\n      <td>True</td>\n      <td>False</td>\n      <td>True</td>\n      <td>False</td>\n      <td>True</td>\n      <td>False</td>\n      <td>False</td>\n      <td>False</td>\n      <td>True</td>\n      <td>False</td>\n      <td>False</td>\n      <td>False</td>\n      <td>True</td>\n    </tr>\n    <tr>\n      <th>1</th>\n      <td>False</td>\n      <td>True</td>\n      <td>False</td>\n      <td>True</td>\n      <td>False</td>\n      <td>True</td>\n      <td>True</td>\n      <td>False</td>\n      <td>False</td>\n      <td>False</td>\n      <td>False</td>\n      <td>True</td>\n      <td>False</td>\n      <td>False</td>\n      <td>False</td>\n      <td>True</td>\n    </tr>\n    <tr>\n      <th>2</th>\n      <td>False</td>\n      <td>True</td>\n      <td>False</td>\n      <td>True</td>\n      <td>False</td>\n      <td>True</td>\n      <td>True</td>\n      <td>False</td>\n      <td>False</td>\n      <td>False</td>\n      <td>False</td>\n      <td>True</td>\n      <td>False</td>\n      <td>False</td>\n      <td>True</td>\n      <td>False</td>\n    </tr>\n    <tr>\n      <th>3</th>\n      <td>False</td>\n      <td>True</td>\n      <td>False</td>\n      <td>True</td>\n      <td>False</td>\n      <td>True</td>\n      <td>True</td>\n      <td>False</td>\n      <td>False</td>\n      <td>False</td>\n      <td>False</td>\n      <td>True</td>\n      <td>False</td>\n      <td>False</td>\n      <td>True</td>\n      <td>False</td>\n    </tr>\n    <tr>\n      <th>4</th>\n      <td>False</td>\n      <td>True</td>\n      <td>False</td>\n      <td>True</td>\n      <td>False</td>\n      <td>True</td>\n      <td>True</td>\n      <td>False</td>\n      <td>False</td>\n      <td>False</td>\n      <td>False</td>\n      <td>True</td>\n      <td>False</td>\n      <td>False</td>\n      <td>True</td>\n      <td>False</td>\n    </tr>\n    <tr>\n      <th>...</th>\n      <td>...</td>\n      <td>...</td>\n      <td>...</td>\n      <td>...</td>\n      <td>...</td>\n      <td>...</td>\n      <td>...</td>\n      <td>...</td>\n      <td>...</td>\n      <td>...</td>\n      <td>...</td>\n      <td>...</td>\n      <td>...</td>\n      <td>...</td>\n      <td>...</td>\n      <td>...</td>\n    </tr>\n    <tr>\n      <th>275</th>\n      <td>True</td>\n      <td>False</td>\n      <td>True</td>\n      <td>True</td>\n      <td>False</td>\n      <td>True</td>\n      <td>False</td>\n      <td>True</td>\n      <td>False</td>\n      <td>False</td>\n      <td>False</td>\n      <td>True</td>\n      <td>False</td>\n      <td>False</td>\n      <td>False</td>\n      <td>True</td>\n    </tr>\n    <tr>\n      <th>276</th>\n      <td>True</td>\n      <td>False</td>\n      <td>True</td>\n      <td>False</td>\n      <td>True</td>\n      <td>False</td>\n      <td>True</td>\n      <td>False</td>\n      <td>False</td>\n      <td>False</td>\n      <td>False</td>\n      <td>False</td>\n      <td>False</td>\n      <td>False</td>\n      <td>False</td>\n      <td>False</td>\n    </tr>\n    <tr>\n      <th>277</th>\n      <td>True</td>\n      <td>False</td>\n      <td>True</td>\n      <td>True</td>\n      <td>False</td>\n      <td>False</td>\n      <td>False</td>\n      <td>True</td>\n      <td>False</td>\n      <td>False</td>\n      <td>False</td>\n      <td>False</td>\n      <td>False</td>\n      <td>False</td>\n      <td>False</td>\n      <td>False</td>\n    </tr>\n    <tr>\n      <th>278</th>\n      <td>True</td>\n      <td>False</td>\n      <td>True</td>\n      <td>True</td>\n      <td>False</td>\n      <td>False</td>\n      <td>False</td>\n      <td>False</td>\n      <td>False</td>\n      <td>True</td>\n      <td>False</td>\n      <td>False</td>\n      <td>False</td>\n      <td>False</td>\n      <td>False</td>\n      <td>False</td>\n    </tr>\n    <tr>\n      <th>279</th>\n      <td>True</td>\n      <td>False</td>\n      <td>True</td>\n      <td>True</td>\n      <td>False</td>\n      <td>False</td>\n      <td>False</td>\n      <td>True</td>\n      <td>False</td>\n      <td>True</td>\n      <td>False</td>\n      <td>False</td>\n      <td>False</td>\n      <td>False</td>\n      <td>False</td>\n      <td>True</td>\n    </tr>\n  </tbody>\n</table>\n<p>280 rows × 16 columns</p>\n</div>"
     },
     "metadata": {},
     "output_type": "display_data"
    }
   ],
   "source": [
    "# The data are displayed on a table\n",
    "display_input_data(\n",
    "    train_dataset_file,\n",
    "    input_cols\n",
    ")"
   ]
  },
  {
   "cell_type": "code",
   "execution_count": 4,
   "id": "13820e44-c7e3-4fe4-baa4-b4bc23be19f4",
   "metadata": {
    "ExecuteTime": {
     "end_time": "2023-10-14T13:10:30.554107837Z",
     "start_time": "2023-10-14T13:10:30.008169950Z"
    }
   },
   "outputs": [
    {
     "name": "stdout",
     "output_type": "stream",
     "text": [
      "Datasets are compatible\n"
     ]
    }
   ],
   "source": [
    "# The two datasets are tested for compatibility \n",
    "check_input_data_indices(train_dataset_file, test_dataset_file, input_cols)"
   ]
  },
  {
   "cell_type": "code",
   "execution_count": 5,
   "id": "4a658275-a77d-4c6c-a859-71445288056c",
   "metadata": {
    "ExecuteTime": {
     "end_time": "2023-10-14T13:10:30.827605784Z",
     "start_time": "2023-10-14T13:10:30.364002151Z"
    }
   },
   "outputs": [
    {
     "name": "stdout",
     "output_type": "stream",
     "text": [
      "b0 = [3.72368196]\n",
      "b1...n = [[-1.8466929  -1.21560843 -1.48451218 -0.39524972 -0.14299724 -0.14135143\n",
      "  -0.31927317 -0.03249396  0.86234315  0.25851444 -0.98240666  0.06675378\n",
      "  -1.09210982 -0.6990357  -0.39046999  0.70289077]]\n"
     ]
    }
   ],
   "source": [
    "# Logistic regression model\n",
    "model = train_model(\n",
    "    train_dataset_file,\n",
    "    input_cols,\n",
    "    result_col\n",
    ")\n",
    "\n",
    "filename = 'models/blade-edge.pickle'\n",
    "pickle.dump(model, open(filename, 'wb'))\n",
    "\n",
    "# model\n",
    "print('b0 = ' + str(model.intercept_))\n",
    "print('b1...n = ' + str(model.coef_))"
   ]
  },
  {
   "cell_type": "code",
   "execution_count": 6,
   "id": "b676a8ee-8709-47fb-ae96-9f9d608c891c",
   "metadata": {
    "ExecuteTime": {
     "end_time": "2023-10-14T13:10:31.132309197Z",
     "start_time": "2023-10-14T13:10:30.630194535Z"
    }
   },
   "outputs": [
    {
     "data": {
      "text/plain": "0.8321428571428572"
     },
     "execution_count": 6,
     "metadata": {},
     "output_type": "execute_result"
    }
   ],
   "source": [
    "# Test for overfitting\n",
    "# Evaluation of the training\n",
    "x_train, y_train = prepare_dataset(train_dataset_file, input_cols, result_col)\n",
    "model.score(x_train, y_train)"
   ]
  },
  {
   "cell_type": "code",
   "execution_count": 7,
   "id": "c8bc569d-8613-431f-8b2c-ef84089c3cfe",
   "metadata": {
    "ExecuteTime": {
     "end_time": "2023-10-14T13:10:31.178505435Z",
     "start_time": "2023-10-14T13:10:30.880947249Z"
    }
   },
   "outputs": [
    {
     "data": {
      "text/plain": "0.7611940298507462"
     },
     "execution_count": 7,
     "metadata": {},
     "output_type": "execute_result"
    }
   ],
   "source": [
    "# 10 variables were used \n",
    "evaluate_model(\n",
    "    model,\n",
    "    test_dataset_file,\n",
    "    input_cols,\n",
    "    result_col\n",
    ")"
   ]
  },
  {
   "cell_type": "code",
   "execution_count": 8,
   "id": "7c113245-7baa-48fb-87a8-0bead857337f",
   "metadata": {
    "ExecuteTime": {
     "end_time": "2023-10-14T13:10:31.509577319Z",
     "start_time": "2023-10-14T13:10:31.020942770Z"
    }
   },
   "outputs": [
    {
     "name": "stdout",
     "output_type": "stream",
     "text": [
      "[ True  True  True  True  True  True  True  True  True False  True  True\n",
      "  True  True  True  True  True  True False  True  True  True  True  True\n",
      "  True  True  True  True  True  True  True  True  True  True  True  True\n",
      "  True  True  True  True False False False False False False  True  True\n",
      " False False False  True  True False  True  True  True  True  True False\n",
      " False False  True False  True  True False  True  True  True  True False\n",
      " False False False False False  True  True  True False False  True False\n",
      "  True False False False False False False False False False False False\n",
      " False False  True False False False  True False False False False False\n",
      " False  True False False  True False  True  True False False  True False\n",
      "  True False False False False False False False  True  True False False\n",
      "  True  True False  True False False False False False  True False False\n",
      " False False False  True False  True False False False False False  True\n",
      " False False False  True  True  True  True  True  True  True  True  True\n",
      "  True  True  True  True  True  True  True  True  True  True  True  True\n",
      "  True  True  True  True  True  True  True  True  True  True  True  True\n",
      "  True  True  True  True  True  True  True  True  True  True  True  True\n",
      "  True  True  True  True  True  True  True  True  True  True  True  True\n",
      "  True  True  True  True  True  True  True  True  True  True  True  True\n",
      "  True  True  True  True  True  True  True  True  True  True  True  True\n",
      "  True False  True  True  True  True  True  True  True False  True  True\n",
      "  True  True  True  True  True  True  True  True  True  True  True  True\n",
      "  True  True  True  True  True  True  True  True  True  True  True  True\n",
      " False False  True  True]\n"
     ]
    }
   ],
   "source": [
    "# filter data for the new dataframe\n",
    "df = pd.read_excel(\"DATA/Train/blade_prediction_train.xlsx\")\n",
    "x_df = df[input_cols].apply(lambda x: x.str.strip())\n",
    "x = pd.get_dummies(x_df, drop_first=True)\n",
    "\n",
    "result = model.predict(x)\n",
    "print(result)\n",
    "# this paragraph was created to see if single or even bladed corresponded either False or True\n",
    "# True corresponds to single"
   ]
  },
  {
   "cell_type": "code",
   "execution_count": 9,
   "id": "3514bbc1-9a6a-4102-a299-33890aca891e",
   "metadata": {
    "ExecuteTime": {
     "end_time": "2023-10-14T13:10:31.527883009Z",
     "start_time": "2023-10-14T13:10:31.284786763Z"
    }
   },
   "outputs": [
    {
     "name": "stdout",
     "output_type": "stream",
     "text": [
      "0     single\n",
      "1     single\n",
      "2     single\n",
      "3     single\n",
      "4     single\n",
      "       ...  \n",
      "62    single\n",
      "63    single\n",
      "64    single\n",
      "65    single\n",
      "66    single\n",
      "Name: result, Length: 67, dtype: object\n",
      "[ True  True  True False  True False False  True  True False  True  True\n",
      "  True  True  True  True False  True False  True  True  True  True  True\n",
      "  True  True  True  True False False False False False False False False\n",
      " False False False  True  True  True  True  True  True  True  True  True\n",
      "  True  True  True  True  True  True  True  True  True  True False  True\n",
      " False  True  True  True  True False  True]\n"
     ]
    }
   ],
   "source": [
    "# filter data for the new dataframe\n",
    "df = pd.read_excel(\"DATA/Validation/blade_prediction_validation.xlsx\")\n",
    "label = df[\"label\"]\n",
    "string_expresult = df[\"result\"]\n",
    "\n",
    "x_df = df[input_cols].apply(lambda x: x.str.strip())\n",
    "x = pd.get_dummies(x_df, drop_first=True)\n",
    "\n",
    "result = model.predict(x)\n",
    "\n",
    "print(string_expresult)\n",
    "print(result)"
   ]
  },
  {
   "cell_type": "code",
   "execution_count": 10,
   "id": "f0e611a1-f73b-412b-9aa3-3b2d098eec39",
   "metadata": {
    "ExecuteTime": {
     "end_time": "2023-10-14T13:10:31.530381484Z",
     "start_time": "2023-10-14T13:10:31.431226706Z"
    }
   },
   "outputs": [
    {
     "name": "stdout",
     "output_type": "stream",
     "text": [
      "[True, True, True, True, True, True, True, True, True, True, False, False, False, False, False, False, False, False, False, False, True, True, True, True, True, True, True, True, True, False, False, False, False, False, False, False, False, False, False, True, True, True, True, True, True, True, True, True, True, True, True, True, True, True, True, True, True, True, True, True, True, True, True, True, True, True, True]\n"
     ]
    }
   ],
   "source": [
    "# to organize better the things, we have to create a new list for the \"result\" and transform them in boolean\n",
    "expected_result = []\n",
    "for x in string_expresult:\n",
    "\n",
    "    if x == \"single\":\n",
    "        expected_result.append(True)\n",
    "    \n",
    "    else:\n",
    "        expected_result.append(False)\n",
    "\n",
    "print(expected_result)\n"
   ]
  },
  {
   "cell_type": "code",
   "execution_count": 11,
   "id": "8583246b-b3e3-4dab-aa53-7c4e42bb6c91",
   "metadata": {
    "ExecuteTime": {
     "end_time": "2023-10-14T13:10:31.534620563Z",
     "start_time": "2023-10-14T13:10:31.447651534Z"
    }
   },
   "outputs": [
    {
     "name": "stdout",
     "output_type": "stream",
     "text": [
      "    label  result  expected_result\n",
      "0       2    True             True\n",
      "1       2    True             True\n",
      "2       2    True             True\n",
      "3       2   False             True\n",
      "4       2    True             True\n",
      "..    ...     ...              ...\n",
      "62      1    True             True\n",
      "63      1    True             True\n",
      "64      1    True             True\n",
      "65      1   False             True\n",
      "66      1    True             True\n",
      "\n",
      "[67 rows x 3 columns]\n",
      "    label  result  expected_result\n",
      "0       2    True             True\n",
      "1       2    True             True\n",
      "2       2    True             True\n",
      "3       2   False             True\n",
      "4       2    True             True\n",
      "10      4    True            False\n",
      "11      4    True            False\n",
      "12      4    True            False\n",
      "13      4    True            False\n",
      "14      4    True            False\n",
      "20      7    True             True\n",
      "21      7    True             True\n",
      "22      7    True             True\n",
      "23      7    True             True\n",
      "24      7    True             True\n",
      "29      3   False            False\n",
      "30      3   False            False\n",
      "31      3   False            False\n",
      "32      3   False            False\n",
      "33      3   False            False\n",
      "39      5    True             True\n",
      "40      5    True             True\n",
      "41      5    True             True\n",
      "42      5    True             True\n",
      "43      5    True             True\n",
      "48      6    True             True\n",
      "49      6    True             True\n",
      "50      6    True             True\n",
      "51      6    True             True\n",
      "52      6    True             True\n",
      "57      1    True             True\n",
      "58      1   False             True\n",
      "59      1    True             True\n",
      "60      1   False             True\n",
      "61      1    True             True\n"
     ]
    }
   ],
   "source": [
    "#build dataframe with result, expected result and label \n",
    "\n",
    "data = {'label': label, 'result': result, \"expected_result\" : expected_result}  \n",
    "  \n",
    "# Create DataFrame  \n",
    "df = pd.DataFrame(data)  \n",
    "   \n",
    "print(df)  \n",
    "\n",
    "grouped_df = df.groupby(by = \"label\")\n",
    "\n",
    "print(grouped_df.head())"
   ]
  },
  {
   "cell_type": "code",
   "execution_count": 12,
   "id": "3d4cee41",
   "metadata": {
    "ExecuteTime": {
     "end_time": "2023-10-14T13:10:31.987973037Z",
     "start_time": "2023-10-14T13:10:31.502536473Z"
    }
   },
   "outputs": [],
   "source": [
    "def calculate_accuracy(df):\n",
    "\n",
    "    tot_corr = 0\n",
    "    for index, row in df.iterrows():\n",
    "        if row[\"result\"] == row[\"expected_result\"]:\n",
    "            tot_corr += 1\n",
    "    tot = len(df)\n",
    "\n",
    "    #print(\"total correct:\", tot_corr)\n",
    "    #print('total:', tot) \n",
    "    \n",
    "    accuracy_perc = (tot_corr / tot ) * 100\n",
    "    return accuracy_perc"
   ]
  },
  {
   "cell_type": "code",
   "execution_count": 13,
   "id": "b1a0219c",
   "metadata": {
    "ExecuteTime": {
     "end_time": "2023-10-14T13:10:32.006995861Z",
     "start_time": "2023-10-14T13:10:31.544305382Z"
    }
   },
   "outputs": [
    {
     "name": "stdout",
     "output_type": "stream",
     "text": [
      "single bladed\n",
      "    label  result  expected_result\n",
      "0       1    True             True\n",
      "1       1   False             True\n",
      "2       1    True             True\n",
      "3       1   False             True\n",
      "4       1    True             True\n",
      "5       1    True             True\n",
      "6       1    True             True\n",
      "7       1    True             True\n",
      "8       1   False             True\n",
      "9       1    True             True\n",
      "10      5    True             True\n",
      "11      5    True             True\n",
      "12      5    True             True\n",
      "13      5    True             True\n",
      "14      5    True             True\n",
      "15      5    True             True\n",
      "16      5    True             True\n",
      "17      5    True             True\n",
      "18      5    True             True\n",
      "19      6    True             True\n",
      "20      6    True             True\n",
      "21      6    True             True\n",
      "22      6    True             True\n",
      "23      6    True             True\n",
      "24      6    True             True\n",
      "25      6    True             True\n",
      "26      6    True             True\n",
      "27      6    True             True\n",
      "28      7    True             True\n",
      "29      7    True             True\n",
      "30      7    True             True\n",
      "31      7    True             True\n",
      "32      7    True             True\n",
      "33      7    True             True\n",
      "34      7    True             True\n",
      "35      7    True             True\n",
      "36      7   False             True\n",
      "\n",
      "For single blade class\n",
      "accuracy %: 89.1891891891892 \n"
     ]
    }
   ],
   "source": [
    "\n",
    "# calculate the accuracy for the four knives that are single blade \n",
    "\n",
    "one = grouped_df.get_group(1)\n",
    "five = grouped_df.get_group(5)\n",
    "six = grouped_df.get_group(6)\n",
    "seven = grouped_df.get_group(7)\n",
    "\n",
    "single_bladed = pd.concat([one, five, six, seven], ignore_index= True)\n",
    "print(f'single bladed\\n{single_bladed}\\n')\n",
    "single_bladed_accuracy = calculate_accuracy(single_bladed)\n",
    "\n",
    "print( \"For single blade class\") \n",
    "    #print(\"total correct:\", tot_corr)\n",
    "    #print('total:', tot) \n",
    "    \n",
    "print(\"accuracy %:\", single_bladed_accuracy, \"\\n\")"
   ]
  },
  {
   "cell_type": "code",
   "execution_count": 14,
   "id": "9acfac7e",
   "metadata": {
    "ExecuteTime": {
     "end_time": "2023-10-14T13:10:32.013762631Z",
     "start_time": "2023-10-14T13:10:31.568609481Z"
    }
   },
   "outputs": [
    {
     "name": "stdout",
     "output_type": "stream",
     "text": [
      "even bladed\n",
      "    label  result  expected_result\n",
      "0       2    True             True\n",
      "1       2    True             True\n",
      "2       2    True             True\n",
      "3       2   False             True\n",
      "4       2    True             True\n",
      "5       2   False             True\n",
      "6       2   False             True\n",
      "7       2    True             True\n",
      "8       2    True             True\n",
      "9       2   False             True\n",
      "10      3   False            False\n",
      "11      3   False            False\n",
      "12      3   False            False\n",
      "13      3   False            False\n",
      "14      3   False            False\n",
      "15      3   False            False\n",
      "16      3   False            False\n",
      "17      3   False            False\n",
      "18      3   False            False\n",
      "19      3   False            False\n",
      "20      4    True            False\n",
      "21      4    True            False\n",
      "22      4    True            False\n",
      "23      4    True            False\n",
      "24      4    True            False\n",
      "25      4    True            False\n",
      "26      4   False            False\n",
      "27      4    True            False\n",
      "28      4   False            False\n",
      "29      4    True            False\n",
      "\n",
      "For even blade class\n",
      "accuracy %: 60.0 \n"
     ]
    }
   ],
   "source": [
    "two = grouped_df.get_group(2)\n",
    "three = grouped_df.get_group(3)\n",
    "four = grouped_df.get_group(4)\n",
    "\n",
    "even_bladed = pd.concat([two, three, four], ignore_index= True)\n",
    "print(f'even bladed\\n{even_bladed}\\n')\n",
    "even_bladed_accuracy = calculate_accuracy(even_bladed)\n",
    "\n",
    "print( \"For even blade class\") \n",
    "    #print(\"total correct:\", tot_corr)\n",
    "    #print('total:', tot) \n",
    "    \n",
    "print(\"accuracy %:\", even_bladed_accuracy, \"\\n\")"
   ]
  },
  {
   "cell_type": "code",
   "execution_count": 15,
   "id": "f16d754f",
   "metadata": {
    "ExecuteTime": {
     "end_time": "2023-10-14T13:10:32.019987914Z",
     "start_time": "2023-10-14T13:10:31.606675007Z"
    }
   },
   "outputs": [
    {
     "name": "stdout",
     "output_type": "stream",
     "text": [
      "even bladed\n",
      "    label  result  expected_result\n",
      "0       2    True             True\n",
      "1       2    True             True\n",
      "2       2    True             True\n",
      "3       2   False             True\n",
      "4       2    True             True\n",
      "5       2   False             True\n",
      "6       2   False             True\n",
      "7       2    True             True\n",
      "8       2    True             True\n",
      "9       2   False             True\n",
      "10      3   False            False\n",
      "11      3   False            False\n",
      "12      3   False            False\n",
      "13      3   False            False\n",
      "14      3   False            False\n",
      "15      3   False            False\n",
      "16      3   False            False\n",
      "17      3   False            False\n",
      "18      3   False            False\n",
      "19      3   False            False\n",
      "\n",
      "For even blade class\n",
      "accuracy %: 80.0 \n"
     ]
    }
   ],
   "source": [
    "# accuracy for even bladed without the knife number 4\n",
    "\n",
    "two = grouped_df.get_group(2)\n",
    "three = grouped_df.get_group(3)\n",
    "\n",
    "\n",
    "even_bladed = pd.concat([two, three], ignore_index= True)\n",
    "print(f'even bladed\\n{even_bladed}\\n')\n",
    "even_bladed_accuracy = calculate_accuracy(even_bladed)\n",
    "\n",
    "print( \"For even blade class\") \n",
    "    #print(\"total correct:\", tot_corr)\n",
    "    #print('total:', tot) \n",
    "    \n",
    "print(\"accuracy %:\", even_bladed_accuracy, \"\\n\")"
   ]
  },
  {
   "cell_type": "code",
   "execution_count": 16,
   "id": "daf2d81d-6dc9-4481-939d-f9e14f8e4b11",
   "metadata": {
    "ExecuteTime": {
     "end_time": "2023-10-14T13:10:32.028958455Z",
     "start_time": "2023-10-14T13:10:31.678714132Z"
    }
   },
   "outputs": [
    {
     "name": "stdout",
     "output_type": "stream",
     "text": [
      "1\n",
      "    label  result  expected_result\n",
      "57      1    True             True\n",
      "58      1   False             True\n",
      "59      1    True             True\n",
      "60      1   False             True\n",
      "61      1    True             True\n",
      "62      1    True             True\n",
      "63      1    True             True\n",
      "64      1    True             True\n",
      "65      1   False             True\n",
      "66      1    True             True\n",
      "\n",
      "2\n",
      "   label  result  expected_result\n",
      "0      2    True             True\n",
      "1      2    True             True\n",
      "2      2    True             True\n",
      "3      2   False             True\n",
      "4      2    True             True\n",
      "5      2   False             True\n",
      "6      2   False             True\n",
      "7      2    True             True\n",
      "8      2    True             True\n",
      "9      2   False             True\n",
      "\n",
      "3\n",
      "    label  result  expected_result\n",
      "29      3   False            False\n",
      "30      3   False            False\n",
      "31      3   False            False\n",
      "32      3   False            False\n",
      "33      3   False            False\n",
      "34      3   False            False\n",
      "35      3   False            False\n",
      "36      3   False            False\n",
      "37      3   False            False\n",
      "38      3   False            False\n",
      "\n",
      "4\n",
      "    label  result  expected_result\n",
      "10      4    True            False\n",
      "11      4    True            False\n",
      "12      4    True            False\n",
      "13      4    True            False\n",
      "14      4    True            False\n",
      "15      4    True            False\n",
      "16      4   False            False\n",
      "17      4    True            False\n",
      "18      4   False            False\n",
      "19      4    True            False\n",
      "\n",
      "5\n",
      "    label  result  expected_result\n",
      "39      5    True             True\n",
      "40      5    True             True\n",
      "41      5    True             True\n",
      "42      5    True             True\n",
      "43      5    True             True\n",
      "44      5    True             True\n",
      "45      5    True             True\n",
      "46      5    True             True\n",
      "47      5    True             True\n",
      "\n",
      "6\n",
      "    label  result  expected_result\n",
      "48      6    True             True\n",
      "49      6    True             True\n",
      "50      6    True             True\n",
      "51      6    True             True\n",
      "52      6    True             True\n",
      "53      6    True             True\n",
      "54      6    True             True\n",
      "55      6    True             True\n",
      "56      6    True             True\n",
      "\n",
      "7\n",
      "    label  result  expected_result\n",
      "20      7    True             True\n",
      "21      7    True             True\n",
      "22      7    True             True\n",
      "23      7    True             True\n",
      "24      7    True             True\n",
      "25      7    True             True\n",
      "26      7    True             True\n",
      "27      7    True             True\n",
      "28      7   False             True\n"
     ]
    }
   ],
   "source": [
    "for name, sub_df in grouped_df:\n",
    "    print(f'{name}\\n{sub_df}\\n')"
   ]
  },
  {
   "cell_type": "code",
   "execution_count": 17,
   "id": "a8ef2c91-4539-42c8-bcaf-6cd092f6445b",
   "metadata": {
    "ExecuteTime": {
     "end_time": "2023-10-14T13:10:32.046932360Z",
     "start_time": "2023-10-14T13:10:31.695579955Z"
    }
   },
   "outputs": [
    {
     "name": "stdout",
     "output_type": "stream",
     "text": [
      "knife: 1\n",
      "accuracy %: 70.0 \n",
      "\n",
      "knife: 2\n",
      "accuracy %: 60.0 \n",
      "\n",
      "knife: 3\n",
      "accuracy %: 100.0 \n",
      "\n",
      "knife: 4\n",
      "accuracy %: 20.0 \n",
      "\n",
      "knife: 5\n",
      "accuracy %: 100.0 \n",
      "\n",
      "knife: 6\n",
      "accuracy %: 100.0 \n",
      "\n",
      "knife: 7\n",
      "accuracy %: 88.88888888888889 \n"
     ]
    }
   ],
   "source": [
    "for name, sub_df in grouped_df:\n",
    "    tot_corr = 0\n",
    "    for index, row in sub_df.iterrows():\n",
    "        if row[\"result\"] == row[\"expected_result\"]:\n",
    "            tot_corr += 1\n",
    "    tot = len(sub_df)\n",
    "    print( \"knife:\", name) \n",
    "    #print(\"total correct:\", tot_corr)\n",
    "    #print('total:', tot) \n",
    "    \n",
    "    accuracy_perc = (tot_corr / tot ) * 100\n",
    "    \n",
    "    print( \"accuracy %:\", accuracy_perc, \"\\n\")"
   ]
  },
  {
   "cell_type": "code",
   "execution_count": 18,
   "id": "c81e6446-50f0-4416-bc68-41283aae899f",
   "metadata": {
    "ExecuteTime": {
     "end_time": "2023-10-14T13:10:32.049647700Z",
     "start_time": "2023-10-14T13:10:31.760655292Z"
    }
   },
   "outputs": [
    {
     "name": "stdout",
     "output_type": "stream",
     "text": [
      "knife: 1\n",
      "error rate %: 30.0 \n",
      "\n",
      "knife: 2\n",
      "error rate %: 40.0 \n",
      "\n",
      "knife: 3\n",
      "error rate %: 0.0 \n",
      "\n",
      "knife: 4\n",
      "error rate %: 80.0 \n",
      "\n",
      "knife: 5\n",
      "error rate %: 0.0 \n",
      "\n",
      "knife: 6\n",
      "error rate %: 0.0 \n",
      "\n",
      "knife: 7\n",
      "error rate %: 11.11111111111111 \n"
     ]
    }
   ],
   "source": [
    "for name, sub_df in grouped_df:\n",
    "    tot_incorr = 0\n",
    "    for index, row in sub_df.iterrows():\n",
    "        if row[\"result\"] != row[\"expected_result\"]:\n",
    "            tot_incorr += 1\n",
    "    tot = len(sub_df)\n",
    "    print( \"knife:\", name) \n",
    "    #print(\"total correct:\", tot_corr)\n",
    "    #print('total:', tot) \n",
    "    \n",
    "    error_rates = (tot_incorr / tot ) * 100\n",
    "    \n",
    "    print( \"error rate %:\", error_rates, \"\\n\")"
   ]
  },
  {
   "cell_type": "code",
   "execution_count": 19,
   "id": "e0acb21f-fee7-4629-9c93-2cc868e0c007",
   "metadata": {
    "ExecuteTime": {
     "end_time": "2023-10-14T13:16:00.918133508Z",
     "start_time": "2023-10-14T13:10:31.802520775Z"
    }
   },
   "outputs": [
    {
     "name": "stdout",
     "output_type": "stream",
     "text": [
      "Testing combinations of length 2\n",
      "Testing combinations of length 3\n",
      "Testing combinations of length 4\n",
      "Testing combinations of length 5\n",
      "Testing combinations of length 6\n",
      "Testing combinations of length 7\n",
      "Testing combinations of length 8\n",
      "Testing combinations of length 9\n",
      "Testing combinations of length 10\n",
      "Max score: 0.8805970149253731\n",
      "Best columns combination: ('shape', 'profile_exit', 'rising_entrance', 'shards', 'exit_mounding')\n",
      "Min score: 0.6865671641791045\n",
      "Worse columns combination: ('feathering', 'exit_mounding')\n"
     ]
    }
   ],
   "source": [
    "# Model optimisation, search for the optimal parameter combination\n",
    "# Printing score best and worst model\n",
    "optimizer_results = run_input_optimizer(train_dataset_file, test_dataset_file, input_cols, result_col)\n",
    "\n",
    "print('Max score: ' + str(optimizer_results['max_score']))\n",
    "print('Best columns combination: ' + str(optimizer_results['max_score_cols']))\n",
    "print('Min score: ' + str(optimizer_results['min_score']))\n",
    "print('Worse columns combination: ' + str(optimizer_results['min_score_cols']))"
   ]
  },
  {
   "cell_type": "code",
   "execution_count": 20,
   "id": "1fd36ca9-f198-418d-9574-58b12966cbfa",
   "metadata": {
    "ExecuteTime": {
     "end_time": "2023-10-14T13:16:01.006653576Z",
     "start_time": "2023-10-14T13:16:00.935785230Z"
    }
   },
   "outputs": [
    {
     "data": {
      "text/plain": "HTMLMath(value='$$p = {\\\\frac{1}{1 + e ^ {-(3.72-1.85x_{1}-1.22x_{2}-1.48x_{3}-0.4x_{4}-0.14x_{5}-0.14x_{6}-0.…",
      "application/vnd.jupyter.widget-view+json": {
       "version_major": 2,
       "version_minor": 0,
       "model_id": "9f96f8db212e48238813eba13a439175"
      }
     },
     "execution_count": 20,
     "metadata": {},
     "output_type": "execute_result"
    }
   ],
   "source": [
    "# tex = \"$$p = {\\frac{1}{1 + e ^ {-(\\beta_0 + \\beta_1X_i + \\beta_2X_2 + \\beta_3X_3 + \\beta_4X_4 + \\beta_5X_5)}}}$$\"\n",
    "# tex = \"$$p = {\\frac{1}{1 + e ^ {-(3 + 2X_1 + \\beta_2X_2 + \\beta_3X_3 + \\beta_4X_4 + \\beta_5X_5)}}}$$\"\n",
    "tex = r\"$$p = {\\frac{1}{1 + e ^ {-(\"\n",
    "\n",
    "# Add intercept\n",
    "tex += str(np.round(model.intercept_[0], decimals=2))\n",
    "\n",
    " \n",
    "# Add coefficients\n",
    "for i, b in enumerate(model.coef_[0]):\n",
    "    if b < 0:\n",
    "        sign = '-'\n",
    "    elif b > 0:\n",
    "        sign = '+'\n",
    "    else:\n",
    "        continue\n",
    "    tex += f\"{sign}{str(np.abs(np.round(b, decimals=2)))}x_{{{str(i+1)}}}\"\n",
    "\n",
    "tex += \")}}}$$\"\n",
    "\n",
    "widgets.HTMLMath(\n",
    "    value=tex,\n",
    "    placeholder='Logistic regression',\n",
    ")"
   ]
  }
 ],
 "metadata": {
  "kernelspec": {
   "display_name": "Python 3 (ipykernel)",
   "language": "python",
   "name": "python3"
  },
  "language_info": {
   "codemirror_mode": {
    "name": "ipython",
    "version": 3
   },
   "file_extension": ".py",
   "mimetype": "text/x-python",
   "name": "python",
   "nbconvert_exporter": "python",
   "pygments_lexer": "ipython3",
   "version": "3.10.5"
  }
 },
 "nbformat": 4,
 "nbformat_minor": 5
}
