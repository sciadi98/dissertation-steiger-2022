{
 "cells": [
  {
   "cell_type": "code",
   "outputs": [],
   "source": [
    "%load_ext autoreload\n",
    "%autoreload 2"
   ],
   "metadata": {
    "collapsed": false,
    "ExecuteTime": {
     "end_time": "2024-06-02T19:43:54.138468Z",
     "start_time": "2024-06-02T19:43:53.985050Z"
    }
   },
   "id": "94d9f2c7f96f3663",
   "execution_count": 1
  },
  {
   "cell_type": "code",
   "outputs": [],
   "source": [
    "# Imports\n",
    "from common import display_input_data, check_input_data_indices, train_model, prepare_dataset, evaluate_model, \\\n",
    "    run_input_optimizer, calculate_accuracy, calculate_error_rate\n",
    "import pandas as pd\n",
    "import ipywidgets as widgets\n",
    "import numpy as np\n",
    "import itertools\n",
    "import pandas as pd\n",
    "from sklearn.linear_model import LogisticRegression\n",
    "from sklearn.metrics import accuracy_score\n",
    "from sklearn.model_selection import cross_val_score\n",
    "from sklearn.model_selection import GridSearchCV\n"
   ],
   "metadata": {
    "collapsed": true,
    "ExecuteTime": {
     "end_time": "2024-06-02T19:43:54.873882Z",
     "start_time": "2024-06-02T19:43:54.141072Z"
    }
   },
   "id": "initial_id",
   "execution_count": 2
  },
  {
   "cell_type": "code",
   "outputs": [],
   "source": [
    "# Parameters\n",
    "# Chose variables to create the model\n",
    "input_cols = ['shape', 'profile_entrance', 'rising_entrance', 'rising_exit', 'shards', 'feathering', 'entrance_mounding', 'center_mounding', 'exit_mounding']\n",
    "result_col = 'result'\n",
    "# Load the train and the validation datasets for blade class prediction\n",
    "train_dataset_file = '../DATA/Train/blade_prediction_train.xlsx'\n",
    "test_dataset_file = '../DATA/Validation/blade_prediction_validation.xlsx'"
   ],
   "metadata": {
    "collapsed": false,
    "ExecuteTime": {
     "end_time": "2024-06-02T19:43:55.046911Z",
     "start_time": "2024-06-02T19:43:54.876884Z"
    }
   },
   "id": "23b1e89d32ca5f42",
   "execution_count": 3
  },
  {
   "cell_type": "code",
   "outputs": [
    {
     "name": "stdout",
     "output_type": "stream",
     "text": [
      "Datasets are compatible\n",
      "     shape_E  shape_indeterminate  profile_entrance_V  \\\n",
      "0      False                 True                True   \n",
      "1      False                 True               False   \n",
      "2      False                 True               False   \n",
      "3      False                 True               False   \n",
      "4      False                 True               False   \n",
      "..       ...                  ...                 ...   \n",
      "275     True                False                True   \n",
      "276     True                False                True   \n",
      "277     True                False                True   \n",
      "278     True                False                True   \n",
      "279     True                False                True   \n",
      "\n",
      "     rising_entrance_bilateral  rising_entrance_single  rising_exit_bilateral  \\\n",
      "0                        False                    True                  False   \n",
      "1                        False                    True                   True   \n",
      "2                        False                    True                   True   \n",
      "3                        False                    True                   True   \n",
      "4                        False                    True                   True   \n",
      "..                         ...                     ...                    ...   \n",
      "275                      False                    True                  False   \n",
      "276                       True                   False                   True   \n",
      "277                      False                   False                  False   \n",
      "278                      False                   False                  False   \n",
      "279                      False                   False                  False   \n",
      "\n",
      "     rising_exit_single  shards_present  feathering_present  \\\n",
      "0                  True           False               False   \n",
      "1                 False           False               False   \n",
      "2                 False           False               False   \n",
      "3                 False           False               False   \n",
      "4                 False           False               False   \n",
      "..                  ...             ...                 ...   \n",
      "275                True           False               False   \n",
      "276               False           False               False   \n",
      "277                True           False               False   \n",
      "278               False           False                True   \n",
      "279                True           False                True   \n",
      "\n",
      "     entrance_mounding_bilateral  entrance_mounding_single  \\\n",
      "0                          False                      True   \n",
      "1                          False                      True   \n",
      "2                          False                      True   \n",
      "3                          False                      True   \n",
      "4                          False                      True   \n",
      "..                           ...                       ...   \n",
      "275                        False                      True   \n",
      "276                        False                     False   \n",
      "277                        False                     False   \n",
      "278                        False                     False   \n",
      "279                        False                     False   \n",
      "\n",
      "     center_mounding_bilateral  center_mounding_single  \\\n",
      "0                        False                   False   \n",
      "1                        False                   False   \n",
      "2                        False                   False   \n",
      "3                        False                   False   \n",
      "4                        False                   False   \n",
      "..                         ...                     ...   \n",
      "275                      False                   False   \n",
      "276                      False                   False   \n",
      "277                      False                   False   \n",
      "278                      False                   False   \n",
      "279                      False                   False   \n",
      "\n",
      "     exit_mounding_bilateral  exit_mounding_single  \n",
      "0                      False                  True  \n",
      "1                      False                  True  \n",
      "2                       True                 False  \n",
      "3                       True                 False  \n",
      "4                       True                 False  \n",
      "..                       ...                   ...  \n",
      "275                    False                  True  \n",
      "276                    False                 False  \n",
      "277                    False                 False  \n",
      "278                    False                 False  \n",
      "279                    False                  True  \n",
      "\n",
      "[280 rows x 15 columns]\n",
      "0      True\n",
      "1      True\n",
      "2      True\n",
      "3      True\n",
      "4      True\n",
      "       ... \n",
      "275    True\n",
      "276    True\n",
      "277    True\n",
      "278    True\n",
      "279    True\n",
      "Name: single, Length: 280, dtype: bool\n"
     ]
    },
    {
     "data": {
      "text/plain": "(280,)"
     },
     "execution_count": 4,
     "metadata": {},
     "output_type": "execute_result"
    }
   ],
   "source": [
    "# check that all inputs correspond \n",
    "check_input_data_indices(train_dataset_file, test_dataset_file, input_cols)\n",
    "\n",
    "#preparing the test dataset \n",
    "from sklearn.model_selection import train_test_split\n",
    "x, y = prepare_dataset(train_dataset_file, input_cols, result_col)\n",
    "#con 48 ottengo accuracy del 79\n",
    "#X_train, X_test, y_train, y_test = train_test_split(x, y, test_size=0.2, random_state=61)\n",
    "print(x)\n",
    "print(y)\n",
    "x.shape\n",
    "y.shape"
   ],
   "metadata": {
    "collapsed": false,
    "ExecuteTime": {
     "end_time": "2024-06-02T19:43:56.039085Z",
     "start_time": "2024-06-02T19:43:55.055018Z"
    }
   },
   "id": "18aab66c279168b1",
   "execution_count": 4
  },
  {
   "cell_type": "code",
   "outputs": [
    {
     "name": "stdout",
     "output_type": "stream",
     "text": [
      "Saved model to ../models/blade-bevel_final.pickle\n"
     ]
    }
   ],
   "source": [
    "import pickle\n",
    "\n",
    "logReg = LogisticRegression(solver='saga', penalty='l2', C=1)\n",
    "logReg.fit(x, y)\n",
    "\n",
    "filename = '../models/blade-bevel_final.pickle'\n",
    "pickle.dump(logReg, open(filename, 'wb'))\n",
    "\n",
    "print(f'Saved model to {filename}')\n"
   ],
   "metadata": {
    "collapsed": false,
    "ExecuteTime": {
     "end_time": "2024-06-02T19:43:56.254982Z",
     "start_time": "2024-06-02T19:43:56.042090Z"
    }
   },
   "id": "683ee6c0f39e3ae3",
   "execution_count": 5
  },
  {
   "cell_type": "code",
   "outputs": [
    {
     "data": {
      "text/plain": "{'fit_time': array([0.01343584, 0.01581907, 0.01364493, 0.01474738, 0.01099777,\n        0.01248717, 0.01533723, 0.10935235, 0.01167202, 0.00799584]),\n 'score_time': array([0.02642655, 0.02079821, 0.02133703, 0.02196598, 0.01661015,\n        0.01821828, 0.01677275, 0.02538371, 0.01712203, 0.02108073]),\n 'test_precision': array([0.85714286, 1.        , 0.8       , 0.81818182, 0.8       ,\n        0.74074074, 0.74074074, 0.95238095, 0.85714286, 0.82608696]),\n 'train_precision': array([0.89944134, 0.87431694, 0.92613636, 0.92090395, 0.88268156,\n        0.88172043, 0.87634409, 0.88764045, 0.90340909, 0.90340909]),\n 'test_recall': array([0.9 , 0.95, 0.4 , 0.45, 1.  , 1.  , 1.  , 1.  , 0.9 , 0.95]),\n 'train_recall': array([0.89444444, 0.88888889, 0.90555556, 0.90555556, 0.87777778,\n        0.91111111, 0.90555556, 0.87777778, 0.88333333, 0.88333333]),\n 'test_f1_score': array([0.87804878, 0.97435897, 0.53333333, 0.58064516, 0.88888889,\n        0.85106383, 0.85106383, 0.97560976, 0.87804878, 0.88372093]),\n 'train_f1_score': array([0.89693593, 0.8815427 , 0.91573034, 0.91316527, 0.88022284,\n        0.89617486, 0.89071038, 0.88268156, 0.89325843, 0.89325843]),\n 'test_Accuracy': array([0.82142857, 0.96428571, 0.5       , 0.53571429, 0.82142857,\n        0.75      , 0.75      , 0.96428571, 0.82142857, 0.82142857]),\n 'train_Accuracy': array([0.8531746 , 0.82936508, 0.88095238, 0.87698413, 0.82936508,\n        0.84920635, 0.84126984, 0.83333333, 0.84920635, 0.84920635])}"
     },
     "execution_count": 6,
     "metadata": {},
     "output_type": "execute_result"
    }
   ],
   "source": [
    "from sklearn.metrics import make_scorer, precision_score, f1_score, recall_score, roc_auc_score, classification_report, accuracy_score\n",
    "from sklearn.model_selection import cross_validate\n",
    "# Define custom scoring metrics\n",
    "scoring = {\n",
    "    'precision': make_scorer(precision_score),\n",
    "    'recall': make_scorer(recall_score),\n",
    "    'f1_score': make_scorer(f1_score),\n",
    "    'Accuracy': make_scorer(accuracy_score)\n",
    "}\n",
    "\n",
    "scores = cross_validate(logReg, x, y, cv=10, scoring= scoring, return_train_score= True)\n",
    "#printing the score for each of the cv \n",
    "scores\n",
    "\n",
    "#here we have the mean score and the standard deviation\n",
    "#print(\"%0.2f accuracy with a standard deviation of %0.2f\" % (scores.mean(), scores.std()))\n",
    "#here is printing the score using the cross-validation"
   ],
   "metadata": {
    "collapsed": false,
    "ExecuteTime": {
     "end_time": "2024-06-02T19:43:57.120960Z",
     "start_time": "2024-06-02T19:43:56.257502Z"
    }
   },
   "id": "eac4c6213920fb1f",
   "execution_count": 6
  },
  {
   "cell_type": "code",
   "outputs": [],
   "source": [
    "from sklearn.model_selection import cross_validate\n",
    "from sklearn.metrics import recall_score\n",
    "\n"
   ],
   "metadata": {
    "collapsed": false,
    "ExecuteTime": {
     "end_time": "2024-06-02T19:43:57.367649Z",
     "start_time": "2024-06-02T19:43:57.123383Z"
    }
   },
   "id": "666fe08b6d550e42",
   "execution_count": 7
  },
  {
   "cell_type": "code",
   "outputs": [],
   "source": [
    "# by default the cross val uses the score function (for classification is accuracy.)\n",
    "# if the sample is unbalanced, the use the f1 score i.e scoring = 'f1'. this can help with hyperparameter optimization. \n",
    "\n",
    "#scores = cross_val_score(logReg, x, y, cv=10)\n",
    "#printing the score for each of the cv \n",
    "# score in this case is associated with the scoring parameter (see below and can be modified)\n",
    "#scores\n",
    "\n",
    "#here we have the mean score and the standard deviation\n",
    "#print(\"%0.2f accuracy with a standard deviation of %0.2f\" % (scores.mean(), scores.std()))"
   ],
   "metadata": {
    "collapsed": false,
    "ExecuteTime": {
     "end_time": "2024-06-02T19:43:57.567406Z",
     "start_time": "2024-06-02T19:43:57.370662Z"
    }
   },
   "id": "64b248df3405c4cf",
   "execution_count": 8
  },
  {
   "cell_type": "code",
   "outputs": [
    {
     "name": "stdout",
     "output_type": "stream",
     "text": [
      "prediction with threshold 0.5 :\n",
      "prediction with threshold 0.9 :\n",
      "[1 1 0 0 1 0 0 1 1 0 1 1 1 0 0 1 0 1 0 1 1 1 1 1 1 1 1 1 0 0 0 0 0 0 0 0 0\n",
      " 0 0 1 1 1 1 1 1 1 1 1 1 1 1 1 1 1 1 1 1 1 0 1 0 0 1 0 1 0 1]\n",
      "Evaluation metrics with threshold 0.5:\n",
      "Accuracy: 0.7761194029850746\n",
      "Precision: 0.8478260869565217\n",
      "Recall: 0.8297872340425532\n",
      "F1 score: 0.8387096774193549\n",
      "              precision    recall  f1-score   support\n",
      "\n",
      "      double       0.62      0.65      0.63        20\n",
      "      single       0.85      0.83      0.84        47\n",
      "\n",
      "    accuracy                           0.78        67\n",
      "   macro avg       0.73      0.74      0.74        67\n",
      "weighted avg       0.78      0.78      0.78        67\n"
     ]
    }
   ],
   "source": [
    "x_test, y_test = prepare_dataset(test_dataset_file, input_cols, result_col)\n",
    "y_pred = logReg.predict(x_test)\n",
    "# predicting  \n",
    "print('prediction with threshold 0.5 :') \n",
    "\n",
    "\n",
    "# changing threshold and predicting \n",
    "print('prediction with threshold 0.9 :') \n",
    "y_pred_new_threshold = (logReg.predict_proba(x_test)[:, 1] >= 0.6).astype(int) \n",
    "print(y_pred_new_threshold)\n",
    "\n",
    "target_names = ['double', 'single']\n",
    "\n",
    "# Evaluation metrics for default threshold \n",
    "print(\"Evaluation metrics with threshold 0.5:\") \n",
    "print(\"Accuracy:\", accuracy_score(y_test, y_pred)) \n",
    "print(\"Precision:\", precision_score(y_test, y_pred)) \n",
    "print(\"Recall:\", recall_score(y_test, y_pred)) \n",
    "print(\"F1 score:\", f1_score(y_test, y_pred))\n",
    "\n",
    "\n",
    "class_report = classification_report(y_test, y_pred, target_names=target_names)\n",
    "print(class_report)\n",
    "\n",
    "\n",
    "# \n",
    "# # Evaluation metrics for new threshold \n",
    "# print(\"Evaluation metrics with threshold 0.6:\") \n",
    "# print(\"Accuracy:\", accuracy_score(y_test, y_pred_new_threshold)) \n",
    "# print(\"Precision:\", precision_score(y_test, y_pred_new_threshold)) \n",
    "# print(\"Recall:\", recall_score(y_test, y_pred_new_threshold)) \n",
    "# print(\"F1 score:\", f1_score(y_test, y_pred_new_threshold))\n",
    "# class_report = classification_report(y_test, y_pred_new_threshold)\n",
    "# print(class_report)"
   ],
   "metadata": {
    "collapsed": false,
    "ExecuteTime": {
     "end_time": "2024-06-02T19:43:57.921064Z",
     "start_time": "2024-06-02T19:43:57.569917Z"
    }
   },
   "id": "8fef0f122a85a296",
   "execution_count": 9
  },
  {
   "cell_type": "code",
   "outputs": [],
   "source": [
    "# from sklearn.metrics import roc_curve\n",
    "# \n",
    "# # ROC Curve \n",
    "# y_scores = logReg.predict_proba(x_test)[:, 1] \n",
    "# fpr, tpr, thresholds = roc_curve(y_test, y_scores) \n",
    "# plt.plot(fpr, tpr,  label = 'Threshold = 0.5') \n",
    "# print('Area Under the ROC Curve for threshold 0.5:', roc_auc_score(y_test, y_scores)) \n",
    "#   \n",
    "# # For Threshold 0.9 \n",
    "# fpr_, tpr_, thresholds_ = roc_curve(y_test, y_pred_new_threshold) \n",
    "# print('Area Under the ROC Curve for threshold 0.9:', roc_auc_score(y_test, y_pred_new_threshold)) \n",
    "# plt.plot(fpr_, tpr_, label = 'Threshold = 0.9') \n",
    "#   \n",
    "# plt.xlabel('False Positive Rate') \n",
    "# plt.ylabel('True Positive Rate') \n",
    "# plt.title('ROC Curve') \n",
    "# plt.legend() \n",
    "# plt.show()\n",
    "\n"
   ],
   "metadata": {
    "collapsed": false,
    "ExecuteTime": {
     "end_time": "2024-06-02T19:43:58.152346Z",
     "start_time": "2024-06-02T19:43:57.924054Z"
    }
   },
   "id": "6a42824c44f14863",
   "execution_count": 10
  },
  {
   "cell_type": "code",
   "outputs": [],
   "source": [
    "# y_pred = logReg.predict(prepare_dataset(test_dataset_file, input_cols))\n",
    "# #get the column from the test dataset \n",
    "# df = pd.read_excel(test_dataset_file)\n",
    "# y_df = df[result_col].str.strip()\n",
    "# y = pd.get_dummies(y_df, drop_first=True).iloc[:, 0]"
   ],
   "metadata": {
    "collapsed": false,
    "ExecuteTime": {
     "end_time": "2024-06-02T19:43:58.384999Z",
     "start_time": "2024-06-02T19:43:58.155346Z"
    }
   },
   "id": "4b6027df5b83e5c8",
   "execution_count": 11
  },
  {
   "cell_type": "code",
   "outputs": [
    {
     "data": {
      "text/plain": "array([[13,  7],\n       [ 8, 39]], dtype=int64)"
     },
     "execution_count": 12,
     "metadata": {},
     "output_type": "execute_result"
    }
   ],
   "source": [
    "from sklearn.metrics import confusion_matrix\n",
    "\n",
    "\n",
    "\n",
    "# plot confusion matrix\n",
    "cm_dot_five = confusion_matrix(y_test, y_pred)\n",
    "cm_dot_five\n",
    "\n",
    "\n",
    "#we have to focus on the fact that is has a good precison "
   ],
   "metadata": {
    "collapsed": false,
    "ExecuteTime": {
     "end_time": "2024-06-02T19:43:58.646561Z",
     "start_time": "2024-06-02T19:43:58.388705Z"
    }
   },
   "id": "ab5e2b99bd9edcfd",
   "execution_count": 12
  },
  {
   "cell_type": "code",
   "outputs": [
    {
     "data": {
      "text/plain": "Text(0.5, 427.9555555555555, 'Predicted label')"
     },
     "execution_count": 13,
     "metadata": {},
     "output_type": "execute_result"
    },
    {
     "data": {
      "text/plain": "<Figure size 640x480 with 2 Axes>",
      "image/png": "[encoded data removed]"
     },
     "metadata": {},
     "output_type": "display_data"
    }
   ],
   "source": [
    "import matplotlib.pyplot as plt\n",
    "import seaborn as sns\n",
    "\n",
    "class_names=[0,1] # name  of classes\n",
    "fig, ax = plt.subplots()\n",
    "tick_marks = np.arange(len(class_names))\n",
    "plt.xticks(tick_marks, class_names)\n",
    "plt.yticks(tick_marks, class_names)\n",
    "\n",
    "\n",
    "# create heatmap\n",
    "sns.heatmap(pd.DataFrame(cm_dot_five), annot=True, cmap=\"YlGnBu\" ,fmt='g')\n",
    "ax.xaxis.set_label_position(\"top\")\n",
    "plt.tight_layout()\n",
    "plt.title('Confusion matrix', y=1.1)\n",
    "plt.ylabel('Actual label')\n",
    "plt.xlabel('Predicted label')\n"
   ],
   "metadata": {
    "collapsed": false,
    "ExecuteTime": {
     "end_time": "2024-06-02T19:43:59.517038Z",
     "start_time": "2024-06-02T19:43:58.649555Z"
    }
   },
   "id": "728f2aed479f38ef",
   "execution_count": 13
  },
  {
   "cell_type": "code",
   "outputs": [
    {
     "name": "stderr",
     "output_type": "stream",
     "text": [
      "C:\\Users\\gstei\\Documents\\GitHub\\dissertation-steiger-2022\\venv\\lib\\site-packages\\sklearn\\linear_model\\_sag.py:350: ConvergenceWarning: The max_iter was reached which means the coef_ did not converge\n",
      "  warnings.warn(\n",
      "C:\\Users\\gstei\\Documents\\GitHub\\dissertation-steiger-2022\\venv\\lib\\site-packages\\sklearn\\linear_model\\_sag.py:350: ConvergenceWarning: The max_iter was reached which means the coef_ did not converge\n",
      "  warnings.warn(\n",
      "C:\\Users\\gstei\\Documents\\GitHub\\dissertation-steiger-2022\\venv\\lib\\site-packages\\sklearn\\linear_model\\_sag.py:350: ConvergenceWarning: The max_iter was reached which means the coef_ did not converge\n",
      "  warnings.warn(\n",
      "C:\\Users\\gstei\\Documents\\GitHub\\dissertation-steiger-2022\\venv\\lib\\site-packages\\sklearn\\linear_model\\_sag.py:350: ConvergenceWarning: The max_iter was reached which means the coef_ did not converge\n",
      "  warnings.warn(\n",
      "C:\\Users\\gstei\\Documents\\GitHub\\dissertation-steiger-2022\\venv\\lib\\site-packages\\sklearn\\linear_model\\_sag.py:350: ConvergenceWarning: The max_iter was reached which means the coef_ did not converge\n",
      "  warnings.warn(\n",
      "C:\\Users\\gstei\\Documents\\GitHub\\dissertation-steiger-2022\\venv\\lib\\site-packages\\sklearn\\linear_model\\_sag.py:350: ConvergenceWarning: The max_iter was reached which means the coef_ did not converge\n",
      "  warnings.warn(\n",
      "C:\\Users\\gstei\\Documents\\GitHub\\dissertation-steiger-2022\\venv\\lib\\site-packages\\sklearn\\linear_model\\_sag.py:350: ConvergenceWarning: The max_iter was reached which means the coef_ did not converge\n",
      "  warnings.warn(\n",
      "C:\\Users\\gstei\\Documents\\GitHub\\dissertation-steiger-2022\\venv\\lib\\site-packages\\sklearn\\linear_model\\_sag.py:350: ConvergenceWarning: The max_iter was reached which means the coef_ did not converge\n",
      "  warnings.warn(\n",
      "C:\\Users\\gstei\\Documents\\GitHub\\dissertation-steiger-2022\\venv\\lib\\site-packages\\sklearn\\linear_model\\_sag.py:350: ConvergenceWarning: The max_iter was reached which means the coef_ did not converge\n",
      "  warnings.warn(\n",
      "C:\\Users\\gstei\\Documents\\GitHub\\dissertation-steiger-2022\\venv\\lib\\site-packages\\sklearn\\linear_model\\_sag.py:350: ConvergenceWarning: The max_iter was reached which means the coef_ did not converge\n",
      "  warnings.warn(\n",
      "C:\\Users\\gstei\\Documents\\GitHub\\dissertation-steiger-2022\\venv\\lib\\site-packages\\sklearn\\linear_model\\_sag.py:350: ConvergenceWarning: The max_iter was reached which means the coef_ did not converge\n",
      "  warnings.warn(\n",
      "C:\\Users\\gstei\\Documents\\GitHub\\dissertation-steiger-2022\\venv\\lib\\site-packages\\sklearn\\linear_model\\_sag.py:350: ConvergenceWarning: The max_iter was reached which means the coef_ did not converge\n",
      "  warnings.warn(\n",
      "C:\\Users\\gstei\\Documents\\GitHub\\dissertation-steiger-2022\\venv\\lib\\site-packages\\sklearn\\linear_model\\_sag.py:350: ConvergenceWarning: The max_iter was reached which means the coef_ did not converge\n",
      "  warnings.warn(\n",
      "C:\\Users\\gstei\\Documents\\GitHub\\dissertation-steiger-2022\\venv\\lib\\site-packages\\sklearn\\linear_model\\_sag.py:350: ConvergenceWarning: The max_iter was reached which means the coef_ did not converge\n",
      "  warnings.warn(\n",
      "C:\\Users\\gstei\\Documents\\GitHub\\dissertation-steiger-2022\\venv\\lib\\site-packages\\sklearn\\linear_model\\_sag.py:350: ConvergenceWarning: The max_iter was reached which means the coef_ did not converge\n",
      "  warnings.warn(\n",
      "C:\\Users\\gstei\\Documents\\GitHub\\dissertation-steiger-2022\\venv\\lib\\site-packages\\sklearn\\linear_model\\_sag.py:350: ConvergenceWarning: The max_iter was reached which means the coef_ did not converge\n",
      "  warnings.warn(\n",
      "C:\\Users\\gstei\\Documents\\GitHub\\dissertation-steiger-2022\\venv\\lib\\site-packages\\sklearn\\linear_model\\_sag.py:350: ConvergenceWarning: The max_iter was reached which means the coef_ did not converge\n",
      "  warnings.warn(\n",
      "C:\\Users\\gstei\\Documents\\GitHub\\dissertation-steiger-2022\\venv\\lib\\site-packages\\sklearn\\linear_model\\_sag.py:350: ConvergenceWarning: The max_iter was reached which means the coef_ did not converge\n",
      "  warnings.warn(\n",
      "C:\\Users\\gstei\\Documents\\GitHub\\dissertation-steiger-2022\\venv\\lib\\site-packages\\sklearn\\linear_model\\_sag.py:350: ConvergenceWarning: The max_iter was reached which means the coef_ did not converge\n",
      "  warnings.warn(\n",
      "C:\\Users\\gstei\\Documents\\GitHub\\dissertation-steiger-2022\\venv\\lib\\site-packages\\sklearn\\linear_model\\_sag.py:350: ConvergenceWarning: The max_iter was reached which means the coef_ did not converge\n",
      "  warnings.warn(\n",
      "C:\\Users\\gstei\\Documents\\GitHub\\dissertation-steiger-2022\\venv\\lib\\site-packages\\sklearn\\linear_model\\_sag.py:350: ConvergenceWarning: The max_iter was reached which means the coef_ did not converge\n",
      "  warnings.warn(\n",
      "C:\\Users\\gstei\\Documents\\GitHub\\dissertation-steiger-2022\\venv\\lib\\site-packages\\sklearn\\linear_model\\_sag.py:350: ConvergenceWarning: The max_iter was reached which means the coef_ did not converge\n",
      "  warnings.warn(\n",
      "C:\\Users\\gstei\\Documents\\GitHub\\dissertation-steiger-2022\\venv\\lib\\site-packages\\sklearn\\linear_model\\_sag.py:350: ConvergenceWarning: The max_iter was reached which means the coef_ did not converge\n",
      "  warnings.warn(\n",
      "C:\\Users\\gstei\\Documents\\GitHub\\dissertation-steiger-2022\\venv\\lib\\site-packages\\sklearn\\linear_model\\_sag.py:350: ConvergenceWarning: The max_iter was reached which means the coef_ did not converge\n",
      "  warnings.warn(\n",
      "C:\\Users\\gstei\\Documents\\GitHub\\dissertation-steiger-2022\\venv\\lib\\site-packages\\sklearn\\linear_model\\_sag.py:350: ConvergenceWarning: The max_iter was reached which means the coef_ did not converge\n",
      "  warnings.warn(\n",
      "C:\\Users\\gstei\\Documents\\GitHub\\dissertation-steiger-2022\\venv\\lib\\site-packages\\sklearn\\linear_model\\_sag.py:350: ConvergenceWarning: The max_iter was reached which means the coef_ did not converge\n",
      "  warnings.warn(\n",
      "C:\\Users\\gstei\\Documents\\GitHub\\dissertation-steiger-2022\\venv\\lib\\site-packages\\sklearn\\linear_model\\_sag.py:350: ConvergenceWarning: The max_iter was reached which means the coef_ did not converge\n",
      "  warnings.warn(\n",
      "C:\\Users\\gstei\\Documents\\GitHub\\dissertation-steiger-2022\\venv\\lib\\site-packages\\sklearn\\linear_model\\_sag.py:350: ConvergenceWarning: The max_iter was reached which means the coef_ did not converge\n",
      "  warnings.warn(\n",
      "C:\\Users\\gstei\\Documents\\GitHub\\dissertation-steiger-2022\\venv\\lib\\site-packages\\sklearn\\linear_model\\_sag.py:350: ConvergenceWarning: The max_iter was reached which means the coef_ did not converge\n",
      "  warnings.warn(\n"
     ]
    },
    {
     "name": "stdout",
     "output_type": "stream",
     "text": [
      "Best: 0.775000 using {'C': 1.0, 'penalty': 'l2', 'solver': 'saga'}\n"
     ]
    }
   ],
   "source": [
    "# use gridsearch to find the best hyperparameters using cross-validation \n",
    "# set the dictionaries for the best parameter combination \n",
    "param_grid = {\n",
    "\n",
    "    'solver': [ 'saga', 'sag'],\n",
    "    'C': [100, 10, 1.0, 0.1, 0.01],\n",
    "    'penalty': [ 'l2'] \n",
    "}\n",
    "\n",
    "grid_search = GridSearchCV(estimator = LogisticRegression(), refit='accuracy',  param_grid= param_grid, scoring=['accuracy'], cv=10,)\n",
    "\n",
    "\n",
    "grid_result = grid_search.fit(x, y)\n",
    "\n",
    "# summarize results\n",
    "print(\"Best: %f using %s\" % (grid_result.best_score_, grid_result.best_params_))\n"
   ],
   "metadata": {
    "collapsed": false,
    "ExecuteTime": {
     "end_time": "2024-06-02T19:44:01.744568Z",
     "start_time": "2024-06-02T19:43:59.521041Z"
    }
   },
   "id": "8ff05ba42f343030",
   "execution_count": 14
  },
  {
   "cell_type": "code",
   "outputs": [
    {
     "name": "stdout",
     "output_type": "stream",
     "text": [
      "[[0.3967174  0.6032826 ]\n",
      " [0.02701633 0.97298367]\n",
      " [0.42780883 0.57219117]\n",
      " [0.58833442 0.41166558]\n",
      " [0.01398959 0.98601041]\n",
      " [0.58833442 0.41166558]\n",
      " [0.69056662 0.30943338]\n",
      " [0.12539858 0.87460142]\n",
      " [0.16123734 0.83876266]\n",
      " [0.52112678 0.47887322]\n",
      " [0.20584806 0.79415194]\n",
      " [0.3967174  0.6032826 ]\n",
      " [0.23547808 0.76452192]\n",
      " [0.58817177 0.41182823]\n",
      " [0.53300897 0.46699103]\n",
      " [0.14506532 0.85493468]\n",
      " [0.96234899 0.03765101]\n",
      " [0.27032853 0.72967147]\n",
      " [0.76832092 0.23167908]\n",
      " [0.31029367 0.68970633]\n",
      " [0.23738564 0.76261436]\n",
      " [0.03028289 0.96971711]\n",
      " [0.00633588 0.99366412]\n",
      " [0.00476774 0.99523226]\n",
      " [0.02025749 0.97974251]\n",
      " [0.06869892 0.93130108]\n",
      " [0.09845121 0.90154879]\n",
      " [0.03354596 0.96645404]\n",
      " [0.5048089  0.4951911 ]\n",
      " [0.83750199 0.16249801]\n",
      " [0.82259862 0.17740138]\n",
      " [0.82259862 0.17740138]\n",
      " [0.85517204 0.14482796]\n",
      " [0.4128178  0.5871822 ]\n",
      " [0.86007478 0.13992522]\n",
      " [0.86007478 0.13992522]\n",
      " [0.87288198 0.12711802]\n",
      " [0.77578379 0.22421621]\n",
      " [0.58833442 0.41166558]\n",
      " [0.00651233 0.99348767]\n",
      " [0.01512657 0.98487343]\n",
      " [0.18293533 0.81706467]\n",
      " [0.06564876 0.93435124]\n",
      " [0.04318562 0.95681438]\n",
      " [0.02957756 0.97042244]\n",
      " [0.00257713 0.99742287]\n",
      " [0.0044238  0.9955762 ]\n",
      " [0.00651233 0.99348767]\n",
      " [0.01512657 0.98487343]\n",
      " [0.00814099 0.99185901]\n",
      " [0.0357379  0.9642621 ]\n",
      " [0.36628576 0.63371424]\n",
      " [0.01512657 0.98487343]\n",
      " [0.01512657 0.98487343]\n",
      " [0.0079935  0.9920065 ]\n",
      " [0.01512657 0.98487343]\n",
      " [0.00434335 0.99565665]\n",
      " [0.14735452 0.85264548]\n",
      " [0.7537873  0.2462127 ]\n",
      " [0.05032498 0.94967502]\n",
      " [0.54960124 0.45039876]\n",
      " [0.46164897 0.53835103]\n",
      " [0.37453444 0.62546556]\n",
      " [0.46498278 0.53501722]\n",
      " [0.37520001 0.62479999]\n",
      " [0.53745639 0.46254361]\n",
      " [0.33428936 0.66571064]]\n"
     ]
    }
   ],
   "source": [
    "probs_y= logReg.predict_proba(prepare_dataset(test_dataset_file, input_cols))\n",
    "print(probs_y)"
   ],
   "metadata": {
    "collapsed": false,
    "ExecuteTime": {
     "end_time": "2024-06-02T19:44:02.081543Z",
     "start_time": "2024-06-02T19:44:01.748837Z"
    }
   },
   "id": "c8c94ccd842d9cf3",
   "execution_count": 15
  },
  {
   "cell_type": "code",
   "outputs": [
    {
     "name": "stdout",
     "output_type": "stream",
     "text": [
      "    label  result  expected_result\n",
      "0       2    True             True\n",
      "1       2    True             True\n",
      "2       2    True             True\n",
      "3       2   False             True\n",
      "4       2    True             True\n",
      "..    ...     ...              ...\n",
      "62      1    True             True\n",
      "63      1    True             True\n",
      "64      1    True             True\n",
      "65      1   False             True\n",
      "66      1    True             True\n",
      "\n",
      "[67 rows x 3 columns]\n",
      "single bladed\n",
      "    label  result  expected_result\n",
      "0       1    True             True\n",
      "1       1   False             True\n",
      "2       1    True             True\n",
      "3       1   False             True\n",
      "4       1    True             True\n",
      "5       1    True             True\n",
      "6       1    True             True\n",
      "7       1    True             True\n",
      "8       1   False             True\n",
      "9       1    True             True\n",
      "10      5    True             True\n",
      "11      5    True             True\n",
      "12      5    True             True\n",
      "13      5    True             True\n",
      "14      5    True             True\n",
      "15      5    True             True\n",
      "16      5    True             True\n",
      "17      5    True             True\n",
      "18      5    True             True\n",
      "19      6    True             True\n",
      "20      6    True             True\n",
      "21      6    True             True\n",
      "22      6    True             True\n",
      "23      6    True             True\n",
      "24      6    True             True\n",
      "25      6    True             True\n",
      "26      6    True             True\n",
      "27      6    True             True\n",
      "28      7    True             True\n",
      "29      7    True             True\n",
      "30      7    True             True\n",
      "31      7    True             True\n",
      "32      7    True             True\n",
      "33      7    True             True\n",
      "34      7    True             True\n",
      "35      7    True             True\n",
      "36      7   False             True\n",
      "\n",
      "For single blade class\n",
      "accuracy %: 89.1891891891892 \n"
     ]
    }
   ],
   "source": [
    "#build dataframe with result, expected result and label \n",
    "df = pd.read_excel(test_dataset_file)\n",
    "label = df[\"label\"]\n",
    "\n",
    "data = {'label': label, 'result': y_pred, \"expected_result\" : y_test}  \n",
    "  \n",
    "# Create DataFrame  \n",
    "df = pd.DataFrame(data)  \n",
    "   \n",
    "print(df)  \n",
    "\n",
    "grouped_df = df.groupby(by = \"label\")\n",
    "\n",
    "# calculate the accuracy for the four knives that are single blade \n",
    "\n",
    "one = grouped_df.get_group(1)\n",
    "five = grouped_df.get_group(5)\n",
    "six = grouped_df.get_group(6)\n",
    "seven = grouped_df.get_group(7)\n",
    "\n",
    "single_bladed = pd.concat([one, five, six, seven], ignore_index= True)\n",
    "print(f'single bladed\\n{single_bladed}\\n')\n",
    "single_bladed_accuracy = calculate_accuracy(single_bladed)\n",
    "\n",
    "print( \"For single blade class\") \n",
    "    #print(\"total correct:\", tot_corr)\n",
    "    #print('total:', tot) \n",
    "    \n",
    "print(\"accuracy %:\", single_bladed_accuracy, \"\\n\")\n"
   ],
   "metadata": {
    "collapsed": false,
    "ExecuteTime": {
     "end_time": "2024-06-02T19:44:02.437601Z",
     "start_time": "2024-06-02T19:44:02.085621Z"
    }
   },
   "id": "6be37804a86b6723",
   "execution_count": 16
  },
  {
   "cell_type": "code",
   "outputs": [
    {
     "name": "stdout",
     "output_type": "stream",
     "text": [
      "even bladed\n",
      "    label  result  expected_result\n",
      "0       2    True             True\n",
      "1       2    True             True\n",
      "2       2    True             True\n",
      "3       2   False             True\n",
      "4       2    True             True\n",
      "5       2   False             True\n",
      "6       2   False             True\n",
      "7       2    True             True\n",
      "8       2    True             True\n",
      "9       2   False             True\n",
      "10      3   False            False\n",
      "11      3   False            False\n",
      "12      3   False            False\n",
      "13      3   False            False\n",
      "14      3    True            False\n",
      "15      3   False            False\n",
      "16      3   False            False\n",
      "17      3   False            False\n",
      "18      3   False            False\n",
      "19      3   False            False\n",
      "20      4    True            False\n",
      "21      4    True            False\n",
      "22      4    True            False\n",
      "23      4   False            False\n",
      "24      4   False            False\n",
      "25      4    True            False\n",
      "26      4   False            False\n",
      "27      4    True            False\n",
      "28      4   False            False\n",
      "29      4    True            False\n",
      "\n",
      "For even blade class\n",
      "accuracy %: 63.33333333333333 \n"
     ]
    }
   ],
   "source": [
    "# calculate accuracy of the double-edge class\n",
    "two = grouped_df.get_group(2)\n",
    "three = grouped_df.get_group(3)\n",
    "four = grouped_df.get_group(4)\n",
    "\n",
    "even_bladed = pd.concat([two, three, four], ignore_index= True)\n",
    "print(f'even bladed\\n{even_bladed}\\n')\n",
    "even_bladed_accuracy = calculate_accuracy(even_bladed)\n",
    "\n",
    "print( \"For even blade class\") \n",
    "    #print(\"total correct:\", tot_corr)\n",
    "    #print('total:', tot) \n",
    "    \n",
    "print(\"accuracy %:\", even_bladed_accuracy, \"\\n\")"
   ],
   "metadata": {
    "collapsed": false,
    "ExecuteTime": {
     "end_time": "2024-06-02T19:44:02.699024Z",
     "start_time": "2024-06-02T19:44:02.440589Z"
    }
   },
   "id": "c206c9bdb394de03",
   "execution_count": 17
  },
  {
   "cell_type": "code",
   "outputs": [
    {
     "name": "stdout",
     "output_type": "stream",
     "text": [
      "even bladed\n",
      "    label  result  expected_result\n",
      "0       2    True             True\n",
      "1       2    True             True\n",
      "2       2    True             True\n",
      "3       2   False             True\n",
      "4       2    True             True\n",
      "5       2   False             True\n",
      "6       2   False             True\n",
      "7       2    True             True\n",
      "8       2    True             True\n",
      "9       2   False             True\n",
      "10      3   False            False\n",
      "11      3   False            False\n",
      "12      3   False            False\n",
      "13      3   False            False\n",
      "14      3    True            False\n",
      "15      3   False            False\n",
      "16      3   False            False\n",
      "17      3   False            False\n",
      "18      3   False            False\n",
      "19      3   False            False\n",
      "\n",
      "For even blade class\n",
      "accuracy %: 75.0 \n"
     ]
    }
   ],
   "source": [
    "# accuracy for even bladed without the knife number 4\n",
    "\n",
    "two = grouped_df.get_group(2)\n",
    "three = grouped_df.get_group(3)\n",
    "\n",
    "\n",
    "even_bladed = pd.concat([two, three], ignore_index= True)\n",
    "print(f'even bladed\\n{even_bladed}\\n')\n",
    "even_bladed_accuracy = calculate_accuracy(even_bladed)\n",
    "\n",
    "print( \"For even blade class\") \n",
    "    #print(\"total correct:\", tot_corr)\n",
    "    #print('total:', tot) \n",
    "    \n",
    "print(\"accuracy %:\", even_bladed_accuracy, \"\\n\")"
   ],
   "metadata": {
    "collapsed": false,
    "ExecuteTime": {
     "end_time": "2024-06-02T19:44:02.885105Z",
     "start_time": "2024-06-02T19:44:02.702300Z"
    }
   },
   "id": "386688b087aafa27",
   "execution_count": 18
  },
  {
   "cell_type": "code",
   "outputs": [
    {
     "name": "stdout",
     "output_type": "stream",
     "text": [
      "1\n",
      "    label  result  expected_result\n",
      "57      1    True             True\n",
      "58      1   False             True\n",
      "59      1    True             True\n",
      "60      1   False             True\n",
      "61      1    True             True\n",
      "62      1    True             True\n",
      "63      1    True             True\n",
      "64      1    True             True\n",
      "65      1   False             True\n",
      "66      1    True             True\n",
      "\n",
      "2\n",
      "   label  result  expected_result\n",
      "0      2    True             True\n",
      "1      2    True             True\n",
      "2      2    True             True\n",
      "3      2   False             True\n",
      "4      2    True             True\n",
      "5      2   False             True\n",
      "6      2   False             True\n",
      "7      2    True             True\n",
      "8      2    True             True\n",
      "9      2   False             True\n",
      "\n",
      "3\n",
      "    label  result  expected_result\n",
      "29      3   False            False\n",
      "30      3   False            False\n",
      "31      3   False            False\n",
      "32      3   False            False\n",
      "33      3    True            False\n",
      "34      3   False            False\n",
      "35      3   False            False\n",
      "36      3   False            False\n",
      "37      3   False            False\n",
      "38      3   False            False\n",
      "\n",
      "4\n",
      "    label  result  expected_result\n",
      "10      4    True            False\n",
      "11      4    True            False\n",
      "12      4    True            False\n",
      "13      4   False            False\n",
      "14      4   False            False\n",
      "15      4    True            False\n",
      "16      4   False            False\n",
      "17      4    True            False\n",
      "18      4   False            False\n",
      "19      4    True            False\n",
      "\n",
      "5\n",
      "    label  result  expected_result\n",
      "39      5    True             True\n",
      "40      5    True             True\n",
      "41      5    True             True\n",
      "42      5    True             True\n",
      "43      5    True             True\n",
      "44      5    True             True\n",
      "45      5    True             True\n",
      "46      5    True             True\n",
      "47      5    True             True\n",
      "\n",
      "6\n",
      "    label  result  expected_result\n",
      "48      6    True             True\n",
      "49      6    True             True\n",
      "50      6    True             True\n",
      "51      6    True             True\n",
      "52      6    True             True\n",
      "53      6    True             True\n",
      "54      6    True             True\n",
      "55      6    True             True\n",
      "56      6    True             True\n",
      "\n",
      "7\n",
      "    label  result  expected_result\n",
      "20      7    True             True\n",
      "21      7    True             True\n",
      "22      7    True             True\n",
      "23      7    True             True\n",
      "24      7    True             True\n",
      "25      7    True             True\n",
      "26      7    True             True\n",
      "27      7    True             True\n",
      "28      7   False             True\n",
      "\n",
      "knife: 1\n",
      "accuracy %: 70.0 \n",
      "\n",
      "knife: 2\n",
      "accuracy %: 60.0 \n",
      "\n",
      "knife: 3\n",
      "accuracy %: 90.0 \n",
      "\n",
      "knife: 4\n",
      "accuracy %: 40.0 \n",
      "\n",
      "knife: 5\n",
      "accuracy %: 100.0 \n",
      "\n",
      "knife: 6\n",
      "accuracy %: 100.0 \n",
      "\n",
      "knife: 7\n",
      "accuracy %: 88.88888888888889 \n"
     ]
    }
   ],
   "source": [
    "#calculate accuracy for each knife class using the new model\n",
    "for name, sub_df in grouped_df:\n",
    "    print(f'{name}\\n{sub_df}\\n')\n",
    "for name, sub_df in grouped_df:\n",
    "    accuracy_perc = calculate_accuracy(sub_df)\n",
    "    \n",
    "    print( \"knife:\", name) \n",
    "    print( \"accuracy %:\", accuracy_perc, \"\\n\")"
   ],
   "metadata": {
    "collapsed": false,
    "ExecuteTime": {
     "end_time": "2024-06-02T19:44:03.118589Z",
     "start_time": "2024-06-02T19:44:02.888085Z"
    }
   },
   "id": "dca9f2d68521affc",
   "execution_count": 19
  },
  {
   "cell_type": "code",
   "outputs": [],
   "source": [],
   "metadata": {
    "collapsed": false,
    "ExecuteTime": {
     "end_time": "2024-06-02T19:44:03.134077Z",
     "start_time": "2024-06-02T19:44:03.121699Z"
    }
   },
   "id": "5d2d12010788c22b",
   "execution_count": 19
  }
 ],
 "metadata": {
  "kernelspec": {
   "display_name": "Python 3",
   "language": "python",
   "name": "python3"
  },
  "language_info": {
   "codemirror_mode": {
    "name": "ipython",
    "version": 2
   },
   "file_extension": ".py",
   "mimetype": "text/x-python",
   "name": "python",
   "nbconvert_exporter": "python",
   "pygments_lexer": "ipython2",
   "version": "2.7.6"
  }
 },
 "nbformat": 4,
 "nbformat_minor": 5
}
