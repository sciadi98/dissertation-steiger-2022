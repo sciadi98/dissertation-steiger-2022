{
 "cells": [
  {
   "cell_type": "code",
   "execution_count": 43,
   "id": "initial_id",
   "metadata": {
    "collapsed": true,
    "ExecuteTime": {
     "end_time": "2024-05-22T21:12:26.446913Z",
     "start_time": "2024-05-22T21:12:26.308060Z"
    }
   },
   "outputs": [
    {
     "name": "stdout",
     "output_type": "stream",
     "text": [
      "The autoreload extension is already loaded. To reload it, use:\n",
      "  %reload_ext autoreload\n"
     ]
    }
   ],
   "source": [
    "%load_ext autoreload\n",
    "%autoreload 2"
   ]
  },
  {
   "cell_type": "code",
   "outputs": [],
   "source": [
    "# Imports\n",
    "from common import display_input_data, check_input_data_indices, prepare_dataset, evaluate_model, \\\n",
    "    run_input_optimizer, calculate_accuracy, calculate_error_rate\n",
    "import pandas as pd\n",
    "import ipywidgets as widgets\n",
    "import numpy as np\n",
    "import itertools\n",
    "import pandas as pd\n",
    "from sklearn.linear_model import LogisticRegression\n",
    "from sklearn.metrics import accuracy_score\n",
    "from sklearn.model_selection import cross_val_score\n",
    "from sklearn.model_selection import GridSearchCV\n"
   ],
   "metadata": {
    "collapsed": false,
    "ExecuteTime": {
     "end_time": "2024-05-22T21:12:26.540989Z",
     "start_time": "2024-05-22T21:12:26.448591Z"
    }
   },
   "id": "3a781df8b906205",
   "execution_count": 44
  },
  {
   "cell_type": "code",
   "outputs": [],
   "source": [
    "def train_model(train_dataset_file, input_cols, result_col):\n",
    "    \"\"\"Create a logistic regression model on the provided dataset (including an expected result column) and fits/trains it on the result column.\"\"\"\n",
    "    x, y = prepare_dataset(train_dataset_file, input_cols, result_col)\n",
    "    X_train, X_test, y_train, y_test = train_test_split(x, y, test_size=0.2, random_state=45)\n",
    "    # Instantiate the model\n",
    "    logReg = LogisticRegression(solver='liblinear', penalty='l1', C= 1.0)\n",
    "    logReg.fit(X_train, y_train)\n",
    "\n",
    "  \n",
    "\n",
    "    return logReg"
   ],
   "metadata": {
    "collapsed": false,
    "ExecuteTime": {
     "end_time": "2024-05-22T21:12:26.647567Z",
     "start_time": "2024-05-22T21:12:26.542987Z"
    }
   },
   "id": "4a309d0a8c319773",
   "execution_count": 45
  },
  {
   "cell_type": "code",
   "outputs": [
    {
     "name": "stdout",
     "output_type": "stream",
     "text": [
      "Datasets are compatible\n",
      "0.63 accuracy with a standard deviation of 0.17\n"
     ]
    },
    {
     "data": {
      "text/plain": "0.7611940298507462"
     },
     "execution_count": 48,
     "metadata": {},
     "output_type": "execute_result"
    }
   ],
   "source": [
    "# Parameters\n",
    "# Chose variables to create the model\n",
    "input_cols = ['shape', 'rising_entrance', 'shards', 'feathering', 'entrance_mounding']\n",
    "result_col = 'result'\n",
    "# Load the train and the validation datasets for blade class prediction\n",
    "train_dataset_file = '../DATA/Train/blade_prediction_train.xlsx'\n",
    "test_dataset_file = '../DATA/Validation/blade_prediction_validation.xlsx'\n",
    "# check that all inputs correspond \n",
    "check_input_data_indices(train_dataset_file, test_dataset_file, input_cols)\n",
    "\n",
    "#preparing the test dataset \n",
    "from sklearn.model_selection import train_test_split\n",
    "\n",
    "x, y = prepare_dataset(train_dataset_file, input_cols, result_col)\n",
    "\n",
    "X_train, X_test, y_train, y_test = train_test_split(x, y, test_size=0.2, random_state=45)\n",
    "\n",
    "logReg = LogisticRegression(solver='liblinear', penalty='l1', C= 1.0)\n",
    "logReg.fit(X_train, y_train)\n",
    "\n",
    "\n",
    "\n",
    "scores = cross_val_score(logReg, x, y, cv=10, scoring='accuracy')\n",
    "#printing the score for each of the cv \n",
    "scores\n",
    "\n",
    "#here we have the mean score and the standard deviation\n",
    "print(\"%0.2f accuracy with a standard deviation of %0.2f\" % (scores.mean(), scores.std()))\n",
    "\n",
    "# by default the cross val uses the score function (for classification is accuracy.)\n",
    "# if the sample is unbalanced, the use the f1 score i.e scoring = 'f1'. this can help with hyperparameter optimization. \n",
    "\n",
    "#scores = cross_val_score(logReg, x, y, cv=10)\n",
    "#printing the score for each of the cv \n",
    "# score in this case is associated with the scoring parameter (see below and can be modified)\n",
    "#scores\n",
    "\n",
    "#here we have the mean score and the standard deviation\n",
    "#print(\"%0.2f accuracy with a standard deviation of %0.2f\" % (scores.mean(), scores.std()))\n",
    "evaluate_model(logReg, test_dataset_file, input_cols, result_col)\n",
    "\n"
   ],
   "metadata": {
    "collapsed": false,
    "ExecuteTime": {
     "end_time": "2024-05-22T21:12:32.289799Z",
     "start_time": "2024-05-22T21:12:31.901485Z"
    }
   },
   "id": "bb1d44fa09c54a3c",
   "execution_count": 48
  },
  {
   "cell_type": "code",
   "outputs": [
    {
     "data": {
      "text/plain": "0.7357142857142858"
     },
     "execution_count": 49,
     "metadata": {},
     "output_type": "execute_result"
    }
   ],
   "source": [
    "evaluate_model(logReg, train_dataset_file, input_cols, result_col)"
   ],
   "metadata": {
    "collapsed": false,
    "ExecuteTime": {
     "end_time": "2024-05-22T21:12:37.847793Z",
     "start_time": "2024-05-22T21:12:37.697899Z"
    }
   },
   "id": "5fcaa5c2674d14b4",
   "execution_count": 49
  },
  {
   "cell_type": "code",
   "outputs": [],
   "source": [],
   "metadata": {
    "collapsed": false
   },
   "id": "80a1e311c657430f"
  }
 ],
 "metadata": {
  "kernelspec": {
   "display_name": "Python 3",
   "language": "python",
   "name": "python3"
  },
  "language_info": {
   "codemirror_mode": {
    "name": "ipython",
    "version": 2
   },
   "file_extension": ".py",
   "mimetype": "text/x-python",
   "name": "python",
   "nbconvert_exporter": "python",
   "pygments_lexer": "ipython2",
   "version": "2.7.6"
  }
 },
 "nbformat": 4,
 "nbformat_minor": 5
}
