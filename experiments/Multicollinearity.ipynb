{
 "cells": [
  {
   "cell_type": "code",
   "execution_count": 2,
   "id": "initial_id",
   "metadata": {
    "collapsed": true,
    "ExecuteTime": {
     "end_time": "2024-05-18T16:24:37.572616Z",
     "start_time": "2024-05-18T16:24:35.803375Z"
    }
   },
   "outputs": [],
   "source": [
    "from common import display_input_data, check_input_data_indices, train_model, prepare_dataset, evaluate_model, \\\n",
    "    run_input_optimizer, calculate_accuracy, calculate_error_rate\n",
    "import pandas as pd\n",
    "import ipywidgets as widgets\n",
    "import numpy as np\n",
    "import statsmodels\n",
    "import sklearn\n"
   ]
  },
  {
   "cell_type": "code",
   "outputs": [],
   "source": [
    "# Parameters\n",
    "# Chose variables to create the model\n",
    "input_cols = ['shape', 'profile_entrance', 'profile_exit', 'rising_entrance', 'rising_exit', 'shards', 'feathering', 'entrance_mounding', 'center_mounding', 'exit_mounding', 'mounding']\n",
    "result_col = 'result'\n",
    "# Load the train and the validation datasets for blade class prediction\n",
    "train_dataset_file = '../DATA/Train/blade_prediction_train.xlsx'\n",
    "test_dataset_file = '../DATA/Validation/blade_prediction_validation.xlsx'"
   ],
   "metadata": {
    "collapsed": false,
    "ExecuteTime": {
     "end_time": "2024-05-18T16:24:37.582563Z",
     "start_time": "2024-05-18T16:24:37.574625Z"
    }
   },
   "id": "eb0eaec07257d82f",
   "execution_count": 3
  },
  {
   "cell_type": "code",
   "outputs": [
    {
     "name": "stdout",
     "output_type": "stream",
     "text": [
      "Datasets are compatible\n"
     ]
    }
   ],
   "source": [
    "check_input_data_indices(train_dataset_file, test_dataset_file, input_cols)\n",
    "\n",
    "\n"
   ],
   "metadata": {
    "collapsed": false,
    "ExecuteTime": {
     "end_time": "2024-05-18T16:24:38.431159Z",
     "start_time": "2024-05-18T16:24:37.585687Z"
    }
   },
   "id": "6687a78a88c8a4a2",
   "execution_count": 4
  },
  {
   "cell_type": "code",
   "outputs": [
    {
     "data": {
      "text/plain": "             shape profile_entrance profile_exit rising_entrance rising_exit  \\\n0    indeterminate                V            V          single      single   \n1    indeterminate               I/            V          single   bilateral   \n2    indeterminate               I/            V          single   bilateral   \n3    indeterminate               I/            V          single   bilateral   \n4    indeterminate               I/            V          single   bilateral   \n..             ...              ...          ...             ...         ...   \n275              E                V            V          single      single   \n276              E                V           I/       bilateral   bilateral   \n277              E                V            V          absent      single   \n278              E                V            V          absent      absent   \n279              E                V            V          absent      single   \n\n     shards feathering entrance_mounding center_mounding exit_mounding  \\\n0    absent     absent            single          absent        single   \n1    absent     absent            single          absent        single   \n2    absent     absent            single          absent    bilateral    \n3    absent     absent            single          absent    bilateral    \n4    absent     absent            single          absent    bilateral    \n..      ...        ...               ...             ...           ...   \n275  absent     absent            single          absent        single   \n276  absent     absent            absent          absent        absent   \n277  absent     absent            absent          absent        absent   \n278  absent    present            absent          absent        absent   \n279  absent    present            absent          absent        single   \n\n        mounding  \n0     not marked  \n1    not marked   \n2    not marked   \n3    not marked   \n4    not marked   \n..           ...  \n275      marked   \n276       absent  \n277       absent  \n278       absent  \n279       marked  \n\n[280 rows x 11 columns]",
      "text/html": "<div>\n<style scoped>\n    .dataframe tbody tr th:only-of-type {\n        vertical-align: middle;\n    }\n\n    .dataframe tbody tr th {\n        vertical-align: top;\n    }\n\n    .dataframe thead th {\n        text-align: right;\n    }\n</style>\n<table border=\"1\" class=\"dataframe\">\n  <thead>\n    <tr style=\"text-align: right;\">\n      <th></th>\n      <th>shape</th>\n      <th>profile_entrance</th>\n      <th>profile_exit</th>\n      <th>rising_entrance</th>\n      <th>rising_exit</th>\n      <th>shards</th>\n      <th>feathering</th>\n      <th>entrance_mounding</th>\n      <th>center_mounding</th>\n      <th>exit_mounding</th>\n      <th>mounding</th>\n    </tr>\n  </thead>\n  <tbody>\n    <tr>\n      <th>0</th>\n      <td>indeterminate</td>\n      <td>V</td>\n      <td>V</td>\n      <td>single</td>\n      <td>single</td>\n      <td>absent</td>\n      <td>absent</td>\n      <td>single</td>\n      <td>absent</td>\n      <td>single</td>\n      <td>not marked</td>\n    </tr>\n    <tr>\n      <th>1</th>\n      <td>indeterminate</td>\n      <td>I/</td>\n      <td>V</td>\n      <td>single</td>\n      <td>bilateral</td>\n      <td>absent</td>\n      <td>absent</td>\n      <td>single</td>\n      <td>absent</td>\n      <td>single</td>\n      <td>not marked</td>\n    </tr>\n    <tr>\n      <th>2</th>\n      <td>indeterminate</td>\n      <td>I/</td>\n      <td>V</td>\n      <td>single</td>\n      <td>bilateral</td>\n      <td>absent</td>\n      <td>absent</td>\n      <td>single</td>\n      <td>absent</td>\n      <td>bilateral</td>\n      <td>not marked</td>\n    </tr>\n    <tr>\n      <th>3</th>\n      <td>indeterminate</td>\n      <td>I/</td>\n      <td>V</td>\n      <td>single</td>\n      <td>bilateral</td>\n      <td>absent</td>\n      <td>absent</td>\n      <td>single</td>\n      <td>absent</td>\n      <td>bilateral</td>\n      <td>not marked</td>\n    </tr>\n    <tr>\n      <th>4</th>\n      <td>indeterminate</td>\n      <td>I/</td>\n      <td>V</td>\n      <td>single</td>\n      <td>bilateral</td>\n      <td>absent</td>\n      <td>absent</td>\n      <td>single</td>\n      <td>absent</td>\n      <td>bilateral</td>\n      <td>not marked</td>\n    </tr>\n    <tr>\n      <th>...</th>\n      <td>...</td>\n      <td>...</td>\n      <td>...</td>\n      <td>...</td>\n      <td>...</td>\n      <td>...</td>\n      <td>...</td>\n      <td>...</td>\n      <td>...</td>\n      <td>...</td>\n      <td>...</td>\n    </tr>\n    <tr>\n      <th>275</th>\n      <td>E</td>\n      <td>V</td>\n      <td>V</td>\n      <td>single</td>\n      <td>single</td>\n      <td>absent</td>\n      <td>absent</td>\n      <td>single</td>\n      <td>absent</td>\n      <td>single</td>\n      <td>marked</td>\n    </tr>\n    <tr>\n      <th>276</th>\n      <td>E</td>\n      <td>V</td>\n      <td>I/</td>\n      <td>bilateral</td>\n      <td>bilateral</td>\n      <td>absent</td>\n      <td>absent</td>\n      <td>absent</td>\n      <td>absent</td>\n      <td>absent</td>\n      <td>absent</td>\n    </tr>\n    <tr>\n      <th>277</th>\n      <td>E</td>\n      <td>V</td>\n      <td>V</td>\n      <td>absent</td>\n      <td>single</td>\n      <td>absent</td>\n      <td>absent</td>\n      <td>absent</td>\n      <td>absent</td>\n      <td>absent</td>\n      <td>absent</td>\n    </tr>\n    <tr>\n      <th>278</th>\n      <td>E</td>\n      <td>V</td>\n      <td>V</td>\n      <td>absent</td>\n      <td>absent</td>\n      <td>absent</td>\n      <td>present</td>\n      <td>absent</td>\n      <td>absent</td>\n      <td>absent</td>\n      <td>absent</td>\n    </tr>\n    <tr>\n      <th>279</th>\n      <td>E</td>\n      <td>V</td>\n      <td>V</td>\n      <td>absent</td>\n      <td>single</td>\n      <td>absent</td>\n      <td>present</td>\n      <td>absent</td>\n      <td>absent</td>\n      <td>single</td>\n      <td>marked</td>\n    </tr>\n  </tbody>\n</table>\n<p>280 rows × 11 columns</p>\n</div>"
     },
     "metadata": {},
     "output_type": "display_data"
    }
   ],
   "source": [
    "df = pd.read_excel(train_dataset_file)\n",
    "\n",
    "#drop the last column \n",
    "df = df.iloc[:,:-1]\n",
    "display(df)"
   ],
   "metadata": {
    "collapsed": false,
    "ExecuteTime": {
     "end_time": "2024-05-18T16:25:45.416578Z",
     "start_time": "2024-05-18T16:25:45.297527Z"
    }
   },
   "id": "43f2aa2b37ab1965",
   "execution_count": 11
  },
  {
   "cell_type": "code",
   "outputs": [
    {
     "data": {
      "text/plain": "     shape  profile_entrance  profile_exit  rising_entrance  rising_exit  \\\n0        2                 1             1                2            2   \n1        2                 0             1                2            1   \n2        2                 0             1                2            1   \n3        2                 0             1                2            1   \n4        2                 0             1                2            1   \n..     ...               ...           ...              ...          ...   \n275      1                 1             1                2            2   \n276      1                 1             0                1            1   \n277      1                 1             1                0            2   \n278      1                 1             1                0            0   \n279      1                 1             1                0            2   \n\n     shards  feathering  entrance_mounding  center_mounding  exit_mounding  \\\n0         0           0                  2                0              2   \n1         0           0                  2                0              2   \n2         0           0                  2                0              1   \n3         0           0                  2                0              1   \n4         0           0                  2                0              1   \n..      ...         ...                ...              ...            ...   \n275       0           0                  2                0              2   \n276       0           0                  0                0              0   \n277       0           0                  0                0              0   \n278       0           2                  0                0              0   \n279       0           2                  0                0              2   \n\n     mounding  \n0           4  \n1           5  \n2           5  \n3           5  \n4           5  \n..        ...  \n275         3  \n276         0  \n277         0  \n278         0  \n279         2  \n\n[280 rows x 11 columns]",
      "text/html": "<div>\n<style scoped>\n    .dataframe tbody tr th:only-of-type {\n        vertical-align: middle;\n    }\n\n    .dataframe tbody tr th {\n        vertical-align: top;\n    }\n\n    .dataframe thead th {\n        text-align: right;\n    }\n</style>\n<table border=\"1\" class=\"dataframe\">\n  <thead>\n    <tr style=\"text-align: right;\">\n      <th></th>\n      <th>shape</th>\n      <th>profile_entrance</th>\n      <th>profile_exit</th>\n      <th>rising_entrance</th>\n      <th>rising_exit</th>\n      <th>shards</th>\n      <th>feathering</th>\n      <th>entrance_mounding</th>\n      <th>center_mounding</th>\n      <th>exit_mounding</th>\n      <th>mounding</th>\n    </tr>\n  </thead>\n  <tbody>\n    <tr>\n      <th>0</th>\n      <td>2</td>\n      <td>1</td>\n      <td>1</td>\n      <td>2</td>\n      <td>2</td>\n      <td>0</td>\n      <td>0</td>\n      <td>2</td>\n      <td>0</td>\n      <td>2</td>\n      <td>4</td>\n    </tr>\n    <tr>\n      <th>1</th>\n      <td>2</td>\n      <td>0</td>\n      <td>1</td>\n      <td>2</td>\n      <td>1</td>\n      <td>0</td>\n      <td>0</td>\n      <td>2</td>\n      <td>0</td>\n      <td>2</td>\n      <td>5</td>\n    </tr>\n    <tr>\n      <th>2</th>\n      <td>2</td>\n      <td>0</td>\n      <td>1</td>\n      <td>2</td>\n      <td>1</td>\n      <td>0</td>\n      <td>0</td>\n      <td>2</td>\n      <td>0</td>\n      <td>1</td>\n      <td>5</td>\n    </tr>\n    <tr>\n      <th>3</th>\n      <td>2</td>\n      <td>0</td>\n      <td>1</td>\n      <td>2</td>\n      <td>1</td>\n      <td>0</td>\n      <td>0</td>\n      <td>2</td>\n      <td>0</td>\n      <td>1</td>\n      <td>5</td>\n    </tr>\n    <tr>\n      <th>4</th>\n      <td>2</td>\n      <td>0</td>\n      <td>1</td>\n      <td>2</td>\n      <td>1</td>\n      <td>0</td>\n      <td>0</td>\n      <td>2</td>\n      <td>0</td>\n      <td>1</td>\n      <td>5</td>\n    </tr>\n    <tr>\n      <th>...</th>\n      <td>...</td>\n      <td>...</td>\n      <td>...</td>\n      <td>...</td>\n      <td>...</td>\n      <td>...</td>\n      <td>...</td>\n      <td>...</td>\n      <td>...</td>\n      <td>...</td>\n      <td>...</td>\n    </tr>\n    <tr>\n      <th>275</th>\n      <td>1</td>\n      <td>1</td>\n      <td>1</td>\n      <td>2</td>\n      <td>2</td>\n      <td>0</td>\n      <td>0</td>\n      <td>2</td>\n      <td>0</td>\n      <td>2</td>\n      <td>3</td>\n    </tr>\n    <tr>\n      <th>276</th>\n      <td>1</td>\n      <td>1</td>\n      <td>0</td>\n      <td>1</td>\n      <td>1</td>\n      <td>0</td>\n      <td>0</td>\n      <td>0</td>\n      <td>0</td>\n      <td>0</td>\n      <td>0</td>\n    </tr>\n    <tr>\n      <th>277</th>\n      <td>1</td>\n      <td>1</td>\n      <td>1</td>\n      <td>0</td>\n      <td>2</td>\n      <td>0</td>\n      <td>0</td>\n      <td>0</td>\n      <td>0</td>\n      <td>0</td>\n      <td>0</td>\n    </tr>\n    <tr>\n      <th>278</th>\n      <td>1</td>\n      <td>1</td>\n      <td>1</td>\n      <td>0</td>\n      <td>0</td>\n      <td>0</td>\n      <td>2</td>\n      <td>0</td>\n      <td>0</td>\n      <td>0</td>\n      <td>0</td>\n    </tr>\n    <tr>\n      <th>279</th>\n      <td>1</td>\n      <td>1</td>\n      <td>1</td>\n      <td>0</td>\n      <td>2</td>\n      <td>0</td>\n      <td>2</td>\n      <td>0</td>\n      <td>0</td>\n      <td>2</td>\n      <td>2</td>\n    </tr>\n  </tbody>\n</table>\n<p>280 rows × 11 columns</p>\n</div>"
     },
     "metadata": {},
     "output_type": "display_data"
    }
   ],
   "source": [
    "#label encoding for all categorical variables in dataset\n",
    "from sklearn.preprocessing import LabelEncoder\n",
    "label_encoder = LabelEncoder()\n",
    "\n",
    "df['shape'] = label_encoder.fit_transform(df['shape'])\n",
    "df['profile_entrance'] = label_encoder.fit_transform(df['profile_entrance'])\n",
    "df['profile_exit'] = label_encoder.fit_transform(df['profile_exit'])\n",
    "df['rising_entrance'] = label_encoder.fit_transform(df['rising_entrance'])\n",
    "df['rising_exit'] = label_encoder.fit_transform(df['rising_exit'])\n",
    "df['shards'] = label_encoder.fit_transform(df['shards'])\n",
    "df['feathering'] = label_encoder.fit_transform(df['feathering'])\n",
    "df['entrance_mounding'] = label_encoder.fit_transform(df['entrance_mounding'])\n",
    "df['center_mounding'] = label_encoder.fit_transform(df['center_mounding'])\n",
    "df['exit_mounding'] = label_encoder.fit_transform(df['exit_mounding'])\n",
    "df['mounding'] = label_encoder.fit_transform(df['mounding'])\n",
    "#df['result'] = label_encoder.fit_transform(df['result'])\n",
    "display(df)\n"
   ],
   "metadata": {
    "collapsed": false,
    "ExecuteTime": {
     "end_time": "2024-05-18T16:26:38.377190Z",
     "start_time": "2024-05-18T16:26:38.346187Z"
    }
   },
   "id": "a1650775d5b5d253",
   "execution_count": 13
  },
  {
   "cell_type": "code",
   "outputs": [
    {
     "data": {
      "text/plain": "            Attribute  VIF Scores\n0               shape    3.280161\n1    profile_entrance    3.765827\n2        profile_exit    6.178339\n3     rising_entrance    4.010628\n4         rising_exit    3.723072\n5              shards    1.305176\n6          feathering    1.309801\n7   entrance_mounding    3.176410\n8     center_mounding    2.717014\n9       exit_mounding    4.770127\n10           mounding    5.564651",
      "text/html": "<div>\n<style scoped>\n    .dataframe tbody tr th:only-of-type {\n        vertical-align: middle;\n    }\n\n    .dataframe tbody tr th {\n        vertical-align: top;\n    }\n\n    .dataframe thead th {\n        text-align: right;\n    }\n</style>\n<table border=\"1\" class=\"dataframe\">\n  <thead>\n    <tr style=\"text-align: right;\">\n      <th></th>\n      <th>Attribute</th>\n      <th>VIF Scores</th>\n    </tr>\n  </thead>\n  <tbody>\n    <tr>\n      <th>0</th>\n      <td>shape</td>\n      <td>3.280161</td>\n    </tr>\n    <tr>\n      <th>1</th>\n      <td>profile_entrance</td>\n      <td>3.765827</td>\n    </tr>\n    <tr>\n      <th>2</th>\n      <td>profile_exit</td>\n      <td>6.178339</td>\n    </tr>\n    <tr>\n      <th>3</th>\n      <td>rising_entrance</td>\n      <td>4.010628</td>\n    </tr>\n    <tr>\n      <th>4</th>\n      <td>rising_exit</td>\n      <td>3.723072</td>\n    </tr>\n    <tr>\n      <th>5</th>\n      <td>shards</td>\n      <td>1.305176</td>\n    </tr>\n    <tr>\n      <th>6</th>\n      <td>feathering</td>\n      <td>1.309801</td>\n    </tr>\n    <tr>\n      <th>7</th>\n      <td>entrance_mounding</td>\n      <td>3.176410</td>\n    </tr>\n    <tr>\n      <th>8</th>\n      <td>center_mounding</td>\n      <td>2.717014</td>\n    </tr>\n    <tr>\n      <th>9</th>\n      <td>exit_mounding</td>\n      <td>4.770127</td>\n    </tr>\n    <tr>\n      <th>10</th>\n      <td>mounding</td>\n      <td>5.564651</td>\n    </tr>\n  </tbody>\n</table>\n</div>"
     },
     "metadata": {},
     "output_type": "display_data"
    }
   ],
   "source": [
    "from statsmodels.stats.outliers_influence import variance_inflation_factor\n",
    "vif_scores = pd.DataFrame() \n",
    "vif_scores[\"Attribute\"] = df.columns \n",
    "\n",
    "vif_scores[\"VIF Scores\"] = [variance_inflation_factor(df.values, i) for i in range(len(df.columns))] \n",
    "display(vif_scores)\n",
    "\n",
    "\n"
   ],
   "metadata": {
    "collapsed": false,
    "ExecuteTime": {
     "end_time": "2024-05-18T16:26:51.090113Z",
     "start_time": "2024-05-18T16:26:51.071089Z"
    }
   },
   "id": "51abe89144e3ecd8",
   "execution_count": 14
  },
  {
   "cell_type": "code",
   "outputs": [
    {
     "data": {
      "text/plain": "     shape  profile_entrance  rising_entrance  shards  mounding\n0        2                 1                2       0         4\n1        2                 0                2       0         5\n2        2                 0                2       0         5\n3        2                 0                2       0         5\n4        2                 0                2       0         5\n..     ...               ...              ...     ...       ...\n275      1                 1                2       0         3\n276      1                 1                1       0         0\n277      1                 1                0       0         0\n278      1                 1                0       0         0\n279      1                 1                0       0         2\n\n[280 rows x 5 columns]",
      "text/html": "<div>\n<style scoped>\n    .dataframe tbody tr th:only-of-type {\n        vertical-align: middle;\n    }\n\n    .dataframe tbody tr th {\n        vertical-align: top;\n    }\n\n    .dataframe thead th {\n        text-align: right;\n    }\n</style>\n<table border=\"1\" class=\"dataframe\">\n  <thead>\n    <tr style=\"text-align: right;\">\n      <th></th>\n      <th>shape</th>\n      <th>profile_entrance</th>\n      <th>rising_entrance</th>\n      <th>shards</th>\n      <th>mounding</th>\n    </tr>\n  </thead>\n  <tbody>\n    <tr>\n      <th>0</th>\n      <td>2</td>\n      <td>1</td>\n      <td>2</td>\n      <td>0</td>\n      <td>4</td>\n    </tr>\n    <tr>\n      <th>1</th>\n      <td>2</td>\n      <td>0</td>\n      <td>2</td>\n      <td>0</td>\n      <td>5</td>\n    </tr>\n    <tr>\n      <th>2</th>\n      <td>2</td>\n      <td>0</td>\n      <td>2</td>\n      <td>0</td>\n      <td>5</td>\n    </tr>\n    <tr>\n      <th>3</th>\n      <td>2</td>\n      <td>0</td>\n      <td>2</td>\n      <td>0</td>\n      <td>5</td>\n    </tr>\n    <tr>\n      <th>4</th>\n      <td>2</td>\n      <td>0</td>\n      <td>2</td>\n      <td>0</td>\n      <td>5</td>\n    </tr>\n    <tr>\n      <th>...</th>\n      <td>...</td>\n      <td>...</td>\n      <td>...</td>\n      <td>...</td>\n      <td>...</td>\n    </tr>\n    <tr>\n      <th>275</th>\n      <td>1</td>\n      <td>1</td>\n      <td>2</td>\n      <td>0</td>\n      <td>3</td>\n    </tr>\n    <tr>\n      <th>276</th>\n      <td>1</td>\n      <td>1</td>\n      <td>1</td>\n      <td>0</td>\n      <td>0</td>\n    </tr>\n    <tr>\n      <th>277</th>\n      <td>1</td>\n      <td>1</td>\n      <td>0</td>\n      <td>0</td>\n      <td>0</td>\n    </tr>\n    <tr>\n      <th>278</th>\n      <td>1</td>\n      <td>1</td>\n      <td>0</td>\n      <td>0</td>\n      <td>0</td>\n    </tr>\n    <tr>\n      <th>279</th>\n      <td>1</td>\n      <td>1</td>\n      <td>0</td>\n      <td>0</td>\n      <td>2</td>\n    </tr>\n  </tbody>\n</table>\n<p>280 rows × 5 columns</p>\n</div>"
     },
     "metadata": {},
     "output_type": "display_data"
    },
    {
     "data": {
      "text/plain": "          Attribute  VIF Scores\n0             shape    3.104964\n1  profile_entrance    3.079963\n2   rising_entrance    2.876348\n3            shards    1.080061\n4          mounding    3.062435",
      "text/html": "<div>\n<style scoped>\n    .dataframe tbody tr th:only-of-type {\n        vertical-align: middle;\n    }\n\n    .dataframe tbody tr th {\n        vertical-align: top;\n    }\n\n    .dataframe thead th {\n        text-align: right;\n    }\n</style>\n<table border=\"1\" class=\"dataframe\">\n  <thead>\n    <tr style=\"text-align: right;\">\n      <th></th>\n      <th>Attribute</th>\n      <th>VIF Scores</th>\n    </tr>\n  </thead>\n  <tbody>\n    <tr>\n      <th>0</th>\n      <td>shape</td>\n      <td>3.104964</td>\n    </tr>\n    <tr>\n      <th>1</th>\n      <td>profile_entrance</td>\n      <td>3.079963</td>\n    </tr>\n    <tr>\n      <th>2</th>\n      <td>rising_entrance</td>\n      <td>2.876348</td>\n    </tr>\n    <tr>\n      <th>3</th>\n      <td>shards</td>\n      <td>1.080061</td>\n    </tr>\n    <tr>\n      <th>4</th>\n      <td>mounding</td>\n      <td>3.062435</td>\n    </tr>\n  </tbody>\n</table>\n</div>"
     },
     "metadata": {},
     "output_type": "display_data"
    }
   ],
   "source": [
    "# use the optimized model variables and see the correlation between them\n",
    "# first is serration shape, cross profile entrance, rising entrance, shards, and mounding\n",
    "\n",
    "\n",
    "df2 = df.drop(['profile_exit','result', 'rising_exit','feathering', 'entrance_mounding', 'center_mounding', 'exit_mounding'], axis=1)\n",
    "display(df2)\n",
    "\n",
    "vif_scores_optimized_serration = pd.DataFrame() \n",
    "vif_scores_optimized_serration[\"Attribute\"] = df2.columns \n",
    "\n",
    "vif_scores_optimized_serration[\"VIF Scores\"] = [variance_inflation_factor(df2.values, i) for i in range(len(df2.columns))] \n",
    "display(vif_scores_optimized_serration)"
   ],
   "metadata": {
    "collapsed": false,
    "ExecuteTime": {
     "end_time": "2024-05-18T16:24:38.839556Z",
     "start_time": "2024-05-18T16:24:38.790043Z"
    }
   },
   "id": "10e86cc29eb6ca5e",
   "execution_count": 8
  },
  {
   "cell_type": "code",
   "outputs": [
    {
     "data": {
      "text/plain": "     shape  profile_entrance  rising_entrance  shards  mounding\n0        2                 1                2       0         4\n1        2                 0                2       0         5\n2        2                 0                2       0         5\n3        2                 0                2       0         5\n4        2                 0                2       0         5\n..     ...               ...              ...     ...       ...\n275      1                 1                2       0         3\n276      1                 1                1       0         0\n277      1                 1                0       0         0\n278      1                 1                0       0         0\n279      1                 1                0       0         2\n\n[280 rows x 5 columns]",
      "text/html": "<div>\n<style scoped>\n    .dataframe tbody tr th:only-of-type {\n        vertical-align: middle;\n    }\n\n    .dataframe tbody tr th {\n        vertical-align: top;\n    }\n\n    .dataframe thead th {\n        text-align: right;\n    }\n</style>\n<table border=\"1\" class=\"dataframe\">\n  <thead>\n    <tr style=\"text-align: right;\">\n      <th></th>\n      <th>shape</th>\n      <th>profile_entrance</th>\n      <th>rising_entrance</th>\n      <th>shards</th>\n      <th>mounding</th>\n    </tr>\n  </thead>\n  <tbody>\n    <tr>\n      <th>0</th>\n      <td>2</td>\n      <td>1</td>\n      <td>2</td>\n      <td>0</td>\n      <td>4</td>\n    </tr>\n    <tr>\n      <th>1</th>\n      <td>2</td>\n      <td>0</td>\n      <td>2</td>\n      <td>0</td>\n      <td>5</td>\n    </tr>\n    <tr>\n      <th>2</th>\n      <td>2</td>\n      <td>0</td>\n      <td>2</td>\n      <td>0</td>\n      <td>5</td>\n    </tr>\n    <tr>\n      <th>3</th>\n      <td>2</td>\n      <td>0</td>\n      <td>2</td>\n      <td>0</td>\n      <td>5</td>\n    </tr>\n    <tr>\n      <th>4</th>\n      <td>2</td>\n      <td>0</td>\n      <td>2</td>\n      <td>0</td>\n      <td>5</td>\n    </tr>\n    <tr>\n      <th>...</th>\n      <td>...</td>\n      <td>...</td>\n      <td>...</td>\n      <td>...</td>\n      <td>...</td>\n    </tr>\n    <tr>\n      <th>275</th>\n      <td>1</td>\n      <td>1</td>\n      <td>2</td>\n      <td>0</td>\n      <td>3</td>\n    </tr>\n    <tr>\n      <th>276</th>\n      <td>1</td>\n      <td>1</td>\n      <td>1</td>\n      <td>0</td>\n      <td>0</td>\n    </tr>\n    <tr>\n      <th>277</th>\n      <td>1</td>\n      <td>1</td>\n      <td>0</td>\n      <td>0</td>\n      <td>0</td>\n    </tr>\n    <tr>\n      <th>278</th>\n      <td>1</td>\n      <td>1</td>\n      <td>0</td>\n      <td>0</td>\n      <td>0</td>\n    </tr>\n    <tr>\n      <th>279</th>\n      <td>1</td>\n      <td>1</td>\n      <td>0</td>\n      <td>0</td>\n      <td>2</td>\n    </tr>\n  </tbody>\n</table>\n<p>280 rows × 5 columns</p>\n</div>"
     },
     "metadata": {},
     "output_type": "display_data"
    },
    {
     "data": {
      "text/plain": "           Attribute  VIF Scores\n0              shape    3.042916\n1   profile_entrance    3.174386\n2    rising_entrance    3.614019\n3        rising_exit    3.626699\n4             shards    1.304812\n5         feathering    1.308314\n6  entrance_mounding    2.964863\n7    center_mounding    2.712231\n8      exit_mounding    3.834949",
      "text/html": "<div>\n<style scoped>\n    .dataframe tbody tr th:only-of-type {\n        vertical-align: middle;\n    }\n\n    .dataframe tbody tr th {\n        vertical-align: top;\n    }\n\n    .dataframe thead th {\n        text-align: right;\n    }\n</style>\n<table border=\"1\" class=\"dataframe\">\n  <thead>\n    <tr style=\"text-align: right;\">\n      <th></th>\n      <th>Attribute</th>\n      <th>VIF Scores</th>\n    </tr>\n  </thead>\n  <tbody>\n    <tr>\n      <th>0</th>\n      <td>shape</td>\n      <td>3.042916</td>\n    </tr>\n    <tr>\n      <th>1</th>\n      <td>profile_entrance</td>\n      <td>3.174386</td>\n    </tr>\n    <tr>\n      <th>2</th>\n      <td>rising_entrance</td>\n      <td>3.614019</td>\n    </tr>\n    <tr>\n      <th>3</th>\n      <td>rising_exit</td>\n      <td>3.626699</td>\n    </tr>\n    <tr>\n      <th>4</th>\n      <td>shards</td>\n      <td>1.304812</td>\n    </tr>\n    <tr>\n      <th>5</th>\n      <td>feathering</td>\n      <td>1.308314</td>\n    </tr>\n    <tr>\n      <th>6</th>\n      <td>entrance_mounding</td>\n      <td>2.964863</td>\n    </tr>\n    <tr>\n      <th>7</th>\n      <td>center_mounding</td>\n      <td>2.712231</td>\n    </tr>\n    <tr>\n      <th>8</th>\n      <td>exit_mounding</td>\n      <td>3.834949</td>\n    </tr>\n  </tbody>\n</table>\n</div>"
     },
     "metadata": {},
     "output_type": "display_data"
    }
   ],
   "source": [
    "df3 = df.drop(['profile_exit','result','mounding'], axis=1)\n",
    "display(df2)\n",
    "\n",
    "vif_scores_dropped = pd.DataFrame() \n",
    "vif_scores_dropped[\"Attribute\"] = df3.columns \n",
    "\n",
    "vif_scores_dropped[\"VIF Scores\"] = [variance_inflation_factor(df3.values, i) for i in range(len(df3.columns))] \n",
    "display(vif_scores_dropped)"
   ],
   "metadata": {
    "collapsed": false,
    "ExecuteTime": {
     "end_time": "2024-05-18T16:24:38.894637Z",
     "start_time": "2024-05-18T16:24:38.842556Z"
    }
   },
   "id": "2826becc32cdf97a",
   "execution_count": 9
  },
  {
   "cell_type": "code",
   "outputs": [
    {
     "data": {
      "text/plain": "     shape  profile_entrance  rising_entrance  rising_exit  shards  \\\n0        2                 1                2            2       0   \n1        2                 0                2            1       0   \n2        2                 0                2            1       0   \n3        2                 0                2            1       0   \n4        2                 0                2            1       0   \n..     ...               ...              ...          ...     ...   \n275      1                 1                2            2       0   \n276      1                 1                1            1       0   \n277      1                 1                0            2       0   \n278      1                 1                0            0       0   \n279      1                 1                0            2       0   \n\n     feathering  entrance_mounding  center_mounding  exit_mounding  mounding  \n0             0                  2                0              2         4  \n1             0                  2                0              2         5  \n2             0                  2                0              1         5  \n3             0                  2                0              1         5  \n4             0                  2                0              1         5  \n..          ...                ...              ...            ...       ...  \n275           0                  2                0              2         3  \n276           0                  0                0              0         0  \n277           0                  0                0              0         0  \n278           2                  0                0              0         0  \n279           2                  0                0              2         2  \n\n[280 rows x 10 columns]",
      "text/html": "<div>\n<style scoped>\n    .dataframe tbody tr th:only-of-type {\n        vertical-align: middle;\n    }\n\n    .dataframe tbody tr th {\n        vertical-align: top;\n    }\n\n    .dataframe thead th {\n        text-align: right;\n    }\n</style>\n<table border=\"1\" class=\"dataframe\">\n  <thead>\n    <tr style=\"text-align: right;\">\n      <th></th>\n      <th>shape</th>\n      <th>profile_entrance</th>\n      <th>rising_entrance</th>\n      <th>rising_exit</th>\n      <th>shards</th>\n      <th>feathering</th>\n      <th>entrance_mounding</th>\n      <th>center_mounding</th>\n      <th>exit_mounding</th>\n      <th>mounding</th>\n    </tr>\n  </thead>\n  <tbody>\n    <tr>\n      <th>0</th>\n      <td>2</td>\n      <td>1</td>\n      <td>2</td>\n      <td>2</td>\n      <td>0</td>\n      <td>0</td>\n      <td>2</td>\n      <td>0</td>\n      <td>2</td>\n      <td>4</td>\n    </tr>\n    <tr>\n      <th>1</th>\n      <td>2</td>\n      <td>0</td>\n      <td>2</td>\n      <td>1</td>\n      <td>0</td>\n      <td>0</td>\n      <td>2</td>\n      <td>0</td>\n      <td>2</td>\n      <td>5</td>\n    </tr>\n    <tr>\n      <th>2</th>\n      <td>2</td>\n      <td>0</td>\n      <td>2</td>\n      <td>1</td>\n      <td>0</td>\n      <td>0</td>\n      <td>2</td>\n      <td>0</td>\n      <td>1</td>\n      <td>5</td>\n    </tr>\n    <tr>\n      <th>3</th>\n      <td>2</td>\n      <td>0</td>\n      <td>2</td>\n      <td>1</td>\n      <td>0</td>\n      <td>0</td>\n      <td>2</td>\n      <td>0</td>\n      <td>1</td>\n      <td>5</td>\n    </tr>\n    <tr>\n      <th>4</th>\n      <td>2</td>\n      <td>0</td>\n      <td>2</td>\n      <td>1</td>\n      <td>0</td>\n      <td>0</td>\n      <td>2</td>\n      <td>0</td>\n      <td>1</td>\n      <td>5</td>\n    </tr>\n    <tr>\n      <th>...</th>\n      <td>...</td>\n      <td>...</td>\n      <td>...</td>\n      <td>...</td>\n      <td>...</td>\n      <td>...</td>\n      <td>...</td>\n      <td>...</td>\n      <td>...</td>\n      <td>...</td>\n    </tr>\n    <tr>\n      <th>275</th>\n      <td>1</td>\n      <td>1</td>\n      <td>2</td>\n      <td>2</td>\n      <td>0</td>\n      <td>0</td>\n      <td>2</td>\n      <td>0</td>\n      <td>2</td>\n      <td>3</td>\n    </tr>\n    <tr>\n      <th>276</th>\n      <td>1</td>\n      <td>1</td>\n      <td>1</td>\n      <td>1</td>\n      <td>0</td>\n      <td>0</td>\n      <td>0</td>\n      <td>0</td>\n      <td>0</td>\n      <td>0</td>\n    </tr>\n    <tr>\n      <th>277</th>\n      <td>1</td>\n      <td>1</td>\n      <td>0</td>\n      <td>2</td>\n      <td>0</td>\n      <td>0</td>\n      <td>0</td>\n      <td>0</td>\n      <td>0</td>\n      <td>0</td>\n    </tr>\n    <tr>\n      <th>278</th>\n      <td>1</td>\n      <td>1</td>\n      <td>0</td>\n      <td>0</td>\n      <td>0</td>\n      <td>2</td>\n      <td>0</td>\n      <td>0</td>\n      <td>0</td>\n      <td>0</td>\n    </tr>\n    <tr>\n      <th>279</th>\n      <td>1</td>\n      <td>1</td>\n      <td>0</td>\n      <td>2</td>\n      <td>0</td>\n      <td>2</td>\n      <td>0</td>\n      <td>0</td>\n      <td>2</td>\n      <td>2</td>\n    </tr>\n  </tbody>\n</table>\n<p>280 rows × 10 columns</p>\n</div>"
     },
     "metadata": {},
     "output_type": "display_data"
    },
    {
     "data": {
      "text/plain": "           Attribute  VIF Scores\n0              shape    3.222832\n1   profile_entrance    3.174405\n2    rising_entrance    3.890277\n3        rising_exit    3.634886\n4             shards    1.304834\n5         feathering    1.309663\n6  entrance_mounding    3.174283\n7    center_mounding    2.714480\n8      exit_mounding    4.682941\n9           mounding    5.044733",
      "text/html": "<div>\n<style scoped>\n    .dataframe tbody tr th:only-of-type {\n        vertical-align: middle;\n    }\n\n    .dataframe tbody tr th {\n        vertical-align: top;\n    }\n\n    .dataframe thead th {\n        text-align: right;\n    }\n</style>\n<table border=\"1\" class=\"dataframe\">\n  <thead>\n    <tr style=\"text-align: right;\">\n      <th></th>\n      <th>Attribute</th>\n      <th>VIF Scores</th>\n    </tr>\n  </thead>\n  <tbody>\n    <tr>\n      <th>0</th>\n      <td>shape</td>\n      <td>3.222832</td>\n    </tr>\n    <tr>\n      <th>1</th>\n      <td>profile_entrance</td>\n      <td>3.174405</td>\n    </tr>\n    <tr>\n      <th>2</th>\n      <td>rising_entrance</td>\n      <td>3.890277</td>\n    </tr>\n    <tr>\n      <th>3</th>\n      <td>rising_exit</td>\n      <td>3.634886</td>\n    </tr>\n    <tr>\n      <th>4</th>\n      <td>shards</td>\n      <td>1.304834</td>\n    </tr>\n    <tr>\n      <th>5</th>\n      <td>feathering</td>\n      <td>1.309663</td>\n    </tr>\n    <tr>\n      <th>6</th>\n      <td>entrance_mounding</td>\n      <td>3.174283</td>\n    </tr>\n    <tr>\n      <th>7</th>\n      <td>center_mounding</td>\n      <td>2.714480</td>\n    </tr>\n    <tr>\n      <th>8</th>\n      <td>exit_mounding</td>\n      <td>4.682941</td>\n    </tr>\n    <tr>\n      <th>9</th>\n      <td>mounding</td>\n      <td>5.044733</td>\n    </tr>\n  </tbody>\n</table>\n</div>"
     },
     "metadata": {},
     "output_type": "display_data"
    }
   ],
   "source": [
    "df4 = df.drop(['result','profile_exit'], axis=1)\n",
    "display(df4)\n",
    "\n",
    "vif_scores_dropped = pd.DataFrame() \n",
    "vif_scores_dropped[\"Attribute\"] = df4.columns \n",
    "\n",
    "vif_scores_dropped[\"VIF Scores\"] = [variance_inflation_factor(df4.values, i) for i in range(len(df4.columns))] \n",
    "display(vif_scores_dropped)"
   ],
   "metadata": {
    "collapsed": false,
    "ExecuteTime": {
     "end_time": "2024-05-18T16:24:38.968478Z",
     "start_time": "2024-05-18T16:24:38.904825Z"
    }
   },
   "id": "c9db93268347582",
   "execution_count": 10
  },
  {
   "cell_type": "code",
   "outputs": [],
   "source": [],
   "metadata": {
    "collapsed": false,
    "ExecuteTime": {
     "end_time": "2024-05-18T16:24:38.979107Z",
     "start_time": "2024-05-18T16:24:38.972750Z"
    }
   },
   "id": "e3b769f7a92b1c0f",
   "execution_count": 10
  }
 ],
 "metadata": {
  "kernelspec": {
   "display_name": "Python 3",
   "language": "python",
   "name": "python3"
  },
  "language_info": {
   "codemirror_mode": {
    "name": "ipython",
    "version": 2
   },
   "file_extension": ".py",
   "mimetype": "text/x-python",
   "name": "python",
   "nbconvert_exporter": "python",
   "pygments_lexer": "ipython2",
   "version": "2.7.6"
  }
 },
 "nbformat": 4,
 "nbformat_minor": 5
}
