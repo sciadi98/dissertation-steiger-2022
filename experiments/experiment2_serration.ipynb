{
 "cells": [
  {
   "cell_type": "code",
   "execution_count": 19,
   "id": "initial_id",
   "metadata": {
    "collapsed": true,
    "ExecuteTime": {
     "end_time": "2024-05-31T09:05:24.334047Z",
     "start_time": "2024-05-31T09:05:24.215640Z"
    }
   },
   "outputs": [
    {
     "name": "stdout",
     "output_type": "stream",
     "text": [
      "The autoreload extension is already loaded. To reload it, use:\n",
      "  %reload_ext autoreload\n"
     ]
    }
   ],
   "source": [
    "%load_ext autoreload\n",
    "%autoreload 2"
   ]
  },
  {
   "cell_type": "code",
   "outputs": [],
   "source": [
    "# Imports\n",
    "from common import display_input_data, check_input_data_indices, train_model, prepare_dataset, evaluate_model, \\\n",
    "    run_input_optimizer, calculate_accuracy, calculate_error_rate\n",
    "import pandas as pd\n",
    "import ipywidgets as widgets\n",
    "import numpy as np\n",
    "import itertools\n",
    "import pandas as pd\n",
    "from sklearn.linear_model import LogisticRegression\n",
    "from sklearn.metrics import accuracy_score\n",
    "from sklearn.model_selection import cross_val_score\n",
    "from sklearn.model_selection import GridSearchCV"
   ],
   "metadata": {
    "collapsed": false,
    "ExecuteTime": {
     "end_time": "2024-05-31T09:05:24.443715Z",
     "start_time": "2024-05-31T09:05:24.335633Z"
    }
   },
   "id": "14e03cf69a1846d",
   "execution_count": 20
  },
  {
   "cell_type": "code",
   "outputs": [],
   "source": [
    "# Parameters\n",
    "# Chose variables to create the model\n",
    "#provare a mettere quelli della blade bevel che magari funzionano  \n",
    "input_cols = ['shape', 'profile_entrance', 'rising_entrance', 'rising_exit', 'shards', 'feathering', 'entrance_mounding', 'center_mounding', 'exit_mounding']\n",
    "result_col = 'result'\n",
    "# Load the train and the validation datasets for blade class prediction\n",
    "train_dataset_file = '../DATA/Train/serration_prediction_train.xlsx'\n",
    "test_dataset_file = '../DATA/Validation/serration_prediction_validation.xlsx'"
   ],
   "metadata": {
    "collapsed": false,
    "ExecuteTime": {
     "end_time": "2024-05-31T09:05:24.579594Z",
     "start_time": "2024-05-31T09:05:24.445030Z"
    }
   },
   "id": "5a294938f0337774",
   "execution_count": 21
  },
  {
   "cell_type": "code",
   "outputs": [
    {
     "name": "stdout",
     "output_type": "stream",
     "text": [
      "Datasets are compatible\n"
     ]
    }
   ],
   "source": [
    "# check that all inputs correspond \n",
    "check_input_data_indices(train_dataset_file, test_dataset_file, input_cols)\n",
    "\n",
    "#preparing the test dataset \n",
    "from sklearn.model_selection import train_test_split\n",
    "\n",
    "\n",
    "#X_train, X_test, y_train, y_test = train_test_split(x, y, test_size=0.2, random_state=61)"
   ],
   "metadata": {
    "collapsed": false,
    "ExecuteTime": {
     "end_time": "2024-05-31T09:05:24.815319Z",
     "start_time": "2024-05-31T09:05:24.581106Z"
    }
   },
   "id": "c111630c46f29386",
   "execution_count": 22
  },
  {
   "cell_type": "code",
   "outputs": [],
   "source": [
    "from collections import Counter\n",
    "from imblearn.over_sampling import SMOTE\n",
    "\n",
    "#preparing the test dataset \n",
    "from sklearn.model_selection import train_test_split\n",
    "x, y = prepare_dataset(train_dataset_file, input_cols, result_col)\n",
    "# counter = Counter(y)\n",
    "# print('Before', counter)\n",
    "# smt =SMOTE(sampling_strategy='all')\n",
    "# x_smt, y_smt = smt.fit_resample(x, y)\n",
    "# counter = Counter(y_smt)\n",
    "# print('After', counter)\n",
    "# #con 48 ottengo accuracy del 79\n",
    "# #X_train, X_test, y_train, y_test = train_test_split(x, y, test_size=0.2, random_state=61)\n",
    "# print(x)\n",
    "# print(y)"
   ],
   "metadata": {
    "collapsed": false,
    "ExecuteTime": {
     "end_time": "2024-05-31T09:05:24.957446Z",
     "start_time": "2024-05-31T09:05:24.817616Z"
    }
   },
   "id": "2e2aa49be2c9e60a",
   "execution_count": 23
  },
  {
   "cell_type": "code",
   "outputs": [
    {
     "data": {
      "text/plain": "LogisticRegression(C=100, solver='liblinear')",
      "text/html": "<style>#sk-container-id-2 {color: black;}#sk-container-id-2 pre{padding: 0;}#sk-container-id-2 div.sk-toggleable {background-color: white;}#sk-container-id-2 label.sk-toggleable__label {cursor: pointer;display: block;width: 100%;margin-bottom: 0;padding: 0.3em;box-sizing: border-box;text-align: center;}#sk-container-id-2 label.sk-toggleable__label-arrow:before {content: \"▸\";float: left;margin-right: 0.25em;color: #696969;}#sk-container-id-2 label.sk-toggleable__label-arrow:hover:before {color: black;}#sk-container-id-2 div.sk-estimator:hover label.sk-toggleable__label-arrow:before {color: black;}#sk-container-id-2 div.sk-toggleable__content {max-height: 0;max-width: 0;overflow: hidden;text-align: left;background-color: #f0f8ff;}#sk-container-id-2 div.sk-toggleable__content pre {margin: 0.2em;color: black;border-radius: 0.25em;background-color: #f0f8ff;}#sk-container-id-2 input.sk-toggleable__control:checked~div.sk-toggleable__content {max-height: 200px;max-width: 100%;overflow: auto;}#sk-container-id-2 input.sk-toggleable__control:checked~label.sk-toggleable__label-arrow:before {content: \"▾\";}#sk-container-id-2 div.sk-estimator input.sk-toggleable__control:checked~label.sk-toggleable__label {background-color: #d4ebff;}#sk-container-id-2 div.sk-label input.sk-toggleable__control:checked~label.sk-toggleable__label {background-color: #d4ebff;}#sk-container-id-2 input.sk-hidden--visually {border: 0;clip: rect(1px 1px 1px 1px);clip: rect(1px, 1px, 1px, 1px);height: 1px;margin: -1px;overflow: hidden;padding: 0;position: absolute;width: 1px;}#sk-container-id-2 div.sk-estimator {font-family: monospace;background-color: #f0f8ff;border: 1px dotted black;border-radius: 0.25em;box-sizing: border-box;margin-bottom: 0.5em;}#sk-container-id-2 div.sk-estimator:hover {background-color: #d4ebff;}#sk-container-id-2 div.sk-parallel-item::after {content: \"\";width: 100%;border-bottom: 1px solid gray;flex-grow: 1;}#sk-container-id-2 div.sk-label:hover label.sk-toggleable__label {background-color: #d4ebff;}#sk-container-id-2 div.sk-serial::before {content: \"\";position: absolute;border-left: 1px solid gray;box-sizing: border-box;top: 0;bottom: 0;left: 50%;z-index: 0;}#sk-container-id-2 div.sk-serial {display: flex;flex-direction: column;align-items: center;background-color: white;padding-right: 0.2em;padding-left: 0.2em;position: relative;}#sk-container-id-2 div.sk-item {position: relative;z-index: 1;}#sk-container-id-2 div.sk-parallel {display: flex;align-items: stretch;justify-content: center;background-color: white;position: relative;}#sk-container-id-2 div.sk-item::before, #sk-container-id-2 div.sk-parallel-item::before {content: \"\";position: absolute;border-left: 1px solid gray;box-sizing: border-box;top: 0;bottom: 0;left: 50%;z-index: -1;}#sk-container-id-2 div.sk-parallel-item {display: flex;flex-direction: column;z-index: 1;position: relative;background-color: white;}#sk-container-id-2 div.sk-parallel-item:first-child::after {align-self: flex-end;width: 50%;}#sk-container-id-2 div.sk-parallel-item:last-child::after {align-self: flex-start;width: 50%;}#sk-container-id-2 div.sk-parallel-item:only-child::after {width: 0;}#sk-container-id-2 div.sk-dashed-wrapped {border: 1px dashed gray;margin: 0 0.4em 0.5em 0.4em;box-sizing: border-box;padding-bottom: 0.4em;background-color: white;}#sk-container-id-2 div.sk-label label {font-family: monospace;font-weight: bold;display: inline-block;line-height: 1.2em;}#sk-container-id-2 div.sk-label-container {text-align: center;}#sk-container-id-2 div.sk-container {/* jupyter's `normalize.less` sets `[hidden] { display: none; }` but bootstrap.min.css set `[hidden] { display: none !important; }` so we also need the `!important` here to be able to override the default hidden behavior on the sphinx rendered scikit-learn.org. See: https://github.com/scikit-learn/scikit-learn/issues/21755 */display: inline-block !important;position: relative;}#sk-container-id-2 div.sk-text-repr-fallback {display: none;}</style><div id=\"sk-container-id-2\" class=\"sk-top-container\"><div class=\"sk-text-repr-fallback\"><pre>LogisticRegression(C=100, solver=&#x27;liblinear&#x27;)</pre><b>In a Jupyter environment, please rerun this cell to show the HTML representation or trust the notebook. <br />On GitHub, the HTML representation is unable to render, please try loading this page with nbviewer.org.</b></div><div class=\"sk-container\" hidden><div class=\"sk-item\"><div class=\"sk-estimator sk-toggleable\"><input class=\"sk-toggleable__control sk-hidden--visually\" id=\"sk-estimator-id-2\" type=\"checkbox\" checked><label for=\"sk-estimator-id-2\" class=\"sk-toggleable__label sk-toggleable__label-arrow\">LogisticRegression</label><div class=\"sk-toggleable__content\"><pre>LogisticRegression(C=100, solver=&#x27;liblinear&#x27;)</pre></div></div></div></div></div>"
     },
     "execution_count": 24,
     "metadata": {},
     "output_type": "execute_result"
    }
   ],
   "source": [
    "logReg = LogisticRegression(solver='liblinear', C = 100, penalty = 'l2')\n",
    "logReg.fit(x, y)\n"
   ],
   "metadata": {
    "collapsed": false,
    "ExecuteTime": {
     "end_time": "2024-05-31T09:05:25.067292Z",
     "start_time": "2024-05-31T09:05:24.958776Z"
    }
   },
   "id": "47b9fa802d83959b",
   "execution_count": 24
  },
  {
   "cell_type": "markdown",
   "source": [],
   "metadata": {
    "collapsed": false
   },
   "id": "f4732f1136c2c1c5"
  },
  {
   "cell_type": "code",
   "outputs": [],
   "source": [
    "# scores = cross_val_score(logReg, x, y, cv=10, scoring= 'accuracy')\n",
    "# #printing the score for each of the cv \n",
    "# scores\n",
    "# \n",
    "# #here we have the mean score and the standard deviation\n",
    "# print(\"%0.2f accuracy with a standard deviation of %0.2f\" % (scores.mean(), scores.std()))"
   ],
   "metadata": {
    "collapsed": false,
    "ExecuteTime": {
     "end_time": "2024-05-31T09:05:25.176015Z",
     "start_time": "2024-05-31T09:05:25.069017Z"
    }
   },
   "id": "71e5ca811f96aa46",
   "execution_count": 25
  },
  {
   "cell_type": "code",
   "outputs": [
    {
     "data": {
      "text/plain": "{'fit_time': array([0.00343847, 0.00342345, 0.00220966, 0.00170875, 0.00223732,\n        0.00225925, 0.00225234, 0.00223398, 0.00111461, 0.00223851]),\n 'score_time': array([0.00690818, 0.00600052, 0.00562835, 0.0055604 , 0.00452065,\n        0.00576758, 0.00534868, 0.00559258, 0.00559473, 0.00445008]),\n 'test_precision': array([0.75      , 0.6       , 0.66666667, 1.        , 1.        ,\n        1.        , 1.        , 0.66666667, 1.        , 0.625     ]),\n 'train_precision': array([0.83018868, 0.87378641, 0.88235294, 0.84158416, 0.8627451 ,\n        0.84761905, 0.86792453, 0.8490566 , 0.84158416, 0.87962963]),\n 'test_recall': array([1.        , 1.        , 0.83333333, 1.        , 0.66666667,\n        0.91666667, 0.58333333, 0.66666667, 0.75      , 0.41666667]),\n 'train_recall': array([0.81481481, 0.83333333, 0.83333333, 0.78703704, 0.81481481,\n        0.82407407, 0.85185185, 0.83333333, 0.78703704, 0.87962963]),\n 'test_f1_score': array([0.85714286, 0.75      , 0.74074074, 1.        , 0.8       ,\n        0.95652174, 0.73684211, 0.66666667, 0.85714286, 0.5       ]),\n 'train_f1_score': array([0.82242991, 0.85308057, 0.85714286, 0.81339713, 0.83809524,\n        0.83568075, 0.85981308, 0.8411215 , 0.81339713, 0.87962963]),\n 'test_AUC_scorer': array([0.875     , 0.75      , 0.76041667, 1.        , 0.83333333,\n        0.95833333, 0.79166667, 0.70833333, 0.875     , 0.61458333]),\n 'train_AUC_scorer': array([0.84490741, 0.87152778, 0.875     , 0.83796296, 0.8587963 ,\n        0.85648148, 0.87731481, 0.86111111, 0.83796296, 0.89467593]),\n 'test_accuracy': array([0.85714286, 0.71428571, 0.75      , 1.        , 0.85714286,\n        0.96428571, 0.82142857, 0.71428571, 0.89285714, 0.64285714]),\n 'train_accuracy': array([0.84920635, 0.87698413, 0.88095238, 0.8452381 , 0.86507937,\n        0.86111111, 0.88095238, 0.86507937, 0.8452381 , 0.8968254 ])}"
     },
     "execution_count": 26,
     "metadata": {},
     "output_type": "execute_result"
    }
   ],
   "source": [
    "from sklearn.metrics import make_scorer, precision_score, f1_score, recall_score, roc_auc_score, classification_report\n",
    "from sklearn.model_selection import cross_validate\n",
    "# Define custom scoring metrics\n",
    "scoring = {\n",
    "    'precision': make_scorer(precision_score),\n",
    "    'recall': make_scorer(recall_score),\n",
    "    'f1_score': make_scorer(f1_score),\n",
    "    'AUC_scorer': make_scorer(roc_auc_score),\n",
    "    'accuracy': make_scorer(accuracy_score)\n",
    "}\n",
    "\n",
    "scores = cross_validate(logReg, x, y, cv=10, scoring= scoring, return_train_score= True)\n",
    "#printing the score for each of the cv \n",
    "scores\n",
    "\n",
    "#here we have the mean score and the standard deviation\n",
    "#print(\"%0.2f accuracy with a standard deviation of %0.2f\" % (scores.mean(), scores.std()))\n",
    "#here is printing the score using the cross-validation\n"
   ],
   "metadata": {
    "collapsed": false,
    "ExecuteTime": {
     "end_time": "2024-05-31T09:05:25.440512Z",
     "start_time": "2024-05-31T09:05:25.177217Z"
    }
   },
   "id": "90d780b79b41631f",
   "execution_count": 26
  },
  {
   "cell_type": "code",
   "outputs": [
    {
     "name": "stdout",
     "output_type": "stream",
     "text": [
      "Evaluation metrics with threshold 0.5:\n",
      "Accuracy: 0.7164179104477612\n",
      "Precision: 0.6052631578947368\n",
      "Recall: 0.8518518518518519\n",
      "F1 score: 0.7076923076923076\n",
      "              precision    recall  f1-score   support\n",
      "\n",
      "non-serrated       0.86      0.62      0.72        40\n",
      "    serrated       0.61      0.85      0.71        27\n",
      "\n",
      "    accuracy                           0.72        67\n",
      "   macro avg       0.73      0.74      0.72        67\n",
      "weighted avg       0.76      0.72      0.72        67\n",
      "\n",
      "              precision    recall  f1-score   support\n",
      "\n",
      "       False       0.86      0.62      0.72        40\n",
      "        True       0.61      0.85      0.71        27\n",
      "\n",
      "    accuracy                           0.72        67\n",
      "   macro avg       0.73      0.74      0.72        67\n",
      "weighted avg       0.76      0.72      0.72        67\n"
     ]
    }
   ],
   "source": [
    "x_test, y_test = prepare_dataset(test_dataset_file, input_cols, result_col)\n",
    "y_pred = logReg.predict(x_test)\n",
    "# print(y_test)\n",
    "#assuming y_true contains the true labels and y_pred contains the predicted labels\n",
    "#Calculate precision\n",
    "\n",
    "# # changing threshold and predicting \n",
    "# print('prediction with threshold 0.9 :') \n",
    "# y_pred_new_threshold = (logReg.predict_proba(x_test)[:, 1] >= 0.4).astype(int) \n",
    "# print(y_pred_new_threshold)\n",
    "\n",
    "target_names = ['non-serrated', 'serrated']\n",
    "# Evaluation metrics for default threshold \n",
    "print(\"Evaluation metrics with threshold 0.5:\") \n",
    "print(\"Accuracy:\", accuracy_score(y_test, y_pred)) \n",
    "print(\"Precision:\", precision_score(y_test, y_pred)) \n",
    "print(\"Recall:\", recall_score(y_test, y_pred)) \n",
    "print(\"F1 score:\", f1_score(y_test, y_pred))\n",
    "\n",
    "class_report = classification_report(y_test, y_pred, target_names= target_names)\n",
    "print(class_report)\n",
    "\n",
    "class_report = classification_report(y_test, y_pred)\n",
    "print(class_report)\n",
    "\n",
    "# # Evaluation metrics for new threshold \n",
    "# print(\"Evaluation metrics with threshold 0.7:\") \n",
    "# print(\"Accuracy:\", accuracy_score(y_test, y_pred_new_threshold)) \n",
    "# print(\"Precision:\", precision_score(y_test, y_pred_new_threshold)) \n",
    "# print(\"Recall:\", recall_score(y_test, y_pred_new_threshold)) \n",
    "# print(\"F1 score:\", f1_score(y_test, y_pred_new_threshold))\n",
    "# class_report = classification_report(y_test, y_pred_new_threshold)\n",
    "# print(class_report)"
   ],
   "metadata": {
    "collapsed": false,
    "ExecuteTime": {
     "end_time": "2024-05-31T09:05:25.565487Z",
     "start_time": "2024-05-31T09:05:25.442722Z"
    }
   },
   "id": "237c3dc8bbffdf1f",
   "execution_count": 27
  },
  {
   "cell_type": "code",
   "outputs": [
    {
     "name": "stdout",
     "output_type": "stream",
     "text": [
      "Area Under the ROC Curve for threshold 0.5: 0.7953703703703704\n"
     ]
    },
    {
     "ename": "NameError",
     "evalue": "name 'y_pred_new_threshold' is not defined",
     "output_type": "error",
     "traceback": [
      "\u001B[1;31m---------------------------------------------------------------------------\u001B[0m",
      "\u001B[1;31mNameError\u001B[0m                                 Traceback (most recent call last)",
      "Cell \u001B[1;32mIn[28], line 10\u001B[0m\n\u001B[0;32m      7\u001B[0m \u001B[38;5;28mprint\u001B[39m(\u001B[38;5;124m'\u001B[39m\u001B[38;5;124mArea Under the ROC Curve for threshold 0.5:\u001B[39m\u001B[38;5;124m'\u001B[39m, roc_auc_score(y_test, y_scores)) \n\u001B[0;32m      9\u001B[0m \u001B[38;5;66;03m# For Threshold 0.9 \u001B[39;00m\n\u001B[1;32m---> 10\u001B[0m fpr_, tpr_, thresholds_ \u001B[38;5;241m=\u001B[39m roc_curve(y_test, \u001B[43my_pred_new_threshold\u001B[49m) \n\u001B[0;32m     11\u001B[0m \u001B[38;5;28mprint\u001B[39m(\u001B[38;5;124m'\u001B[39m\u001B[38;5;124mArea Under the ROC Curve for threshold 0.9:\u001B[39m\u001B[38;5;124m'\u001B[39m, roc_auc_score(y_test, y_pred_new_threshold)) \n\u001B[0;32m     12\u001B[0m plt\u001B[38;5;241m.\u001B[39mplot(fpr_, tpr_, label \u001B[38;5;241m=\u001B[39m \u001B[38;5;124m'\u001B[39m\u001B[38;5;124mThreshold = 0.9\u001B[39m\u001B[38;5;124m'\u001B[39m) \n",
      "\u001B[1;31mNameError\u001B[0m: name 'y_pred_new_threshold' is not defined"
     ]
    },
    {
     "data": {
      "text/plain": "<Figure size 640x480 with 1 Axes>",
      "image/png": "[encoded data removed]"
     },
     "metadata": {},
     "output_type": "display_data"
    }
   ],
   "source": [
    "from sklearn.metrics import roc_curve\n",
    "import matplotlib.pyplot as plt\n",
    "# ROC Curve \n",
    "y_scores = logReg.predict_proba(x_test)[:, 1] \n",
    "fpr, tpr, thresholds = roc_curve(y_test, y_scores) \n",
    "plt.plot(fpr, tpr,  label = 'Threshold = 0.5') \n",
    "print('Area Under the ROC Curve for threshold 0.5:', roc_auc_score(y_test, y_scores)) \n",
    "\n",
    "# For Threshold 0.9 \n",
    "fpr_, tpr_, thresholds_ = roc_curve(y_test, y_pred_new_threshold) \n",
    "print('Area Under the ROC Curve for threshold 0.9:', roc_auc_score(y_test, y_pred_new_threshold)) \n",
    "plt.plot(fpr_, tpr_, label = 'Threshold = 0.9') \n",
    "\n",
    "plt.xlabel('False Positive Rate') \n",
    "plt.ylabel('True Positive Rate') \n",
    "plt.title('ROC Curve') \n",
    "plt.legend() \n",
    "plt.show()\n",
    "\n",
    "\n",
    "\n",
    "\n",
    "\n",
    "from sklearn.metrics import confusion_matrix\n",
    "\n",
    "\n",
    "\n",
    "# plot confusion matrix\n",
    "cm_dot_five = confusion_matrix(y_test, y_pred)\n",
    "cm_dot_five"
   ],
   "metadata": {
    "collapsed": false,
    "ExecuteTime": {
     "end_time": "2024-05-31T09:05:26.006339Z",
     "start_time": "2024-05-31T09:05:25.568880Z"
    }
   },
   "id": "efb0ca2c53ea0b9",
   "execution_count": 28
  },
  {
   "cell_type": "code",
   "outputs": [],
   "source": [],
   "metadata": {
    "collapsed": false,
    "ExecuteTime": {
     "start_time": "2024-05-31T09:05:26.007611Z"
    }
   },
   "id": "c0aa3e067ae15d85",
   "execution_count": null
  },
  {
   "cell_type": "code",
   "outputs": [],
   "source": [
    "# use gridsearch to find the best hyperparameters using cross-validation \n",
    "# set the dictionaries for the best parameter combination \n",
    "param_grid = {\n",
    "\n",
    "    'solver': ['liblinear'],\n",
    "    'C': [100, 10, 1.0, 0.1, 0.01],\n",
    "    'penalty': ['l1', 'l2']\n",
    "}\n",
    "\n",
    "grid_search = GridSearchCV(estimator = LogisticRegression(), refit='accuracy',  param_grid= param_grid, scoring=['accuracy'], cv=10,)\n",
    "\n",
    "\n",
    "grid_result = grid_search.fit(x, y)\n",
    "\n",
    "# summarize results\n",
    "print(\"Best: %f using %s\" % (grid_result.best_score_, grid_result.best_params_))"
   ],
   "metadata": {
    "collapsed": false,
    "ExecuteTime": {
     "start_time": "2024-05-31T09:05:26.008829Z"
    }
   },
   "id": "1fef52d6861ec099",
   "execution_count": null
  },
  {
   "cell_type": "code",
   "outputs": [],
   "source": [
    "# filter data for the new dataframe\n",
    "df = pd.read_excel(test_dataset_file)\n",
    "label = df[\"label\"]"
   ],
   "metadata": {
    "collapsed": false,
    "ExecuteTime": {
     "start_time": "2024-05-31T09:05:26.010061Z"
    }
   },
   "id": "eccd64f95f07fd91",
   "execution_count": null
  },
  {
   "cell_type": "code",
   "outputs": [],
   "source": [
    "#build dataframe with result, expected result and label \n",
    "\n",
    "data = {'label': label, 'result': y_pred, \"expected_result\" : y_test}  \n",
    "  \n",
    "# Create DataFrame  \n",
    "df = pd.DataFrame(data)  \n",
    "   \n",
    "#print(df)  \n",
    "\n",
    "grouped_df = df.groupby(by = \"label\")"
   ],
   "metadata": {
    "collapsed": false
   },
   "id": "149de02a86ca15d4",
   "execution_count": null
  },
  {
   "cell_type": "code",
   "outputs": [],
   "source": [
    "five = grouped_df.get_group(5)\n",
    "six = grouped_df.get_group(6)\n",
    "seven = grouped_df.get_group(7)\n",
    "\n",
    "serrated = pd.concat([five, six, seven], ignore_index= True)\n",
    "\n",
    "print(f'serrated\\n{serrated}\\n')\n",
    "serrated_accuracy = calculate_accuracy(serrated)\n",
    "\n",
    "print( \"For serrated class\") \n",
    "    #print(\"total correct:\", tot_corr)\n",
    "    #print('total:', tot) \n",
    "    \n",
    "print(\"accuracy %:\", serrated_accuracy, \"\\n\")"
   ],
   "metadata": {
    "collapsed": false,
    "ExecuteTime": {
     "start_time": "2024-05-31T09:05:26.013198Z"
    }
   },
   "id": "e2e0489c19e04e5b",
   "execution_count": null
  },
  {
   "cell_type": "code",
   "outputs": [],
   "source": [
    "for name, sub_df in grouped_df:\n",
    "    print(f'{name}\\n{sub_df}\\n')\n",
    "\n",
    "# calculate accuracy for non_serrated class\n",
    "one = grouped_df.get_group(1)\n",
    "two = grouped_df.get_group(2)\n",
    "three = grouped_df.get_group(3)\n",
    "four = grouped_df.get_group(4)\n",
    "\n",
    "non_serrated = pd.concat([one, two, three, four], ignore_index= True)\n",
    "print(f'non-serrated\\n{non_serrated}\\n')\n",
    "non_serrated_accuracy = calculate_accuracy(non_serrated)\n",
    "\n",
    "print( \"For non-serrated class\") \n",
    "    #print(\"total correct:\", tot_corr)\n",
    "    #print('total:', tot) \n",
    "    \n",
    "print(\"accuracy %:\", non_serrated_accuracy, \"\\n\")"
   ],
   "metadata": {
    "collapsed": false
   },
   "id": "97894b75ea1f9a6e",
   "execution_count": null
  },
  {
   "cell_type": "code",
   "outputs": [],
   "source": [
    "# calculate accuracy for non_serrated class without knife number 4\n",
    "one = grouped_df.get_group(1)\n",
    "two = grouped_df.get_group(2)\n",
    "three = grouped_df.get_group(3)\n",
    "\n",
    "\n",
    "non_serrated = pd.concat([one, two, three], ignore_index= True)\n",
    "print(f'non-serrated\\n{non_serrated}\\n')\n",
    "non_serrated_accuracy = calculate_accuracy(non_serrated)\n",
    "\n",
    "print( \"For non-serrated class\") \n",
    "    #print(\"total correct:\", tot_corr)\n",
    "    #print('total:', tot) \n",
    "    \n",
    "print(\"accuracy %:\", non_serrated_accuracy, \"\\n\")"
   ],
   "metadata": {
    "collapsed": false,
    "ExecuteTime": {
     "start_time": "2024-05-31T09:05:26.016545Z"
    }
   },
   "id": "4c4f8c1998732e73",
   "execution_count": null
  },
  {
   "cell_type": "code",
   "outputs": [],
   "source": [
    "#calculate classification accuracy for each knife \n",
    "for name, sub_df in grouped_df:\n",
    "    accuracy_perc = calculate_accuracy(sub_df)\n",
    "  \n",
    "    print( \"knife:\", name) \n",
    "    #print(\"total correct:\", tot_corr)\n",
    "    #print('total:', tot) \n",
    "    \n",
    "    \n",
    "    print( \"accuracy %:\", accuracy_perc, \"\\n\")\n",
    "       "
   ],
   "metadata": {
    "collapsed": false
   },
   "id": "9cfba93e5c9b50ed",
   "execution_count": null
  },
  {
   "cell_type": "code",
   "outputs": [],
   "source": [],
   "metadata": {
    "collapsed": false,
    "ExecuteTime": {
     "start_time": "2024-05-31T09:05:26.066960Z"
    }
   },
   "id": "76cab5d9c387b97d",
   "execution_count": null
  }
 ],
 "metadata": {
  "kernelspec": {
   "display_name": "Python 3",
   "language": "python",
   "name": "python3"
  },
  "language_info": {
   "codemirror_mode": {
    "name": "ipython",
    "version": 2
   },
   "file_extension": ".py",
   "mimetype": "text/x-python",
   "name": "python",
   "nbconvert_exporter": "python",
   "pygments_lexer": "ipython2",
   "version": "2.7.6"
  }
 },
 "nbformat": 4,
 "nbformat_minor": 5
}
