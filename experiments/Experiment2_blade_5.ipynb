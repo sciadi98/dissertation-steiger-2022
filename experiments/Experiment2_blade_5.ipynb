{
 "cells": [
  {
   "cell_type": "code",
   "execution_count": 48,
   "id": "initial_id",
   "metadata": {
    "collapsed": true,
    "ExecuteTime": {
     "end_time": "2024-05-25T17:42:53.256556Z",
     "start_time": "2024-05-25T17:42:53.125027Z"
    }
   },
   "outputs": [
    {
     "name": "stdout",
     "output_type": "stream",
     "text": [
      "The autoreload extension is already loaded. To reload it, use:\n",
      "  %reload_ext autoreload\n"
     ]
    }
   ],
   "source": [
    "%load_ext autoreload\n",
    "%autoreload 2"
   ]
  },
  {
   "cell_type": "code",
   "outputs": [],
   "source": [
    "# Imports\n",
    "from common import display_input_data, check_input_data_indices, train_model, prepare_dataset, evaluate_model, \\\n",
    "    run_input_optimizer, calculate_accuracy, calculate_error_rate, run_input_optimizer_2\n",
    "import pandas as pd\n",
    "import ipywidgets as widgets\n",
    "import numpy as np\n",
    "import itertools\n",
    "import pandas as pd\n",
    "from sklearn.linear_model import LogisticRegression\n",
    "from sklearn.metrics import accuracy_score\n",
    "from sklearn.model_selection import cross_val_score\n",
    "from sklearn.model_selection import GridSearchCV"
   ],
   "metadata": {
    "collapsed": false,
    "ExecuteTime": {
     "end_time": "2024-05-25T17:42:53.399730Z",
     "start_time": "2024-05-25T17:42:53.259277Z"
    }
   },
   "id": "d2043adf87f27b43",
   "execution_count": 49
  },
  {
   "cell_type": "code",
   "outputs": [],
   "source": [
    "# Parameters\n",
    "# Chose variables to create the model: shape, cross-profile exit, rising entrance, shards, and mounding exit\n",
    "\n",
    "input_cols = ['shape', 'profile_exit', 'rising_entrance', 'shards','exit_mounding']\n",
    "result_col = 'result'\n",
    "# Load the train and the validation datasets for blade class prediction\n",
    "train_dataset_file = '../DATA/Train/blade_prediction_train.xlsx'\n",
    "test_dataset_file = '../DATA/Validation/blade_prediction_validation.xlsx'"
   ],
   "metadata": {
    "collapsed": false,
    "ExecuteTime": {
     "end_time": "2024-05-25T17:42:53.612037Z",
     "start_time": "2024-05-25T17:42:53.402002Z"
    }
   },
   "id": "9a0c9d085c30cc0f",
   "execution_count": 50
  },
  {
   "cell_type": "code",
   "outputs": [
    {
     "name": "stdout",
     "output_type": "stream",
     "text": [
      "Datasets are compatible\n"
     ]
    },
    {
     "data": {
      "text/plain": "LogisticRegression(penalty='l1', solver='liblinear')",
      "text/html": "<style>#sk-container-id-5 {color: black;}#sk-container-id-5 pre{padding: 0;}#sk-container-id-5 div.sk-toggleable {background-color: white;}#sk-container-id-5 label.sk-toggleable__label {cursor: pointer;display: block;width: 100%;margin-bottom: 0;padding: 0.3em;box-sizing: border-box;text-align: center;}#sk-container-id-5 label.sk-toggleable__label-arrow:before {content: \"▸\";float: left;margin-right: 0.25em;color: #696969;}#sk-container-id-5 label.sk-toggleable__label-arrow:hover:before {color: black;}#sk-container-id-5 div.sk-estimator:hover label.sk-toggleable__label-arrow:before {color: black;}#sk-container-id-5 div.sk-toggleable__content {max-height: 0;max-width: 0;overflow: hidden;text-align: left;background-color: #f0f8ff;}#sk-container-id-5 div.sk-toggleable__content pre {margin: 0.2em;color: black;border-radius: 0.25em;background-color: #f0f8ff;}#sk-container-id-5 input.sk-toggleable__control:checked~div.sk-toggleable__content {max-height: 200px;max-width: 100%;overflow: auto;}#sk-container-id-5 input.sk-toggleable__control:checked~label.sk-toggleable__label-arrow:before {content: \"▾\";}#sk-container-id-5 div.sk-estimator input.sk-toggleable__control:checked~label.sk-toggleable__label {background-color: #d4ebff;}#sk-container-id-5 div.sk-label input.sk-toggleable__control:checked~label.sk-toggleable__label {background-color: #d4ebff;}#sk-container-id-5 input.sk-hidden--visually {border: 0;clip: rect(1px 1px 1px 1px);clip: rect(1px, 1px, 1px, 1px);height: 1px;margin: -1px;overflow: hidden;padding: 0;position: absolute;width: 1px;}#sk-container-id-5 div.sk-estimator {font-family: monospace;background-color: #f0f8ff;border: 1px dotted black;border-radius: 0.25em;box-sizing: border-box;margin-bottom: 0.5em;}#sk-container-id-5 div.sk-estimator:hover {background-color: #d4ebff;}#sk-container-id-5 div.sk-parallel-item::after {content: \"\";width: 100%;border-bottom: 1px solid gray;flex-grow: 1;}#sk-container-id-5 div.sk-label:hover label.sk-toggleable__label {background-color: #d4ebff;}#sk-container-id-5 div.sk-serial::before {content: \"\";position: absolute;border-left: 1px solid gray;box-sizing: border-box;top: 0;bottom: 0;left: 50%;z-index: 0;}#sk-container-id-5 div.sk-serial {display: flex;flex-direction: column;align-items: center;background-color: white;padding-right: 0.2em;padding-left: 0.2em;position: relative;}#sk-container-id-5 div.sk-item {position: relative;z-index: 1;}#sk-container-id-5 div.sk-parallel {display: flex;align-items: stretch;justify-content: center;background-color: white;position: relative;}#sk-container-id-5 div.sk-item::before, #sk-container-id-5 div.sk-parallel-item::before {content: \"\";position: absolute;border-left: 1px solid gray;box-sizing: border-box;top: 0;bottom: 0;left: 50%;z-index: -1;}#sk-container-id-5 div.sk-parallel-item {display: flex;flex-direction: column;z-index: 1;position: relative;background-color: white;}#sk-container-id-5 div.sk-parallel-item:first-child::after {align-self: flex-end;width: 50%;}#sk-container-id-5 div.sk-parallel-item:last-child::after {align-self: flex-start;width: 50%;}#sk-container-id-5 div.sk-parallel-item:only-child::after {width: 0;}#sk-container-id-5 div.sk-dashed-wrapped {border: 1px dashed gray;margin: 0 0.4em 0.5em 0.4em;box-sizing: border-box;padding-bottom: 0.4em;background-color: white;}#sk-container-id-5 div.sk-label label {font-family: monospace;font-weight: bold;display: inline-block;line-height: 1.2em;}#sk-container-id-5 div.sk-label-container {text-align: center;}#sk-container-id-5 div.sk-container {/* jupyter's `normalize.less` sets `[hidden] { display: none; }` but bootstrap.min.css set `[hidden] { display: none !important; }` so we also need the `!important` here to be able to override the default hidden behavior on the sphinx rendered scikit-learn.org. See: https://github.com/scikit-learn/scikit-learn/issues/21755 */display: inline-block !important;position: relative;}#sk-container-id-5 div.sk-text-repr-fallback {display: none;}</style><div id=\"sk-container-id-5\" class=\"sk-top-container\"><div class=\"sk-text-repr-fallback\"><pre>LogisticRegression(penalty=&#x27;l1&#x27;, solver=&#x27;liblinear&#x27;)</pre><b>In a Jupyter environment, please rerun this cell to show the HTML representation or trust the notebook. <br />On GitHub, the HTML representation is unable to render, please try loading this page with nbviewer.org.</b></div><div class=\"sk-container\" hidden><div class=\"sk-item\"><div class=\"sk-estimator sk-toggleable\"><input class=\"sk-toggleable__control sk-hidden--visually\" id=\"sk-estimator-id-5\" type=\"checkbox\" checked><label for=\"sk-estimator-id-5\" class=\"sk-toggleable__label sk-toggleable__label-arrow\">LogisticRegression</label><div class=\"sk-toggleable__content\"><pre>LogisticRegression(penalty=&#x27;l1&#x27;, solver=&#x27;liblinear&#x27;)</pre></div></div></div></div></div>"
     },
     "execution_count": 51,
     "metadata": {},
     "output_type": "execute_result"
    }
   ],
   "source": [
    "# check that all inputs correspond \n",
    "check_input_data_indices(train_dataset_file, test_dataset_file, input_cols)\n",
    "\n",
    "#preparing the test dataset \n",
    "from sklearn.model_selection import train_test_split\n",
    "x, y = prepare_dataset(train_dataset_file, input_cols, result_col)\n",
    " # Instantiate the model\n",
    "logReg = LogisticRegression(solver='liblinear', penalty='l1', C= 1.0)\n",
    "logReg.fit(x, y)\n"
   ],
   "metadata": {
    "collapsed": false,
    "ExecuteTime": {
     "end_time": "2024-05-25T17:42:53.898989Z",
     "start_time": "2024-05-25T17:42:53.617922Z"
    }
   },
   "id": "7aaeb64c96e87449",
   "execution_count": 51
  },
  {
   "cell_type": "code",
   "outputs": [],
   "source": [
    "# def train_model(train_dataset_file, input_cols, result_col):\n",
    "#     \"\"\"Create a logistic regression model on the provided dataset (including an expected result column) and fits/trains it on the result column.\"\"\"\n",
    "#     x, y = prepare_dataset(train_dataset_file, input_cols, result_col)\n",
    "#     \n",
    "#     # Instantiate the model\n",
    "#     logReg = LogisticRegression(solver='liblinear', penalty='l1', C= 1.0)\n",
    "#     logReg.fit(x, y)\n",
    "# \n",
    "#   \n",
    "# \n",
    "#     return logReg\n",
    "\n",
    "\n",
    "\n",
    "\n",
    "\n"
   ],
   "metadata": {
    "collapsed": false,
    "ExecuteTime": {
     "end_time": "2024-05-25T17:42:54.050870Z",
     "start_time": "2024-05-25T17:42:53.900091Z"
    }
   },
   "id": "c347e12de6a5bf31",
   "execution_count": 52
  },
  {
   "cell_type": "code",
   "outputs": [
    {
     "data": {
      "text/plain": "{'fit_time': array([0.00462198, 0.00256681, 0.00258017, 0.00259519, 0.00208426,\n        0.00269389, 0.00231528, 0.00226688, 0.00226998, 0.00228429]),\n 'score_time': array([0.00850058, 0.00758696, 0.00767112, 0.00639653, 0.00637436,\n        0.00640655, 0.0067606 , 0.00674725, 0.00676727, 0.0068891 ]),\n 'test_precision': array([0.77777778, 0.79166667, 0.58333333, 0.58823529, 0.90909091,\n        0.86956522, 0.83333333, 0.86956522, 0.84210526, 0.94736842]),\n 'train_precision': array([0.88505747, 0.83333333, 0.85638298, 0.86111111, 0.81868132,\n        0.78672986, 0.79047619, 0.82162162, 0.83977901, 0.8258427 ]),\n 'test_recall': array([0.7 , 0.95, 0.35, 0.5 , 1.  , 1.  , 1.  , 1.  , 0.8 , 0.9 ]),\n 'train_recall': array([0.85555556, 0.83333333, 0.89444444, 0.86111111, 0.82777778,\n        0.92222222, 0.92222222, 0.84444444, 0.84444444, 0.81666667]),\n 'test_f1_score': array([0.73684211, 0.86363636, 0.4375    , 0.54054054, 0.95238095,\n        0.93023256, 0.90909091, 0.93023256, 0.82051282, 0.92307692]),\n 'train_f1_score': array([0.8700565 , 0.83333333, 0.875     , 0.86111111, 0.82320442,\n        0.84910486, 0.85128205, 0.83287671, 0.84210526, 0.82122905]),\n 'test_AUC_scorer': array([0.6   , 0.6625, 0.3625, 0.3125, 0.875 , 0.8125, 0.75  , 0.8125,\n        0.7125, 0.8875]),\n 'train_AUC_scorer': array([0.78888889, 0.70833333, 0.75972222, 0.75694444, 0.68472222,\n        0.64861111, 0.65555556, 0.69305556, 0.72083333, 0.69305556]),\n 'test_accuracy': array([0.64285714, 0.78571429, 0.35714286, 0.39285714, 0.92857143,\n        0.89285714, 0.85714286, 0.89285714, 0.75      , 0.89285714]),\n 'train_accuracy': array([0.81746032, 0.76190476, 0.81746032, 0.8015873 , 0.74603175,\n        0.76587302, 0.76984127, 0.75793651, 0.77380952, 0.74603175])}"
     },
     "execution_count": 53,
     "metadata": {},
     "output_type": "execute_result"
    }
   ],
   "source": [
    "\n",
    "#here we have the mean score and the standard deviation\n",
    "#print(\"%0.2f accuracy with a standard deviation of %0.2f\" % (scores.mean(), scores.std()))\n",
    "\n",
    "from sklearn.metrics import make_scorer, precision_score, f1_score, recall_score, roc_auc_score, classification_report\n",
    "from sklearn.model_selection import cross_validate\n",
    "# Define custom scoring metrics\n",
    "scoring = {\n",
    "    'precision': make_scorer(precision_score),\n",
    "    'recall': make_scorer(recall_score),\n",
    "    'f1_score': make_scorer(f1_score),\n",
    "    'AUC_scorer': make_scorer(roc_auc_score),\n",
    "    'accuracy': make_scorer(accuracy_score)\n",
    "}\n",
    "\n",
    "scores = cross_validate(logReg, x, y, cv=10, scoring= scoring, return_train_score= True)\n",
    "#printing the score for each of the cv \n",
    "scores\n",
    "\n",
    "#here we have the mean score and the standard deviation\n",
    "#print(\"%0.2f accuracy with a standard deviation of %0.2f\" % (scores.mean(), scores.std()))\n",
    "#here is printing the score using the cross-validation\n"
   ],
   "metadata": {
    "collapsed": false,
    "ExecuteTime": {
     "end_time": "2024-05-25T17:42:54.353366Z",
     "start_time": "2024-05-25T17:42:54.053056Z"
    }
   },
   "id": "dcdcc5e0231c39c2",
   "execution_count": 53
  },
  {
   "cell_type": "code",
   "outputs": [
    {
     "name": "stdout",
     "output_type": "stream",
     "text": [
      "              precision    recall  f1-score   support\n",
      "\n",
      "       False       0.81      0.65      0.72        20\n",
      "        True       0.86      0.94      0.90        47\n",
      "\n",
      "    accuracy                           0.85        67\n",
      "   macro avg       0.84      0.79      0.81        67\n",
      "weighted avg       0.85      0.85      0.85        67\n",
      "\n",
      "accuracy score 0.8507462686567164\n",
      "Precision: 0.8627450980392157\n",
      "Recall: 0.9361702127659575\n",
      "F1 Score: 0.8979591836734694\n",
      "ROC AUC: 0.7930851063829787\n"
     ]
    }
   ],
   "source": [
    "x_test, y_test = prepare_dataset(test_dataset_file, input_cols, result_col)\n",
    "y_pred = logReg.predict(x_test)\n",
    "\n",
    "\n",
    "#assuming y_true contains the true labels and y_pred contains the predicted labels\n",
    "#Calculate precision\n",
    "\n",
    "accuracy_score = accuracy_score(y_test, y_pred)\n",
    "precision = precision_score(y_test,y_pred)\n",
    "\n",
    "# Calculate recall\n",
    "recall = recall_score(y_test, y_pred)\n",
    "\n",
    "# Calculate F1 score\n",
    "f1 = f1_score(y_test, y_pred)\n",
    "#Calculate the ROC-AUC scorer\n",
    "ROC_AUC = roc_auc_score(y_test, y_pred)\n",
    "\n",
    "class_report = classification_report(y_test, y_pred)\n",
    "print(class_report)\n",
    "# Print or use the calculated precision, recall, and F1 score\n",
    "print('accuracy score', accuracy_score)\n",
    "print('Precision:', precision)\n",
    "print('Recall:', recall)\n",
    "print('F1 Score:', f1)\n",
    "print('ROC AUC:', ROC_AUC)"
   ],
   "metadata": {
    "collapsed": false,
    "ExecuteTime": {
     "end_time": "2024-05-25T17:42:54.492819Z",
     "start_time": "2024-05-25T17:42:54.355269Z"
    }
   },
   "id": "5642f261d08b9cb9",
   "execution_count": 54
  },
  {
   "cell_type": "code",
   "outputs": [],
   "source": [
    "def evaluate_overfitting(train_dataset_file, test_dataset_file, input_combination, result_col):\n",
    "\n",
    "    model = train_model(\n",
    "        train_dataset_file,\n",
    "        list(input_combination),\n",
    "        result_col\n",
    "    )\n",
    "    score_validation = evaluate_model(\n",
    "        model,\n",
    "        test_dataset_file,\n",
    "        list(input_combination),\n",
    "        result_col\n",
    "    )\n",
    "    score_train = evaluate_model(\n",
    "        model,\n",
    "        train_dataset_file,\n",
    "        list(input_combination),\n",
    "        result_col\n",
    "    )\n",
    "\n",
    "    accuracy_loss = score_train - score_validation\n",
    "     # print(score)\n",
    "    return model, score_validation, score_train, accuracy_loss\n",
    "\n",
    "\n"
   ],
   "metadata": {
    "collapsed": false,
    "ExecuteTime": {
     "end_time": "2024-05-25T17:42:54.601869Z",
     "start_time": "2024-05-25T17:42:54.494773Z"
    }
   },
   "id": "36d4e32c6288ebaf",
   "execution_count": 55
  },
  {
   "cell_type": "code",
   "outputs": [
    {
     "name": "stdout",
     "output_type": "stream",
     "text": [
      "Testing combinations of length 5\n"
     ]
    },
    {
     "data": {
      "text/plain": "[]"
     },
     "execution_count": 56,
     "metadata": {},
     "output_type": "execute_result"
    }
   ],
   "source": [
    "run_input_optimizer_2(train_dataset_file, test_dataset_file, input_cols, result_col)"
   ],
   "metadata": {
    "collapsed": false,
    "ExecuteTime": {
     "end_time": "2024-05-25T17:42:54.819587Z",
     "start_time": "2024-05-25T17:42:54.602967Z"
    }
   },
   "id": "1b13f3cf97d79dbd",
   "execution_count": 56
  },
  {
   "cell_type": "code",
   "outputs": [
    {
     "data": {
      "text/plain": "0.8507462686567164"
     },
     "execution_count": 57,
     "metadata": {},
     "output_type": "execute_result"
    }
   ],
   "source": [
    "#print(\"%0.2f accuracy with a standard deviation of %0.2f\" % (scores.mean(), scores.std()))\n",
    "evaluate_model(logReg, test_dataset_file, input_cols, result_col)"
   ],
   "metadata": {
    "collapsed": false,
    "ExecuteTime": {
     "end_time": "2024-05-25T17:42:54.944763Z",
     "start_time": "2024-05-25T17:42:54.822142Z"
    }
   },
   "id": "6dd4ac85e8f3ed02",
   "execution_count": 57
  },
  {
   "cell_type": "code",
   "outputs": [
    {
     "data": {
      "text/plain": "0.7642857142857142"
     },
     "execution_count": 58,
     "metadata": {},
     "output_type": "execute_result"
    }
   ],
   "source": [
    "evaluate_model(logReg, train_dataset_file, input_cols, result_col)"
   ],
   "metadata": {
    "collapsed": false,
    "ExecuteTime": {
     "end_time": "2024-05-25T17:42:55.115710Z",
     "start_time": "2024-05-25T17:42:54.945888Z"
    }
   },
   "id": "97abb3b3dcf6c3aa",
   "execution_count": 58
  },
  {
   "cell_type": "code",
   "outputs": [
    {
     "ename": "NameError",
     "evalue": "name 'X_train' is not defined",
     "output_type": "error",
     "traceback": [
      "\u001B[1;31m---------------------------------------------------------------------------\u001B[0m",
      "\u001B[1;31mNameError\u001B[0m                                 Traceback (most recent call last)",
      "Cell \u001B[1;32mIn[59], line 11\u001B[0m\n\u001B[0;32m      1\u001B[0m param_grid \u001B[38;5;241m=\u001B[39m {\n\u001B[0;32m      2\u001B[0m \n\u001B[0;32m      3\u001B[0m     \u001B[38;5;124m'\u001B[39m\u001B[38;5;124msolver\u001B[39m\u001B[38;5;124m'\u001B[39m: [\u001B[38;5;124m'\u001B[39m\u001B[38;5;124mliblinear\u001B[39m\u001B[38;5;124m'\u001B[39m],\n\u001B[0;32m      4\u001B[0m     \u001B[38;5;124m'\u001B[39m\u001B[38;5;124mC\u001B[39m\u001B[38;5;124m'\u001B[39m: [\u001B[38;5;241m100\u001B[39m, \u001B[38;5;241m10\u001B[39m, \u001B[38;5;241m1.0\u001B[39m, \u001B[38;5;241m0.1\u001B[39m, \u001B[38;5;241m0.01\u001B[39m],\n\u001B[0;32m      5\u001B[0m     \u001B[38;5;124m'\u001B[39m\u001B[38;5;124mpenalty\u001B[39m\u001B[38;5;124m'\u001B[39m: [\u001B[38;5;124m'\u001B[39m\u001B[38;5;124ml2\u001B[39m\u001B[38;5;124m'\u001B[39m]\n\u001B[0;32m      6\u001B[0m }\n\u001B[0;32m      8\u001B[0m grid_search \u001B[38;5;241m=\u001B[39m GridSearchCV(estimator \u001B[38;5;241m=\u001B[39m LogisticRegression(), refit\u001B[38;5;241m=\u001B[39m\u001B[38;5;124m'\u001B[39m\u001B[38;5;124maccuracy\u001B[39m\u001B[38;5;124m'\u001B[39m,  param_grid\u001B[38;5;241m=\u001B[39m param_grid, scoring\u001B[38;5;241m=\u001B[39m[\u001B[38;5;124m'\u001B[39m\u001B[38;5;124maccuracy\u001B[39m\u001B[38;5;124m'\u001B[39m], cv\u001B[38;5;241m=\u001B[39m\u001B[38;5;241m10\u001B[39m,)\n\u001B[1;32m---> 11\u001B[0m grid_result \u001B[38;5;241m=\u001B[39m grid_search\u001B[38;5;241m.\u001B[39mfit(\u001B[43mX_train\u001B[49m, y_train)\n\u001B[0;32m     13\u001B[0m \u001B[38;5;66;03m# summarize results\u001B[39;00m\n\u001B[0;32m     14\u001B[0m \u001B[38;5;28mprint\u001B[39m(\u001B[38;5;124m\"\u001B[39m\u001B[38;5;124mBest: \u001B[39m\u001B[38;5;132;01m%f\u001B[39;00m\u001B[38;5;124m using \u001B[39m\u001B[38;5;132;01m%s\u001B[39;00m\u001B[38;5;124m\"\u001B[39m \u001B[38;5;241m%\u001B[39m (grid_result\u001B[38;5;241m.\u001B[39mbest_score_, grid_result\u001B[38;5;241m.\u001B[39mbest_params_))\n",
      "\u001B[1;31mNameError\u001B[0m: name 'X_train' is not defined"
     ]
    }
   ],
   "source": [
    "param_grid = {\n",
    "\n",
    "    'solver': ['liblinear'],\n",
    "    'C': [100, 10, 1.0, 0.1, 0.01],\n",
    "    'penalty': ['l2']\n",
    "}\n",
    "\n",
    "grid_search = GridSearchCV(estimator = LogisticRegression(), refit='accuracy',  param_grid= param_grid, scoring=['accuracy'], cv=10,)\n",
    "\n",
    "\n",
    "grid_result = grid_search.fit(X_train, y_train)\n",
    "\n",
    "# summarize results\n",
    "print(\"Best: %f using %s\" % (grid_result.best_score_, grid_result.best_params_))"
   ],
   "metadata": {
    "collapsed": false,
    "ExecuteTime": {
     "end_time": "2024-05-25T17:42:55.255333Z",
     "start_time": "2024-05-25T17:42:55.117798Z"
    }
   },
   "id": "7915ae20f9aa63fb",
   "execution_count": 59
  },
  {
   "cell_type": "code",
   "outputs": [],
   "source": [],
   "metadata": {
    "collapsed": false,
    "ExecuteTime": {
     "start_time": "2024-05-25T17:42:55.257486Z"
    }
   },
   "id": "2743acc61782bac7",
   "execution_count": null
  }
 ],
 "metadata": {
  "kernelspec": {
   "display_name": "Python 3",
   "language": "python",
   "name": "python3"
  },
  "language_info": {
   "codemirror_mode": {
    "name": "ipython",
    "version": 2
   },
   "file_extension": ".py",
   "mimetype": "text/x-python",
   "name": "python",
   "nbconvert_exporter": "python",
   "pygments_lexer": "ipython2",
   "version": "2.7.6"
  }
 },
 "nbformat": 4,
 "nbformat_minor": 5
}
