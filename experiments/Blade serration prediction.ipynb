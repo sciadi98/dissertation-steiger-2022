{
 "cells": [
  {
   "cell_type": "code",
   "execution_count": 1,
   "id": "a0283f66",
   "metadata": {
    "ExecuteTime": {
     "end_time": "2024-05-19T13:16:35.183807Z",
     "start_time": "2024-05-19T13:16:34.898393Z"
    }
   },
   "outputs": [],
   "source": [
    "# Imports\n",
    "from common import display_input_data, check_input_data_indices, train_model, prepare_dataset, evaluate_model, \\\n",
    "    run_input_optimizer, calculate_accuracy, calculate_error_rate\n",
    "import pandas as pd\n",
    "import numpy as np\n",
    "import ipywidgets as widgets\n",
    "import pickle\n"
   ]
  },
  {
   "cell_type": "code",
   "execution_count": 2,
   "id": "0fc99c69-c18d-41b8-aef9-366172b4e713",
   "metadata": {
    "ExecuteTime": {
     "end_time": "2024-05-19T13:16:35.191355Z",
     "start_time": "2024-05-19T13:16:35.185750Z"
    }
   },
   "outputs": [],
   "source": [
    "# Parameters\n",
    "# Chose the variables to crate the model\n",
    "input_cols = ['shape', 'profile_entrance','rising_entrance', 'rising_exit', 'shards', 'feathering', 'entrance_mounding', 'center_mounding', 'exit_mounding', 'mounding']\n",
    "result_col = 'result'\n",
    "train_dataset_file = '../DATA/Train/serration_prediction_train.xlsx'\n",
    "test_dataset_file = '../DATA/Validation/serration_prediction_validation.xlsx'"
   ]
  },
  {
   "cell_type": "code",
   "execution_count": 3,
   "id": "33f3b584-bcdf-4cfe-9c0d-74c9c845b763",
   "metadata": {
    "ExecuteTime": {
     "end_time": "2024-05-19T13:16:35.655165Z",
     "start_time": "2024-05-19T13:16:35.194569Z"
    }
   },
   "outputs": [
    {
     "data": {
      "text/plain": "     shape_E  shape_indeterminate  profile_entrance_V  \\\n0      False                 True                True   \n1      False                 True               False   \n2      False                 True               False   \n3      False                 True               False   \n4      False                 True               False   \n..       ...                  ...                 ...   \n275     True                False                True   \n276     True                False                True   \n277     True                False                True   \n278     True                False                True   \n279     True                False                True   \n\n     rising_entrance_bilateral  rising_entrance_single  rising_exit_bilateral  \\\n0                        False                    True                  False   \n1                        False                    True                   True   \n2                        False                    True                   True   \n3                        False                    True                   True   \n4                        False                    True                   True   \n..                         ...                     ...                    ...   \n275                      False                    True                  False   \n276                       True                   False                   True   \n277                      False                   False                  False   \n278                      False                   False                  False   \n279                      False                   False                  False   \n\n     rising_exit_single  shards_present  feathering_present  \\\n0                  True           False               False   \n1                 False           False               False   \n2                 False           False               False   \n3                 False           False               False   \n4                 False           False               False   \n..                  ...             ...                 ...   \n275                True           False               False   \n276               False           False               False   \n277                True           False               False   \n278               False           False                True   \n279                True           False                True   \n\n     entrance_mounding_bilateral  entrance_mounding_single  \\\n0                          False                      True   \n1                          False                      True   \n2                          False                      True   \n3                          False                      True   \n4                          False                      True   \n..                           ...                       ...   \n275                        False                      True   \n276                        False                     False   \n277                        False                     False   \n278                        False                     False   \n279                        False                     False   \n\n     center_mounding_bilateral  center_mounding_single  \\\n0                        False                   False   \n1                        False                   False   \n2                        False                   False   \n3                        False                   False   \n4                        False                   False   \n..                         ...                     ...   \n275                      False                   False   \n276                      False                   False   \n277                      False                   False   \n278                      False                   False   \n279                      False                   False   \n\n     exit_mounding_bilateral  exit_mounding_single  mounding_marked  \\\n0                      False                  True            False   \n1                      False                  True            False   \n2                       True                 False            False   \n3                       True                 False            False   \n4                       True                 False            False   \n..                       ...                   ...              ...   \n275                    False                  True             True   \n276                    False                 False            False   \n277                    False                 False            False   \n278                    False                 False            False   \n279                    False                  True             True   \n\n     mounding_not marked  \n0                   True  \n1                   True  \n2                   True  \n3                   True  \n4                   True  \n..                   ...  \n275                False  \n276                False  \n277                False  \n278                False  \n279                False  \n\n[280 rows x 17 columns]",
      "text/html": "<div>\n<style scoped>\n    .dataframe tbody tr th:only-of-type {\n        vertical-align: middle;\n    }\n\n    .dataframe tbody tr th {\n        vertical-align: top;\n    }\n\n    .dataframe thead th {\n        text-align: right;\n    }\n</style>\n<table border=\"1\" class=\"dataframe\">\n  <thead>\n    <tr style=\"text-align: right;\">\n      <th></th>\n      <th>shape_E</th>\n      <th>shape_indeterminate</th>\n      <th>profile_entrance_V</th>\n      <th>rising_entrance_bilateral</th>\n      <th>rising_entrance_single</th>\n      <th>rising_exit_bilateral</th>\n      <th>rising_exit_single</th>\n      <th>shards_present</th>\n      <th>feathering_present</th>\n      <th>entrance_mounding_bilateral</th>\n      <th>entrance_mounding_single</th>\n      <th>center_mounding_bilateral</th>\n      <th>center_mounding_single</th>\n      <th>exit_mounding_bilateral</th>\n      <th>exit_mounding_single</th>\n      <th>mounding_marked</th>\n      <th>mounding_not marked</th>\n    </tr>\n  </thead>\n  <tbody>\n    <tr>\n      <th>0</th>\n      <td>False</td>\n      <td>True</td>\n      <td>True</td>\n      <td>False</td>\n      <td>True</td>\n      <td>False</td>\n      <td>True</td>\n      <td>False</td>\n      <td>False</td>\n      <td>False</td>\n      <td>True</td>\n      <td>False</td>\n      <td>False</td>\n      <td>False</td>\n      <td>True</td>\n      <td>False</td>\n      <td>True</td>\n    </tr>\n    <tr>\n      <th>1</th>\n      <td>False</td>\n      <td>True</td>\n      <td>False</td>\n      <td>False</td>\n      <td>True</td>\n      <td>True</td>\n      <td>False</td>\n      <td>False</td>\n      <td>False</td>\n      <td>False</td>\n      <td>True</td>\n      <td>False</td>\n      <td>False</td>\n      <td>False</td>\n      <td>True</td>\n      <td>False</td>\n      <td>True</td>\n    </tr>\n    <tr>\n      <th>2</th>\n      <td>False</td>\n      <td>True</td>\n      <td>False</td>\n      <td>False</td>\n      <td>True</td>\n      <td>True</td>\n      <td>False</td>\n      <td>False</td>\n      <td>False</td>\n      <td>False</td>\n      <td>True</td>\n      <td>False</td>\n      <td>False</td>\n      <td>True</td>\n      <td>False</td>\n      <td>False</td>\n      <td>True</td>\n    </tr>\n    <tr>\n      <th>3</th>\n      <td>False</td>\n      <td>True</td>\n      <td>False</td>\n      <td>False</td>\n      <td>True</td>\n      <td>True</td>\n      <td>False</td>\n      <td>False</td>\n      <td>False</td>\n      <td>False</td>\n      <td>True</td>\n      <td>False</td>\n      <td>False</td>\n      <td>True</td>\n      <td>False</td>\n      <td>False</td>\n      <td>True</td>\n    </tr>\n    <tr>\n      <th>4</th>\n      <td>False</td>\n      <td>True</td>\n      <td>False</td>\n      <td>False</td>\n      <td>True</td>\n      <td>True</td>\n      <td>False</td>\n      <td>False</td>\n      <td>False</td>\n      <td>False</td>\n      <td>True</td>\n      <td>False</td>\n      <td>False</td>\n      <td>True</td>\n      <td>False</td>\n      <td>False</td>\n      <td>True</td>\n    </tr>\n    <tr>\n      <th>...</th>\n      <td>...</td>\n      <td>...</td>\n      <td>...</td>\n      <td>...</td>\n      <td>...</td>\n      <td>...</td>\n      <td>...</td>\n      <td>...</td>\n      <td>...</td>\n      <td>...</td>\n      <td>...</td>\n      <td>...</td>\n      <td>...</td>\n      <td>...</td>\n      <td>...</td>\n      <td>...</td>\n      <td>...</td>\n    </tr>\n    <tr>\n      <th>275</th>\n      <td>True</td>\n      <td>False</td>\n      <td>True</td>\n      <td>False</td>\n      <td>True</td>\n      <td>False</td>\n      <td>True</td>\n      <td>False</td>\n      <td>False</td>\n      <td>False</td>\n      <td>True</td>\n      <td>False</td>\n      <td>False</td>\n      <td>False</td>\n      <td>True</td>\n      <td>True</td>\n      <td>False</td>\n    </tr>\n    <tr>\n      <th>276</th>\n      <td>True</td>\n      <td>False</td>\n      <td>True</td>\n      <td>True</td>\n      <td>False</td>\n      <td>True</td>\n      <td>False</td>\n      <td>False</td>\n      <td>False</td>\n      <td>False</td>\n      <td>False</td>\n      <td>False</td>\n      <td>False</td>\n      <td>False</td>\n      <td>False</td>\n      <td>False</td>\n      <td>False</td>\n    </tr>\n    <tr>\n      <th>277</th>\n      <td>True</td>\n      <td>False</td>\n      <td>True</td>\n      <td>False</td>\n      <td>False</td>\n      <td>False</td>\n      <td>True</td>\n      <td>False</td>\n      <td>False</td>\n      <td>False</td>\n      <td>False</td>\n      <td>False</td>\n      <td>False</td>\n      <td>False</td>\n      <td>False</td>\n      <td>False</td>\n      <td>False</td>\n    </tr>\n    <tr>\n      <th>278</th>\n      <td>True</td>\n      <td>False</td>\n      <td>True</td>\n      <td>False</td>\n      <td>False</td>\n      <td>False</td>\n      <td>False</td>\n      <td>False</td>\n      <td>True</td>\n      <td>False</td>\n      <td>False</td>\n      <td>False</td>\n      <td>False</td>\n      <td>False</td>\n      <td>False</td>\n      <td>False</td>\n      <td>False</td>\n    </tr>\n    <tr>\n      <th>279</th>\n      <td>True</td>\n      <td>False</td>\n      <td>True</td>\n      <td>False</td>\n      <td>False</td>\n      <td>False</td>\n      <td>True</td>\n      <td>False</td>\n      <td>True</td>\n      <td>False</td>\n      <td>False</td>\n      <td>False</td>\n      <td>False</td>\n      <td>False</td>\n      <td>True</td>\n      <td>True</td>\n      <td>False</td>\n    </tr>\n  </tbody>\n</table>\n<p>280 rows × 17 columns</p>\n</div>"
     },
     "metadata": {},
     "output_type": "display_data"
    }
   ],
   "source": [
    "# The data are displayed on a table\n",
    "display_input_data(\n",
    "    train_dataset_file,\n",
    "    input_cols\n",
    ")\n"
   ]
  },
  {
   "cell_type": "code",
   "execution_count": 4,
   "id": "13820e44-c7e3-4fe4-baa4-b4bc23be19f4",
   "metadata": {
    "ExecuteTime": {
     "end_time": "2024-05-19T13:16:35.850758Z",
     "start_time": "2024-05-19T13:16:35.657164Z"
    }
   },
   "outputs": [
    {
     "name": "stdout",
     "output_type": "stream",
     "text": [
      "Datasets are compatible\n"
     ]
    }
   ],
   "source": [
    "# The two datasets are tested for compatibility \n",
    "check_input_data_indices(train_dataset_file, test_dataset_file, input_cols)"
   ]
  },
  {
   "cell_type": "code",
   "execution_count": 5,
   "id": "4a658275-a77d-4c6c-a859-71445288056c",
   "metadata": {
    "ExecuteTime": {
     "end_time": "2024-05-19T13:16:36.007569Z",
     "start_time": "2024-05-19T13:16:35.853757Z"
    }
   },
   "outputs": [
    {
     "name": "stdout",
     "output_type": "stream",
     "text": [
      "Saved model to ../models/blade-serration.pickle\n",
      "b0 = [1.89805054]\n",
      "b1...n = [[-1.28763665 -1.3709938  -0.69389095 -1.87532169 -1.65732524 -1.33430855\n",
      "  -0.19921929  1.96985283  1.70264198 -0.66138195 -0.19356042 -0.47517525\n",
      "  -0.35572447 -0.36603696  1.01926792  0.39155683 -0.01977837]]\n"
     ]
    }
   ],
   "source": [
    "# Logistic regression model\n",
    "model = train_model(\n",
    "    train_dataset_file,\n",
    "    input_cols,\n",
    "    result_col\n",
    ")\n",
    "\n",
    "filename = '../models/blade-serration.pickle'\n",
    "pickle.dump(model, open(filename, 'wb'))\n",
    "\n",
    "print(f'Saved model to {filename}')\n",
    "\n",
    "# model\n",
    "print('b0 = ' + str(model.intercept_))\n",
    "print('b1...n = ' + str(model.coef_))"
   ]
  },
  {
   "cell_type": "code",
   "outputs": [
    {
     "data": {
      "text/plain": "0.7313432835820896"
     },
     "execution_count": 6,
     "metadata": {},
     "output_type": "execute_result"
    }
   ],
   "source": [
    "evaluate_model(\n",
    "    model,\n",
    "    test_dataset_file,\n",
    "    input_cols,\n",
    "    result_col\n",
    ")"
   ],
   "metadata": {
    "collapsed": false,
    "ExecuteTime": {
     "end_time": "2024-05-19T13:16:36.097752Z",
     "start_time": "2024-05-19T13:16:36.009568Z"
    }
   },
   "id": "55cdc0e805aeccf8",
   "execution_count": 6
  },
  {
   "cell_type": "code",
   "execution_count": 7,
   "id": "a225679c-03c5-4e1c-ac11-7abb5eeac0c1",
   "metadata": {
    "ExecuteTime": {
     "end_time": "2024-05-19T13:16:36.304260Z",
     "start_time": "2024-05-19T13:16:36.100753Z"
    }
   },
   "outputs": [
    {
     "data": {
      "text/plain": "0.8571428571428571"
     },
     "execution_count": 7,
     "metadata": {},
     "output_type": "execute_result"
    }
   ],
   "source": [
    "# Test for overfitting\n",
    "# Evaluation of the training\n",
    "x_train, y_train = prepare_dataset(train_dataset_file, input_cols, result_col)\n",
    "model.score(x_train, y_train)"
   ]
  },
  {
   "cell_type": "code",
   "outputs": [
    {
     "name": "stdout",
     "output_type": "stream",
     "text": [
      "[ True  True  True False  True False False  True False False  True  True\n",
      "  True False False  True False False False  True  True  True  True  True\n",
      "  True False False  True False False False False False False False False\n",
      " False False False  True  True False  True  True  True  True  True  True\n",
      "  True  True  True False  True  True  True  True  True False False False\n",
      " False False  True  True False  True False]\n",
      "0     False\n",
      "1     False\n",
      "2     False\n",
      "3     False\n",
      "4     False\n",
      "      ...  \n",
      "62    False\n",
      "63    False\n",
      "64    False\n",
      "65    False\n",
      "66    False\n",
      "Name: serrated, Length: 67, dtype: bool\n"
     ]
    },
    {
     "data": {
      "text/plain": "array([[27, 13],\n       [ 5, 22]], dtype=int64)"
     },
     "execution_count": 8,
     "metadata": {},
     "output_type": "execute_result"
    }
   ],
   "source": [
    "from sklearn import metrics\n",
    "\n",
    "#get the column from the test dataset \n",
    "df = pd.read_excel(test_dataset_file)\n",
    "y_df = df[result_col].str.strip()\n",
    "y = pd.get_dummies(y_df, drop_first=True).iloc[:, 0]\n",
    "# #get the predicted value\n",
    "y_pred = model.predict(prepare_dataset(test_dataset_file, input_cols))\n",
    "print(y_pred)\n",
    "print(y)\n",
    "\n",
    "#create the confusion matrix \n",
    "\n",
    "cnf_matrix = metrics.confusion_matrix(y,y_pred)\n",
    "cnf_matrix"
   ],
   "metadata": {
    "collapsed": false,
    "ExecuteTime": {
     "end_time": "2024-05-19T13:16:36.503424Z",
     "start_time": "2024-05-19T13:16:36.307444Z"
    }
   },
   "id": "209adfb97943f401",
   "execution_count": 8
  },
  {
   "cell_type": "code",
   "outputs": [
    {
     "data": {
      "text/plain": "Text(0.5, 427.9555555555555, 'Predicted label')"
     },
     "execution_count": 9,
     "metadata": {},
     "output_type": "execute_result"
    },
    {
     "data": {
      "text/plain": "<Figure size 640x480 with 2 Axes>",
      "image/png": "[encoded data removed]"
     },
     "metadata": {},
     "output_type": "display_data"
    }
   ],
   "source": [
    "import matplotlib.pyplot as plt\n",
    "import seaborn as sns\n",
    "\n",
    "class_names=[0,1] # name  of classes\n",
    "fig, ax = plt.subplots()\n",
    "tick_marks = np.arange(len(class_names))\n",
    "plt.xticks(tick_marks, class_names)\n",
    "plt.yticks(tick_marks, class_names)\n",
    "# create heatmap\n",
    "sns.heatmap(pd.DataFrame(cnf_matrix), annot=True, cmap=\"YlGnBu\" ,fmt='g')\n",
    "ax.xaxis.set_label_position(\"top\")\n",
    "plt.tight_layout()\n",
    "plt.title('Confusion matrix', y=1.1)\n",
    "plt.ylabel('Actual label')\n",
    "plt.xlabel('Predicted label')"
   ],
   "metadata": {
    "collapsed": false,
    "ExecuteTime": {
     "end_time": "2024-05-19T13:16:37.121482Z",
     "start_time": "2024-05-19T13:16:36.506393Z"
    }
   },
   "id": "ff7587e186e78dd",
   "execution_count": 9
  },
  {
   "cell_type": "code",
   "outputs": [
    {
     "name": "stdout",
     "output_type": "stream",
     "text": [
      "              precision    recall  f1-score   support\n",
      "\n",
      "non serrated       0.84      0.68      0.75        40\n",
      "    serrated       0.63      0.81      0.71        27\n",
      "\n",
      "    accuracy                           0.73        67\n",
      "   macro avg       0.74      0.74      0.73        67\n",
      "weighted avg       0.76      0.73      0.73        67\n"
     ]
    }
   ],
   "source": [
    "from sklearn.metrics import classification_report\n",
    "target_names = ['non serrated', 'serrated']\n",
    "print(classification_report(y, y_pred, target_names = target_names))"
   ],
   "metadata": {
    "collapsed": false,
    "ExecuteTime": {
     "end_time": "2024-05-19T13:16:37.155479Z",
     "start_time": "2024-05-19T13:16:37.129357Z"
    }
   },
   "id": "84bc8319515f363a",
   "execution_count": 10
  },
  {
   "cell_type": "code",
   "outputs": [
    {
     "data": {
      "text/plain": "<Figure size 640x480 with 2 Axes>",
      "image/png": "[encoded data removed]"
     },
     "metadata": {},
     "output_type": "display_data"
    }
   ],
   "source": [
    "y_pred_proba = model.predict_proba(prepare_dataset(test_dataset_file, input_cols))[::,1]\n",
    "fpr, tpr, _ = metrics.roc_curve(y,  y_pred_proba)\n",
    "auc = metrics.roc_auc_score(y, y_pred_proba)\n",
    "\n",
    "fig = plt.figure()\n",
    "gs = fig.add_gridspec(2, hspace=0)\n",
    "axs = gs.subplots(sharex=True, sharey=True)\n",
    "\n",
    "plt.subplots_adjust(bottom=0.1, right=0.8, top=0.9)\n",
    "axs[0].plot(fpr,tpr,label=\"data 1, auc=\"+str(auc))\n",
    "\n",
    "\n",
    "\n",
    "for ax in axs.flat:\n",
    "    ax.set(xlabel='1-Specificity', ylabel='Sensitivity')\n",
    "\n",
    "for ax in axs.flat:\n",
    "    ax.label_outer()\n",
    "plt.show()"
   ],
   "metadata": {
    "collapsed": false,
    "ExecuteTime": {
     "end_time": "2024-05-19T13:16:39.065365Z",
     "start_time": "2024-05-19T13:16:37.157998Z"
    }
   },
   "id": "700de6bc48440137",
   "execution_count": 11
  },
  {
   "cell_type": "code",
   "outputs": [],
   "source": [],
   "metadata": {
    "collapsed": false,
    "ExecuteTime": {
     "end_time": "2024-05-19T13:16:39.072576Z",
     "start_time": "2024-05-19T13:16:39.068362Z"
    }
   },
   "id": "e426c7820080d993",
   "execution_count": 11
  },
  {
   "cell_type": "code",
   "execution_count": 12,
   "id": "c8bc569d-8613-431f-8b2c-ef84089c3cfe",
   "metadata": {
    "ExecuteTime": {
     "end_time": "2024-05-19T13:16:39.145216Z",
     "start_time": "2024-05-19T13:16:39.074576Z"
    }
   },
   "outputs": [
    {
     "data": {
      "text/plain": "0.7313432835820896"
     },
     "execution_count": 12,
     "metadata": {},
     "output_type": "execute_result"
    }
   ],
   "source": [
    "# 11 variables were used \n",
    "evaluate_model(\n",
    "    model,\n",
    "    test_dataset_file,\n",
    "    input_cols,\n",
    "    result_col\n",
    ")"
   ]
  },
  {
   "cell_type": "code",
   "execution_count": 13,
   "id": "3e82d7e8-dca9-47ac-9c7a-8300aebbbb6e",
   "metadata": {
    "ExecuteTime": {
     "end_time": "2024-05-19T13:16:39.286977Z",
     "start_time": "2024-05-19T13:16:39.147199Z"
    }
   },
   "outputs": [
    {
     "name": "stdout",
     "output_type": "stream",
     "text": [
      "[False False False False False False False False  True False False False\n",
      " False  True  True False False  True False False  True  True False  True\n",
      " False False  True  True False  True False False False  True  True  True\n",
      "  True  True  True False False False False False False False False False\n",
      " False False False False False False False False False False False False\n",
      " False False False False False False False False False False False False\n",
      " False False False False False False False False False False False False\n",
      " False False False False False False False False False False False False\n",
      " False False False False False False False False False False False False\n",
      " False False False False  True False False False False False False False\n",
      " False False False False False False False False False False False False\n",
      " False False False False False False False False False False False False\n",
      " False False False False False False False False False False False False\n",
      " False False False  True  True  True  True  True  True  True  True  True\n",
      "  True  True  True  True  True  True  True  True  True  True  True  True\n",
      "  True  True  True  True  True  True  True  True  True False False  True\n",
      "  True  True  True  True  True  True  True  True  True  True  True  True\n",
      "  True  True  True  True  True  True  True  True  True  True  True  True\n",
      "  True  True  True  True  True  True  True  True  True  True  True  True\n",
      "  True  True False False  True  True  True  True  True  True  True  True\n",
      " False False False False  True  True False  True  True False False  True\n",
      "  True  True  True  True False False  True  True  True  True  True  True\n",
      "  True False  True  True  True  True False False False False False False\n",
      " False False  True  True]\n"
     ]
    }
   ],
   "source": [
    "# filter data for the new dataframe\n",
    "df = pd.read_excel(train_dataset_file)\n",
    "x_df = df[input_cols].apply(lambda x: x.str.strip())\n",
    "x = pd.get_dummies(x_df, drop_first=True)\n",
    "\n",
    "result = model.predict(x)\n",
    "print(result)\n",
    "# this paragraph was created to see if serrated or non serrated corresponded either False or True\n",
    "# True corresponds to serrated"
   ]
  },
  {
   "cell_type": "code",
   "execution_count": 14,
   "id": "1102b94b-3117-40a3-b65d-a4ca63a06f0f",
   "metadata": {
    "ExecuteTime": {
     "end_time": "2024-05-19T13:16:39.476568Z",
     "start_time": "2024-05-19T13:16:39.288960Z"
    }
   },
   "outputs": [
    {
     "name": "stdout",
     "output_type": "stream",
     "text": [
      "0     non-serrated\n",
      "1     non-serrated\n",
      "2     non-serrated\n",
      "3     non-serrated\n",
      "4     non-serrated\n",
      "          ...     \n",
      "62    non-serrated\n",
      "63    non-serrated\n",
      "64    non-serrated\n",
      "65    non-serrated\n",
      "66    non-serrated\n",
      "Name: result, Length: 67, dtype: object\n",
      "[ True  True  True False  True False False  True False False  True  True\n",
      "  True False False  True False False False  True  True  True  True  True\n",
      "  True False False  True False False False False False False False False\n",
      " False False False  True  True False  True  True  True  True  True  True\n",
      "  True  True  True False  True  True  True  True  True False False False\n",
      " False False  True  True False  True False]\n"
     ]
    }
   ],
   "source": [
    "# filter data for the new dataframe\n",
    "df = pd.read_excel(test_dataset_file)\n",
    "label = df[\"label\"]\n",
    "string_expresult = df[\"result\"]\n",
    "\n",
    "x_df = df[input_cols].apply(lambda x: x.str.strip())\n",
    "x = pd.get_dummies(x_df, drop_first=True)\n",
    "\n",
    "result = model.predict(x)\n",
    "\n",
    "print(string_expresult)\n",
    "print(result)\n"
   ]
  },
  {
   "cell_type": "code",
   "execution_count": 15,
   "id": "4b779799-9501-4810-9dd0-7f25c62516d8",
   "metadata": {
    "ExecuteTime": {
     "end_time": "2024-05-19T13:16:39.491200Z",
     "start_time": "2024-05-19T13:16:39.483029Z"
    }
   },
   "outputs": [
    {
     "name": "stdout",
     "output_type": "stream",
     "text": [
      "[False, False, False, False, False, False, False, False, False, False, False, False, False, False, False, False, False, False, False, False, True, True, True, True, True, True, True, True, True, False, False, False, False, False, False, False, False, False, False, True, True, True, True, True, True, True, True, True, True, True, True, True, True, True, True, True, True, False, False, False, False, False, False, False, False, False, False]\n"
     ]
    }
   ],
   "source": [
    "# to organize better the things, we have to create a new list for the \"result\" and transform them in boolean\n",
    "\n",
    "expected_result = []\n",
    "for x in string_expresult:\n",
    "\n",
    "    if x == \"serrated\":\n",
    "        expected_result.append(True)\n",
    "    \n",
    "    else:\n",
    "        expected_result.append(False)\n",
    "\n",
    "print(expected_result)\n",
    "\n"
   ]
  },
  {
   "cell_type": "code",
   "execution_count": 16,
   "id": "7b33e2de-903b-4d51-9750-cb7d0f50016c",
   "metadata": {
    "ExecuteTime": {
     "end_time": "2024-05-19T13:16:39.605406Z",
     "start_time": "2024-05-19T13:16:39.593983Z"
    }
   },
   "outputs": [],
   "source": [
    "#build dataframe with result, expected result and label \n",
    "\n",
    "data = {'label': label, 'result': result, \"expected_result\" : expected_result}  \n",
    "  \n",
    "# Create DataFrame  \n",
    "df = pd.DataFrame(data)  \n",
    "   \n",
    "#print(df)  \n",
    "\n",
    "grouped_df = df.groupby(by = \"label\")\n",
    "\n",
    "#print(grouped_df.head())\n"
   ]
  },
  {
   "cell_type": "code",
   "execution_count": 17,
   "id": "02a18a3c",
   "metadata": {
    "ExecuteTime": {
     "end_time": "2024-05-19T13:16:39.629705Z",
     "start_time": "2024-05-19T13:16:39.608483Z"
    }
   },
   "outputs": [
    {
     "name": "stdout",
     "output_type": "stream",
     "text": [
      "serrated\n",
      "    label  result  expected_result\n",
      "0       5    True             True\n",
      "1       5    True             True\n",
      "2       5   False             True\n",
      "3       5    True             True\n",
      "4       5    True             True\n",
      "5       5    True             True\n",
      "6       5    True             True\n",
      "7       5    True             True\n",
      "8       5    True             True\n",
      "9       6    True             True\n",
      "10      6    True             True\n",
      "11      6    True             True\n",
      "12      6   False             True\n",
      "13      6    True             True\n",
      "14      6    True             True\n",
      "15      6    True             True\n",
      "16      6    True             True\n",
      "17      6    True             True\n",
      "18      7    True             True\n",
      "19      7    True             True\n",
      "20      7    True             True\n",
      "21      7    True             True\n",
      "22      7    True             True\n",
      "23      7   False             True\n",
      "24      7   False             True\n",
      "25      7    True             True\n",
      "26      7   False             True\n",
      "\n",
      "For serrated class\n",
      "accuracy %: 81.48148148148148 \n"
     ]
    }
   ],
   "source": [
    "five = grouped_df.get_group(5)\n",
    "six = grouped_df.get_group(6)\n",
    "seven = grouped_df.get_group(7)\n",
    "\n",
    "serrated = pd.concat([five, six, seven], ignore_index= True)\n",
    "\n",
    "print(f'serrated\\n{serrated}\\n')\n",
    "serrated_accuracy = calculate_accuracy(serrated)\n",
    "\n",
    "print( \"For serrated class\") \n",
    "    #print(\"total correct:\", tot_corr)\n",
    "    #print('total:', tot) \n",
    "    \n",
    "print(\"accuracy %:\", serrated_accuracy, \"\\n\")\n"
   ]
  },
  {
   "cell_type": "code",
   "outputs": [],
   "source": [],
   "metadata": {
    "collapsed": false,
    "ExecuteTime": {
     "end_time": "2024-05-19T13:16:39.635233Z",
     "start_time": "2024-05-19T13:16:39.631715Z"
    }
   },
   "id": "452ecde68fb493a3",
   "execution_count": 17
  },
  {
   "cell_type": "code",
   "execution_count": 18,
   "id": "92db432a-7fec-48bf-a11a-95533a5e4689",
   "metadata": {
    "ExecuteTime": {
     "end_time": "2024-05-19T13:16:39.657588Z",
     "start_time": "2024-05-19T13:16:39.637231Z"
    }
   },
   "outputs": [
    {
     "name": "stdout",
     "output_type": "stream",
     "text": [
      "1\n",
      "    label  result  expected_result\n",
      "57      1   False            False\n",
      "58      1   False            False\n",
      "59      1   False            False\n",
      "60      1   False            False\n",
      "61      1   False            False\n",
      "62      1    True            False\n",
      "63      1    True            False\n",
      "64      1   False            False\n",
      "65      1    True            False\n",
      "66      1   False            False\n",
      "\n",
      "2\n",
      "   label  result  expected_result\n",
      "0      2    True            False\n",
      "1      2    True            False\n",
      "2      2    True            False\n",
      "3      2   False            False\n",
      "4      2    True            False\n",
      "5      2   False            False\n",
      "6      2   False            False\n",
      "7      2    True            False\n",
      "8      2   False            False\n",
      "9      2   False            False\n",
      "\n",
      "3\n",
      "    label  result  expected_result\n",
      "29      3   False            False\n",
      "30      3   False            False\n",
      "31      3   False            False\n",
      "32      3   False            False\n",
      "33      3   False            False\n",
      "34      3   False            False\n",
      "35      3   False            False\n",
      "36      3   False            False\n",
      "37      3   False            False\n",
      "38      3   False            False\n",
      "\n",
      "4\n",
      "    label  result  expected_result\n",
      "10      4    True            False\n",
      "11      4    True            False\n",
      "12      4    True            False\n",
      "13      4   False            False\n",
      "14      4   False            False\n",
      "15      4    True            False\n",
      "16      4   False            False\n",
      "17      4   False            False\n",
      "18      4   False            False\n",
      "19      4    True            False\n",
      "\n",
      "5\n",
      "    label  result  expected_result\n",
      "39      5    True             True\n",
      "40      5    True             True\n",
      "41      5   False             True\n",
      "42      5    True             True\n",
      "43      5    True             True\n",
      "44      5    True             True\n",
      "45      5    True             True\n",
      "46      5    True             True\n",
      "47      5    True             True\n",
      "\n",
      "6\n",
      "    label  result  expected_result\n",
      "48      6    True             True\n",
      "49      6    True             True\n",
      "50      6    True             True\n",
      "51      6   False             True\n",
      "52      6    True             True\n",
      "53      6    True             True\n",
      "54      6    True             True\n",
      "55      6    True             True\n",
      "56      6    True             True\n",
      "\n",
      "7\n",
      "    label  result  expected_result\n",
      "20      7    True             True\n",
      "21      7    True             True\n",
      "22      7    True             True\n",
      "23      7    True             True\n",
      "24      7    True             True\n",
      "25      7   False             True\n",
      "26      7   False             True\n",
      "27      7    True             True\n",
      "28      7   False             True\n"
     ]
    }
   ],
   "source": [
    "for name, sub_df in grouped_df:\n",
    "    print(f'{name}\\n{sub_df}\\n')"
   ]
  },
  {
   "cell_type": "code",
   "execution_count": 19,
   "id": "cc7cc815",
   "metadata": {
    "ExecuteTime": {
     "end_time": "2024-05-19T13:16:39.677289Z",
     "start_time": "2024-05-19T13:16:39.659589Z"
    }
   },
   "outputs": [
    {
     "name": "stdout",
     "output_type": "stream",
     "text": [
      "non-serrated\n",
      "    label  result  expected_result\n",
      "0       1   False            False\n",
      "1       1   False            False\n",
      "2       1   False            False\n",
      "3       1   False            False\n",
      "4       1   False            False\n",
      "5       1    True            False\n",
      "6       1    True            False\n",
      "7       1   False            False\n",
      "8       1    True            False\n",
      "9       1   False            False\n",
      "10      2    True            False\n",
      "11      2    True            False\n",
      "12      2    True            False\n",
      "13      2   False            False\n",
      "14      2    True            False\n",
      "15      2   False            False\n",
      "16      2   False            False\n",
      "17      2    True            False\n",
      "18      2   False            False\n",
      "19      2   False            False\n",
      "20      3   False            False\n",
      "21      3   False            False\n",
      "22      3   False            False\n",
      "23      3   False            False\n",
      "24      3   False            False\n",
      "25      3   False            False\n",
      "26      3   False            False\n",
      "27      3   False            False\n",
      "28      3   False            False\n",
      "29      3   False            False\n",
      "30      4    True            False\n",
      "31      4    True            False\n",
      "32      4    True            False\n",
      "33      4   False            False\n",
      "34      4   False            False\n",
      "35      4    True            False\n",
      "36      4   False            False\n",
      "37      4   False            False\n",
      "38      4   False            False\n",
      "39      4    True            False\n",
      "\n",
      "For non-serrated class\n",
      "accuracy %: 67.5 \n"
     ]
    }
   ],
   "source": [
    "# calculate accuracy for non_serrated class\n",
    "one = grouped_df.get_group(1)\n",
    "two = grouped_df.get_group(2)\n",
    "three = grouped_df.get_group(3)\n",
    "four = grouped_df.get_group(4)\n",
    "\n",
    "non_serrated = pd.concat([one, two, three, four], ignore_index= True)\n",
    "print(f'non-serrated\\n{non_serrated}\\n')\n",
    "non_serrated_accuracy = calculate_accuracy(non_serrated)\n",
    "\n",
    "print( \"For non-serrated class\") \n",
    "    #print(\"total correct:\", tot_corr)\n",
    "    #print('total:', tot) \n",
    "    \n",
    "print(\"accuracy %:\", non_serrated_accuracy, \"\\n\")\n"
   ]
  },
  {
   "cell_type": "code",
   "execution_count": 20,
   "id": "f5b9b022",
   "metadata": {
    "ExecuteTime": {
     "end_time": "2024-05-19T13:16:39.695940Z",
     "start_time": "2024-05-19T13:16:39.679491Z"
    }
   },
   "outputs": [
    {
     "name": "stdout",
     "output_type": "stream",
     "text": [
      "non-serrated\n",
      "    label  result  expected_result\n",
      "0       1   False            False\n",
      "1       1   False            False\n",
      "2       1   False            False\n",
      "3       1   False            False\n",
      "4       1   False            False\n",
      "5       1    True            False\n",
      "6       1    True            False\n",
      "7       1   False            False\n",
      "8       1    True            False\n",
      "9       1   False            False\n",
      "10      2    True            False\n",
      "11      2    True            False\n",
      "12      2    True            False\n",
      "13      2   False            False\n",
      "14      2    True            False\n",
      "15      2   False            False\n",
      "16      2   False            False\n",
      "17      2    True            False\n",
      "18      2   False            False\n",
      "19      2   False            False\n",
      "20      3   False            False\n",
      "21      3   False            False\n",
      "22      3   False            False\n",
      "23      3   False            False\n",
      "24      3   False            False\n",
      "25      3   False            False\n",
      "26      3   False            False\n",
      "27      3   False            False\n",
      "28      3   False            False\n",
      "29      3   False            False\n",
      "\n",
      "For non-serrated class\n",
      "accuracy %: 73.33333333333333 \n"
     ]
    }
   ],
   "source": [
    "# calculate accuracy for non_serrated class without knife number 4\n",
    "one = grouped_df.get_group(1)\n",
    "two = grouped_df.get_group(2)\n",
    "three = grouped_df.get_group(3)\n",
    "\n",
    "\n",
    "non_serrated = pd.concat([one, two, three], ignore_index= True)\n",
    "print(f'non-serrated\\n{non_serrated}\\n')\n",
    "non_serrated_accuracy = calculate_accuracy(non_serrated)\n",
    "\n",
    "print( \"For non-serrated class\") \n",
    "    #print(\"total correct:\", tot_corr)\n",
    "    #print('total:', tot) \n",
    "    \n",
    "print(\"accuracy %:\", non_serrated_accuracy, \"\\n\")"
   ]
  },
  {
   "cell_type": "code",
   "execution_count": 21,
   "id": "82af8479-b705-4b7e-b335-b2c9400db60b",
   "metadata": {
    "ExecuteTime": {
     "end_time": "2024-05-19T13:16:39.714686Z",
     "start_time": "2024-05-19T13:16:39.699439Z"
    }
   },
   "outputs": [
    {
     "name": "stdout",
     "output_type": "stream",
     "text": [
      "knife: 1\n",
      "accuracy %: 70.0 \n",
      "\n",
      "knife: 2\n",
      "accuracy %: 50.0 \n",
      "\n",
      "knife: 3\n",
      "accuracy %: 100.0 \n",
      "\n",
      "knife: 4\n",
      "accuracy %: 50.0 \n",
      "\n",
      "knife: 5\n",
      "accuracy %: 88.88888888888889 \n",
      "\n",
      "knife: 6\n",
      "accuracy %: 88.88888888888889 \n",
      "\n",
      "knife: 7\n",
      "accuracy %: 66.66666666666666 \n"
     ]
    }
   ],
   "source": [
    "#calculate classification accuracy for each knife \n",
    "for name, sub_df in grouped_df:\n",
    "    accuracy_perc = calculate_accuracy(sub_df)\n",
    "  \n",
    "    print( \"knife:\", name) \n",
    "    #print(\"total correct:\", tot_corr)\n",
    "    #print('total:', tot) \n",
    "    \n",
    "    \n",
    "    print( \"accuracy %:\", accuracy_perc, \"\\n\")\n",
    "       \n"
   ]
  },
  {
   "cell_type": "code",
   "execution_count": 22,
   "id": "a957ae22-6968-46a4-9e3c-481094efdc60",
   "metadata": {
    "ExecuteTime": {
     "end_time": "2024-05-19T13:16:39.733222Z",
     "start_time": "2024-05-19T13:16:39.716683Z"
    }
   },
   "outputs": [
    {
     "name": "stdout",
     "output_type": "stream",
     "text": [
      "knife: 1\n",
      "error rate %: 30.0 \n",
      "\n",
      "knife: 2\n",
      "error rate %: 50.0 \n",
      "\n",
      "knife: 3\n",
      "error rate %: 0.0 \n",
      "\n",
      "knife: 4\n",
      "error rate %: 50.0 \n",
      "\n",
      "knife: 5\n",
      "error rate %: 11.111111111111114 \n",
      "\n",
      "knife: 6\n",
      "error rate %: 11.111111111111114 \n",
      "\n",
      "knife: 7\n",
      "error rate %: 33.33333333333334 \n"
     ]
    }
   ],
   "source": [
    "#calcolate error rate for each knife\n",
    "for name, sub_df in grouped_df:\n",
    "    error_rate = calculate_error_rate(sub_df)\n",
    "    \n",
    "    print( \"knife:\", name)\n",
    "    print( \"error rate %:\", error_rate, \"\\n\")"
   ]
  },
  {
   "cell_type": "code",
   "execution_count": 23,
   "id": "e0acb21f-fee7-4629-9c93-2cc868e0c007",
   "metadata": {
    "ExecuteTime": {
     "end_time": "2024-05-19T13:18:57.594622Z",
     "start_time": "2024-05-19T13:16:39.734712Z"
    }
   },
   "outputs": [
    {
     "name": "stdout",
     "output_type": "stream",
     "text": [
      "Testing combinations of length 2\n",
      "Testing combinations of length 3\n",
      "Testing combinations of length 4\n",
      "Testing combinations of length 5\n",
      "Testing combinations of length 6\n",
      "Testing combinations of length 7\n",
      "Testing combinations of length 8\n",
      "Testing combinations of length 9\n",
      "Testing combinations of length 10\n",
      "Max score: 0.8805970149253731\n",
      "Best columns combination: ('shape', 'profile_entrance', 'rising_exit', 'shards', 'center_mounding')\n",
      "Min score: 0.4626865671641791\n",
      "Worse columns combination: ('feathering', 'entrance_mounding')\n",
      "Saved optimized model to ../models/blade-serration-optimized.pickle\n"
     ]
    }
   ],
   "source": [
    "# Model optimisation, search for the optimal parameter combination\n",
    "# Printing score best and worst model\n",
    "optimizer_results = run_input_optimizer(train_dataset_file, test_dataset_file, input_cols, result_col)\n",
    "\n",
    "print('Max score: ' + str(optimizer_results['max_score']))\n",
    "print('Best columns combination: ' + str(optimizer_results['max_score_cols']))\n",
    "print('Min score: ' + str(optimizer_results['min_score']))\n",
    "print('Worse columns combination: ' + str(optimizer_results['min_score_cols']))\n",
    "\n",
    "# Convert from tuple to list for easier use later\n",
    "optimized_input_cols = list(optimizer_results['max_score_cols'])\n",
    "optimized_model = optimizer_results['max_score_model']\n",
    "filename = '../models/blade-serration-optimized.pickle'\n",
    "pickle.dump(optimized_model, open(filename, 'wb'))\n",
    "\n",
    "print(f'Saved optimized model to {filename}')"
   ]
  },
  {
   "cell_type": "code",
   "outputs": [
    {
     "data": {
      "text/plain": "0.8071428571428572"
     },
     "execution_count": 24,
     "metadata": {},
     "output_type": "execute_result"
    }
   ],
   "source": [
    "evaluate_model(optimized_model, train_dataset_file, optimized_input_cols, result_col)"
   ],
   "metadata": {
    "collapsed": false,
    "ExecuteTime": {
     "end_time": "2024-05-19T13:18:57.718126Z",
     "start_time": "2024-05-19T13:18:57.596539Z"
    }
   },
   "id": "82ef9846dcec654b",
   "execution_count": 24
  },
  {
   "cell_type": "code",
   "outputs": [
    {
     "data": {
      "text/plain": "0.8805970149253731"
     },
     "execution_count": 25,
     "metadata": {},
     "output_type": "execute_result"
    }
   ],
   "source": [
    "evaluate_model(optimized_model, test_dataset_file, optimized_input_cols, result_col)"
   ],
   "metadata": {
    "collapsed": false,
    "ExecuteTime": {
     "end_time": "2024-05-19T13:18:57.783668Z",
     "start_time": "2024-05-19T13:18:57.721047Z"
    }
   },
   "id": "135cd241e7064e70",
   "execution_count": 25
  },
  {
   "cell_type": "code",
   "execution_count": 26,
   "id": "5a9de630a0984152",
   "metadata": {
    "collapsed": false,
    "ExecuteTime": {
     "end_time": "2024-05-19T13:18:57.851571Z",
     "start_time": "2024-05-19T13:18:57.786290Z"
    }
   },
   "outputs": [
    {
     "name": "stdout",
     "output_type": "stream",
     "text": [
      "Expected result:\n",
      "0     False\n",
      "1     False\n",
      "2     False\n",
      "3     False\n",
      "4     False\n",
      "      ...  \n",
      "62    False\n",
      "63    False\n",
      "64    False\n",
      "65    False\n",
      "66    False\n",
      "Name: result, Length: 67, dtype: bool\n",
      "Actual result:\n",
      "[False  True False False  True False False  True False False False False\n",
      "  True False False False False False False False False  True  True  True\n",
      "  True  True  True  True False False False False False False False False\n",
      " False False False  True  True  True  True  True  True  True  True  True\n",
      "  True  True  True False  True  True  True  True  True False False  True\n",
      " False False False False False False False]\n"
     ]
    }
   ],
   "source": [
    "# filter data for the new dataframe\n",
    "df = pd.read_excel(test_dataset_file)\n",
    "label = df[\"label\"]\n",
    "# Inline conversion from str to bool\n",
    "expected_result = df[\"result\"].map(lambda exp_res: True if exp_res == 'serrated' else False)\n",
    "\n",
    "x_df = df[optimized_input_cols].apply(lambda x: x.str.strip())\n",
    "x = pd.get_dummies(x_df, drop_first=True)\n",
    "\n",
    "result = optimized_model.predict(x)\n",
    "\n",
    "print(f'Expected result:\\n{expected_result}')\n",
    "print(f'Actual result:\\n{result}')"
   ]
  },
  {
   "cell_type": "code",
   "outputs": [],
   "source": [
    "\n"
   ],
   "metadata": {
    "collapsed": false,
    "ExecuteTime": {
     "end_time": "2024-05-19T13:18:57.859480Z",
     "start_time": "2024-05-19T13:18:57.853985Z"
    }
   },
   "id": "d23438a5097386e4",
   "execution_count": 26
  },
  {
   "cell_type": "code",
   "execution_count": 27,
   "id": "aad90acc2bb0fed8",
   "metadata": {
    "collapsed": false,
    "ExecuteTime": {
     "end_time": "2024-05-19T13:18:57.884239Z",
     "start_time": "2024-05-19T13:18:57.862428Z"
    }
   },
   "outputs": [
    {
     "name": "stdout",
     "output_type": "stream",
     "text": [
      "    label  result  expected_result\n",
      "0       2   False            False\n",
      "1       2    True            False\n",
      "2       2   False            False\n",
      "3       2   False            False\n",
      "4       2    True            False\n",
      "..    ...     ...              ...\n",
      "62      1   False            False\n",
      "63      1   False            False\n",
      "64      1   False            False\n",
      "65      1   False            False\n",
      "66      1   False            False\n",
      "\n",
      "[67 rows x 3 columns]\n",
      "    label  result  expected_result\n",
      "0       2   False            False\n",
      "1       2    True            False\n",
      "2       2   False            False\n",
      "3       2   False            False\n",
      "4       2    True            False\n",
      "10      4   False            False\n",
      "11      4   False            False\n",
      "12      4    True            False\n",
      "13      4   False            False\n",
      "14      4   False            False\n",
      "20      7   False             True\n",
      "21      7    True             True\n",
      "22      7    True             True\n",
      "23      7    True             True\n",
      "24      7    True             True\n",
      "29      3   False            False\n",
      "30      3   False            False\n",
      "31      3   False            False\n",
      "32      3   False            False\n",
      "33      3   False            False\n",
      "39      5    True             True\n",
      "40      5    True             True\n",
      "41      5    True             True\n",
      "42      5    True             True\n",
      "43      5    True             True\n",
      "48      6    True             True\n",
      "49      6    True             True\n",
      "50      6    True             True\n",
      "51      6   False             True\n",
      "52      6    True             True\n",
      "57      1   False            False\n",
      "58      1   False            False\n",
      "59      1    True            False\n",
      "60      1   False            False\n",
      "61      1   False            False\n"
     ]
    }
   ],
   "source": [
    "#build dataframe with result, expected result and label \n",
    "\n",
    "data = {'label': label, 'result': result, \"expected_result\" : expected_result}  \n",
    "  \n",
    "# Create DataFrame  \n",
    "df = pd.DataFrame(data)  \n",
    "   \n",
    "print(df)  \n",
    "\n",
    "grouped_df = df.groupby(by = \"label\")\n",
    "\n",
    "print(grouped_df.head())"
   ]
  },
  {
   "cell_type": "code",
   "outputs": [
    {
     "data": {
      "text/plain": "array([[35,  5],\n       [ 3, 24]], dtype=int64)"
     },
     "execution_count": 28,
     "metadata": {},
     "output_type": "execute_result"
    }
   ],
   "source": [
    "cnf_matrix = metrics.confusion_matrix(expected_result,result)\n",
    "cnf_matrix"
   ],
   "metadata": {
    "collapsed": false,
    "ExecuteTime": {
     "end_time": "2024-05-19T13:18:57.900586Z",
     "start_time": "2024-05-19T13:18:57.888676Z"
    }
   },
   "id": "8d060bf039eff0e0",
   "execution_count": 28
  },
  {
   "cell_type": "code",
   "execution_count": 29,
   "id": "a4f6296d694035f4",
   "metadata": {
    "collapsed": false,
    "ExecuteTime": {
     "end_time": "2024-05-19T13:18:57.923583Z",
     "start_time": "2024-05-19T13:18:57.903740Z"
    }
   },
   "outputs": [
    {
     "name": "stdout",
     "output_type": "stream",
     "text": [
      "serrated\n",
      "    label  result  expected_result\n",
      "0       5    True             True\n",
      "1       5    True             True\n",
      "2       5    True             True\n",
      "3       5    True             True\n",
      "4       5    True             True\n",
      "5       5    True             True\n",
      "6       5    True             True\n",
      "7       5    True             True\n",
      "8       5    True             True\n",
      "9       6    True             True\n",
      "10      6    True             True\n",
      "11      6    True             True\n",
      "12      6   False             True\n",
      "13      6    True             True\n",
      "14      6    True             True\n",
      "15      6    True             True\n",
      "16      6    True             True\n",
      "17      6    True             True\n",
      "18      7   False             True\n",
      "19      7    True             True\n",
      "20      7    True             True\n",
      "21      7    True             True\n",
      "22      7    True             True\n",
      "23      7    True             True\n",
      "24      7    True             True\n",
      "25      7    True             True\n",
      "26      7   False             True\n",
      "\n",
      "For serrated class\n",
      "accuracy %: 88.88888888888889 \n"
     ]
    }
   ],
   "source": [
    "# Optimized model: calculate the accuracy for the four knives that are serrated \n",
    "\n",
    "five = grouped_df.get_group(5)\n",
    "six = grouped_df.get_group(6)\n",
    "seven = grouped_df.get_group(7)\n",
    "\n",
    "serrated = pd.concat([five, six, seven], ignore_index= True)\n",
    "print(f'serrated\\n{serrated}\\n')\n",
    "serrated_accuracy = calculate_accuracy(serrated)\n",
    "\n",
    "print( \"For serrated class\") \n",
    "    #print(\"total correct:\", tot_corr)\n",
    "    #print('total:', tot) \n",
    "    \n",
    "print(\"accuracy %:\", serrated_accuracy, \"\\n\")"
   ]
  },
  {
   "cell_type": "code",
   "outputs": [
    {
     "data": {
      "text/plain": "Text(0.5, 427.9555555555555, 'Predicted label')"
     },
     "execution_count": 30,
     "metadata": {},
     "output_type": "execute_result"
    },
    {
     "data": {
      "text/plain": "<Figure size 640x480 with 2 Axes>",
      "image/png": "[encoded data removed]"
     },
     "metadata": {},
     "output_type": "display_data"
    }
   ],
   "source": [
    "import matplotlib.pyplot as plt\n",
    "import seaborn as sns\n",
    "\n",
    "class_names=[0,1] # name  of classes\n",
    "fig, ax = plt.subplots()\n",
    "tick_marks = np.arange(len(class_names))\n",
    "plt.xticks(tick_marks, class_names)\n",
    "plt.yticks(tick_marks, class_names)\n",
    "# create heatmap\n",
    "sns.heatmap(pd.DataFrame(cnf_matrix), annot=True, cmap=\"YlGnBu\" ,fmt='g')\n",
    "ax.xaxis.set_label_position(\"top\")\n",
    "plt.tight_layout()\n",
    "plt.title('Confusion matrix', y=1.1)\n",
    "plt.ylabel('Actual label')\n",
    "plt.xlabel('Predicted label')"
   ],
   "metadata": {
    "collapsed": false,
    "ExecuteTime": {
     "end_time": "2024-05-19T13:18:58.465929Z",
     "start_time": "2024-05-19T13:18:57.926030Z"
    }
   },
   "id": "6cb3ad9ce822d3e4",
   "execution_count": 30
  },
  {
   "cell_type": "code",
   "outputs": [
    {
     "name": "stdout",
     "output_type": "stream",
     "text": [
      "              precision    recall  f1-score   support\n",
      "\n",
      "      single       0.92      0.88      0.90        40\n",
      "      double       0.83      0.89      0.86        27\n",
      "\n",
      "    accuracy                           0.88        67\n",
      "   macro avg       0.87      0.88      0.88        67\n",
      "weighted avg       0.88      0.88      0.88        67\n"
     ]
    }
   ],
   "source": [
    "from sklearn.metrics import classification_report\n",
    "target_names = ['single', 'double']\n",
    "print(classification_report(expected_result, result, target_names=target_names))"
   ],
   "metadata": {
    "collapsed": false,
    "ExecuteTime": {
     "end_time": "2024-05-19T13:18:58.496788Z",
     "start_time": "2024-05-19T13:18:58.470530Z"
    }
   },
   "id": "b653a155b11c35ab",
   "execution_count": 31
  },
  {
   "cell_type": "code",
   "outputs": [],
   "source": [],
   "metadata": {
    "collapsed": false,
    "ExecuteTime": {
     "end_time": "2024-05-19T13:18:58.504356Z",
     "start_time": "2024-05-19T13:18:58.500222Z"
    }
   },
   "id": "40edfbfa1f388a23",
   "execution_count": 31
  },
  {
   "cell_type": "code",
   "outputs": [
    {
     "data": {
      "text/plain": "<Figure size 640x480 with 1 Axes>",
      "image/png": "[encoded data removed]"
     },
     "metadata": {},
     "output_type": "display_data"
    }
   ],
   "source": [
    "y_pred_proba = model.predict_proba(prepare_dataset(test_dataset_file, input_cols))[::,1]\n",
    "fpr, tpr, _ = metrics.roc_curve(y,  y_pred_proba)\n",
    "auc = metrics.roc_auc_score(y, y_pred_proba)\n",
    "plt.plot(fpr,tpr,label=\"data 1, auc=\"+str(auc))\n",
    "plt.legend(loc=4)\n",
    "plt.show()"
   ],
   "metadata": {
    "collapsed": false,
    "ExecuteTime": {
     "end_time": "2024-05-19T13:18:59.034905Z",
     "start_time": "2024-05-19T13:18:58.508090Z"
    }
   },
   "id": "d40cddaa5c2ffd1d",
   "execution_count": 32
  },
  {
   "cell_type": "code",
   "execution_count": 33,
   "id": "5eb9060b2a77cb5d",
   "metadata": {
    "collapsed": false,
    "ExecuteTime": {
     "end_time": "2024-05-19T13:18:59.073292Z",
     "start_time": "2024-05-19T13:18:59.043912Z"
    }
   },
   "outputs": [
    {
     "name": "stdout",
     "output_type": "stream",
     "text": [
      "non-serrated\n",
      "    label  result  expected_result\n",
      "0       1   False            False\n",
      "1       1   False            False\n",
      "2       1    True            False\n",
      "3       1   False            False\n",
      "4       1   False            False\n",
      "5       1   False            False\n",
      "6       1   False            False\n",
      "7       1   False            False\n",
      "8       1   False            False\n",
      "9       1   False            False\n",
      "10      2   False            False\n",
      "11      2    True            False\n",
      "12      2   False            False\n",
      "13      2   False            False\n",
      "14      2    True            False\n",
      "15      2   False            False\n",
      "16      2   False            False\n",
      "17      2    True            False\n",
      "18      2   False            False\n",
      "19      2   False            False\n",
      "20      3   False            False\n",
      "21      3   False            False\n",
      "22      3   False            False\n",
      "23      3   False            False\n",
      "24      3   False            False\n",
      "25      3   False            False\n",
      "26      3   False            False\n",
      "27      3   False            False\n",
      "28      3   False            False\n",
      "29      3   False            False\n",
      "30      4   False            False\n",
      "31      4   False            False\n",
      "32      4    True            False\n",
      "33      4   False            False\n",
      "34      4   False            False\n",
      "35      4   False            False\n",
      "36      4   False            False\n",
      "37      4   False            False\n",
      "38      4   False            False\n",
      "39      4   False            False\n",
      "\n",
      "For non-serrated class\n",
      "accuracy %: 87.5 \n"
     ]
    }
   ],
   "source": [
    "# Optimized model: calculate the accuracy for the four knives that are non-serrated \n",
    "\n",
    "one = grouped_df.get_group(1)\n",
    "two = grouped_df.get_group(2)\n",
    "three = grouped_df.get_group(3)\n",
    "four = grouped_df.get_group(4)\n",
    "\n",
    "non_serrated = pd.concat([one, two, three, four], ignore_index= True)\n",
    "print(f'non-serrated\\n{non_serrated}\\n')\n",
    "non_serrated_accuracy = calculate_accuracy(non_serrated)\n",
    "\n",
    "print( \"For non-serrated class\") \n",
    "    #print(\"total correct:\", tot_corr)\n",
    "    #print('total:', tot) \n",
    "    \n",
    "print(\"accuracy %:\", non_serrated_accuracy, \"\\n\")"
   ]
  },
  {
   "cell_type": "code",
   "execution_count": 34,
   "id": "bfd0b7a31f405f20",
   "metadata": {
    "collapsed": false,
    "ExecuteTime": {
     "end_time": "2024-05-19T13:18:59.104783Z",
     "start_time": "2024-05-19T13:18:59.075856Z"
    }
   },
   "outputs": [
    {
     "name": "stdout",
     "output_type": "stream",
     "text": [
      "knife: 1\n",
      "accuracy %: 90.0\n",
      "error rate %: 10.0 \n",
      "\n",
      "knife: 2\n",
      "accuracy %: 70.0\n",
      "error rate %: 30.0 \n",
      "\n",
      "knife: 3\n",
      "accuracy %: 100.0\n",
      "error rate %: 0.0 \n",
      "\n",
      "knife: 4\n",
      "accuracy %: 90.0\n",
      "error rate %: 10.0 \n",
      "\n",
      "knife: 5\n",
      "accuracy %: 100.0\n",
      "error rate %: 0.0 \n",
      "\n",
      "knife: 6\n",
      "accuracy %: 88.88888888888889\n",
      "error rate %: 11.111111111111114 \n",
      "\n",
      "knife: 7\n",
      "accuracy %: 77.77777777777779\n",
      "error rate %: 22.222222222222214 \n"
     ]
    }
   ],
   "source": [
    "for name, sub_df in grouped_df:\n",
    "    accuracy_perc = calculate_accuracy(sub_df)\n",
    "    error_rate_perc = calculate_error_rate(sub_df)\n",
    "    \n",
    "    print( \"knife:\", name) \n",
    "    print( \"accuracy %:\", accuracy_perc)\n",
    "    print( \"error rate %:\", error_rate_perc, \"\\n\")"
   ]
  },
  {
   "cell_type": "code",
   "execution_count": 35,
   "id": "42680ca9fcc834a",
   "metadata": {
    "collapsed": false,
    "ExecuteTime": {
     "end_time": "2024-05-19T13:18:59.131876Z",
     "start_time": "2024-05-19T13:18:59.107683Z"
    }
   },
   "outputs": [
    {
     "data": {
      "text/plain": "HTMLMath(value='$$p = {\\\\frac{1}{1 + e ^ {-(1.9-1.29x_{1}-1.37x_{2}-0.69x_{3}-1.88x_{4}-1.66x_{5}-1.33x_{6}-0.…",
      "application/vnd.jupyter.widget-view+json": {
       "version_major": 2,
       "version_minor": 0,
       "model_id": "7ed11c826e9b461b8e7fa1a3f0872d5b"
      }
     },
     "execution_count": 35,
     "metadata": {},
     "output_type": "execute_result"
    }
   ],
   "source": [
    "# tex = \"$$p = {\\frac{1}{1 + e ^ {-(\\beta_0 + \\beta_1X_i + \\beta_2X_2 + \\beta_3X_3 + \\beta_4X_4 + \\beta_5X_5)}}}$$\"\n",
    "# tex = \"$$p = {\\frac{1}{1 + e ^ {-(3 + 2X_1 + \\beta_2X_2 + \\beta_3X_3 + \\beta_4X_4 + \\beta_5X_5)}}}$$\"\n",
    "tex = r\"$$p = {\\frac{1}{1 + e ^ {-(\"\n",
    "\n",
    "# Add intercept\n",
    "tex += str(np.round(model.intercept_[0], decimals=2))\n",
    "\n",
    " \n",
    "# Add coefficients\n",
    "for i, b in enumerate(model.coef_[0]):\n",
    "    if b < 0:\n",
    "        sign = '-'\n",
    "    elif b > 0:\n",
    "        sign = '+'\n",
    "    else:\n",
    "        continue\n",
    "    tex += f\"{sign}{str(np.abs(np.round(b, decimals=2)))}x_{{{str(i+1)}}}\"\n",
    "\n",
    "tex += \")}}}$$\"\n",
    "\n",
    "widgets.HTMLMath(\n",
    "    value=tex,\n",
    "    placeholder='Logistic regression',\n",
    ")"
   ]
  }
 ],
 "metadata": {
  "kernelspec": {
   "display_name": "Python 3 (ipykernel)",
   "language": "python",
   "name": "python3"
  },
  "language_info": {
   "codemirror_mode": {
    "name": "ipython",
    "version": 3
   },
   "file_extension": ".py",
   "mimetype": "text/x-python",
   "name": "python",
   "nbconvert_exporter": "python",
   "pygments_lexer": "ipython3",
   "version": "3.10.5"
  }
 },
 "nbformat": 4,
 "nbformat_minor": 5
}
