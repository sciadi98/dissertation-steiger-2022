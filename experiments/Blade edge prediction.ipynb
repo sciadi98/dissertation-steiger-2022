{
 "cells": [
  {
   "cell_type": "code",
   "outputs": [
    {
     "name": "stdout",
     "output_type": "stream",
     "text": [
      "The autoreload extension is already loaded. To reload it, use:\n",
      "  %reload_ext autoreload\n"
     ]
    }
   ],
   "source": [
    "%load_ext autoreload\n",
    "%autoreload 2"
   ],
   "metadata": {
    "collapsed": false,
    "ExecuteTime": {
     "end_time": "2024-05-19T13:12:50.532429Z",
     "start_time": "2024-05-19T13:12:50.372130Z"
    }
   },
   "id": "a616c62bb5ce3ca0",
   "execution_count": 26
  },
  {
   "cell_type": "code",
   "outputs": [],
   "source": [
    "# Imports\n",
    "from common import display_input_data, check_input_data_indices, train_model, prepare_dataset, evaluate_model, \\\n",
    "    run_input_optimizer, calculate_accuracy, calculate_error_rate, run_input_optimizer_2\n",
    "import pandas as pd\n",
    "import ipywidgets as widgets\n",
    "import numpy as np\n",
    "import pickle\n"
   ],
   "metadata": {
    "ExecuteTime": {
     "end_time": "2024-05-19T13:12:50.724145Z",
     "start_time": "2024-05-19T13:12:50.535585Z"
    }
   },
   "id": "e9cf64db-6bc2-44b0-b84c-31bb3dedbf3d",
   "execution_count": 27
  },
  {
   "cell_type": "code",
   "execution_count": 28,
   "id": "0fc99c69-c18d-41b8-aef9-366172b4e713",
   "metadata": {
    "ExecuteTime": {
     "end_time": "2024-05-19T13:12:51.009066Z",
     "start_time": "2024-05-19T13:12:50.727772Z"
    }
   },
   "outputs": [],
   "source": [
    "# Parameters\n",
    "# Chose variables to create the model\n",
    "input_cols = ['shape', 'profile_entrance','rising_entrance', 'rising_exit', 'shards', 'feathering', 'entrance_mounding', 'center_mounding', 'exit_mounding', 'mounding']\n",
    "result_col = 'result'\n",
    "# Load the train and the validation datasets for blade class prediction\n",
    "train_dataset_file = '../DATA/Train/blade_prediction_train.xlsx'\n",
    "test_dataset_file = '../DATA/Validation/blade_prediction_validation.xlsx'"
   ]
  },
  {
   "cell_type": "code",
   "execution_count": 29,
   "id": "33f3b584-bcdf-4cfe-9c0d-74c9c845b763",
   "metadata": {
    "ExecuteTime": {
     "end_time": "2024-05-19T13:12:51.397092Z",
     "start_time": "2024-05-19T13:12:51.013613Z"
    }
   },
   "outputs": [
    {
     "data": {
      "text/plain": "     shape_E  shape_indeterminate  profile_entrance_V  \\\n0      False                 True                True   \n1      False                 True               False   \n2      False                 True               False   \n3      False                 True               False   \n4      False                 True               False   \n..       ...                  ...                 ...   \n275     True                False                True   \n276     True                False                True   \n277     True                False                True   \n278     True                False                True   \n279     True                False                True   \n\n     rising_entrance_bilateral  rising_entrance_single  rising_exit_bilateral  \\\n0                        False                    True                  False   \n1                        False                    True                   True   \n2                        False                    True                   True   \n3                        False                    True                   True   \n4                        False                    True                   True   \n..                         ...                     ...                    ...   \n275                      False                    True                  False   \n276                       True                   False                   True   \n277                      False                   False                  False   \n278                      False                   False                  False   \n279                      False                   False                  False   \n\n     rising_exit_single  shards_present  feathering_present  \\\n0                  True           False               False   \n1                 False           False               False   \n2                 False           False               False   \n3                 False           False               False   \n4                 False           False               False   \n..                  ...             ...                 ...   \n275                True           False               False   \n276               False           False               False   \n277                True           False               False   \n278               False           False                True   \n279                True           False                True   \n\n     entrance_mounding_bilateral  entrance_mounding_single  \\\n0                          False                      True   \n1                          False                      True   \n2                          False                      True   \n3                          False                      True   \n4                          False                      True   \n..                           ...                       ...   \n275                        False                      True   \n276                        False                     False   \n277                        False                     False   \n278                        False                     False   \n279                        False                     False   \n\n     center_mounding_bilateral  center_mounding_single  \\\n0                        False                   False   \n1                        False                   False   \n2                        False                   False   \n3                        False                   False   \n4                        False                   False   \n..                         ...                     ...   \n275                      False                   False   \n276                      False                   False   \n277                      False                   False   \n278                      False                   False   \n279                      False                   False   \n\n     exit_mounding_bilateral  exit_mounding_single  mounding_marked  \\\n0                      False                  True            False   \n1                      False                  True            False   \n2                       True                 False            False   \n3                       True                 False            False   \n4                       True                 False            False   \n..                       ...                   ...              ...   \n275                    False                  True             True   \n276                    False                 False            False   \n277                    False                 False            False   \n278                    False                 False            False   \n279                    False                  True             True   \n\n     mounding_not marked  \n0                   True  \n1                   True  \n2                   True  \n3                   True  \n4                   True  \n..                   ...  \n275                False  \n276                False  \n277                False  \n278                False  \n279                False  \n\n[280 rows x 17 columns]",
      "text/html": "<div>\n<style scoped>\n    .dataframe tbody tr th:only-of-type {\n        vertical-align: middle;\n    }\n\n    .dataframe tbody tr th {\n        vertical-align: top;\n    }\n\n    .dataframe thead th {\n        text-align: right;\n    }\n</style>\n<table border=\"1\" class=\"dataframe\">\n  <thead>\n    <tr style=\"text-align: right;\">\n      <th></th>\n      <th>shape_E</th>\n      <th>shape_indeterminate</th>\n      <th>profile_entrance_V</th>\n      <th>rising_entrance_bilateral</th>\n      <th>rising_entrance_single</th>\n      <th>rising_exit_bilateral</th>\n      <th>rising_exit_single</th>\n      <th>shards_present</th>\n      <th>feathering_present</th>\n      <th>entrance_mounding_bilateral</th>\n      <th>entrance_mounding_single</th>\n      <th>center_mounding_bilateral</th>\n      <th>center_mounding_single</th>\n      <th>exit_mounding_bilateral</th>\n      <th>exit_mounding_single</th>\n      <th>mounding_marked</th>\n      <th>mounding_not marked</th>\n    </tr>\n  </thead>\n  <tbody>\n    <tr>\n      <th>0</th>\n      <td>False</td>\n      <td>True</td>\n      <td>True</td>\n      <td>False</td>\n      <td>True</td>\n      <td>False</td>\n      <td>True</td>\n      <td>False</td>\n      <td>False</td>\n      <td>False</td>\n      <td>True</td>\n      <td>False</td>\n      <td>False</td>\n      <td>False</td>\n      <td>True</td>\n      <td>False</td>\n      <td>True</td>\n    </tr>\n    <tr>\n      <th>1</th>\n      <td>False</td>\n      <td>True</td>\n      <td>False</td>\n      <td>False</td>\n      <td>True</td>\n      <td>True</td>\n      <td>False</td>\n      <td>False</td>\n      <td>False</td>\n      <td>False</td>\n      <td>True</td>\n      <td>False</td>\n      <td>False</td>\n      <td>False</td>\n      <td>True</td>\n      <td>False</td>\n      <td>True</td>\n    </tr>\n    <tr>\n      <th>2</th>\n      <td>False</td>\n      <td>True</td>\n      <td>False</td>\n      <td>False</td>\n      <td>True</td>\n      <td>True</td>\n      <td>False</td>\n      <td>False</td>\n      <td>False</td>\n      <td>False</td>\n      <td>True</td>\n      <td>False</td>\n      <td>False</td>\n      <td>True</td>\n      <td>False</td>\n      <td>False</td>\n      <td>True</td>\n    </tr>\n    <tr>\n      <th>3</th>\n      <td>False</td>\n      <td>True</td>\n      <td>False</td>\n      <td>False</td>\n      <td>True</td>\n      <td>True</td>\n      <td>False</td>\n      <td>False</td>\n      <td>False</td>\n      <td>False</td>\n      <td>True</td>\n      <td>False</td>\n      <td>False</td>\n      <td>True</td>\n      <td>False</td>\n      <td>False</td>\n      <td>True</td>\n    </tr>\n    <tr>\n      <th>4</th>\n      <td>False</td>\n      <td>True</td>\n      <td>False</td>\n      <td>False</td>\n      <td>True</td>\n      <td>True</td>\n      <td>False</td>\n      <td>False</td>\n      <td>False</td>\n      <td>False</td>\n      <td>True</td>\n      <td>False</td>\n      <td>False</td>\n      <td>True</td>\n      <td>False</td>\n      <td>False</td>\n      <td>True</td>\n    </tr>\n    <tr>\n      <th>...</th>\n      <td>...</td>\n      <td>...</td>\n      <td>...</td>\n      <td>...</td>\n      <td>...</td>\n      <td>...</td>\n      <td>...</td>\n      <td>...</td>\n      <td>...</td>\n      <td>...</td>\n      <td>...</td>\n      <td>...</td>\n      <td>...</td>\n      <td>...</td>\n      <td>...</td>\n      <td>...</td>\n      <td>...</td>\n    </tr>\n    <tr>\n      <th>275</th>\n      <td>True</td>\n      <td>False</td>\n      <td>True</td>\n      <td>False</td>\n      <td>True</td>\n      <td>False</td>\n      <td>True</td>\n      <td>False</td>\n      <td>False</td>\n      <td>False</td>\n      <td>True</td>\n      <td>False</td>\n      <td>False</td>\n      <td>False</td>\n      <td>True</td>\n      <td>True</td>\n      <td>False</td>\n    </tr>\n    <tr>\n      <th>276</th>\n      <td>True</td>\n      <td>False</td>\n      <td>True</td>\n      <td>True</td>\n      <td>False</td>\n      <td>True</td>\n      <td>False</td>\n      <td>False</td>\n      <td>False</td>\n      <td>False</td>\n      <td>False</td>\n      <td>False</td>\n      <td>False</td>\n      <td>False</td>\n      <td>False</td>\n      <td>False</td>\n      <td>False</td>\n    </tr>\n    <tr>\n      <th>277</th>\n      <td>True</td>\n      <td>False</td>\n      <td>True</td>\n      <td>False</td>\n      <td>False</td>\n      <td>False</td>\n      <td>True</td>\n      <td>False</td>\n      <td>False</td>\n      <td>False</td>\n      <td>False</td>\n      <td>False</td>\n      <td>False</td>\n      <td>False</td>\n      <td>False</td>\n      <td>False</td>\n      <td>False</td>\n    </tr>\n    <tr>\n      <th>278</th>\n      <td>True</td>\n      <td>False</td>\n      <td>True</td>\n      <td>False</td>\n      <td>False</td>\n      <td>False</td>\n      <td>False</td>\n      <td>False</td>\n      <td>True</td>\n      <td>False</td>\n      <td>False</td>\n      <td>False</td>\n      <td>False</td>\n      <td>False</td>\n      <td>False</td>\n      <td>False</td>\n      <td>False</td>\n    </tr>\n    <tr>\n      <th>279</th>\n      <td>True</td>\n      <td>False</td>\n      <td>True</td>\n      <td>False</td>\n      <td>False</td>\n      <td>False</td>\n      <td>True</td>\n      <td>False</td>\n      <td>True</td>\n      <td>False</td>\n      <td>False</td>\n      <td>False</td>\n      <td>False</td>\n      <td>False</td>\n      <td>True</td>\n      <td>True</td>\n      <td>False</td>\n    </tr>\n  </tbody>\n</table>\n<p>280 rows × 17 columns</p>\n</div>"
     },
     "metadata": {},
     "output_type": "display_data"
    }
   ],
   "source": [
    "# The data are displayed on a table\n",
    "display_input_data(\n",
    "    train_dataset_file,\n",
    "    input_cols\n",
    ")"
   ]
  },
  {
   "cell_type": "code",
   "execution_count": 30,
   "id": "13820e44-c7e3-4fe4-baa4-b4bc23be19f4",
   "metadata": {
    "ExecuteTime": {
     "end_time": "2024-05-19T13:12:51.876083Z",
     "start_time": "2024-05-19T13:12:51.400760Z"
    }
   },
   "outputs": [
    {
     "name": "stdout",
     "output_type": "stream",
     "text": [
      "Datasets are compatible\n"
     ]
    }
   ],
   "source": [
    "# The two datasets are tested for compatibility \n",
    "check_input_data_indices(train_dataset_file, test_dataset_file, input_cols)"
   ]
  },
  {
   "cell_type": "code",
   "execution_count": 31,
   "id": "4a658275-a77d-4c6c-a859-71445288056c",
   "metadata": {
    "ExecuteTime": {
     "end_time": "2024-05-19T13:12:52.662971Z",
     "start_time": "2024-05-19T13:12:51.879085Z"
    }
   },
   "outputs": [
    {
     "name": "stdout",
     "output_type": "stream",
     "text": [
      "LogisticRegression(class_weight='balanced', random_state=58, solver='liblinear')\n",
      "Saved model to ../models/blade-bevel.pickle\n",
      "b0 = [3.17996213]\n",
      "b1...n = [[-2.17423594 -1.56355783 -1.92810362 -0.36351264 -0.24278815 -0.33287886\n",
      "  -0.17982359  1.00833042  0.42496669 -0.96954455 -0.09515296 -1.14420742\n",
      "  -0.76750395 -0.54128801  0.46155379  0.77269167  0.38270883]]\n"
     ]
    }
   ],
   "source": [
    "# Logistic regression model\n",
    "model = train_model(\n",
    "    train_dataset_file,\n",
    "    input_cols,\n",
    "    result_col\n",
    ")\n",
    "\n",
    "print(model)\n",
    "\n",
    "\n",
    "filename = '../models/blade-bevel.pickle'\n",
    "pickle.dump(model, open(filename, 'wb'))\n",
    "\n",
    "print(f'Saved model to {filename}')\n",
    "\n",
    "# model\n",
    "print('b0 = ' + str(model.intercept_))\n",
    "print('b1...n = ' + str(model.coef_))"
   ]
  },
  {
   "cell_type": "code",
   "execution_count": 32,
   "id": "c8bc569d-8613-431f-8b2c-ef84089c3cfe",
   "metadata": {
    "ExecuteTime": {
     "end_time": "2024-05-19T13:12:53.031034Z",
     "start_time": "2024-05-19T13:12:52.668974Z"
    }
   },
   "outputs": [
    {
     "data": {
      "text/plain": "0.7164179104477612"
     },
     "execution_count": 32,
     "metadata": {},
     "output_type": "execute_result"
    }
   ],
   "source": [
    "# 10 variables were used \n",
    "evaluate_model(\n",
    "    model,\n",
    "    test_dataset_file,\n",
    "    input_cols,\n",
    "    result_col\n",
    ")"
   ]
  },
  {
   "cell_type": "code",
   "outputs": [
    {
     "data": {
      "text/plain": "0.8142857142857143"
     },
     "execution_count": 33,
     "metadata": {},
     "output_type": "execute_result"
    }
   ],
   "source": [
    "x_train, y_train = prepare_dataset(train_dataset_file, input_cols, result_col)\n",
    "model.score(x_train, y_train)"
   ],
   "metadata": {
    "collapsed": false,
    "ExecuteTime": {
     "end_time": "2024-05-19T13:12:53.555958Z",
     "start_time": "2024-05-19T13:12:53.033031Z"
    }
   },
   "id": "d14f235b87985b93",
   "execution_count": 33
  },
  {
   "cell_type": "code",
   "outputs": [
    {
     "name": "stdout",
     "output_type": "stream",
     "text": [
      "[ True  True False False  True False False  True  True False  True False\n",
      "  True False False  True False  True False False  True  True  True  True\n",
      "  True  True  True  True False False False False False False False False\n",
      " False False False  True  True  True  True  True  True  True  True  True\n",
      "  True  True  True False  True  True  True  True  True  True False  True\n",
      " False False False False False False False]\n"
     ]
    }
   ],
   "source": [
    "\n",
    "y_pred = model.predict(prepare_dataset(test_dataset_file, input_cols))\n",
    "print(y_pred)"
   ],
   "metadata": {
    "collapsed": false,
    "ExecuteTime": {
     "end_time": "2024-05-19T13:12:53.788105Z",
     "start_time": "2024-05-19T13:12:53.562007Z"
    }
   },
   "id": "43f76312c569dc93",
   "execution_count": 34
  },
  {
   "cell_type": "code",
   "outputs": [
    {
     "data": {
      "text/plain": "0.8142857142857143"
     },
     "execution_count": 35,
     "metadata": {},
     "output_type": "execute_result"
    }
   ],
   "source": [
    "# Test for overfitting\n",
    "# Evaluation of the training\n",
    "x_train, y_train = prepare_dataset(train_dataset_file, input_cols, result_col)\n",
    "model.score(x_train, y_train)"
   ],
   "metadata": {
    "ExecuteTime": {
     "end_time": "2024-05-19T13:12:54.210339Z",
     "start_time": "2024-05-19T13:12:53.795478Z"
    }
   },
   "id": "b676a8ee-8709-47fb-ae96-9f9d608c891c",
   "execution_count": 35
  },
  {
   "cell_type": "code",
   "outputs": [
    {
     "name": "stdout",
     "output_type": "stream",
     "text": [
      "[ True  True False False  True False False  True  True False  True False\n",
      "  True False False  True False  True False False  True  True  True  True\n",
      "  True  True  True  True False False False False False False False False\n",
      " False False False  True  True  True  True  True  True  True  True  True\n",
      "  True  True  True False  True  True  True  True  True  True False  True\n",
      " False False False False False False False]\n",
      "0     True\n",
      "1     True\n",
      "2     True\n",
      "3     True\n",
      "4     True\n",
      "      ... \n",
      "62    True\n",
      "63    True\n",
      "64    True\n",
      "65    True\n",
      "66    True\n",
      "Name: single, Length: 67, dtype: bool\n"
     ]
    },
    {
     "data": {
      "text/plain": "array([[16,  4],\n       [15, 32]], dtype=int64)"
     },
     "execution_count": 36,
     "metadata": {},
     "output_type": "execute_result"
    }
   ],
   "source": [
    "# import the metrics class\n",
    "from sklearn import metrics\n",
    "\n",
    "#get the column from the test dataset \n",
    "df = pd.read_excel(test_dataset_file)\n",
    "y_df = df[result_col].str.strip()\n",
    "y = pd.get_dummies(y_df, drop_first=True).iloc[:, 0]\n",
    "# #get the predicted value\n",
    "y_pred = model.predict(prepare_dataset(test_dataset_file, input_cols))\n",
    "print(y_pred)\n",
    "print(y)\n",
    "\n",
    "#create the confusion matrix \n",
    "\n",
    "cnf_matrix = metrics.confusion_matrix(y,y_pred)\n",
    "cnf_matrix"
   ],
   "metadata": {
    "collapsed": false,
    "ExecuteTime": {
     "end_time": "2024-05-19T13:12:55.122857Z",
     "start_time": "2024-05-19T13:12:54.216241Z"
    }
   },
   "id": "f565ae1ba33647",
   "execution_count": 36
  },
  {
   "cell_type": "code",
   "outputs": [
    {
     "data": {
      "text/plain": "Text(0.5, 427.9555555555555, 'Predicted label')"
     },
     "execution_count": 37,
     "metadata": {},
     "output_type": "execute_result"
    },
    {
     "data": {
      "text/plain": "<Figure size 640x480 with 2 Axes>",
      "image/png": "[encoded data removed]"
     },
     "metadata": {},
     "output_type": "display_data"
    }
   ],
   "source": [
    "import matplotlib.pyplot as plt\n",
    "import seaborn as sns\n",
    "\n",
    "class_names=[0,1] # name  of classes\n",
    "fig, ax = plt.subplots()\n",
    "tick_marks = np.arange(len(class_names))\n",
    "plt.xticks(tick_marks, class_names)\n",
    "plt.yticks(tick_marks, class_names)\n",
    "\n",
    "\n",
    "# create heatmap\n",
    "sns.heatmap(pd.DataFrame(cnf_matrix), annot=True, cmap=\"YlGnBu\" ,fmt='g')\n",
    "ax.xaxis.set_label_position(\"top\")\n",
    "plt.tight_layout()\n",
    "plt.title('Confusion matrix', y=1.1)\n",
    "plt.ylabel('Actual label')\n",
    "plt.xlabel('Predicted label')\n",
    "\n"
   ],
   "metadata": {
    "collapsed": false,
    "ExecuteTime": {
     "end_time": "2024-05-19T13:12:57.272375Z",
     "start_time": "2024-05-19T13:12:55.127002Z"
    }
   },
   "id": "e61b1ef8371e2063",
   "execution_count": 37
  },
  {
   "cell_type": "code",
   "outputs": [
    {
     "name": "stdout",
     "output_type": "stream",
     "text": [
      "                precision    recall  f1-score   support\n",
      "\n",
      "double beveled       0.52      0.80      0.63        20\n",
      "        single       0.89      0.68      0.77        47\n",
      "\n",
      "      accuracy                           0.72        67\n",
      "     macro avg       0.70      0.74      0.70        67\n",
      "  weighted avg       0.78      0.72      0.73        67\n"
     ]
    }
   ],
   "source": [
    "from sklearn.metrics import classification_report\n",
    "target_names = ['double beveled', 'single']\n",
    "print(classification_report(y, y_pred, target_names=target_names))\n",
    "\n"
   ],
   "metadata": {
    "collapsed": false,
    "ExecuteTime": {
     "end_time": "2024-05-19T13:12:57.516463Z",
     "start_time": "2024-05-19T13:12:57.282318Z"
    }
   },
   "id": "cb9698eadfcc2fdb",
   "execution_count": 38
  },
  {
   "cell_type": "code",
   "outputs": [
    {
     "data": {
      "text/plain": "<Figure size 640x480 with 1 Axes>",
      "image/png": "[encoded data removed]"
     },
     "metadata": {},
     "output_type": "display_data"
    }
   ],
   "source": [
    "y_pred_proba = model.predict_proba(prepare_dataset(test_dataset_file, input_cols))[::,1]\n",
    "fpr, tpr, _ = metrics.roc_curve(y,  y_pred_proba)\n",
    "auc = metrics.roc_auc_score(y, y_pred_proba)\n",
    "plt.plot(fpr,tpr,label=\"data 1, auc=\"+str(auc))\n",
    "plt.xlabel(\"1-Specificity\")\n",
    "plt.ylabel(\"Sensitivity\")\n",
    "plt.legend(loc=5)\n",
    "plt.show()"
   ],
   "metadata": {
    "collapsed": false,
    "ExecuteTime": {
     "end_time": "2024-05-19T13:12:58.487568Z",
     "start_time": "2024-05-19T13:12:57.518465Z"
    }
   },
   "id": "4acbf21e9350e565",
   "execution_count": 39
  },
  {
   "cell_type": "code",
   "execution_count": 40,
   "id": "7c113245-7baa-48fb-87a8-0bead857337f",
   "metadata": {
    "ExecuteTime": {
     "end_time": "2024-05-19T13:12:59.200190Z",
     "start_time": "2024-05-19T13:12:58.492231Z"
    }
   },
   "outputs": [
    {
     "name": "stdout",
     "output_type": "stream",
     "text": [
      "[ True  True  True  True  True  True  True  True  True False  True  True\n",
      "  True  True  True  True  True  True False  True  True  True  True  True\n",
      "  True  True  True  True  True  True False  True  True  True  True  True\n",
      "  True  True  True False False False False False False False  True  True\n",
      " False False False False False False False  True  True  True  True False\n",
      " False False False False False False False False  True  True  True False\n",
      " False False False False False  True  True  True False False False False\n",
      "  True False False False False False False False False False False False\n",
      " False False False False False False False False False False False False\n",
      " False False False False False False False False False False False False\n",
      " False False False False False False False False False  True False False\n",
      "  True False False False False False False False False False False False\n",
      " False False False False False  True False False False False False False\n",
      " False False False False  True  True  True  True  True  True  True  True\n",
      "  True  True  True  True  True  True  True  True  True  True  True  True\n",
      "  True  True  True  True  True  True  True  True  True  True  True  True\n",
      "  True  True  True  True  True  True  True  True  True  True  True  True\n",
      "  True  True  True  True  True  True  True  True  True  True  True  True\n",
      "  True  True  True  True  True  True  True  True  True  True  True  True\n",
      "  True  True False  True  True  True  True  True  True  True  True  True\n",
      "  True False  True False  True  True  True  True  True False False False\n",
      "  True  True  True  True  True  True False  True  True  True  True  True\n",
      " False False  True  True  True  True False False  True False  True False\n",
      " False False False  True]\n"
     ]
    }
   ],
   "source": [
    "# filter data for the new dataframe\n",
    "df = pd.read_excel(train_dataset_file)\n",
    "x_df = df[input_cols].apply(lambda x: x.str.strip())\n",
    "x = pd.get_dummies(x_df, drop_first=True)\n",
    "\n",
    "result = model.predict(x)\n",
    "print(result)\n",
    "# this paragraph was created to see if single or even bladed corresponded either False or True\n",
    "# True corresponds to single"
   ]
  },
  {
   "cell_type": "code",
   "outputs": [],
   "source": [],
   "metadata": {
    "collapsed": false,
    "ExecuteTime": {
     "end_time": "2024-05-19T13:12:59.211518Z",
     "start_time": "2024-05-19T13:12:59.203179Z"
    }
   },
   "id": "cb83d36843bb5602",
   "execution_count": 40
  },
  {
   "cell_type": "code",
   "outputs": [],
   "source": [],
   "metadata": {
    "collapsed": false,
    "ExecuteTime": {
     "end_time": "2024-05-19T13:12:59.221304Z",
     "start_time": "2024-05-19T13:12:59.216671Z"
    }
   },
   "id": "8d9b05a0bf46e86a",
   "execution_count": 40
  },
  {
   "cell_type": "code",
   "execution_count": 41,
   "id": "3514bbc1-9a6a-4102-a299-33890aca891e",
   "metadata": {
    "ExecuteTime": {
     "end_time": "2024-05-19T13:12:59.496026Z",
     "start_time": "2024-05-19T13:12:59.225007Z"
    }
   },
   "outputs": [
    {
     "name": "stdout",
     "output_type": "stream",
     "text": [
      "0     single\n",
      "1     single\n",
      "2     single\n",
      "3     single\n",
      "4     single\n",
      "       ...  \n",
      "62    single\n",
      "63    single\n",
      "64    single\n",
      "65    single\n",
      "66    single\n",
      "Name: result, Length: 67, dtype: object\n",
      "[ True  True False False  True False False  True  True False  True False\n",
      "  True False False  True False  True False False  True  True  True  True\n",
      "  True  True  True  True False False False False False False False False\n",
      " False False False  True  True  True  True  True  True  True  True  True\n",
      "  True  True  True False  True  True  True  True  True  True False  True\n",
      " False False False False False False False]\n"
     ]
    }
   ],
   "source": [
    "# filter data for the new dataframe\n",
    "df = pd.read_excel(test_dataset_file)\n",
    "label = df[\"label\"]\n",
    "string_expresult = df[\"result\"]\n",
    "\n",
    "x_df = df[input_cols].apply(lambda x: x.str.strip())\n",
    "x = pd.get_dummies(x_df, drop_first=True)\n",
    "\n",
    "result = model.predict(x)\n",
    "\n",
    "print(string_expresult)\n",
    "print(result)"
   ]
  },
  {
   "cell_type": "code",
   "execution_count": 42,
   "id": "f0e611a1-f73b-412b-9aa3-3b2d098eec39",
   "metadata": {
    "ExecuteTime": {
     "end_time": "2024-05-19T13:12:59.784111Z",
     "start_time": "2024-05-19T13:12:59.499025Z"
    }
   },
   "outputs": [
    {
     "name": "stdout",
     "output_type": "stream",
     "text": [
      "[True, True, True, True, True, True, True, True, True, True, False, False, False, False, False, False, False, False, False, False, True, True, True, True, True, True, True, True, True, False, False, False, False, False, False, False, False, False, False, True, True, True, True, True, True, True, True, True, True, True, True, True, True, True, True, True, True, True, True, True, True, True, True, True, True, True, True]\n"
     ]
    }
   ],
   "source": [
    "# to organize better the things, we have to create a new list for the \"result\" and transform them in boolean\n",
    "expected_result = []\n",
    "for x in string_expresult:\n",
    "\n",
    "    if x == \"single\":\n",
    "        expected_result.append(True)\n",
    "    \n",
    "    else:\n",
    "        expected_result.append(False)\n",
    "\n",
    "print(expected_result)\n"
   ]
  },
  {
   "cell_type": "code",
   "execution_count": 43,
   "id": "8583246b-b3e3-4dab-aa53-7c4e42bb6c91",
   "metadata": {
    "ExecuteTime": {
     "end_time": "2024-05-19T13:13:00.024440Z",
     "start_time": "2024-05-19T13:12:59.787730Z"
    }
   },
   "outputs": [
    {
     "name": "stdout",
     "output_type": "stream",
     "text": [
      "    label  result  expected_result\n",
      "0       2    True             True\n",
      "1       2    True             True\n",
      "2       2   False             True\n",
      "3       2   False             True\n",
      "4       2    True             True\n",
      "..    ...     ...              ...\n",
      "62      1   False             True\n",
      "63      1   False             True\n",
      "64      1   False             True\n",
      "65      1   False             True\n",
      "66      1   False             True\n",
      "\n",
      "[67 rows x 3 columns]\n",
      "    label  result  expected_result\n",
      "0       2    True             True\n",
      "1       2    True             True\n",
      "2       2   False             True\n",
      "3       2   False             True\n",
      "4       2    True             True\n",
      "10      4    True            False\n",
      "11      4   False            False\n",
      "12      4    True            False\n",
      "13      4   False            False\n",
      "14      4   False            False\n",
      "20      7    True             True\n",
      "21      7    True             True\n",
      "22      7    True             True\n",
      "23      7    True             True\n",
      "24      7    True             True\n",
      "29      3   False            False\n",
      "30      3   False            False\n",
      "31      3   False            False\n",
      "32      3   False            False\n",
      "33      3   False            False\n",
      "39      5    True             True\n",
      "40      5    True             True\n",
      "41      5    True             True\n",
      "42      5    True             True\n",
      "43      5    True             True\n",
      "48      6    True             True\n",
      "49      6    True             True\n",
      "50      6    True             True\n",
      "51      6   False             True\n",
      "52      6    True             True\n",
      "57      1    True             True\n",
      "58      1   False             True\n",
      "59      1    True             True\n",
      "60      1   False             True\n",
      "61      1   False             True\n"
     ]
    }
   ],
   "source": [
    "#build dataframe with result, expected result and label \n",
    "\n",
    "data = {'label': label, 'result': result, \"expected_result\" : expected_result}  \n",
    "  \n",
    "# Create DataFrame  \n",
    "df = pd.DataFrame(data)  \n",
    "   \n",
    "print(df)  \n",
    "\n",
    "grouped_df = df.groupby(by = \"label\")\n",
    "\n",
    "print(grouped_df.head())"
   ]
  },
  {
   "cell_type": "code",
   "execution_count": 44,
   "id": "b1a0219c",
   "metadata": {
    "ExecuteTime": {
     "end_time": "2024-05-19T13:13:00.252524Z",
     "start_time": "2024-05-19T13:13:00.027696Z"
    }
   },
   "outputs": [
    {
     "name": "stdout",
     "output_type": "stream",
     "text": [
      "single bladed\n",
      "    label  result  expected_result\n",
      "0       1    True             True\n",
      "1       1   False             True\n",
      "2       1    True             True\n",
      "3       1   False             True\n",
      "4       1   False             True\n",
      "5       1   False             True\n",
      "6       1   False             True\n",
      "7       1   False             True\n",
      "8       1   False             True\n",
      "9       1   False             True\n",
      "10      5    True             True\n",
      "11      5    True             True\n",
      "12      5    True             True\n",
      "13      5    True             True\n",
      "14      5    True             True\n",
      "15      5    True             True\n",
      "16      5    True             True\n",
      "17      5    True             True\n",
      "18      5    True             True\n",
      "19      6    True             True\n",
      "20      6    True             True\n",
      "21      6    True             True\n",
      "22      6   False             True\n",
      "23      6    True             True\n",
      "24      6    True             True\n",
      "25      6    True             True\n",
      "26      6    True             True\n",
      "27      6    True             True\n",
      "28      7    True             True\n",
      "29      7    True             True\n",
      "30      7    True             True\n",
      "31      7    True             True\n",
      "32      7    True             True\n",
      "33      7    True             True\n",
      "34      7    True             True\n",
      "35      7    True             True\n",
      "36      7   False             True\n",
      "\n",
      "For single blade class\n",
      "accuracy %: 72.97297297297297 \n"
     ]
    }
   ],
   "source": [
    "\n",
    "# calculate the accuracy for the four knives that are single blade \n",
    "\n",
    "one = grouped_df.get_group(1)\n",
    "five = grouped_df.get_group(5)\n",
    "six = grouped_df.get_group(6)\n",
    "seven = grouped_df.get_group(7)\n",
    "\n",
    "single_bladed = pd.concat([one, five, six, seven], ignore_index= True)\n",
    "print(f'single bladed\\n{single_bladed}\\n')\n",
    "single_bladed_accuracy = calculate_accuracy(single_bladed)\n",
    "\n",
    "print( \"For single blade class\") \n",
    "    #print(\"total correct:\", tot_corr)\n",
    "    #print('total:', tot) \n",
    "    \n",
    "print(\"accuracy %:\", single_bladed_accuracy, \"\\n\")"
   ]
  },
  {
   "cell_type": "code",
   "execution_count": 45,
   "id": "9acfac7e",
   "metadata": {
    "ExecuteTime": {
     "end_time": "2024-05-19T13:13:00.446648Z",
     "start_time": "2024-05-19T13:13:00.254525Z"
    }
   },
   "outputs": [
    {
     "name": "stdout",
     "output_type": "stream",
     "text": [
      "even bladed\n",
      "    label  result  expected_result\n",
      "0       2    True             True\n",
      "1       2    True             True\n",
      "2       2   False             True\n",
      "3       2   False             True\n",
      "4       2    True             True\n",
      "5       2   False             True\n",
      "6       2   False             True\n",
      "7       2    True             True\n",
      "8       2    True             True\n",
      "9       2   False             True\n",
      "10      3   False            False\n",
      "11      3   False            False\n",
      "12      3   False            False\n",
      "13      3   False            False\n",
      "14      3   False            False\n",
      "15      3   False            False\n",
      "16      3   False            False\n",
      "17      3   False            False\n",
      "18      3   False            False\n",
      "19      3   False            False\n",
      "20      4    True            False\n",
      "21      4   False            False\n",
      "22      4    True            False\n",
      "23      4   False            False\n",
      "24      4   False            False\n",
      "25      4    True            False\n",
      "26      4   False            False\n",
      "27      4    True            False\n",
      "28      4   False            False\n",
      "29      4   False            False\n",
      "\n",
      "For even blade class\n",
      "accuracy %: 70.0 \n"
     ]
    }
   ],
   "source": [
    "# calculate accuracy of the double-edge class\n",
    "two = grouped_df.get_group(2)\n",
    "three = grouped_df.get_group(3)\n",
    "four = grouped_df.get_group(4)\n",
    "\n",
    "even_bladed = pd.concat([two, three, four], ignore_index= True)\n",
    "print(f'even bladed\\n{even_bladed}\\n')\n",
    "even_bladed_accuracy = calculate_accuracy(even_bladed)\n",
    "\n",
    "print( \"For even blade class\") \n",
    "    #print(\"total correct:\", tot_corr)\n",
    "    #print('total:', tot) \n",
    "    \n",
    "print(\"accuracy %:\", even_bladed_accuracy, \"\\n\")"
   ]
  },
  {
   "cell_type": "code",
   "execution_count": 46,
   "id": "f16d754f",
   "metadata": {
    "ExecuteTime": {
     "end_time": "2024-05-19T13:13:00.665401Z",
     "start_time": "2024-05-19T13:13:00.449635Z"
    }
   },
   "outputs": [
    {
     "name": "stdout",
     "output_type": "stream",
     "text": [
      "even bladed\n",
      "    label  result  expected_result\n",
      "0       2    True             True\n",
      "1       2    True             True\n",
      "2       2   False             True\n",
      "3       2   False             True\n",
      "4       2    True             True\n",
      "5       2   False             True\n",
      "6       2   False             True\n",
      "7       2    True             True\n",
      "8       2    True             True\n",
      "9       2   False             True\n",
      "10      3   False            False\n",
      "11      3   False            False\n",
      "12      3   False            False\n",
      "13      3   False            False\n",
      "14      3   False            False\n",
      "15      3   False            False\n",
      "16      3   False            False\n",
      "17      3   False            False\n",
      "18      3   False            False\n",
      "19      3   False            False\n",
      "\n",
      "For even blade class\n",
      "accuracy %: 75.0 \n"
     ]
    }
   ],
   "source": [
    "# accuracy for even bladed without the knife number 4\n",
    "\n",
    "two = grouped_df.get_group(2)\n",
    "three = grouped_df.get_group(3)\n",
    "\n",
    "\n",
    "even_bladed = pd.concat([two, three], ignore_index= True)\n",
    "print(f'even bladed\\n{even_bladed}\\n')\n",
    "even_bladed_accuracy = calculate_accuracy(even_bladed)\n",
    "\n",
    "print( \"For even blade class\") \n",
    "    #print(\"total correct:\", tot_corr)\n",
    "    #print('total:', tot) \n",
    "    \n",
    "print(\"accuracy %:\", even_bladed_accuracy, \"\\n\")"
   ]
  },
  {
   "cell_type": "code",
   "execution_count": 47,
   "id": "daf2d81d-6dc9-4481-939d-f9e14f8e4b11",
   "metadata": {
    "ExecuteTime": {
     "end_time": "2024-05-19T13:13:00.900854Z",
     "start_time": "2024-05-19T13:13:00.675079Z"
    }
   },
   "outputs": [
    {
     "name": "stdout",
     "output_type": "stream",
     "text": [
      "1\n",
      "    label  result  expected_result\n",
      "57      1    True             True\n",
      "58      1   False             True\n",
      "59      1    True             True\n",
      "60      1   False             True\n",
      "61      1   False             True\n",
      "62      1   False             True\n",
      "63      1   False             True\n",
      "64      1   False             True\n",
      "65      1   False             True\n",
      "66      1   False             True\n",
      "\n",
      "2\n",
      "   label  result  expected_result\n",
      "0      2    True             True\n",
      "1      2    True             True\n",
      "2      2   False             True\n",
      "3      2   False             True\n",
      "4      2    True             True\n",
      "5      2   False             True\n",
      "6      2   False             True\n",
      "7      2    True             True\n",
      "8      2    True             True\n",
      "9      2   False             True\n",
      "\n",
      "3\n",
      "    label  result  expected_result\n",
      "29      3   False            False\n",
      "30      3   False            False\n",
      "31      3   False            False\n",
      "32      3   False            False\n",
      "33      3   False            False\n",
      "34      3   False            False\n",
      "35      3   False            False\n",
      "36      3   False            False\n",
      "37      3   False            False\n",
      "38      3   False            False\n",
      "\n",
      "4\n",
      "    label  result  expected_result\n",
      "10      4    True            False\n",
      "11      4   False            False\n",
      "12      4    True            False\n",
      "13      4   False            False\n",
      "14      4   False            False\n",
      "15      4    True            False\n",
      "16      4   False            False\n",
      "17      4    True            False\n",
      "18      4   False            False\n",
      "19      4   False            False\n",
      "\n",
      "5\n",
      "    label  result  expected_result\n",
      "39      5    True             True\n",
      "40      5    True             True\n",
      "41      5    True             True\n",
      "42      5    True             True\n",
      "43      5    True             True\n",
      "44      5    True             True\n",
      "45      5    True             True\n",
      "46      5    True             True\n",
      "47      5    True             True\n",
      "\n",
      "6\n",
      "    label  result  expected_result\n",
      "48      6    True             True\n",
      "49      6    True             True\n",
      "50      6    True             True\n",
      "51      6   False             True\n",
      "52      6    True             True\n",
      "53      6    True             True\n",
      "54      6    True             True\n",
      "55      6    True             True\n",
      "56      6    True             True\n",
      "\n",
      "7\n",
      "    label  result  expected_result\n",
      "20      7    True             True\n",
      "21      7    True             True\n",
      "22      7    True             True\n",
      "23      7    True             True\n",
      "24      7    True             True\n",
      "25      7    True             True\n",
      "26      7    True             True\n",
      "27      7    True             True\n",
      "28      7   False             True\n"
     ]
    }
   ],
   "source": [
    "for name, sub_df in grouped_df:\n",
    "    print(f'{name}\\n{sub_df}\\n')"
   ]
  },
  {
   "cell_type": "code",
   "execution_count": 48,
   "id": "a8ef2c91-4539-42c8-bcaf-6cd092f6445b",
   "metadata": {
    "ExecuteTime": {
     "end_time": "2024-05-19T13:13:01.097977Z",
     "start_time": "2024-05-19T13:13:00.904239Z"
    }
   },
   "outputs": [
    {
     "name": "stdout",
     "output_type": "stream",
     "text": [
      "knife: 1\n",
      "accuracy %: 20.0 \n",
      "\n",
      "knife: 2\n",
      "accuracy %: 50.0 \n",
      "\n",
      "knife: 3\n",
      "accuracy %: 100.0 \n",
      "\n",
      "knife: 4\n",
      "accuracy %: 60.0 \n",
      "\n",
      "knife: 5\n",
      "accuracy %: 100.0 \n",
      "\n",
      "knife: 6\n",
      "accuracy %: 88.88888888888889 \n",
      "\n",
      "knife: 7\n",
      "accuracy %: 88.88888888888889 \n"
     ]
    }
   ],
   "source": [
    "for name, sub_df in grouped_df:\n",
    "    accuracy_perc = calculate_accuracy(sub_df)\n",
    "    \n",
    "    print( \"knife:\", name) \n",
    "    print( \"accuracy %:\", accuracy_perc, \"\\n\")"
   ]
  },
  {
   "cell_type": "code",
   "execution_count": 49,
   "id": "c81e6446-50f0-4416-bc68-41283aae899f",
   "metadata": {
    "ExecuteTime": {
     "end_time": "2024-05-19T13:13:01.336516Z",
     "start_time": "2024-05-19T13:13:01.101225Z"
    }
   },
   "outputs": [
    {
     "name": "stdout",
     "output_type": "stream",
     "text": [
      "knife: 1\n",
      "error rate %: 80.0 \n",
      "\n",
      "knife: 2\n",
      "error rate %: 50.0 \n",
      "\n",
      "knife: 3\n",
      "error rate %: 0.0 \n",
      "\n",
      "knife: 4\n",
      "error rate %: 40.0 \n",
      "\n",
      "knife: 5\n",
      "error rate %: 0.0 \n",
      "\n",
      "knife: 6\n",
      "error rate %: 11.111111111111114 \n",
      "\n",
      "knife: 7\n",
      "error rate %: 11.111111111111114 \n"
     ]
    }
   ],
   "source": [
    "for name, sub_df in grouped_df:\n",
    "    error_rate = calculate_error_rate(sub_df)\n",
    "    \n",
    "    print( \"knife:\", name)\n",
    "    print( \"error rate %:\", error_rate, \"\\n\")"
   ]
  },
  {
   "cell_type": "code",
   "execution_count": 50,
   "id": "e0acb21f-fee7-4629-9c93-2cc868e0c007",
   "metadata": {
    "ExecuteTime": {
     "end_time": "2024-05-19T13:13:21.088765Z",
     "start_time": "2024-05-19T13:13:01.340874Z"
    }
   },
   "outputs": [
    {
     "name": "stdout",
     "output_type": "stream",
     "text": [
      "Testing combinations of length 2\n",
      "Testing combinations of length 3\n"
     ]
    },
    {
     "ename": "KeyboardInterrupt",
     "evalue": "",
     "output_type": "error",
     "traceback": [
      "\u001B[1;31m---------------------------------------------------------------------------\u001B[0m",
      "\u001B[1;31mKeyboardInterrupt\u001B[0m                         Traceback (most recent call last)",
      "Cell \u001B[1;32mIn[50], line 3\u001B[0m\n\u001B[0;32m      1\u001B[0m \u001B[38;5;66;03m# Model optimisation, search for the optimal parameter combination\u001B[39;00m\n\u001B[0;32m      2\u001B[0m \u001B[38;5;66;03m# Printing score best and worst model\u001B[39;00m\n\u001B[1;32m----> 3\u001B[0m optimizer_results \u001B[38;5;241m=\u001B[39m \u001B[43mrun_input_optimizer\u001B[49m\u001B[43m(\u001B[49m\u001B[43mtrain_dataset_file\u001B[49m\u001B[43m,\u001B[49m\u001B[43m \u001B[49m\u001B[43mtest_dataset_file\u001B[49m\u001B[43m,\u001B[49m\u001B[43m \u001B[49m\u001B[43minput_cols\u001B[49m\u001B[43m,\u001B[49m\u001B[43m \u001B[49m\u001B[43mresult_col\u001B[49m\u001B[43m)\u001B[49m\n\u001B[0;32m      5\u001B[0m \u001B[38;5;28mprint\u001B[39m(\u001B[38;5;124m'\u001B[39m\u001B[38;5;124mMax score: \u001B[39m\u001B[38;5;124m'\u001B[39m \u001B[38;5;241m+\u001B[39m \u001B[38;5;28mstr\u001B[39m(optimizer_results[\u001B[38;5;124m'\u001B[39m\u001B[38;5;124mmax_score\u001B[39m\u001B[38;5;124m'\u001B[39m]))\n\u001B[0;32m      6\u001B[0m \u001B[38;5;28mprint\u001B[39m(\u001B[38;5;124m'\u001B[39m\u001B[38;5;124mBest columns combination: \u001B[39m\u001B[38;5;124m'\u001B[39m \u001B[38;5;241m+\u001B[39m \u001B[38;5;28mstr\u001B[39m(optimizer_results[\u001B[38;5;124m'\u001B[39m\u001B[38;5;124mmax_score_cols\u001B[39m\u001B[38;5;124m'\u001B[39m]))\n",
      "File \u001B[1;32m~\\Documents\\GitHub\\dissertation-steiger-2022\\experiments\\common.py:100\u001B[0m, in \u001B[0;36mrun_input_optimizer\u001B[1;34m(train_dataset_file, test_dataset_file, input_cols, result_col)\u001B[0m\n\u001B[0;32m     97\u001B[0m \u001B[38;5;28mprint\u001B[39m(\u001B[38;5;124m'\u001B[39m\u001B[38;5;124mTesting combinations of length \u001B[39m\u001B[38;5;124m'\u001B[39m \u001B[38;5;241m+\u001B[39m \u001B[38;5;28mstr\u001B[39m(\u001B[38;5;28mlen\u001B[39m(input_combinations_of_len[\u001B[38;5;241m0\u001B[39m])))\n\u001B[0;32m     99\u001B[0m \u001B[38;5;28;01mfor\u001B[39;00m input_combination \u001B[38;5;129;01min\u001B[39;00m input_combinations_of_len:\n\u001B[1;32m--> 100\u001B[0m     score, model \u001B[38;5;241m=\u001B[39m \u001B[43m_evaluate_for_input_combination\u001B[49m\u001B[43m(\u001B[49m\u001B[43mtrain_dataset_file\u001B[49m\u001B[43m,\u001B[49m\u001B[43m \u001B[49m\u001B[43mtest_dataset_file\u001B[49m\u001B[43m,\u001B[49m\u001B[43m \u001B[49m\u001B[43minput_combination\u001B[49m\u001B[43m,\u001B[49m\n\u001B[0;32m    101\u001B[0m \u001B[43m                                                   \u001B[49m\u001B[43mresult_col\u001B[49m\u001B[43m)\u001B[49m\n\u001B[0;32m    102\u001B[0m     scores\u001B[38;5;241m.\u001B[39mappend(score)\n\u001B[0;32m    103\u001B[0m     models\u001B[38;5;241m.\u001B[39mappend(model)\n",
      "File \u001B[1;32m~\\Documents\\GitHub\\dissertation-steiger-2022\\experiments\\common.py:68\u001B[0m, in \u001B[0;36m_evaluate_for_input_combination\u001B[1;34m(train_dataset_file, test_dataset_file, input_combination, result_col)\u001B[0m\n\u001B[0;32m     66\u001B[0m \u001B[38;5;28;01mdef\u001B[39;00m \u001B[38;5;21m_evaluate_for_input_combination\u001B[39m(train_dataset_file, test_dataset_file, input_combination, result_col):\n\u001B[0;32m     67\u001B[0m     \u001B[38;5;66;03m# print(input_cols_comb)\u001B[39;00m\n\u001B[1;32m---> 68\u001B[0m     model \u001B[38;5;241m=\u001B[39m \u001B[43mtrain_model\u001B[49m\u001B[43m(\u001B[49m\n\u001B[0;32m     69\u001B[0m \u001B[43m        \u001B[49m\u001B[43mtrain_dataset_file\u001B[49m\u001B[43m,\u001B[49m\n\u001B[0;32m     70\u001B[0m \u001B[43m        \u001B[49m\u001B[38;5;28;43mlist\u001B[39;49m\u001B[43m(\u001B[49m\u001B[43minput_combination\u001B[49m\u001B[43m)\u001B[49m\u001B[43m,\u001B[49m\n\u001B[0;32m     71\u001B[0m \u001B[43m        \u001B[49m\u001B[43mresult_col\u001B[49m\n\u001B[0;32m     72\u001B[0m \u001B[43m    \u001B[49m\u001B[43m)\u001B[49m\n\u001B[0;32m     73\u001B[0m     score \u001B[38;5;241m=\u001B[39m evaluate_model(\n\u001B[0;32m     74\u001B[0m         model,\n\u001B[0;32m     75\u001B[0m         test_dataset_file,\n\u001B[0;32m     76\u001B[0m         \u001B[38;5;28mlist\u001B[39m(input_combination),\n\u001B[0;32m     77\u001B[0m         result_col\n\u001B[0;32m     78\u001B[0m     )\n\u001B[0;32m     79\u001B[0m     \u001B[38;5;66;03m# print(score)\u001B[39;00m\n",
      "File \u001B[1;32m~\\Documents\\GitHub\\dissertation-steiger-2022\\experiments\\common.py:44\u001B[0m, in \u001B[0;36mtrain_model\u001B[1;34m(train_dataset_file, input_cols, result_col)\u001B[0m\n\u001B[0;32m     42\u001B[0m \u001B[38;5;28;01mdef\u001B[39;00m \u001B[38;5;21mtrain_model\u001B[39m(train_dataset_file, input_cols, result_col):\n\u001B[0;32m     43\u001B[0m \u001B[38;5;250m    \u001B[39m\u001B[38;5;124;03m\"\"\"Create a logistic regression model on the provided dataset (including an expected result column) and fits/trains it on the result column.\"\"\"\u001B[39;00m\n\u001B[1;32m---> 44\u001B[0m     x, y \u001B[38;5;241m=\u001B[39m \u001B[43mprepare_dataset\u001B[49m\u001B[43m(\u001B[49m\u001B[43mtrain_dataset_file\u001B[49m\u001B[43m,\u001B[49m\u001B[43m \u001B[49m\u001B[43minput_cols\u001B[49m\u001B[43m,\u001B[49m\u001B[43m \u001B[49m\u001B[43mresult_col\u001B[49m\u001B[43m)\u001B[49m\n\u001B[0;32m     46\u001B[0m     \u001B[38;5;66;03m# Instantiate the model\u001B[39;00m\n\u001B[0;32m     47\u001B[0m     model \u001B[38;5;241m=\u001B[39m LogisticRegression(solver\u001B[38;5;241m=\u001B[39m\u001B[38;5;124m'\u001B[39m\u001B[38;5;124mliblinear\u001B[39m\u001B[38;5;124m'\u001B[39m, random_state\u001B[38;5;241m=\u001B[39m \u001B[38;5;241m58\u001B[39m, class_weight\u001B[38;5;241m=\u001B[39m\u001B[38;5;124m'\u001B[39m\u001B[38;5;124mbalanced\u001B[39m\u001B[38;5;124m'\u001B[39m)\n",
      "File \u001B[1;32m~\\Documents\\GitHub\\dissertation-steiger-2022\\experiments\\common.py:11\u001B[0m, in \u001B[0;36mprepare_dataset\u001B[1;34m(dataset_file, input_cols, result_col)\u001B[0m\n\u001B[0;32m      9\u001B[0m \u001B[38;5;250m\u001B[39m\u001B[38;5;124;03m\"\"\"Load a dataset and select the provided columns (w/ optional result column).\"\"\"\u001B[39;00m\n\u001B[0;32m     10\u001B[0m \u001B[38;5;66;03m# Load data\u001B[39;00m\n\u001B[1;32m---> 11\u001B[0m df \u001B[38;5;241m=\u001B[39m \u001B[43mpd\u001B[49m\u001B[38;5;241;43m.\u001B[39;49m\u001B[43mread_excel\u001B[49m\u001B[43m(\u001B[49m\u001B[43mdataset_file\u001B[49m\u001B[43m)\u001B[49m\n\u001B[0;32m     13\u001B[0m \u001B[38;5;66;03m# Filter bad data, replace categories with dummies\u001B[39;00m\n\u001B[0;32m     14\u001B[0m x_df \u001B[38;5;241m=\u001B[39m df[input_cols]\u001B[38;5;241m.\u001B[39mapply(\u001B[38;5;28;01mlambda\u001B[39;00m x: x\u001B[38;5;241m.\u001B[39mstr\u001B[38;5;241m.\u001B[39mstrip())\n",
      "File \u001B[1;32m~\\Documents\\GitHub\\dissertation-steiger-2022\\venv\\lib\\site-packages\\pandas\\io\\excel\\_base.py:504\u001B[0m, in \u001B[0;36mread_excel\u001B[1;34m(io, sheet_name, header, names, index_col, usecols, dtype, engine, converters, true_values, false_values, skiprows, nrows, na_values, keep_default_na, na_filter, verbose, parse_dates, date_parser, date_format, thousands, decimal, comment, skipfooter, storage_options, dtype_backend, engine_kwargs)\u001B[0m\n\u001B[0;32m    502\u001B[0m \u001B[38;5;28;01mif\u001B[39;00m \u001B[38;5;129;01mnot\u001B[39;00m \u001B[38;5;28misinstance\u001B[39m(io, ExcelFile):\n\u001B[0;32m    503\u001B[0m     should_close \u001B[38;5;241m=\u001B[39m \u001B[38;5;28;01mTrue\u001B[39;00m\n\u001B[1;32m--> 504\u001B[0m     io \u001B[38;5;241m=\u001B[39m \u001B[43mExcelFile\u001B[49m\u001B[43m(\u001B[49m\n\u001B[0;32m    505\u001B[0m \u001B[43m        \u001B[49m\u001B[43mio\u001B[49m\u001B[43m,\u001B[49m\n\u001B[0;32m    506\u001B[0m \u001B[43m        \u001B[49m\u001B[43mstorage_options\u001B[49m\u001B[38;5;241;43m=\u001B[39;49m\u001B[43mstorage_options\u001B[49m\u001B[43m,\u001B[49m\n\u001B[0;32m    507\u001B[0m \u001B[43m        \u001B[49m\u001B[43mengine\u001B[49m\u001B[38;5;241;43m=\u001B[39;49m\u001B[43mengine\u001B[49m\u001B[43m,\u001B[49m\n\u001B[0;32m    508\u001B[0m \u001B[43m        \u001B[49m\u001B[43mengine_kwargs\u001B[49m\u001B[38;5;241;43m=\u001B[39;49m\u001B[43mengine_kwargs\u001B[49m\u001B[43m,\u001B[49m\n\u001B[0;32m    509\u001B[0m \u001B[43m    \u001B[49m\u001B[43m)\u001B[49m\n\u001B[0;32m    510\u001B[0m \u001B[38;5;28;01melif\u001B[39;00m engine \u001B[38;5;129;01mand\u001B[39;00m engine \u001B[38;5;241m!=\u001B[39m io\u001B[38;5;241m.\u001B[39mengine:\n\u001B[0;32m    511\u001B[0m     \u001B[38;5;28;01mraise\u001B[39;00m \u001B[38;5;167;01mValueError\u001B[39;00m(\n\u001B[0;32m    512\u001B[0m         \u001B[38;5;124m\"\u001B[39m\u001B[38;5;124mEngine should not be specified when passing \u001B[39m\u001B[38;5;124m\"\u001B[39m\n\u001B[0;32m    513\u001B[0m         \u001B[38;5;124m\"\u001B[39m\u001B[38;5;124man ExcelFile - ExcelFile already has the engine set\u001B[39m\u001B[38;5;124m\"\u001B[39m\n\u001B[0;32m    514\u001B[0m     )\n",
      "File \u001B[1;32m~\\Documents\\GitHub\\dissertation-steiger-2022\\venv\\lib\\site-packages\\pandas\\io\\excel\\_base.py:1580\u001B[0m, in \u001B[0;36mExcelFile.__init__\u001B[1;34m(self, path_or_buffer, engine, storage_options, engine_kwargs)\u001B[0m\n\u001B[0;32m   1577\u001B[0m \u001B[38;5;28mself\u001B[39m\u001B[38;5;241m.\u001B[39mengine \u001B[38;5;241m=\u001B[39m engine\n\u001B[0;32m   1578\u001B[0m \u001B[38;5;28mself\u001B[39m\u001B[38;5;241m.\u001B[39mstorage_options \u001B[38;5;241m=\u001B[39m storage_options\n\u001B[1;32m-> 1580\u001B[0m \u001B[38;5;28mself\u001B[39m\u001B[38;5;241m.\u001B[39m_reader \u001B[38;5;241m=\u001B[39m \u001B[38;5;28;43mself\u001B[39;49m\u001B[38;5;241;43m.\u001B[39;49m\u001B[43m_engines\u001B[49m\u001B[43m[\u001B[49m\u001B[43mengine\u001B[49m\u001B[43m]\u001B[49m\u001B[43m(\u001B[49m\n\u001B[0;32m   1581\u001B[0m \u001B[43m    \u001B[49m\u001B[38;5;28;43mself\u001B[39;49m\u001B[38;5;241;43m.\u001B[39;49m\u001B[43m_io\u001B[49m\u001B[43m,\u001B[49m\n\u001B[0;32m   1582\u001B[0m \u001B[43m    \u001B[49m\u001B[43mstorage_options\u001B[49m\u001B[38;5;241;43m=\u001B[39;49m\u001B[43mstorage_options\u001B[49m\u001B[43m,\u001B[49m\n\u001B[0;32m   1583\u001B[0m \u001B[43m    \u001B[49m\u001B[43mengine_kwargs\u001B[49m\u001B[38;5;241;43m=\u001B[39;49m\u001B[43mengine_kwargs\u001B[49m\u001B[43m,\u001B[49m\n\u001B[0;32m   1584\u001B[0m \u001B[43m\u001B[49m\u001B[43m)\u001B[49m\n",
      "File \u001B[1;32m~\\Documents\\GitHub\\dissertation-steiger-2022\\venv\\lib\\site-packages\\pandas\\io\\excel\\_openpyxl.py:553\u001B[0m, in \u001B[0;36mOpenpyxlReader.__init__\u001B[1;34m(self, filepath_or_buffer, storage_options, engine_kwargs)\u001B[0m\n\u001B[0;32m    541\u001B[0m \u001B[38;5;250m\u001B[39m\u001B[38;5;124;03m\"\"\"\u001B[39;00m\n\u001B[0;32m    542\u001B[0m \u001B[38;5;124;03mReader using openpyxl engine.\u001B[39;00m\n\u001B[0;32m    543\u001B[0m \n\u001B[1;32m   (...)\u001B[0m\n\u001B[0;32m    550\u001B[0m \u001B[38;5;124;03m    Arbitrary keyword arguments passed to excel engine.\u001B[39;00m\n\u001B[0;32m    551\u001B[0m \u001B[38;5;124;03m\"\"\"\u001B[39;00m\n\u001B[0;32m    552\u001B[0m import_optional_dependency(\u001B[38;5;124m\"\u001B[39m\u001B[38;5;124mopenpyxl\u001B[39m\u001B[38;5;124m\"\u001B[39m)\n\u001B[1;32m--> 553\u001B[0m \u001B[38;5;28;43msuper\u001B[39;49m\u001B[43m(\u001B[49m\u001B[43m)\u001B[49m\u001B[38;5;241;43m.\u001B[39;49m\u001B[38;5;21;43m__init__\u001B[39;49m\u001B[43m(\u001B[49m\n\u001B[0;32m    554\u001B[0m \u001B[43m    \u001B[49m\u001B[43mfilepath_or_buffer\u001B[49m\u001B[43m,\u001B[49m\n\u001B[0;32m    555\u001B[0m \u001B[43m    \u001B[49m\u001B[43mstorage_options\u001B[49m\u001B[38;5;241;43m=\u001B[39;49m\u001B[43mstorage_options\u001B[49m\u001B[43m,\u001B[49m\n\u001B[0;32m    556\u001B[0m \u001B[43m    \u001B[49m\u001B[43mengine_kwargs\u001B[49m\u001B[38;5;241;43m=\u001B[39;49m\u001B[43mengine_kwargs\u001B[49m\u001B[43m,\u001B[49m\n\u001B[0;32m    557\u001B[0m \u001B[43m\u001B[49m\u001B[43m)\u001B[49m\n",
      "File \u001B[1;32m~\\Documents\\GitHub\\dissertation-steiger-2022\\venv\\lib\\site-packages\\pandas\\io\\excel\\_base.py:582\u001B[0m, in \u001B[0;36mBaseExcelReader.__init__\u001B[1;34m(self, filepath_or_buffer, storage_options, engine_kwargs)\u001B[0m\n\u001B[0;32m    580\u001B[0m \u001B[38;5;28mself\u001B[39m\u001B[38;5;241m.\u001B[39mhandles\u001B[38;5;241m.\u001B[39mhandle\u001B[38;5;241m.\u001B[39mseek(\u001B[38;5;241m0\u001B[39m)\n\u001B[0;32m    581\u001B[0m \u001B[38;5;28;01mtry\u001B[39;00m:\n\u001B[1;32m--> 582\u001B[0m     \u001B[38;5;28mself\u001B[39m\u001B[38;5;241m.\u001B[39mbook \u001B[38;5;241m=\u001B[39m \u001B[38;5;28;43mself\u001B[39;49m\u001B[38;5;241;43m.\u001B[39;49m\u001B[43mload_workbook\u001B[49m\u001B[43m(\u001B[49m\u001B[38;5;28;43mself\u001B[39;49m\u001B[38;5;241;43m.\u001B[39;49m\u001B[43mhandles\u001B[49m\u001B[38;5;241;43m.\u001B[39;49m\u001B[43mhandle\u001B[49m\u001B[43m,\u001B[49m\u001B[43m \u001B[49m\u001B[43mengine_kwargs\u001B[49m\u001B[43m)\u001B[49m\n\u001B[0;32m    583\u001B[0m \u001B[38;5;28;01mexcept\u001B[39;00m \u001B[38;5;167;01mException\u001B[39;00m:\n\u001B[0;32m    584\u001B[0m     \u001B[38;5;28mself\u001B[39m\u001B[38;5;241m.\u001B[39mclose()\n",
      "File \u001B[1;32m~\\Documents\\GitHub\\dissertation-steiger-2022\\venv\\lib\\site-packages\\pandas\\io\\excel\\_openpyxl.py:570\u001B[0m, in \u001B[0;36mOpenpyxlReader.load_workbook\u001B[1;34m(self, filepath_or_buffer, engine_kwargs)\u001B[0m\n\u001B[0;32m    565\u001B[0m \u001B[38;5;28;01mdef\u001B[39;00m \u001B[38;5;21mload_workbook\u001B[39m(\n\u001B[0;32m    566\u001B[0m     \u001B[38;5;28mself\u001B[39m, filepath_or_buffer: FilePath \u001B[38;5;241m|\u001B[39m ReadBuffer[\u001B[38;5;28mbytes\u001B[39m], engine_kwargs\n\u001B[0;32m    567\u001B[0m ) \u001B[38;5;241m-\u001B[39m\u001B[38;5;241m>\u001B[39m Workbook:\n\u001B[0;32m    568\u001B[0m     \u001B[38;5;28;01mfrom\u001B[39;00m \u001B[38;5;21;01mopenpyxl\u001B[39;00m \u001B[38;5;28;01mimport\u001B[39;00m load_workbook\n\u001B[1;32m--> 570\u001B[0m     \u001B[38;5;28;01mreturn\u001B[39;00m load_workbook(\n\u001B[0;32m    571\u001B[0m         filepath_or_buffer,\n\u001B[0;32m    572\u001B[0m         read_only\u001B[38;5;241m=\u001B[39m\u001B[38;5;28;01mTrue\u001B[39;00m,\n\u001B[0;32m    573\u001B[0m         data_only\u001B[38;5;241m=\u001B[39m\u001B[38;5;28;01mTrue\u001B[39;00m,\n\u001B[0;32m    574\u001B[0m         keep_links\u001B[38;5;241m=\u001B[39m\u001B[38;5;28;01mFalse\u001B[39;00m,\n\u001B[0;32m    575\u001B[0m         \u001B[38;5;241m*\u001B[39m\u001B[38;5;241m*\u001B[39mengine_kwargs,\n\u001B[0;32m    576\u001B[0m     )\n",
      "File \u001B[1;32m~\\Documents\\GitHub\\dissertation-steiger-2022\\venv\\lib\\site-packages\\openpyxl\\reader\\excel.py:346\u001B[0m, in \u001B[0;36mload_workbook\u001B[1;34m(filename, read_only, keep_vba, data_only, keep_links, rich_text)\u001B[0m\n\u001B[0;32m    316\u001B[0m \u001B[38;5;250m\u001B[39m\u001B[38;5;124;03m\"\"\"Open the given filename and return the workbook\u001B[39;00m\n\u001B[0;32m    317\u001B[0m \n\u001B[0;32m    318\u001B[0m \u001B[38;5;124;03m:param filename: the path to open or a file-like object\u001B[39;00m\n\u001B[1;32m   (...)\u001B[0m\n\u001B[0;32m    342\u001B[0m \n\u001B[0;32m    343\u001B[0m \u001B[38;5;124;03m\"\"\"\u001B[39;00m\n\u001B[0;32m    344\u001B[0m reader \u001B[38;5;241m=\u001B[39m ExcelReader(filename, read_only, keep_vba,\n\u001B[0;32m    345\u001B[0m                      data_only, keep_links, rich_text)\n\u001B[1;32m--> 346\u001B[0m \u001B[43mreader\u001B[49m\u001B[38;5;241;43m.\u001B[39;49m\u001B[43mread\u001B[49m\u001B[43m(\u001B[49m\u001B[43m)\u001B[49m\n\u001B[0;32m    347\u001B[0m \u001B[38;5;28;01mreturn\u001B[39;00m reader\u001B[38;5;241m.\u001B[39mwb\n",
      "File \u001B[1;32m~\\Documents\\GitHub\\dissertation-steiger-2022\\venv\\lib\\site-packages\\openpyxl\\reader\\excel.py:289\u001B[0m, in \u001B[0;36mExcelReader.read\u001B[1;34m(self)\u001B[0m\n\u001B[0;32m    287\u001B[0m \u001B[38;5;28mself\u001B[39m\u001B[38;5;241m.\u001B[39mread_manifest()\n\u001B[0;32m    288\u001B[0m action \u001B[38;5;241m=\u001B[39m \u001B[38;5;124m\"\u001B[39m\u001B[38;5;124mread strings\u001B[39m\u001B[38;5;124m\"\u001B[39m\n\u001B[1;32m--> 289\u001B[0m \u001B[38;5;28;43mself\u001B[39;49m\u001B[38;5;241;43m.\u001B[39;49m\u001B[43mread_strings\u001B[49m\u001B[43m(\u001B[49m\u001B[43m)\u001B[49m\n\u001B[0;32m    290\u001B[0m action \u001B[38;5;241m=\u001B[39m \u001B[38;5;124m\"\u001B[39m\u001B[38;5;124mread workbook\u001B[39m\u001B[38;5;124m\"\u001B[39m\n\u001B[0;32m    291\u001B[0m \u001B[38;5;28mself\u001B[39m\u001B[38;5;241m.\u001B[39mread_workbook()\n",
      "File \u001B[1;32m~\\Documents\\GitHub\\dissertation-steiger-2022\\venv\\lib\\site-packages\\openpyxl\\reader\\excel.py:147\u001B[0m, in \u001B[0;36mExcelReader.read_strings\u001B[1;34m(self)\u001B[0m\n\u001B[0;32m    145\u001B[0m strings_path \u001B[38;5;241m=\u001B[39m ct\u001B[38;5;241m.\u001B[39mPartName[\u001B[38;5;241m1\u001B[39m:]\n\u001B[0;32m    146\u001B[0m \u001B[38;5;28;01mwith\u001B[39;00m \u001B[38;5;28mself\u001B[39m\u001B[38;5;241m.\u001B[39marchive\u001B[38;5;241m.\u001B[39mopen(strings_path,) \u001B[38;5;28;01mas\u001B[39;00m src:\n\u001B[1;32m--> 147\u001B[0m     \u001B[38;5;28mself\u001B[39m\u001B[38;5;241m.\u001B[39mshared_strings \u001B[38;5;241m=\u001B[39m \u001B[43mreader\u001B[49m\u001B[43m(\u001B[49m\u001B[43msrc\u001B[49m\u001B[43m)\u001B[49m\n",
      "File \u001B[1;32m~\\Documents\\GitHub\\dissertation-steiger-2022\\venv\\lib\\site-packages\\openpyxl\\reader\\strings.py:16\u001B[0m, in \u001B[0;36mread_string_table\u001B[1;34m(xml_source)\u001B[0m\n\u001B[0;32m     13\u001B[0m strings \u001B[38;5;241m=\u001B[39m []\n\u001B[0;32m     14\u001B[0m STRING_TAG \u001B[38;5;241m=\u001B[39m \u001B[38;5;124m'\u001B[39m\u001B[38;5;124m{\u001B[39m\u001B[38;5;132;01m%s\u001B[39;00m\u001B[38;5;124m}si\u001B[39m\u001B[38;5;124m'\u001B[39m \u001B[38;5;241m%\u001B[39m SHEET_MAIN_NS\n\u001B[1;32m---> 16\u001B[0m \u001B[38;5;28;01mfor\u001B[39;00m _, node \u001B[38;5;129;01min\u001B[39;00m iterparse(xml_source):\n\u001B[0;32m     17\u001B[0m     \u001B[38;5;28;01mif\u001B[39;00m node\u001B[38;5;241m.\u001B[39mtag \u001B[38;5;241m==\u001B[39m STRING_TAG:\n\u001B[0;32m     18\u001B[0m         text \u001B[38;5;241m=\u001B[39m Text\u001B[38;5;241m.\u001B[39mfrom_tree(node)\u001B[38;5;241m.\u001B[39mcontent\n",
      "File \u001B[1;32m~\\AppData\\Local\\Programs\\Python\\Python310\\lib\\xml\\etree\\ElementTree.py:1257\u001B[0m, in \u001B[0;36miterparse.<locals>.iterator\u001B[1;34m(source)\u001B[0m\n\u001B[0;32m   1255\u001B[0m \u001B[38;5;28;01myield from\u001B[39;00m pullparser\u001B[38;5;241m.\u001B[39mread_events()\n\u001B[0;32m   1256\u001B[0m \u001B[38;5;66;03m# load event buffer\u001B[39;00m\n\u001B[1;32m-> 1257\u001B[0m data \u001B[38;5;241m=\u001B[39m \u001B[43msource\u001B[49m\u001B[38;5;241;43m.\u001B[39;49m\u001B[43mread\u001B[49m\u001B[43m(\u001B[49m\u001B[38;5;241;43m16\u001B[39;49m\u001B[43m \u001B[49m\u001B[38;5;241;43m*\u001B[39;49m\u001B[43m \u001B[49m\u001B[38;5;241;43m1024\u001B[39;49m\u001B[43m)\u001B[49m\n\u001B[0;32m   1258\u001B[0m \u001B[38;5;28;01mif\u001B[39;00m \u001B[38;5;129;01mnot\u001B[39;00m data:\n\u001B[0;32m   1259\u001B[0m     \u001B[38;5;28;01mbreak\u001B[39;00m\n",
      "File \u001B[1;32m~\\AppData\\Local\\Programs\\Python\\Python310\\lib\\zipfile.py:925\u001B[0m, in \u001B[0;36mZipExtFile.read\u001B[1;34m(self, n)\u001B[0m\n\u001B[0;32m    923\u001B[0m \u001B[38;5;28mself\u001B[39m\u001B[38;5;241m.\u001B[39m_offset \u001B[38;5;241m=\u001B[39m \u001B[38;5;241m0\u001B[39m\n\u001B[0;32m    924\u001B[0m \u001B[38;5;28;01mwhile\u001B[39;00m n \u001B[38;5;241m>\u001B[39m \u001B[38;5;241m0\u001B[39m \u001B[38;5;129;01mand\u001B[39;00m \u001B[38;5;129;01mnot\u001B[39;00m \u001B[38;5;28mself\u001B[39m\u001B[38;5;241m.\u001B[39m_eof:\n\u001B[1;32m--> 925\u001B[0m     data \u001B[38;5;241m=\u001B[39m \u001B[38;5;28;43mself\u001B[39;49m\u001B[38;5;241;43m.\u001B[39;49m\u001B[43m_read1\u001B[49m\u001B[43m(\u001B[49m\u001B[43mn\u001B[49m\u001B[43m)\u001B[49m\n\u001B[0;32m    926\u001B[0m     \u001B[38;5;28;01mif\u001B[39;00m n \u001B[38;5;241m<\u001B[39m \u001B[38;5;28mlen\u001B[39m(data):\n\u001B[0;32m    927\u001B[0m         \u001B[38;5;28mself\u001B[39m\u001B[38;5;241m.\u001B[39m_readbuffer \u001B[38;5;241m=\u001B[39m data\n",
      "File \u001B[1;32m~\\AppData\\Local\\Programs\\Python\\Python310\\lib\\zipfile.py:1001\u001B[0m, in \u001B[0;36mZipExtFile._read1\u001B[1;34m(self, n)\u001B[0m\n\u001B[0;32m    999\u001B[0m \u001B[38;5;28;01melif\u001B[39;00m \u001B[38;5;28mself\u001B[39m\u001B[38;5;241m.\u001B[39m_compress_type \u001B[38;5;241m==\u001B[39m ZIP_DEFLATED:\n\u001B[0;32m   1000\u001B[0m     n \u001B[38;5;241m=\u001B[39m \u001B[38;5;28mmax\u001B[39m(n, \u001B[38;5;28mself\u001B[39m\u001B[38;5;241m.\u001B[39mMIN_READ_SIZE)\n\u001B[1;32m-> 1001\u001B[0m     data \u001B[38;5;241m=\u001B[39m \u001B[38;5;28;43mself\u001B[39;49m\u001B[38;5;241;43m.\u001B[39;49m\u001B[43m_decompressor\u001B[49m\u001B[38;5;241;43m.\u001B[39;49m\u001B[43mdecompress\u001B[49m\u001B[43m(\u001B[49m\u001B[43mdata\u001B[49m\u001B[43m,\u001B[49m\u001B[43m \u001B[49m\u001B[43mn\u001B[49m\u001B[43m)\u001B[49m\n\u001B[0;32m   1002\u001B[0m     \u001B[38;5;28mself\u001B[39m\u001B[38;5;241m.\u001B[39m_eof \u001B[38;5;241m=\u001B[39m (\u001B[38;5;28mself\u001B[39m\u001B[38;5;241m.\u001B[39m_decompressor\u001B[38;5;241m.\u001B[39meof \u001B[38;5;129;01mor\u001B[39;00m\n\u001B[0;32m   1003\u001B[0m                  \u001B[38;5;28mself\u001B[39m\u001B[38;5;241m.\u001B[39m_compress_left \u001B[38;5;241m<\u001B[39m\u001B[38;5;241m=\u001B[39m \u001B[38;5;241m0\u001B[39m \u001B[38;5;129;01mand\u001B[39;00m\n\u001B[0;32m   1004\u001B[0m                  \u001B[38;5;129;01mnot\u001B[39;00m \u001B[38;5;28mself\u001B[39m\u001B[38;5;241m.\u001B[39m_decompressor\u001B[38;5;241m.\u001B[39munconsumed_tail)\n\u001B[0;32m   1005\u001B[0m     \u001B[38;5;28;01mif\u001B[39;00m \u001B[38;5;28mself\u001B[39m\u001B[38;5;241m.\u001B[39m_eof:\n",
      "\u001B[1;31mKeyboardInterrupt\u001B[0m: "
     ]
    }
   ],
   "source": [
    "# Model optimisation, search for the optimal parameter combination\n",
    "# Printing score best and worst model\n",
    "optimizer_results = run_input_optimizer(train_dataset_file, test_dataset_file, input_cols, result_col)\n",
    "\n",
    "print('Max score: ' + str(optimizer_results['max_score']))\n",
    "print('Best columns combination: ' + str(optimizer_results['max_score_cols']))\n",
    "print('Min score: ' + str(optimizer_results['min_score']))\n",
    "print('Worse columns combination: ' + str(optimizer_results['min_score_cols']))\n",
    "\n",
    "# Convert from tuple to list for easier use later\n",
    "optimized_input_cols = list(optimizer_results['max_score_cols'])\n",
    "optimized_model = optimizer_results['max_score_model']\n",
    "filename = '../models/blade-bevel-optimized.pickle'\n",
    "pickle.dump(optimized_model, open(filename, 'wb'))\n",
    "\n",
    "print(f'Saved optimized model to {filename}')\n",
    "\n"
   ]
  },
  {
   "cell_type": "code",
   "outputs": [
    {
     "name": "stdout",
     "output_type": "stream",
     "text": [
      "Testing combinations of length 5\n",
      "Testing combinations of length 6\n",
      "Testing combinations of length 7\n",
      "Testing combinations of length 8\n",
      "Testing combinations of length 9\n",
      "Testing combinations of length 10\n",
      "([0.00015991471215348607, 0.0007995735607675414, 0.0007995735607675414], [('shape', 'profile_entrance', 'rising_entrance', 'rising_exit', 'shards'), ('shape', 'profile_entrance', 'rising_entrance', 'rising_exit', 'feathering'), ('shape', 'profile_entrance', 'rising_entrance', 'rising_exit', 'feathering')])\n"
     ]
    }
   ],
   "source": [
    "overfitting_results = run_input_optimizer_2(train_dataset_file, test_dataset_file, input_cols, result_col)\n",
    "print(overfitting_results)"
   ],
   "metadata": {
    "collapsed": false,
    "ExecuteTime": {
     "end_time": "2024-05-19T13:15:25.026950Z",
     "start_time": "2024-05-19T13:13:25.451991Z"
    }
   },
   "id": "1e6250e133292b24",
   "execution_count": 51
  },
  {
   "cell_type": "code",
   "execution_count": null,
   "id": "970e36c7be917b27",
   "metadata": {
    "collapsed": false
   },
   "outputs": [],
   "source": [
    "# filter data for the new dataframe\n",
    "df = pd.read_excel(test_dataset_file)\n",
    "label = df[\"label\"]\n",
    "# Inline conversion from str to bool\n",
    "expected_result = df[\"result\"].map(lambda exp_res: True if exp_res == 'single' else False)\n",
    "\n",
    "x_df = df[optimized_input_cols].apply(lambda x: x.str.strip())\n",
    "x = pd.get_dummies(x_df, drop_first=True)\n",
    "\n",
    "result = optimized_model.predict(x)\n",
    "\n",
    "print(f'Expected result:\\n{expected_result}')\n",
    "print(f'Actual result:\\n{result}')"
   ]
  },
  {
   "cell_type": "code",
   "execution_count": null,
   "id": "12c68972b1b964f9",
   "metadata": {
    "collapsed": false,
    "ExecuteTime": {
     "start_time": "2024-05-19T13:13:21.095541Z"
    }
   },
   "outputs": [],
   "source": [
    "#build dataframe with result, expected result and label \n",
    "\n",
    "data = {'label': label, 'result': result, \"expected_result\" : expected_result}  \n",
    "  \n",
    "# Create DataFrame  \n",
    "df = pd.DataFrame(data)  \n",
    "   \n",
    "print(df)  \n",
    "\n",
    "grouped_df = df.groupby(by = \"label\")\n",
    "\n",
    "print(grouped_df.head())"
   ]
  },
  {
   "cell_type": "code",
   "execution_count": null,
   "id": "e0fd0bc8a848a118",
   "metadata": {
    "collapsed": false
   },
   "outputs": [],
   "source": [
    "# Optimized model: calculate the accuracy for the four knives that are single blade \n",
    "\n",
    "one = grouped_df.get_group(1)\n",
    "five = grouped_df.get_group(5)\n",
    "six = grouped_df.get_group(6)\n",
    "seven = grouped_df.get_group(7)\n",
    "\n",
    "single_bladed = pd.concat([one, five, six, seven], ignore_index= True)\n",
    "print(f'single bladed\\n{single_bladed}\\n')\n",
    "single_bladed_accuracy = calculate_accuracy(single_bladed)\n",
    "\n",
    "print( \"For single blade class\") \n",
    "    #print(\"total correct:\", tot_corr)\n",
    "    #print('total:', tot) \n",
    "    \n",
    "print(\"accuracy %:\", single_bladed_accuracy, \"\\n\")"
   ]
  },
  {
   "cell_type": "code",
   "execution_count": null,
   "id": "eb3c6638e2d3d20c",
   "metadata": {
    "collapsed": false,
    "ExecuteTime": {
     "start_time": "2024-05-19T13:13:21.098536Z"
    }
   },
   "outputs": [],
   "source": [
    "# Optimized model: calculate the accuracy for the four knives that are even blade\n",
    "\n",
    "two = grouped_df.get_group(2)\n",
    "three = grouped_df.get_group(3)\n",
    "four = grouped_df.get_group(4)\n",
    "\n",
    "even_bladed = pd.concat([two, three, four], ignore_index= True)\n",
    "print(f'even bladed\\n{even_bladed}\\n')\n",
    "even_bladed_accuracy = calculate_accuracy(even_bladed)\n",
    "\n",
    "print( \"For even blade class\") \n",
    "    #print(\"total correct:\", tot_corr)\n",
    "    #print('total:', tot) \n",
    "    \n",
    "print(\"accuracy %:\", even_bladed_accuracy, \"\\n\")"
   ]
  },
  {
   "cell_type": "code",
   "execution_count": null,
   "id": "8d15bba17f1b4842",
   "metadata": {
    "collapsed": false,
    "ExecuteTime": {
     "start_time": "2024-05-19T13:13:21.100537Z"
    }
   },
   "outputs": [],
   "source": [
    "for name, sub_df in grouped_df:\n",
    "    accuracy_perc = calculate_accuracy(sub_df)\n",
    "    error_rate_perc = calculate_error_rate(sub_df)\n",
    "    \n",
    "    print( \"knife:\", name) \n",
    "    print( \"accuracy %:\", accuracy_perc)\n",
    "    print( \"error rate %:\", error_rate_perc, \"\\n\")"
   ]
  },
  {
   "cell_type": "code",
   "execution_count": null,
   "id": "1fd36ca9-f198-418d-9574-58b12966cbfa",
   "metadata": {
    "ExecuteTime": {
     "start_time": "2024-05-19T13:13:21.102537Z"
    }
   },
   "outputs": [],
   "source": [
    "# tex = \"$$p = {\\frac{1}{1 + e ^ {-(\\beta_0 + \\beta_1X_i + \\beta_2X_2 + \\beta_3X_3 + \\beta_4X_4 + \\beta_5X_5)}}}$$\"\n",
    "# tex = \"$$p = {\\frac{1}{1 + e ^ {-(3 + 2X_1 + \\beta_2X_2 + \\beta_3X_3 + \\beta_4X_4 + \\beta_5X_5)}}}$$\"\n",
    "tex = r\"$$p = {\\frac{1}{1 + e ^ {-(\"\n",
    "\n",
    "# Add intercept\n",
    "tex += str(np.round(model.intercept_[0], decimals=2))\n",
    "\n",
    " \n",
    "# Add coefficients\n",
    "for i, b in enumerate(model.coef_[0]):\n",
    "    if b < 0:\n",
    "        sign = '-'\n",
    "    elif b > 0:\n",
    "        sign = '+'\n",
    "    else:\n",
    "        continue\n",
    "    tex += f\"{sign}{str(np.abs(np.round(b, decimals=2)))}x_{{{str(i+1)}}}\"\n",
    "\n",
    "tex += \")}}}$$\"\n",
    "\n",
    "widgets.HTMLMath(\n",
    "    value=tex,\n",
    "    placeholder='Logistic regression',\n",
    ")"
   ]
  }
 ],
 "metadata": {
  "kernelspec": {
   "display_name": "Python 3 (ipykernel)",
   "language": "python",
   "name": "python3"
  },
  "language_info": {
   "codemirror_mode": {
    "name": "ipython",
    "version": 3
   },
   "file_extension": ".py",
   "mimetype": "text/x-python",
   "name": "python",
   "nbconvert_exporter": "python",
   "pygments_lexer": "ipython3",
   "version": "3.10.5"
  }
 },
 "nbformat": 4,
 "nbformat_minor": 5
}
