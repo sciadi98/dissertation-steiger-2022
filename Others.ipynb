{
 "cells": [
  {
   "cell_type": "code",
   "execution_count": null,
   "id": "ef51e5db-38e1-4de3-b2aa-ea4c92ee5ae3",
   "metadata": {},
   "outputs": [],
   "source": [
    "# degree-of-freedom for each combination of variables\n",
    "corr_data = []\n",
    "for var1 in data:\n",
    "    row = []\n",
    "    for var2 in data:\n",
    "        contTable = pd.crosstab(data[var1], data[var2])\n",
    "        row.append(min(contTable.shape[0], contTable.shape[1]) - 1)\n",
    "    corr_data.append(row)\n",
    "\n",
    "df = pd.DataFrame(corr_data, data.columns, data.columns)\n",
    "df"
   ]
  },
  {
   "cell_type": "code",
   "execution_count": 1,
   "id": "6aeaebbd-a3b8-436d-bcca-cee9618e09ee",
   "metadata": {},
   "outputs": [],
   "source": [
    "def display_correlation_matrix(dataset_file, input_cols):\n",
    "    x = prepare_dataset(dataset_file, input_cols)\n",
    "\n",
    "    plt.figure(figsize=(15,10))\n",
    "    sns.heatmap(x.corr(method='pearson'), annot=True)"
   ]
  }
 ],
 "metadata": {
  "kernelspec": {
   "display_name": "Python 3 (ipykernel)",
   "language": "python",
   "name": "python3"
  },
  "language_info": {
   "codemirror_mode": {
    "name": "ipython",
    "version": 3
   },
   "file_extension": ".py",
   "mimetype": "text/x-python",
   "name": "python",
   "nbconvert_exporter": "python",
   "pygments_lexer": "ipython3",
   "version": "3.10.5"
  }
 },
 "nbformat": 4,
 "nbformat_minor": 5
}
